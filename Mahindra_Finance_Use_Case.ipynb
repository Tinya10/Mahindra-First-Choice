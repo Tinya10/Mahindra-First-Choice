{
 "cells": [
  {
   "cell_type": "code",
   "execution_count": 2,
   "metadata": {},
   "outputs": [],
   "source": [
    "import numpy as np\n",
    "import pandas as pd\n",
    "pd.set_option('display.max_columns', None)\n",
    "pd.set_option('display.max_rows',50)\n",
    "import warnings\n",
    "warnings.simplefilter('ignore')\n",
    "import matplotlib.pyplot as plt\n",
    "import seaborn as sns\n",
    "from sklearn.model_selection import train_test_split\n",
    "import warnings\n",
    "warnings.filterwarnings('ignore')\n",
    "import matplotlib.pyplot as plt\n",
    "import seaborn as sns\n",
    "from sklearn.model_selection import GridSearchCV, RandomizedSearchCV\n",
    "from sklearn.linear_model import LogisticRegression\n",
    "from sklearn.metrics import roc_auc_score ,mean_squared_error,accuracy_score,classification_report,roc_curve,confusion_matrix\n",
    "from sklearn import metrics\n",
    "from sklearn.preprocessing import LabelEncoder\n",
    "from sklearn.tree import DecisionTreeClassifier\n",
    "from sklearn.ensemble import GradientBoostingClassifier ,RandomForestClassifier ,GradientBoostingClassifier\n",
    "from sklearn.ensemble import AdaBoostClassifier\n",
    "from xgboost import XGBClassifier \n",
    "from sklearn.linear_model import Ridge,Lasso\n",
    "from scipy.stats.mstats import winsorize\n",
    "from sklearn.feature_selection import RFE\n",
    "from sklearn.preprocessing import StandardScaler\n",
    "from sklearn.preprocessing import MinMaxScaler\n",
    "from sklearn.ensemble import BaggingClassifier\n",
    "from sklearn.ensemble import VotingClassifier\n",
    "from sklearn.metrics import recall_score , precision_score\n",
    "from scipy.stats import skew\n",
    "from imblearn.over_sampling import SMOTE \n",
    "from sklearn.ensemble import RandomForestClassifier\n",
    "pip install \"notebook>=5.3\" \"ipywidgets>=7.5\""
   ]
  },
  {
   "cell_type": "code",
   "execution_count": 3,
   "metadata": {},
   "outputs": [],
   "source": [
    "# Load the data\n",
    "\n",
    "Customer_data = pd.read_excel('G:/Data Science ML AI/Python files/Projects/Capstone_Mahinda_Finance_Use_Case/Data/Customer_Data.xlsx')\n",
    "\n",
    "Final_invoice = pd.read_csv('G:/Data Science ML AI/Python files/Projects/Capstone_Mahinda_Finance_Use_Case/Data/Final_invoice.csv')\n",
    "\n",
    "JTD = pd.read_csv('G:/Data Science ML AI/Python files/Projects/Capstone_Mahinda_Finance_Use_Case/Data/JTD.csv')\n",
    "\n",
    "Plant_Master = pd.read_excel('G:/Data Science ML AI/Python files/Projects/Capstone_Mahinda_Finance_Use_Case/Data/Plant Master.xlsx')"
   ]
  },
  {
   "cell_type": "code",
   "execution_count": 4,
   "metadata": {},
   "outputs": [
    {
     "data": {
      "text/html": [
       "<div>\n",
       "<style scoped>\n",
       "    .dataframe tbody tr th:only-of-type {\n",
       "        vertical-align: middle;\n",
       "    }\n",
       "\n",
       "    .dataframe tbody tr th {\n",
       "        vertical-align: top;\n",
       "    }\n",
       "\n",
       "    .dataframe thead th {\n",
       "        text-align: right;\n",
       "    }\n",
       "</style>\n",
       "<table border=\"1\" class=\"dataframe\">\n",
       "  <thead>\n",
       "    <tr style=\"text-align: right;\">\n",
       "      <th></th>\n",
       "      <th>Business Partner</th>\n",
       "      <th>Customer No.</th>\n",
       "      <th>Partner Type</th>\n",
       "      <th>Data Origin</th>\n",
       "      <th>Title</th>\n",
       "      <th>Marital Status</th>\n",
       "      <th>Occupation</th>\n",
       "      <th>Date of Birth</th>\n",
       "      <th>Death date</th>\n",
       "    </tr>\n",
       "  </thead>\n",
       "  <tbody>\n",
       "    <tr>\n",
       "      <th>0</th>\n",
       "      <td>31</td>\n",
       "      <td>1</td>\n",
       "      <td>1.0</td>\n",
       "      <td>Z001</td>\n",
       "      <td>NaN</td>\n",
       "      <td>NaN</td>\n",
       "      <td>NaN</td>\n",
       "      <td>NaN</td>\n",
       "      <td>NaT</td>\n",
       "    </tr>\n",
       "    <tr>\n",
       "      <th>1</th>\n",
       "      <td>32</td>\n",
       "      <td>2</td>\n",
       "      <td>1.0</td>\n",
       "      <td>Z005</td>\n",
       "      <td>NaN</td>\n",
       "      <td>NaN</td>\n",
       "      <td>NaN</td>\n",
       "      <td>NaN</td>\n",
       "      <td>NaT</td>\n",
       "    </tr>\n",
       "    <tr>\n",
       "      <th>2</th>\n",
       "      <td>34</td>\n",
       "      <td>4</td>\n",
       "      <td>1.0</td>\n",
       "      <td>Z005</td>\n",
       "      <td>NaN</td>\n",
       "      <td>2.0</td>\n",
       "      <td>NaN</td>\n",
       "      <td>NaN</td>\n",
       "      <td>NaT</td>\n",
       "    </tr>\n",
       "    <tr>\n",
       "      <th>3</th>\n",
       "      <td>35</td>\n",
       "      <td>5</td>\n",
       "      <td>1.0</td>\n",
       "      <td>Z005</td>\n",
       "      <td>NaN</td>\n",
       "      <td>NaN</td>\n",
       "      <td>NaN</td>\n",
       "      <td>NaN</td>\n",
       "      <td>NaT</td>\n",
       "    </tr>\n",
       "    <tr>\n",
       "      <th>4</th>\n",
       "      <td>42</td>\n",
       "      <td>7</td>\n",
       "      <td>1.0</td>\n",
       "      <td>Z008</td>\n",
       "      <td>NaN</td>\n",
       "      <td>NaN</td>\n",
       "      <td>NaN</td>\n",
       "      <td>NaN</td>\n",
       "      <td>NaT</td>\n",
       "    </tr>\n",
       "    <tr>\n",
       "      <th>5</th>\n",
       "      <td>45</td>\n",
       "      <td>9</td>\n",
       "      <td>1.0</td>\n",
       "      <td>Z003</td>\n",
       "      <td>NaN</td>\n",
       "      <td>NaN</td>\n",
       "      <td>NaN</td>\n",
       "      <td>NaN</td>\n",
       "      <td>NaT</td>\n",
       "    </tr>\n",
       "    <tr>\n",
       "      <th>6</th>\n",
       "      <td>46</td>\n",
       "      <td>10</td>\n",
       "      <td>1.0</td>\n",
       "      <td>Z005</td>\n",
       "      <td>NaN</td>\n",
       "      <td>2.0</td>\n",
       "      <td>31.0</td>\n",
       "      <td>NaN</td>\n",
       "      <td>NaT</td>\n",
       "    </tr>\n",
       "    <tr>\n",
       "      <th>7</th>\n",
       "      <td>47</td>\n",
       "      <td>11</td>\n",
       "      <td>NaN</td>\n",
       "      <td>NaN</td>\n",
       "      <td>NaN</td>\n",
       "      <td>NaN</td>\n",
       "      <td>NaN</td>\n",
       "      <td>NaN</td>\n",
       "      <td>NaT</td>\n",
       "    </tr>\n",
       "    <tr>\n",
       "      <th>8</th>\n",
       "      <td>49</td>\n",
       "      <td>13</td>\n",
       "      <td>9001.0</td>\n",
       "      <td>Z003</td>\n",
       "      <td>NaN</td>\n",
       "      <td>2.0</td>\n",
       "      <td>NaN</td>\n",
       "      <td>1981-05-18 00:00:00</td>\n",
       "      <td>NaT</td>\n",
       "    </tr>\n",
       "    <tr>\n",
       "      <th>9</th>\n",
       "      <td>50</td>\n",
       "      <td>14</td>\n",
       "      <td>1.0</td>\n",
       "      <td>Z005</td>\n",
       "      <td>NaN</td>\n",
       "      <td>NaN</td>\n",
       "      <td>NaN</td>\n",
       "      <td>NaN</td>\n",
       "      <td>NaT</td>\n",
       "    </tr>\n",
       "    <tr>\n",
       "      <th>10</th>\n",
       "      <td>51</td>\n",
       "      <td>15</td>\n",
       "      <td>1.0</td>\n",
       "      <td>Z001</td>\n",
       "      <td>NaN</td>\n",
       "      <td>NaN</td>\n",
       "      <td>NaN</td>\n",
       "      <td>NaN</td>\n",
       "      <td>NaT</td>\n",
       "    </tr>\n",
       "    <tr>\n",
       "      <th>11</th>\n",
       "      <td>52</td>\n",
       "      <td>16</td>\n",
       "      <td>1.0</td>\n",
       "      <td>Z006</td>\n",
       "      <td>NaN</td>\n",
       "      <td>NaN</td>\n",
       "      <td>NaN</td>\n",
       "      <td>NaN</td>\n",
       "      <td>NaT</td>\n",
       "    </tr>\n",
       "    <tr>\n",
       "      <th>12</th>\n",
       "      <td>53</td>\n",
       "      <td>17</td>\n",
       "      <td>1.0</td>\n",
       "      <td>Z005</td>\n",
       "      <td>NaN</td>\n",
       "      <td>2.0</td>\n",
       "      <td>31.0</td>\n",
       "      <td>NaN</td>\n",
       "      <td>NaT</td>\n",
       "    </tr>\n",
       "    <tr>\n",
       "      <th>13</th>\n",
       "      <td>55</td>\n",
       "      <td>19</td>\n",
       "      <td>1.0</td>\n",
       "      <td>Z013</td>\n",
       "      <td>2.0</td>\n",
       "      <td>1.0</td>\n",
       "      <td>31.0</td>\n",
       "      <td>NaN</td>\n",
       "      <td>NaT</td>\n",
       "    </tr>\n",
       "    <tr>\n",
       "      <th>14</th>\n",
       "      <td>56</td>\n",
       "      <td>20</td>\n",
       "      <td>3.0</td>\n",
       "      <td>Z004</td>\n",
       "      <td>NaN</td>\n",
       "      <td>NaN</td>\n",
       "      <td>31.0</td>\n",
       "      <td>NaN</td>\n",
       "      <td>NaT</td>\n",
       "    </tr>\n",
       "    <tr>\n",
       "      <th>15</th>\n",
       "      <td>61</td>\n",
       "      <td>21</td>\n",
       "      <td>1.0</td>\n",
       "      <td>Z001</td>\n",
       "      <td>NaN</td>\n",
       "      <td>NaN</td>\n",
       "      <td>NaN</td>\n",
       "      <td>NaN</td>\n",
       "      <td>NaT</td>\n",
       "    </tr>\n",
       "    <tr>\n",
       "      <th>16</th>\n",
       "      <td>63</td>\n",
       "      <td>23</td>\n",
       "      <td>1.0</td>\n",
       "      <td>Z001</td>\n",
       "      <td>NaN</td>\n",
       "      <td>NaN</td>\n",
       "      <td>NaN</td>\n",
       "      <td>NaN</td>\n",
       "      <td>NaT</td>\n",
       "    </tr>\n",
       "    <tr>\n",
       "      <th>17</th>\n",
       "      <td>64</td>\n",
       "      <td>24</td>\n",
       "      <td>1.0</td>\n",
       "      <td>Z016</td>\n",
       "      <td>NaN</td>\n",
       "      <td>NaN</td>\n",
       "      <td>2.0</td>\n",
       "      <td>NaN</td>\n",
       "      <td>NaT</td>\n",
       "    </tr>\n",
       "    <tr>\n",
       "      <th>18</th>\n",
       "      <td>65</td>\n",
       "      <td>25</td>\n",
       "      <td>1.0</td>\n",
       "      <td>Z005</td>\n",
       "      <td>NaN</td>\n",
       "      <td>2.0</td>\n",
       "      <td>NaN</td>\n",
       "      <td>NaN</td>\n",
       "      <td>NaT</td>\n",
       "    </tr>\n",
       "    <tr>\n",
       "      <th>19</th>\n",
       "      <td>57</td>\n",
       "      <td>26</td>\n",
       "      <td>1.0</td>\n",
       "      <td>Z003</td>\n",
       "      <td>NaN</td>\n",
       "      <td>NaN</td>\n",
       "      <td>NaN</td>\n",
       "      <td>NaN</td>\n",
       "      <td>NaT</td>\n",
       "    </tr>\n",
       "  </tbody>\n",
       "</table>\n",
       "</div>"
      ],
      "text/plain": [
       "   Business Partner Customer No.  Partner Type Data Origin  Title  \\\n",
       "0                31            1           1.0        Z001    NaN   \n",
       "1                32            2           1.0        Z005    NaN   \n",
       "2                34            4           1.0        Z005    NaN   \n",
       "3                35            5           1.0        Z005    NaN   \n",
       "4                42            7           1.0        Z008    NaN   \n",
       "5                45            9           1.0        Z003    NaN   \n",
       "6                46           10           1.0        Z005    NaN   \n",
       "7                47           11           NaN         NaN    NaN   \n",
       "8                49           13        9001.0        Z003    NaN   \n",
       "9                50           14           1.0        Z005    NaN   \n",
       "10               51           15           1.0        Z001    NaN   \n",
       "11               52           16           1.0        Z006    NaN   \n",
       "12               53           17           1.0        Z005    NaN   \n",
       "13               55           19           1.0        Z013    2.0   \n",
       "14               56           20           3.0        Z004    NaN   \n",
       "15               61           21           1.0        Z001    NaN   \n",
       "16               63           23           1.0        Z001    NaN   \n",
       "17               64           24           1.0        Z016    NaN   \n",
       "18               65           25           1.0        Z005    NaN   \n",
       "19               57           26           1.0        Z003    NaN   \n",
       "\n",
       "    Marital Status  Occupation        Date of Birth Death date  \n",
       "0              NaN         NaN                  NaN        NaT  \n",
       "1              NaN         NaN                  NaN        NaT  \n",
       "2              2.0         NaN                  NaN        NaT  \n",
       "3              NaN         NaN                  NaN        NaT  \n",
       "4              NaN         NaN                  NaN        NaT  \n",
       "5              NaN         NaN                  NaN        NaT  \n",
       "6              2.0        31.0                  NaN        NaT  \n",
       "7              NaN         NaN                  NaN        NaT  \n",
       "8              2.0         NaN  1981-05-18 00:00:00        NaT  \n",
       "9              NaN         NaN                  NaN        NaT  \n",
       "10             NaN         NaN                  NaN        NaT  \n",
       "11             NaN         NaN                  NaN        NaT  \n",
       "12             2.0        31.0                  NaN        NaT  \n",
       "13             1.0        31.0                  NaN        NaT  \n",
       "14             NaN        31.0                  NaN        NaT  \n",
       "15             NaN         NaN                  NaN        NaT  \n",
       "16             NaN         NaN                  NaN        NaT  \n",
       "17             NaN         2.0                  NaN        NaT  \n",
       "18             2.0         NaN                  NaN        NaT  \n",
       "19             NaN         NaN                  NaN        NaT  "
      ]
     },
     "execution_count": 4,
     "metadata": {},
     "output_type": "execute_result"
    }
   ],
   "source": [
    "# Reading the first 20 rows of customer data set\n",
    "Customer_data.head(20)"
   ]
  },
  {
   "cell_type": "code",
   "execution_count": 5,
   "metadata": {},
   "outputs": [
    {
     "data": {
      "text/html": [
       "<div>\n",
       "<style scoped>\n",
       "    .dataframe tbody tr th:only-of-type {\n",
       "        vertical-align: middle;\n",
       "    }\n",
       "\n",
       "    .dataframe tbody tr th {\n",
       "        vertical-align: top;\n",
       "    }\n",
       "\n",
       "    .dataframe thead th {\n",
       "        text-align: right;\n",
       "    }\n",
       "</style>\n",
       "<table border=\"1\" class=\"dataframe\">\n",
       "  <thead>\n",
       "    <tr style=\"text-align: right;\">\n",
       "      <th></th>\n",
       "      <th>Unnamed: 0</th>\n",
       "      <th>Amt Rcvd From Custom</th>\n",
       "      <th>Amt Rcvd From Ins Co</th>\n",
       "      <th>Area / Locality</th>\n",
       "      <th>CGST(14%)</th>\n",
       "      <th>CGST(2.5%)</th>\n",
       "      <th>CGST(6%)</th>\n",
       "      <th>CGST(9%)</th>\n",
       "      <th>CITY</th>\n",
       "      <th>Cash /Cashless Type</th>\n",
       "      <th>Claim No.</th>\n",
       "      <th>Cust Type</th>\n",
       "      <th>Customer No.</th>\n",
       "      <th>District</th>\n",
       "      <th>Expiry Date</th>\n",
       "      <th>Gate Pass Date</th>\n",
       "      <th>Gate Pass Time</th>\n",
       "      <th>IGST(12%)</th>\n",
       "      <th>IGST(18%)</th>\n",
       "      <th>IGST(28%)</th>\n",
       "      <th>IGST(5%)</th>\n",
       "      <th>Insurance Company</th>\n",
       "      <th>Invoice Date</th>\n",
       "      <th>Invoice No</th>\n",
       "      <th>Invoice Time</th>\n",
       "      <th>Job Card No</th>\n",
       "      <th>JobCard Date</th>\n",
       "      <th>JobCard Time</th>\n",
       "      <th>KMs Reading</th>\n",
       "      <th>Labour Total</th>\n",
       "      <th>Make</th>\n",
       "      <th>Misc Total</th>\n",
       "      <th>Model</th>\n",
       "      <th>ODN No.</th>\n",
       "      <th>OSL Total</th>\n",
       "      <th>Order Type</th>\n",
       "      <th>Outstanding Amt</th>\n",
       "      <th>Parts Total</th>\n",
       "      <th>Pin code</th>\n",
       "      <th>Plant</th>\n",
       "      <th>Plant Name1</th>\n",
       "      <th>Policy no.</th>\n",
       "      <th>Print Status</th>\n",
       "      <th>Recovrbl Exp</th>\n",
       "      <th>Regn No</th>\n",
       "      <th>SGST/UGST(14%)</th>\n",
       "      <th>SGST/UGST(2.5%)</th>\n",
       "      <th>SGST/UGST(6%)</th>\n",
       "      <th>SGST/UGST(9%)</th>\n",
       "      <th>Service Advisor Name</th>\n",
       "      <th>TDS amount</th>\n",
       "      <th>Technician Name</th>\n",
       "      <th>Total Amt Wtd Tax.</th>\n",
       "      <th>Total CGST</th>\n",
       "      <th>Total GST</th>\n",
       "      <th>Total IGST</th>\n",
       "      <th>Total SGST/UGST</th>\n",
       "      <th>Total Value</th>\n",
       "      <th>User ID</th>\n",
       "    </tr>\n",
       "  </thead>\n",
       "  <tbody>\n",
       "    <tr>\n",
       "      <th>0</th>\n",
       "      <td>0</td>\n",
       "      <td>0.0</td>\n",
       "      <td>0.0</td>\n",
       "      <td>MAJIWADA</td>\n",
       "      <td>0.0</td>\n",
       "      <td>0.0</td>\n",
       "      <td>0.0</td>\n",
       "      <td>0.0</td>\n",
       "      <td>Thane</td>\n",
       "      <td>NaN</td>\n",
       "      <td>NaN</td>\n",
       "      <td>Retail</td>\n",
       "      <td>67849</td>\n",
       "      <td>Maharashtra</td>\n",
       "      <td>NaN</td>\n",
       "      <td>NaN</td>\n",
       "      <td>00:00:00</td>\n",
       "      <td>0.0</td>\n",
       "      <td>0.0</td>\n",
       "      <td>0.0</td>\n",
       "      <td>0.0</td>\n",
       "      <td>NaN</td>\n",
       "      <td>2015-01-02</td>\n",
       "      <td>7005200002</td>\n",
       "      <td>11:30:36</td>\n",
       "      <td>168303</td>\n",
       "      <td>2014-12-13</td>\n",
       "      <td>14:29:43</td>\n",
       "      <td>49317</td>\n",
       "      <td>1203.14</td>\n",
       "      <td>GENERAL MOTORS</td>\n",
       "      <td>0.00</td>\n",
       "      <td>SPARK</td>\n",
       "      <td>7.005200e+09</td>\n",
       "      <td>500.06</td>\n",
       "      <td>Paid Service</td>\n",
       "      <td>0.0</td>\n",
       "      <td>2348.75</td>\n",
       "      <td>400601</td>\n",
       "      <td>BC01</td>\n",
       "      <td>THANE</td>\n",
       "      <td>NaN</td>\n",
       "      <td>NO</td>\n",
       "      <td>0.0</td>\n",
       "      <td>KA19MA1291</td>\n",
       "      <td>0.0</td>\n",
       "      <td>0.0</td>\n",
       "      <td>0.0</td>\n",
       "      <td>0.0</td>\n",
       "      <td>NaN</td>\n",
       "      <td>0.0</td>\n",
       "      <td>RUPESH</td>\n",
       "      <td>4051.95</td>\n",
       "      <td>0.0</td>\n",
       "      <td>0.0</td>\n",
       "      <td>0.0</td>\n",
       "      <td>0.0</td>\n",
       "      <td>4051.95</td>\n",
       "      <td>BC01FS1</td>\n",
       "    </tr>\n",
       "    <tr>\n",
       "      <th>1</th>\n",
       "      <td>1</td>\n",
       "      <td>0.0</td>\n",
       "      <td>0.0</td>\n",
       "      <td>THNAE</td>\n",
       "      <td>0.0</td>\n",
       "      <td>0.0</td>\n",
       "      <td>0.0</td>\n",
       "      <td>0.0</td>\n",
       "      <td>THNAE</td>\n",
       "      <td>NaN</td>\n",
       "      <td>NaN</td>\n",
       "      <td>Retail</td>\n",
       "      <td>84419</td>\n",
       "      <td>Maharashtra</td>\n",
       "      <td>NaN</td>\n",
       "      <td>NaN</td>\n",
       "      <td>00:00:00</td>\n",
       "      <td>0.0</td>\n",
       "      <td>0.0</td>\n",
       "      <td>0.0</td>\n",
       "      <td>0.0</td>\n",
       "      <td>NaN</td>\n",
       "      <td>2015-01-03</td>\n",
       "      <td>7005200003</td>\n",
       "      <td>10:07:32</td>\n",
       "      <td>173997</td>\n",
       "      <td>2015-01-02</td>\n",
       "      <td>14:12:18</td>\n",
       "      <td>78584</td>\n",
       "      <td>804.26</td>\n",
       "      <td>TATA MOTORS</td>\n",
       "      <td>197.03</td>\n",
       "      <td>INDICA</td>\n",
       "      <td>7.005200e+09</td>\n",
       "      <td>0.00</td>\n",
       "      <td>SMC Value Package</td>\n",
       "      <td>0.0</td>\n",
       "      <td>0.00</td>\n",
       "      <td>400603</td>\n",
       "      <td>BC01</td>\n",
       "      <td>THANE</td>\n",
       "      <td>NaN</td>\n",
       "      <td>NO</td>\n",
       "      <td>0.0</td>\n",
       "      <td>MH43R3046</td>\n",
       "      <td>0.0</td>\n",
       "      <td>0.0</td>\n",
       "      <td>0.0</td>\n",
       "      <td>0.0</td>\n",
       "      <td>NaN</td>\n",
       "      <td>0.0</td>\n",
       "      <td>PRASHANT</td>\n",
       "      <td>1001.29</td>\n",
       "      <td>0.0</td>\n",
       "      <td>0.0</td>\n",
       "      <td>0.0</td>\n",
       "      <td>0.0</td>\n",
       "      <td>1001.29</td>\n",
       "      <td>BC01SA2</td>\n",
       "    </tr>\n",
       "    <tr>\n",
       "      <th>2</th>\n",
       "      <td>2</td>\n",
       "      <td>0.0</td>\n",
       "      <td>0.0</td>\n",
       "      <td>THANE</td>\n",
       "      <td>0.0</td>\n",
       "      <td>0.0</td>\n",
       "      <td>0.0</td>\n",
       "      <td>0.0</td>\n",
       "      <td>THANE[W]</td>\n",
       "      <td>NaN</td>\n",
       "      <td>NaN</td>\n",
       "      <td>Retail</td>\n",
       "      <td>81055</td>\n",
       "      <td>Maharashtra</td>\n",
       "      <td>NaN</td>\n",
       "      <td>NaN</td>\n",
       "      <td>00:00:00</td>\n",
       "      <td>0.0</td>\n",
       "      <td>0.0</td>\n",
       "      <td>0.0</td>\n",
       "      <td>0.0</td>\n",
       "      <td>NaN</td>\n",
       "      <td>2015-01-03</td>\n",
       "      <td>7005200004</td>\n",
       "      <td>11:12:57</td>\n",
       "      <td>173889</td>\n",
       "      <td>2015-01-02</td>\n",
       "      <td>11:40:44</td>\n",
       "      <td>33985</td>\n",
       "      <td>180.19</td>\n",
       "      <td>MARUTI SUZUKI</td>\n",
       "      <td>0.00</td>\n",
       "      <td>ZEN</td>\n",
       "      <td>7.005200e+09</td>\n",
       "      <td>0.00</td>\n",
       "      <td>Running Repairs</td>\n",
       "      <td>0.0</td>\n",
       "      <td>52.95</td>\n",
       "      <td>400607</td>\n",
       "      <td>BC01</td>\n",
       "      <td>THANE</td>\n",
       "      <td>NaN</td>\n",
       "      <td>NO</td>\n",
       "      <td>0.0</td>\n",
       "      <td>AP09AX0582</td>\n",
       "      <td>0.0</td>\n",
       "      <td>0.0</td>\n",
       "      <td>0.0</td>\n",
       "      <td>0.0</td>\n",
       "      <td>NaN</td>\n",
       "      <td>0.0</td>\n",
       "      <td>IMRAN</td>\n",
       "      <td>233.14</td>\n",
       "      <td>0.0</td>\n",
       "      <td>0.0</td>\n",
       "      <td>0.0</td>\n",
       "      <td>0.0</td>\n",
       "      <td>233.14</td>\n",
       "      <td>BC01SA2</td>\n",
       "    </tr>\n",
       "    <tr>\n",
       "      <th>3</th>\n",
       "      <td>3</td>\n",
       "      <td>0.0</td>\n",
       "      <td>0.0</td>\n",
       "      <td>THNAE</td>\n",
       "      <td>0.0</td>\n",
       "      <td>0.0</td>\n",
       "      <td>0.0</td>\n",
       "      <td>0.0</td>\n",
       "      <td>THNAE</td>\n",
       "      <td>NaN</td>\n",
       "      <td>NaN</td>\n",
       "      <td>Retail</td>\n",
       "      <td>84419</td>\n",
       "      <td>Maharashtra</td>\n",
       "      <td>NaN</td>\n",
       "      <td>NaN</td>\n",
       "      <td>00:00:00</td>\n",
       "      <td>0.0</td>\n",
       "      <td>0.0</td>\n",
       "      <td>0.0</td>\n",
       "      <td>0.0</td>\n",
       "      <td>NaN</td>\n",
       "      <td>2015-01-03</td>\n",
       "      <td>7005200005</td>\n",
       "      <td>11:40:44</td>\n",
       "      <td>174158</td>\n",
       "      <td>2015-01-03</td>\n",
       "      <td>10:12:32</td>\n",
       "      <td>78584</td>\n",
       "      <td>0.00</td>\n",
       "      <td>TATA MOTORS</td>\n",
       "      <td>0.00</td>\n",
       "      <td>INDICA</td>\n",
       "      <td>7.005200e+09</td>\n",
       "      <td>0.00</td>\n",
       "      <td>SMC Redemption</td>\n",
       "      <td>0.0</td>\n",
       "      <td>0.00</td>\n",
       "      <td>400603</td>\n",
       "      <td>BC01</td>\n",
       "      <td>THANE</td>\n",
       "      <td>NaN</td>\n",
       "      <td>NO</td>\n",
       "      <td>0.0</td>\n",
       "      <td>MH43R3046</td>\n",
       "      <td>0.0</td>\n",
       "      <td>0.0</td>\n",
       "      <td>0.0</td>\n",
       "      <td>0.0</td>\n",
       "      <td>NaN</td>\n",
       "      <td>0.0</td>\n",
       "      <td>PRASHANT</td>\n",
       "      <td>0.00</td>\n",
       "      <td>0.0</td>\n",
       "      <td>0.0</td>\n",
       "      <td>0.0</td>\n",
       "      <td>0.0</td>\n",
       "      <td>0.00</td>\n",
       "      <td>BC01SA2</td>\n",
       "    </tr>\n",
       "    <tr>\n",
       "      <th>4</th>\n",
       "      <td>4</td>\n",
       "      <td>0.0</td>\n",
       "      <td>0.0</td>\n",
       "      <td>THANE</td>\n",
       "      <td>0.0</td>\n",
       "      <td>0.0</td>\n",
       "      <td>0.0</td>\n",
       "      <td>0.0</td>\n",
       "      <td>THANE</td>\n",
       "      <td>NaN</td>\n",
       "      <td>NaN</td>\n",
       "      <td>Retail</td>\n",
       "      <td>18980</td>\n",
       "      <td>Maharashtra</td>\n",
       "      <td>NaN</td>\n",
       "      <td>NaN</td>\n",
       "      <td>00:00:00</td>\n",
       "      <td>0.0</td>\n",
       "      <td>0.0</td>\n",
       "      <td>0.0</td>\n",
       "      <td>0.0</td>\n",
       "      <td>NaN</td>\n",
       "      <td>2015-01-03</td>\n",
       "      <td>7005200006</td>\n",
       "      <td>12:07:17</td>\n",
       "      <td>173860</td>\n",
       "      <td>2015-01-02</td>\n",
       "      <td>10:45:42</td>\n",
       "      <td>50057</td>\n",
       "      <td>1202.97</td>\n",
       "      <td>HYUNDAI</td>\n",
       "      <td>100.00</td>\n",
       "      <td>SANTRO XING</td>\n",
       "      <td>7.005200e+09</td>\n",
       "      <td>499.99</td>\n",
       "      <td>Paid Service</td>\n",
       "      <td>0.0</td>\n",
       "      <td>944.16</td>\n",
       "      <td>400603</td>\n",
       "      <td>BC01</td>\n",
       "      <td>THANE</td>\n",
       "      <td>NaN</td>\n",
       "      <td>NO</td>\n",
       "      <td>0.0</td>\n",
       "      <td>MH04CD9768</td>\n",
       "      <td>0.0</td>\n",
       "      <td>0.0</td>\n",
       "      <td>0.0</td>\n",
       "      <td>0.0</td>\n",
       "      <td>NaN</td>\n",
       "      <td>0.0</td>\n",
       "      <td>DAYANAND</td>\n",
       "      <td>2747.12</td>\n",
       "      <td>0.0</td>\n",
       "      <td>0.0</td>\n",
       "      <td>0.0</td>\n",
       "      <td>0.0</td>\n",
       "      <td>2747.12</td>\n",
       "      <td>BC01SA2</td>\n",
       "    </tr>\n",
       "    <tr>\n",
       "      <th>5</th>\n",
       "      <td>5</td>\n",
       "      <td>0.0</td>\n",
       "      <td>0.0</td>\n",
       "      <td>THANE</td>\n",
       "      <td>0.0</td>\n",
       "      <td>0.0</td>\n",
       "      <td>0.0</td>\n",
       "      <td>0.0</td>\n",
       "      <td>THANE</td>\n",
       "      <td>NaN</td>\n",
       "      <td>NaN</td>\n",
       "      <td>Retail</td>\n",
       "      <td>84457</td>\n",
       "      <td>Maharashtra</td>\n",
       "      <td>NaN</td>\n",
       "      <td>NaN</td>\n",
       "      <td>00:00:00</td>\n",
       "      <td>0.0</td>\n",
       "      <td>0.0</td>\n",
       "      <td>0.0</td>\n",
       "      <td>0.0</td>\n",
       "      <td>NaN</td>\n",
       "      <td>2015-01-03</td>\n",
       "      <td>7005200007</td>\n",
       "      <td>12:10:08</td>\n",
       "      <td>174053</td>\n",
       "      <td>2015-01-02</td>\n",
       "      <td>15:15:10</td>\n",
       "      <td>13122</td>\n",
       "      <td>0.00</td>\n",
       "      <td>TOYOTA</td>\n",
       "      <td>0.00</td>\n",
       "      <td>INNOVA</td>\n",
       "      <td>7.005200e+09</td>\n",
       "      <td>851.70</td>\n",
       "      <td>Running Repairs</td>\n",
       "      <td>0.0</td>\n",
       "      <td>14.22</td>\n",
       "      <td>400603</td>\n",
       "      <td>BC01</td>\n",
       "      <td>THANE</td>\n",
       "      <td>NaN</td>\n",
       "      <td>NO</td>\n",
       "      <td>0.0</td>\n",
       "      <td>MH04GM2960</td>\n",
       "      <td>0.0</td>\n",
       "      <td>0.0</td>\n",
       "      <td>0.0</td>\n",
       "      <td>0.0</td>\n",
       "      <td>NaN</td>\n",
       "      <td>0.0</td>\n",
       "      <td>DAYANAND</td>\n",
       "      <td>865.92</td>\n",
       "      <td>0.0</td>\n",
       "      <td>0.0</td>\n",
       "      <td>0.0</td>\n",
       "      <td>0.0</td>\n",
       "      <td>865.92</td>\n",
       "      <td>BC01SA2</td>\n",
       "    </tr>\n",
       "    <tr>\n",
       "      <th>6</th>\n",
       "      <td>6</td>\n",
       "      <td>0.0</td>\n",
       "      <td>0.0</td>\n",
       "      <td>THANE WEST</td>\n",
       "      <td>0.0</td>\n",
       "      <td>0.0</td>\n",
       "      <td>0.0</td>\n",
       "      <td>0.0</td>\n",
       "      <td>THANE</td>\n",
       "      <td>NaN</td>\n",
       "      <td>NaN</td>\n",
       "      <td>Retail</td>\n",
       "      <td>12523</td>\n",
       "      <td>Maharashtra</td>\n",
       "      <td>NaN</td>\n",
       "      <td>NaN</td>\n",
       "      <td>00:00:00</td>\n",
       "      <td>0.0</td>\n",
       "      <td>0.0</td>\n",
       "      <td>0.0</td>\n",
       "      <td>0.0</td>\n",
       "      <td>NaN</td>\n",
       "      <td>2015-01-03</td>\n",
       "      <td>7005200008</td>\n",
       "      <td>12:12:31</td>\n",
       "      <td>173953</td>\n",
       "      <td>2015-01-02</td>\n",
       "      <td>12:15:55</td>\n",
       "      <td>26964</td>\n",
       "      <td>0.00</td>\n",
       "      <td>HONDA</td>\n",
       "      <td>0.00</td>\n",
       "      <td>CITY</td>\n",
       "      <td>7.005200e+09</td>\n",
       "      <td>749.42</td>\n",
       "      <td>Running Repairs</td>\n",
       "      <td>0.0</td>\n",
       "      <td>0.00</td>\n",
       "      <td>400607</td>\n",
       "      <td>BC01</td>\n",
       "      <td>THANE</td>\n",
       "      <td>NaN</td>\n",
       "      <td>NO</td>\n",
       "      <td>0.0</td>\n",
       "      <td>MH06AL1935</td>\n",
       "      <td>0.0</td>\n",
       "      <td>0.0</td>\n",
       "      <td>0.0</td>\n",
       "      <td>0.0</td>\n",
       "      <td>NaN</td>\n",
       "      <td>0.0</td>\n",
       "      <td>PRASHANT</td>\n",
       "      <td>749.42</td>\n",
       "      <td>0.0</td>\n",
       "      <td>0.0</td>\n",
       "      <td>0.0</td>\n",
       "      <td>0.0</td>\n",
       "      <td>749.42</td>\n",
       "      <td>BC01SA2</td>\n",
       "    </tr>\n",
       "    <tr>\n",
       "      <th>7</th>\n",
       "      <td>7</td>\n",
       "      <td>0.0</td>\n",
       "      <td>0.0</td>\n",
       "      <td>G.B. ROAD</td>\n",
       "      <td>0.0</td>\n",
       "      <td>0.0</td>\n",
       "      <td>0.0</td>\n",
       "      <td>0.0</td>\n",
       "      <td>THANE</td>\n",
       "      <td>NaN</td>\n",
       "      <td>NaN</td>\n",
       "      <td>Retail</td>\n",
       "      <td>55220</td>\n",
       "      <td>Maharashtra</td>\n",
       "      <td>NaN</td>\n",
       "      <td>NaN</td>\n",
       "      <td>00:00:00</td>\n",
       "      <td>0.0</td>\n",
       "      <td>0.0</td>\n",
       "      <td>0.0</td>\n",
       "      <td>0.0</td>\n",
       "      <td>NaN</td>\n",
       "      <td>2015-01-03</td>\n",
       "      <td>7005200009</td>\n",
       "      <td>12:18:54</td>\n",
       "      <td>174254</td>\n",
       "      <td>2015-01-03</td>\n",
       "      <td>12:02:32</td>\n",
       "      <td>12943</td>\n",
       "      <td>0.00</td>\n",
       "      <td>MARUTI SUZUKI</td>\n",
       "      <td>0.00</td>\n",
       "      <td>SWIFT DZIRE</td>\n",
       "      <td>7.005200e+09</td>\n",
       "      <td>0.00</td>\n",
       "      <td>Running Repairs</td>\n",
       "      <td>0.0</td>\n",
       "      <td>0.00</td>\n",
       "      <td>400606</td>\n",
       "      <td>BC01</td>\n",
       "      <td>THANE</td>\n",
       "      <td>NaN</td>\n",
       "      <td>NO</td>\n",
       "      <td>0.0</td>\n",
       "      <td>MH04FR8641</td>\n",
       "      <td>0.0</td>\n",
       "      <td>0.0</td>\n",
       "      <td>0.0</td>\n",
       "      <td>0.0</td>\n",
       "      <td>NaN</td>\n",
       "      <td>0.0</td>\n",
       "      <td>SAMEER</td>\n",
       "      <td>0.00</td>\n",
       "      <td>0.0</td>\n",
       "      <td>0.0</td>\n",
       "      <td>0.0</td>\n",
       "      <td>0.0</td>\n",
       "      <td>0.00</td>\n",
       "      <td>BC01SA2</td>\n",
       "    </tr>\n",
       "    <tr>\n",
       "      <th>8</th>\n",
       "      <td>8</td>\n",
       "      <td>0.0</td>\n",
       "      <td>0.0</td>\n",
       "      <td>THANE</td>\n",
       "      <td>0.0</td>\n",
       "      <td>0.0</td>\n",
       "      <td>0.0</td>\n",
       "      <td>0.0</td>\n",
       "      <td>THANE[W]</td>\n",
       "      <td>NaN</td>\n",
       "      <td>NaN</td>\n",
       "      <td>Retail</td>\n",
       "      <td>84511</td>\n",
       "      <td>Maharashtra</td>\n",
       "      <td>NaN</td>\n",
       "      <td>NaN</td>\n",
       "      <td>00:00:00</td>\n",
       "      <td>0.0</td>\n",
       "      <td>0.0</td>\n",
       "      <td>0.0</td>\n",
       "      <td>0.0</td>\n",
       "      <td>NaN</td>\n",
       "      <td>2015-01-03</td>\n",
       "      <td>7005200010</td>\n",
       "      <td>13:07:27</td>\n",
       "      <td>174162</td>\n",
       "      <td>2015-01-03</td>\n",
       "      <td>10:21:26</td>\n",
       "      <td>18563</td>\n",
       "      <td>0.00</td>\n",
       "      <td>TATA MOTORS</td>\n",
       "      <td>0.00</td>\n",
       "      <td>INDIGO</td>\n",
       "      <td>7.005200e+09</td>\n",
       "      <td>0.00</td>\n",
       "      <td>Running Repairs</td>\n",
       "      <td>0.0</td>\n",
       "      <td>0.00</td>\n",
       "      <td>400607</td>\n",
       "      <td>BC01</td>\n",
       "      <td>THANE</td>\n",
       "      <td>NaN</td>\n",
       "      <td>NO</td>\n",
       "      <td>0.0</td>\n",
       "      <td>MH05BJ558</td>\n",
       "      <td>0.0</td>\n",
       "      <td>0.0</td>\n",
       "      <td>0.0</td>\n",
       "      <td>0.0</td>\n",
       "      <td>NaN</td>\n",
       "      <td>0.0</td>\n",
       "      <td>HARSHAD</td>\n",
       "      <td>0.00</td>\n",
       "      <td>0.0</td>\n",
       "      <td>0.0</td>\n",
       "      <td>0.0</td>\n",
       "      <td>0.0</td>\n",
       "      <td>0.00</td>\n",
       "      <td>BC01SA1</td>\n",
       "    </tr>\n",
       "    <tr>\n",
       "      <th>9</th>\n",
       "      <td>9</td>\n",
       "      <td>0.0</td>\n",
       "      <td>0.0</td>\n",
       "      <td>THANE</td>\n",
       "      <td>0.0</td>\n",
       "      <td>0.0</td>\n",
       "      <td>0.0</td>\n",
       "      <td>0.0</td>\n",
       "      <td>THANE</td>\n",
       "      <td>NaN</td>\n",
       "      <td>NaN</td>\n",
       "      <td>Retail</td>\n",
       "      <td>84457</td>\n",
       "      <td>Maharashtra</td>\n",
       "      <td>NaN</td>\n",
       "      <td>NaN</td>\n",
       "      <td>00:00:00</td>\n",
       "      <td>0.0</td>\n",
       "      <td>0.0</td>\n",
       "      <td>0.0</td>\n",
       "      <td>0.0</td>\n",
       "      <td>NaN</td>\n",
       "      <td>2015-01-03</td>\n",
       "      <td>7005200011</td>\n",
       "      <td>15:54:21</td>\n",
       "      <td>174203</td>\n",
       "      <td>2015-01-03</td>\n",
       "      <td>11:11:00</td>\n",
       "      <td>5443</td>\n",
       "      <td>698.92</td>\n",
       "      <td>MARUTI SUZUKI</td>\n",
       "      <td>49.99</td>\n",
       "      <td>ALTO</td>\n",
       "      <td>7.005200e+09</td>\n",
       "      <td>499.95</td>\n",
       "      <td>Paid Service</td>\n",
       "      <td>0.0</td>\n",
       "      <td>2663.75</td>\n",
       "      <td>400603</td>\n",
       "      <td>BC01</td>\n",
       "      <td>THANE</td>\n",
       "      <td>NaN</td>\n",
       "      <td>NO</td>\n",
       "      <td>0.0</td>\n",
       "      <td>GA07E3439</td>\n",
       "      <td>0.0</td>\n",
       "      <td>0.0</td>\n",
       "      <td>0.0</td>\n",
       "      <td>0.0</td>\n",
       "      <td>NaN</td>\n",
       "      <td>0.0</td>\n",
       "      <td>DAYANAND</td>\n",
       "      <td>3912.61</td>\n",
       "      <td>0.0</td>\n",
       "      <td>0.0</td>\n",
       "      <td>0.0</td>\n",
       "      <td>0.0</td>\n",
       "      <td>3912.61</td>\n",
       "      <td>BC01SA1</td>\n",
       "    </tr>\n",
       "    <tr>\n",
       "      <th>10</th>\n",
       "      <td>10</td>\n",
       "      <td>0.0</td>\n",
       "      <td>0.0</td>\n",
       "      <td>THANE</td>\n",
       "      <td>0.0</td>\n",
       "      <td>0.0</td>\n",
       "      <td>0.0</td>\n",
       "      <td>0.0</td>\n",
       "      <td>THANE[E]</td>\n",
       "      <td>NaN</td>\n",
       "      <td>NaN</td>\n",
       "      <td>Retail</td>\n",
       "      <td>41390</td>\n",
       "      <td>Maharashtra</td>\n",
       "      <td>NaN</td>\n",
       "      <td>NaN</td>\n",
       "      <td>00:00:00</td>\n",
       "      <td>0.0</td>\n",
       "      <td>0.0</td>\n",
       "      <td>0.0</td>\n",
       "      <td>0.0</td>\n",
       "      <td>NaN</td>\n",
       "      <td>2015-01-03</td>\n",
       "      <td>7005200012</td>\n",
       "      <td>16:05:30</td>\n",
       "      <td>174324</td>\n",
       "      <td>2015-01-03</td>\n",
       "      <td>13:16:14</td>\n",
       "      <td>5635</td>\n",
       "      <td>0.00</td>\n",
       "      <td>MARUTI SUZUKI</td>\n",
       "      <td>0.00</td>\n",
       "      <td>WAGONR</td>\n",
       "      <td>7.005200e+09</td>\n",
       "      <td>0.00</td>\n",
       "      <td>SMC Redemption</td>\n",
       "      <td>0.0</td>\n",
       "      <td>0.00</td>\n",
       "      <td>400601</td>\n",
       "      <td>BC01</td>\n",
       "      <td>THANE</td>\n",
       "      <td>NaN</td>\n",
       "      <td>NO</td>\n",
       "      <td>0.0</td>\n",
       "      <td>MH04FR5880</td>\n",
       "      <td>0.0</td>\n",
       "      <td>0.0</td>\n",
       "      <td>0.0</td>\n",
       "      <td>0.0</td>\n",
       "      <td>NaN</td>\n",
       "      <td>0.0</td>\n",
       "      <td>DAYANAND</td>\n",
       "      <td>0.00</td>\n",
       "      <td>0.0</td>\n",
       "      <td>0.0</td>\n",
       "      <td>0.0</td>\n",
       "      <td>0.0</td>\n",
       "      <td>0.00</td>\n",
       "      <td>BC01SA2</td>\n",
       "    </tr>\n",
       "    <tr>\n",
       "      <th>11</th>\n",
       "      <td>11</td>\n",
       "      <td>0.0</td>\n",
       "      <td>0.0</td>\n",
       "      <td>THANE</td>\n",
       "      <td>0.0</td>\n",
       "      <td>0.0</td>\n",
       "      <td>0.0</td>\n",
       "      <td>0.0</td>\n",
       "      <td>THANE</td>\n",
       "      <td>NaN</td>\n",
       "      <td>NaN</td>\n",
       "      <td>Retail</td>\n",
       "      <td>7303</td>\n",
       "      <td>Maharashtra</td>\n",
       "      <td>NaN</td>\n",
       "      <td>NaN</td>\n",
       "      <td>00:00:00</td>\n",
       "      <td>0.0</td>\n",
       "      <td>0.0</td>\n",
       "      <td>0.0</td>\n",
       "      <td>0.0</td>\n",
       "      <td>NaN</td>\n",
       "      <td>2015-01-03</td>\n",
       "      <td>7005200013</td>\n",
       "      <td>16:16:37</td>\n",
       "      <td>174145</td>\n",
       "      <td>2015-01-03</td>\n",
       "      <td>09:46:10</td>\n",
       "      <td>76114</td>\n",
       "      <td>0.00</td>\n",
       "      <td>HYUNDAI</td>\n",
       "      <td>0.00</td>\n",
       "      <td>SANTRO</td>\n",
       "      <td>7.005200e+09</td>\n",
       "      <td>0.00</td>\n",
       "      <td>SMC Redemption</td>\n",
       "      <td>0.0</td>\n",
       "      <td>0.00</td>\n",
       "      <td>400606</td>\n",
       "      <td>BC01</td>\n",
       "      <td>THANE</td>\n",
       "      <td>NaN</td>\n",
       "      <td>NO</td>\n",
       "      <td>0.0</td>\n",
       "      <td>MH04ED820</td>\n",
       "      <td>0.0</td>\n",
       "      <td>0.0</td>\n",
       "      <td>0.0</td>\n",
       "      <td>0.0</td>\n",
       "      <td>NaN</td>\n",
       "      <td>0.0</td>\n",
       "      <td>RAJESH</td>\n",
       "      <td>0.00</td>\n",
       "      <td>0.0</td>\n",
       "      <td>0.0</td>\n",
       "      <td>0.0</td>\n",
       "      <td>0.0</td>\n",
       "      <td>0.00</td>\n",
       "      <td>BC01SA1</td>\n",
       "    </tr>\n",
       "    <tr>\n",
       "      <th>12</th>\n",
       "      <td>12</td>\n",
       "      <td>0.0</td>\n",
       "      <td>0.0</td>\n",
       "      <td>THANE</td>\n",
       "      <td>0.0</td>\n",
       "      <td>0.0</td>\n",
       "      <td>0.0</td>\n",
       "      <td>0.0</td>\n",
       "      <td>THANE</td>\n",
       "      <td>NaN</td>\n",
       "      <td>NaN</td>\n",
       "      <td>Retail</td>\n",
       "      <td>7303</td>\n",
       "      <td>Maharashtra</td>\n",
       "      <td>NaN</td>\n",
       "      <td>NaN</td>\n",
       "      <td>00:00:00</td>\n",
       "      <td>0.0</td>\n",
       "      <td>0.0</td>\n",
       "      <td>0.0</td>\n",
       "      <td>0.0</td>\n",
       "      <td>NaN</td>\n",
       "      <td>2015-01-03</td>\n",
       "      <td>7005200014</td>\n",
       "      <td>16:17:46</td>\n",
       "      <td>174149</td>\n",
       "      <td>2015-01-03</td>\n",
       "      <td>10:04:36</td>\n",
       "      <td>76114</td>\n",
       "      <td>1003.88</td>\n",
       "      <td>HYUNDAI</td>\n",
       "      <td>49.99</td>\n",
       "      <td>SANTRO</td>\n",
       "      <td>7.005200e+09</td>\n",
       "      <td>499.94</td>\n",
       "      <td>Running Repairs</td>\n",
       "      <td>0.0</td>\n",
       "      <td>953.87</td>\n",
       "      <td>400606</td>\n",
       "      <td>BC01</td>\n",
       "      <td>THANE</td>\n",
       "      <td>NaN</td>\n",
       "      <td>NO</td>\n",
       "      <td>0.0</td>\n",
       "      <td>MH04ED820</td>\n",
       "      <td>0.0</td>\n",
       "      <td>0.0</td>\n",
       "      <td>0.0</td>\n",
       "      <td>0.0</td>\n",
       "      <td>NaN</td>\n",
       "      <td>0.0</td>\n",
       "      <td>dayanand</td>\n",
       "      <td>2507.68</td>\n",
       "      <td>0.0</td>\n",
       "      <td>0.0</td>\n",
       "      <td>0.0</td>\n",
       "      <td>0.0</td>\n",
       "      <td>2507.68</td>\n",
       "      <td>BC01SA1</td>\n",
       "    </tr>\n",
       "    <tr>\n",
       "      <th>13</th>\n",
       "      <td>13</td>\n",
       "      <td>0.0</td>\n",
       "      <td>0.0</td>\n",
       "      <td>OPP.LOKPURAM</td>\n",
       "      <td>0.0</td>\n",
       "      <td>0.0</td>\n",
       "      <td>0.0</td>\n",
       "      <td>0.0</td>\n",
       "      <td>THANE-W</td>\n",
       "      <td>NaN</td>\n",
       "      <td>NaN</td>\n",
       "      <td>Retail</td>\n",
       "      <td>12481</td>\n",
       "      <td>Maharashtra</td>\n",
       "      <td>NaN</td>\n",
       "      <td>NaN</td>\n",
       "      <td>00:00:00</td>\n",
       "      <td>0.0</td>\n",
       "      <td>0.0</td>\n",
       "      <td>0.0</td>\n",
       "      <td>0.0</td>\n",
       "      <td>NaN</td>\n",
       "      <td>2015-01-03</td>\n",
       "      <td>7005200015</td>\n",
       "      <td>17:19:24</td>\n",
       "      <td>174293</td>\n",
       "      <td>2015-01-03</td>\n",
       "      <td>12:36:43</td>\n",
       "      <td>10729</td>\n",
       "      <td>0.00</td>\n",
       "      <td>HYUNDAI</td>\n",
       "      <td>0.00</td>\n",
       "      <td>I10</td>\n",
       "      <td>7.005200e+09</td>\n",
       "      <td>744.04</td>\n",
       "      <td>Running Repairs</td>\n",
       "      <td>0.0</td>\n",
       "      <td>0.00</td>\n",
       "      <td>400607</td>\n",
       "      <td>BC01</td>\n",
       "      <td>THANE</td>\n",
       "      <td>NaN</td>\n",
       "      <td>NO</td>\n",
       "      <td>0.0</td>\n",
       "      <td>MH04FR3603</td>\n",
       "      <td>0.0</td>\n",
       "      <td>0.0</td>\n",
       "      <td>0.0</td>\n",
       "      <td>0.0</td>\n",
       "      <td>NaN</td>\n",
       "      <td>0.0</td>\n",
       "      <td>ALLHAUDIN</td>\n",
       "      <td>744.04</td>\n",
       "      <td>0.0</td>\n",
       "      <td>0.0</td>\n",
       "      <td>0.0</td>\n",
       "      <td>0.0</td>\n",
       "      <td>744.04</td>\n",
       "      <td>BC01SA2</td>\n",
       "    </tr>\n",
       "    <tr>\n",
       "      <th>14</th>\n",
       "      <td>14</td>\n",
       "      <td>0.0</td>\n",
       "      <td>0.0</td>\n",
       "      <td>THANE</td>\n",
       "      <td>0.0</td>\n",
       "      <td>0.0</td>\n",
       "      <td>0.0</td>\n",
       "      <td>0.0</td>\n",
       "      <td>THANE</td>\n",
       "      <td>NaN</td>\n",
       "      <td>NaN</td>\n",
       "      <td>Retail</td>\n",
       "      <td>84629</td>\n",
       "      <td>Maharashtra</td>\n",
       "      <td>NaN</td>\n",
       "      <td>NaN</td>\n",
       "      <td>00:00:00</td>\n",
       "      <td>0.0</td>\n",
       "      <td>0.0</td>\n",
       "      <td>0.0</td>\n",
       "      <td>0.0</td>\n",
       "      <td>NaN</td>\n",
       "      <td>2015-01-03</td>\n",
       "      <td>7005200016</td>\n",
       "      <td>17:21:43</td>\n",
       "      <td>174403</td>\n",
       "      <td>2015-01-03</td>\n",
       "      <td>15:19:57</td>\n",
       "      <td>74156</td>\n",
       "      <td>0.00</td>\n",
       "      <td>HYUNDAI</td>\n",
       "      <td>0.00</td>\n",
       "      <td>I10</td>\n",
       "      <td>7.005200e+09</td>\n",
       "      <td>755.56</td>\n",
       "      <td>Running Repairs</td>\n",
       "      <td>0.0</td>\n",
       "      <td>0.00</td>\n",
       "      <td>400603</td>\n",
       "      <td>BC01</td>\n",
       "      <td>THANE</td>\n",
       "      <td>NaN</td>\n",
       "      <td>NO</td>\n",
       "      <td>0.0</td>\n",
       "      <td>MH04AF2323</td>\n",
       "      <td>0.0</td>\n",
       "      <td>0.0</td>\n",
       "      <td>0.0</td>\n",
       "      <td>0.0</td>\n",
       "      <td>NaN</td>\n",
       "      <td>0.0</td>\n",
       "      <td>RUPESH</td>\n",
       "      <td>755.56</td>\n",
       "      <td>0.0</td>\n",
       "      <td>0.0</td>\n",
       "      <td>0.0</td>\n",
       "      <td>0.0</td>\n",
       "      <td>755.56</td>\n",
       "      <td>BC01SA2</td>\n",
       "    </tr>\n",
       "    <tr>\n",
       "      <th>15</th>\n",
       "      <td>15</td>\n",
       "      <td>0.0</td>\n",
       "      <td>0.0</td>\n",
       "      <td>G.B.ROAD</td>\n",
       "      <td>0.0</td>\n",
       "      <td>0.0</td>\n",
       "      <td>0.0</td>\n",
       "      <td>0.0</td>\n",
       "      <td>THANE</td>\n",
       "      <td>NaN</td>\n",
       "      <td>NaN</td>\n",
       "      <td>Retail</td>\n",
       "      <td>52385</td>\n",
       "      <td>Maharashtra</td>\n",
       "      <td>NaN</td>\n",
       "      <td>NaN</td>\n",
       "      <td>00:00:00</td>\n",
       "      <td>0.0</td>\n",
       "      <td>0.0</td>\n",
       "      <td>0.0</td>\n",
       "      <td>0.0</td>\n",
       "      <td>NaN</td>\n",
       "      <td>2015-01-03</td>\n",
       "      <td>7005200017</td>\n",
       "      <td>18:25:57</td>\n",
       "      <td>174154</td>\n",
       "      <td>2015-01-03</td>\n",
       "      <td>10:03:35</td>\n",
       "      <td>83467</td>\n",
       "      <td>1506.08</td>\n",
       "      <td>TATA MOTORS</td>\n",
       "      <td>100.01</td>\n",
       "      <td>VISTA</td>\n",
       "      <td>7.005200e+09</td>\n",
       "      <td>500.03</td>\n",
       "      <td>Paid Service</td>\n",
       "      <td>0.0</td>\n",
       "      <td>2031.63</td>\n",
       "      <td>400607</td>\n",
       "      <td>BC01</td>\n",
       "      <td>THANE</td>\n",
       "      <td>NaN</td>\n",
       "      <td>NO</td>\n",
       "      <td>0.0</td>\n",
       "      <td>MH05AX2023</td>\n",
       "      <td>0.0</td>\n",
       "      <td>0.0</td>\n",
       "      <td>0.0</td>\n",
       "      <td>0.0</td>\n",
       "      <td>NaN</td>\n",
       "      <td>0.0</td>\n",
       "      <td>HARSHAD</td>\n",
       "      <td>4137.75</td>\n",
       "      <td>0.0</td>\n",
       "      <td>0.0</td>\n",
       "      <td>0.0</td>\n",
       "      <td>0.0</td>\n",
       "      <td>4137.75</td>\n",
       "      <td>BC01SA2</td>\n",
       "    </tr>\n",
       "    <tr>\n",
       "      <th>16</th>\n",
       "      <td>16</td>\n",
       "      <td>0.0</td>\n",
       "      <td>0.0</td>\n",
       "      <td>THANE</td>\n",
       "      <td>0.0</td>\n",
       "      <td>0.0</td>\n",
       "      <td>0.0</td>\n",
       "      <td>0.0</td>\n",
       "      <td>THANE</td>\n",
       "      <td>NaN</td>\n",
       "      <td>NaN</td>\n",
       "      <td>Retail</td>\n",
       "      <td>84371</td>\n",
       "      <td>Maharashtra</td>\n",
       "      <td>NaN</td>\n",
       "      <td>NaN</td>\n",
       "      <td>00:00:00</td>\n",
       "      <td>0.0</td>\n",
       "      <td>0.0</td>\n",
       "      <td>0.0</td>\n",
       "      <td>0.0</td>\n",
       "      <td>NaN</td>\n",
       "      <td>2015-01-03</td>\n",
       "      <td>7005200018</td>\n",
       "      <td>18:31:39</td>\n",
       "      <td>173917</td>\n",
       "      <td>2015-01-02</td>\n",
       "      <td>11:51:34</td>\n",
       "      <td>109448</td>\n",
       "      <td>1142.90</td>\n",
       "      <td>MARUTI SUZUKI</td>\n",
       "      <td>99.99</td>\n",
       "      <td>SWIFT DZIRE</td>\n",
       "      <td>7.005200e+09</td>\n",
       "      <td>0.00</td>\n",
       "      <td>Paid Service</td>\n",
       "      <td>0.0</td>\n",
       "      <td>3307.05</td>\n",
       "      <td>401203</td>\n",
       "      <td>BC01</td>\n",
       "      <td>THANE</td>\n",
       "      <td>NaN</td>\n",
       "      <td>NO</td>\n",
       "      <td>0.0</td>\n",
       "      <td>MH04EF5050</td>\n",
       "      <td>0.0</td>\n",
       "      <td>0.0</td>\n",
       "      <td>0.0</td>\n",
       "      <td>0.0</td>\n",
       "      <td>NaN</td>\n",
       "      <td>0.0</td>\n",
       "      <td>RUPESH</td>\n",
       "      <td>4549.94</td>\n",
       "      <td>0.0</td>\n",
       "      <td>0.0</td>\n",
       "      <td>0.0</td>\n",
       "      <td>0.0</td>\n",
       "      <td>4549.94</td>\n",
       "      <td>BC01SA2</td>\n",
       "    </tr>\n",
       "    <tr>\n",
       "      <th>17</th>\n",
       "      <td>17</td>\n",
       "      <td>0.0</td>\n",
       "      <td>0.0</td>\n",
       "      <td>THANE</td>\n",
       "      <td>0.0</td>\n",
       "      <td>0.0</td>\n",
       "      <td>0.0</td>\n",
       "      <td>0.0</td>\n",
       "      <td>THANE[W]</td>\n",
       "      <td>NaN</td>\n",
       "      <td>NaN</td>\n",
       "      <td>Retail</td>\n",
       "      <td>56291</td>\n",
       "      <td>Maharashtra</td>\n",
       "      <td>NaN</td>\n",
       "      <td>NaN</td>\n",
       "      <td>00:00:00</td>\n",
       "      <td>0.0</td>\n",
       "      <td>0.0</td>\n",
       "      <td>0.0</td>\n",
       "      <td>0.0</td>\n",
       "      <td>NaN</td>\n",
       "      <td>2015-01-03</td>\n",
       "      <td>7005200019</td>\n",
       "      <td>18:40:48</td>\n",
       "      <td>174282</td>\n",
       "      <td>2015-01-03</td>\n",
       "      <td>12:14:23</td>\n",
       "      <td>24237</td>\n",
       "      <td>598.92</td>\n",
       "      <td>MARUTI SUZUKI</td>\n",
       "      <td>0.00</td>\n",
       "      <td>ALTO</td>\n",
       "      <td>7.005200e+09</td>\n",
       "      <td>499.94</td>\n",
       "      <td>Paid Service</td>\n",
       "      <td>0.0</td>\n",
       "      <td>1020.70</td>\n",
       "      <td>400607</td>\n",
       "      <td>BC01</td>\n",
       "      <td>THANE</td>\n",
       "      <td>NaN</td>\n",
       "      <td>NO</td>\n",
       "      <td>0.0</td>\n",
       "      <td>MH03AR655</td>\n",
       "      <td>0.0</td>\n",
       "      <td>0.0</td>\n",
       "      <td>0.0</td>\n",
       "      <td>0.0</td>\n",
       "      <td>NaN</td>\n",
       "      <td>0.0</td>\n",
       "      <td>DAYANAND</td>\n",
       "      <td>2119.56</td>\n",
       "      <td>0.0</td>\n",
       "      <td>0.0</td>\n",
       "      <td>0.0</td>\n",
       "      <td>0.0</td>\n",
       "      <td>2119.56</td>\n",
       "      <td>BC01SA2</td>\n",
       "    </tr>\n",
       "    <tr>\n",
       "      <th>18</th>\n",
       "      <td>18</td>\n",
       "      <td>0.0</td>\n",
       "      <td>0.0</td>\n",
       "      <td>THANE</td>\n",
       "      <td>0.0</td>\n",
       "      <td>0.0</td>\n",
       "      <td>0.0</td>\n",
       "      <td>0.0</td>\n",
       "      <td>THANE</td>\n",
       "      <td>NaN</td>\n",
       "      <td>NaN</td>\n",
       "      <td>Retail</td>\n",
       "      <td>8174</td>\n",
       "      <td>Maharashtra</td>\n",
       "      <td>NaN</td>\n",
       "      <td>NaN</td>\n",
       "      <td>00:00:00</td>\n",
       "      <td>0.0</td>\n",
       "      <td>0.0</td>\n",
       "      <td>0.0</td>\n",
       "      <td>0.0</td>\n",
       "      <td>NaN</td>\n",
       "      <td>2015-01-03</td>\n",
       "      <td>7005200020</td>\n",
       "      <td>19:03:34</td>\n",
       "      <td>174083</td>\n",
       "      <td>2015-01-02</td>\n",
       "      <td>16:19:06</td>\n",
       "      <td>77861</td>\n",
       "      <td>1302.79</td>\n",
       "      <td>GENERAL MOTORS</td>\n",
       "      <td>99.98</td>\n",
       "      <td>AVEO</td>\n",
       "      <td>7.005200e+09</td>\n",
       "      <td>0.00</td>\n",
       "      <td>Running Repairs</td>\n",
       "      <td>0.0</td>\n",
       "      <td>1546.47</td>\n",
       "      <td>400606</td>\n",
       "      <td>BC01</td>\n",
       "      <td>THANE</td>\n",
       "      <td>NaN</td>\n",
       "      <td>NO</td>\n",
       "      <td>0.0</td>\n",
       "      <td>MH04DF3535</td>\n",
       "      <td>0.0</td>\n",
       "      <td>0.0</td>\n",
       "      <td>0.0</td>\n",
       "      <td>0.0</td>\n",
       "      <td>NaN</td>\n",
       "      <td>0.0</td>\n",
       "      <td>HARSHAD</td>\n",
       "      <td>2949.24</td>\n",
       "      <td>0.0</td>\n",
       "      <td>0.0</td>\n",
       "      <td>0.0</td>\n",
       "      <td>0.0</td>\n",
       "      <td>2949.24</td>\n",
       "      <td>BC01SA2</td>\n",
       "    </tr>\n",
       "    <tr>\n",
       "      <th>19</th>\n",
       "      <td>19</td>\n",
       "      <td>0.0</td>\n",
       "      <td>0.0</td>\n",
       "      <td>THANE</td>\n",
       "      <td>0.0</td>\n",
       "      <td>0.0</td>\n",
       "      <td>0.0</td>\n",
       "      <td>0.0</td>\n",
       "      <td>THANE[W]</td>\n",
       "      <td>NaN</td>\n",
       "      <td>NaN</td>\n",
       "      <td>Retail</td>\n",
       "      <td>84587</td>\n",
       "      <td>Maharashtra</td>\n",
       "      <td>NaN</td>\n",
       "      <td>NaN</td>\n",
       "      <td>00:00:00</td>\n",
       "      <td>0.0</td>\n",
       "      <td>0.0</td>\n",
       "      <td>0.0</td>\n",
       "      <td>0.0</td>\n",
       "      <td>NaN</td>\n",
       "      <td>2015-01-03</td>\n",
       "      <td>7005200021</td>\n",
       "      <td>19:28:15</td>\n",
       "      <td>174307</td>\n",
       "      <td>2015-01-03</td>\n",
       "      <td>12:58:44</td>\n",
       "      <td>36595</td>\n",
       "      <td>0.00</td>\n",
       "      <td>GENERAL MOTORS</td>\n",
       "      <td>0.00</td>\n",
       "      <td>SPARK</td>\n",
       "      <td>7.005200e+09</td>\n",
       "      <td>647.90</td>\n",
       "      <td>Running Repairs</td>\n",
       "      <td>0.0</td>\n",
       "      <td>0.00</td>\n",
       "      <td>400607</td>\n",
       "      <td>BC01</td>\n",
       "      <td>THANE</td>\n",
       "      <td>NaN</td>\n",
       "      <td>NO</td>\n",
       "      <td>0.0</td>\n",
       "      <td>MH04EF7653</td>\n",
       "      <td>0.0</td>\n",
       "      <td>0.0</td>\n",
       "      <td>0.0</td>\n",
       "      <td>0.0</td>\n",
       "      <td>NaN</td>\n",
       "      <td>0.0</td>\n",
       "      <td>HARSHAD</td>\n",
       "      <td>647.90</td>\n",
       "      <td>0.0</td>\n",
       "      <td>0.0</td>\n",
       "      <td>0.0</td>\n",
       "      <td>0.0</td>\n",
       "      <td>647.90</td>\n",
       "      <td>BC01SA1</td>\n",
       "    </tr>\n",
       "  </tbody>\n",
       "</table>\n",
       "</div>"
      ],
      "text/plain": [
       "    Unnamed: 0  Amt Rcvd From Custom  Amt Rcvd From Ins Co Area / Locality  \\\n",
       "0            0                   0.0                   0.0        MAJIWADA   \n",
       "1            1                   0.0                   0.0           THNAE   \n",
       "2            2                   0.0                   0.0           THANE   \n",
       "3            3                   0.0                   0.0           THNAE   \n",
       "4            4                   0.0                   0.0           THANE   \n",
       "5            5                   0.0                   0.0           THANE   \n",
       "6            6                   0.0                   0.0      THANE WEST   \n",
       "7            7                   0.0                   0.0       G.B. ROAD   \n",
       "8            8                   0.0                   0.0           THANE   \n",
       "9            9                   0.0                   0.0           THANE   \n",
       "10          10                   0.0                   0.0           THANE   \n",
       "11          11                   0.0                   0.0           THANE   \n",
       "12          12                   0.0                   0.0           THANE   \n",
       "13          13                   0.0                   0.0    OPP.LOKPURAM   \n",
       "14          14                   0.0                   0.0           THANE   \n",
       "15          15                   0.0                   0.0        G.B.ROAD   \n",
       "16          16                   0.0                   0.0           THANE   \n",
       "17          17                   0.0                   0.0           THANE   \n",
       "18          18                   0.0                   0.0           THANE   \n",
       "19          19                   0.0                   0.0           THANE   \n",
       "\n",
       "    CGST(14%)  CGST(2.5%)  CGST(6%)  CGST(9%)      CITY Cash /Cashless Type  \\\n",
       "0         0.0         0.0       0.0       0.0     Thane                 NaN   \n",
       "1         0.0         0.0       0.0       0.0     THNAE                 NaN   \n",
       "2         0.0         0.0       0.0       0.0  THANE[W]                 NaN   \n",
       "3         0.0         0.0       0.0       0.0     THNAE                 NaN   \n",
       "4         0.0         0.0       0.0       0.0     THANE                 NaN   \n",
       "5         0.0         0.0       0.0       0.0     THANE                 NaN   \n",
       "6         0.0         0.0       0.0       0.0     THANE                 NaN   \n",
       "7         0.0         0.0       0.0       0.0     THANE                 NaN   \n",
       "8         0.0         0.0       0.0       0.0  THANE[W]                 NaN   \n",
       "9         0.0         0.0       0.0       0.0     THANE                 NaN   \n",
       "10        0.0         0.0       0.0       0.0  THANE[E]                 NaN   \n",
       "11        0.0         0.0       0.0       0.0     THANE                 NaN   \n",
       "12        0.0         0.0       0.0       0.0     THANE                 NaN   \n",
       "13        0.0         0.0       0.0       0.0   THANE-W                 NaN   \n",
       "14        0.0         0.0       0.0       0.0     THANE                 NaN   \n",
       "15        0.0         0.0       0.0       0.0     THANE                 NaN   \n",
       "16        0.0         0.0       0.0       0.0     THANE                 NaN   \n",
       "17        0.0         0.0       0.0       0.0  THANE[W]                 NaN   \n",
       "18        0.0         0.0       0.0       0.0     THANE                 NaN   \n",
       "19        0.0         0.0       0.0       0.0  THANE[W]                 NaN   \n",
       "\n",
       "   Claim No. Cust Type Customer No.     District Expiry Date Gate Pass Date  \\\n",
       "0        NaN    Retail        67849  Maharashtra         NaN            NaN   \n",
       "1        NaN    Retail        84419  Maharashtra         NaN            NaN   \n",
       "2        NaN    Retail        81055  Maharashtra         NaN            NaN   \n",
       "3        NaN    Retail        84419  Maharashtra         NaN            NaN   \n",
       "4        NaN    Retail        18980  Maharashtra         NaN            NaN   \n",
       "5        NaN    Retail        84457  Maharashtra         NaN            NaN   \n",
       "6        NaN    Retail        12523  Maharashtra         NaN            NaN   \n",
       "7        NaN    Retail        55220  Maharashtra         NaN            NaN   \n",
       "8        NaN    Retail        84511  Maharashtra         NaN            NaN   \n",
       "9        NaN    Retail        84457  Maharashtra         NaN            NaN   \n",
       "10       NaN    Retail        41390  Maharashtra         NaN            NaN   \n",
       "11       NaN    Retail         7303  Maharashtra         NaN            NaN   \n",
       "12       NaN    Retail         7303  Maharashtra         NaN            NaN   \n",
       "13       NaN    Retail        12481  Maharashtra         NaN            NaN   \n",
       "14       NaN    Retail        84629  Maharashtra         NaN            NaN   \n",
       "15       NaN    Retail        52385  Maharashtra         NaN            NaN   \n",
       "16       NaN    Retail        84371  Maharashtra         NaN            NaN   \n",
       "17       NaN    Retail        56291  Maharashtra         NaN            NaN   \n",
       "18       NaN    Retail         8174  Maharashtra         NaN            NaN   \n",
       "19       NaN    Retail        84587  Maharashtra         NaN            NaN   \n",
       "\n",
       "   Gate Pass Time  IGST(12%)  IGST(18%)  IGST(28%)  IGST(5%)  \\\n",
       "0        00:00:00        0.0        0.0        0.0       0.0   \n",
       "1        00:00:00        0.0        0.0        0.0       0.0   \n",
       "2        00:00:00        0.0        0.0        0.0       0.0   \n",
       "3        00:00:00        0.0        0.0        0.0       0.0   \n",
       "4        00:00:00        0.0        0.0        0.0       0.0   \n",
       "5        00:00:00        0.0        0.0        0.0       0.0   \n",
       "6        00:00:00        0.0        0.0        0.0       0.0   \n",
       "7        00:00:00        0.0        0.0        0.0       0.0   \n",
       "8        00:00:00        0.0        0.0        0.0       0.0   \n",
       "9        00:00:00        0.0        0.0        0.0       0.0   \n",
       "10       00:00:00        0.0        0.0        0.0       0.0   \n",
       "11       00:00:00        0.0        0.0        0.0       0.0   \n",
       "12       00:00:00        0.0        0.0        0.0       0.0   \n",
       "13       00:00:00        0.0        0.0        0.0       0.0   \n",
       "14       00:00:00        0.0        0.0        0.0       0.0   \n",
       "15       00:00:00        0.0        0.0        0.0       0.0   \n",
       "16       00:00:00        0.0        0.0        0.0       0.0   \n",
       "17       00:00:00        0.0        0.0        0.0       0.0   \n",
       "18       00:00:00        0.0        0.0        0.0       0.0   \n",
       "19       00:00:00        0.0        0.0        0.0       0.0   \n",
       "\n",
       "   Insurance Company Invoice Date  Invoice No Invoice Time  Job Card No  \\\n",
       "0                NaN   2015-01-02  7005200002     11:30:36       168303   \n",
       "1                NaN   2015-01-03  7005200003     10:07:32       173997   \n",
       "2                NaN   2015-01-03  7005200004     11:12:57       173889   \n",
       "3                NaN   2015-01-03  7005200005     11:40:44       174158   \n",
       "4                NaN   2015-01-03  7005200006     12:07:17       173860   \n",
       "5                NaN   2015-01-03  7005200007     12:10:08       174053   \n",
       "6                NaN   2015-01-03  7005200008     12:12:31       173953   \n",
       "7                NaN   2015-01-03  7005200009     12:18:54       174254   \n",
       "8                NaN   2015-01-03  7005200010     13:07:27       174162   \n",
       "9                NaN   2015-01-03  7005200011     15:54:21       174203   \n",
       "10               NaN   2015-01-03  7005200012     16:05:30       174324   \n",
       "11               NaN   2015-01-03  7005200013     16:16:37       174145   \n",
       "12               NaN   2015-01-03  7005200014     16:17:46       174149   \n",
       "13               NaN   2015-01-03  7005200015     17:19:24       174293   \n",
       "14               NaN   2015-01-03  7005200016     17:21:43       174403   \n",
       "15               NaN   2015-01-03  7005200017     18:25:57       174154   \n",
       "16               NaN   2015-01-03  7005200018     18:31:39       173917   \n",
       "17               NaN   2015-01-03  7005200019     18:40:48       174282   \n",
       "18               NaN   2015-01-03  7005200020     19:03:34       174083   \n",
       "19               NaN   2015-01-03  7005200021     19:28:15       174307   \n",
       "\n",
       "   JobCard Date JobCard Time  KMs Reading  Labour Total            Make  \\\n",
       "0    2014-12-13     14:29:43        49317       1203.14  GENERAL MOTORS   \n",
       "1    2015-01-02     14:12:18        78584        804.26     TATA MOTORS   \n",
       "2    2015-01-02     11:40:44        33985        180.19   MARUTI SUZUKI   \n",
       "3    2015-01-03     10:12:32        78584          0.00     TATA MOTORS   \n",
       "4    2015-01-02     10:45:42        50057       1202.97         HYUNDAI   \n",
       "5    2015-01-02     15:15:10        13122          0.00          TOYOTA   \n",
       "6    2015-01-02     12:15:55        26964          0.00           HONDA   \n",
       "7    2015-01-03     12:02:32        12943          0.00   MARUTI SUZUKI   \n",
       "8    2015-01-03     10:21:26        18563          0.00     TATA MOTORS   \n",
       "9    2015-01-03     11:11:00         5443        698.92   MARUTI SUZUKI   \n",
       "10   2015-01-03     13:16:14         5635          0.00   MARUTI SUZUKI   \n",
       "11   2015-01-03     09:46:10        76114          0.00         HYUNDAI   \n",
       "12   2015-01-03     10:04:36        76114       1003.88         HYUNDAI   \n",
       "13   2015-01-03     12:36:43        10729          0.00         HYUNDAI   \n",
       "14   2015-01-03     15:19:57        74156          0.00         HYUNDAI   \n",
       "15   2015-01-03     10:03:35        83467       1506.08     TATA MOTORS   \n",
       "16   2015-01-02     11:51:34       109448       1142.90   MARUTI SUZUKI   \n",
       "17   2015-01-03     12:14:23        24237        598.92   MARUTI SUZUKI   \n",
       "18   2015-01-02     16:19:06        77861       1302.79  GENERAL MOTORS   \n",
       "19   2015-01-03     12:58:44        36595          0.00  GENERAL MOTORS   \n",
       "\n",
       "    Misc Total        Model       ODN No.  OSL Total         Order Type  \\\n",
       "0         0.00        SPARK  7.005200e+09     500.06       Paid Service   \n",
       "1       197.03       INDICA  7.005200e+09       0.00  SMC Value Package   \n",
       "2         0.00          ZEN  7.005200e+09       0.00    Running Repairs   \n",
       "3         0.00       INDICA  7.005200e+09       0.00     SMC Redemption   \n",
       "4       100.00  SANTRO XING  7.005200e+09     499.99       Paid Service   \n",
       "5         0.00       INNOVA  7.005200e+09     851.70    Running Repairs   \n",
       "6         0.00         CITY  7.005200e+09     749.42    Running Repairs   \n",
       "7         0.00  SWIFT DZIRE  7.005200e+09       0.00    Running Repairs   \n",
       "8         0.00       INDIGO  7.005200e+09       0.00    Running Repairs   \n",
       "9        49.99         ALTO  7.005200e+09     499.95       Paid Service   \n",
       "10        0.00       WAGONR  7.005200e+09       0.00     SMC Redemption   \n",
       "11        0.00       SANTRO  7.005200e+09       0.00     SMC Redemption   \n",
       "12       49.99       SANTRO  7.005200e+09     499.94    Running Repairs   \n",
       "13        0.00          I10  7.005200e+09     744.04    Running Repairs   \n",
       "14        0.00          I10  7.005200e+09     755.56    Running Repairs   \n",
       "15      100.01        VISTA  7.005200e+09     500.03       Paid Service   \n",
       "16       99.99  SWIFT DZIRE  7.005200e+09       0.00       Paid Service   \n",
       "17        0.00         ALTO  7.005200e+09     499.94       Paid Service   \n",
       "18       99.98         AVEO  7.005200e+09       0.00    Running Repairs   \n",
       "19        0.00        SPARK  7.005200e+09     647.90    Running Repairs   \n",
       "\n",
       "    Outstanding Amt  Parts Total  Pin code Plant Plant Name1 Policy no.  \\\n",
       "0               0.0      2348.75    400601  BC01       THANE        NaN   \n",
       "1               0.0         0.00    400603  BC01       THANE        NaN   \n",
       "2               0.0        52.95    400607  BC01       THANE        NaN   \n",
       "3               0.0         0.00    400603  BC01       THANE        NaN   \n",
       "4               0.0       944.16    400603  BC01       THANE        NaN   \n",
       "5               0.0        14.22    400603  BC01       THANE        NaN   \n",
       "6               0.0         0.00    400607  BC01       THANE        NaN   \n",
       "7               0.0         0.00    400606  BC01       THANE        NaN   \n",
       "8               0.0         0.00    400607  BC01       THANE        NaN   \n",
       "9               0.0      2663.75    400603  BC01       THANE        NaN   \n",
       "10              0.0         0.00    400601  BC01       THANE        NaN   \n",
       "11              0.0         0.00    400606  BC01       THANE        NaN   \n",
       "12              0.0       953.87    400606  BC01       THANE        NaN   \n",
       "13              0.0         0.00    400607  BC01       THANE        NaN   \n",
       "14              0.0         0.00    400603  BC01       THANE        NaN   \n",
       "15              0.0      2031.63    400607  BC01       THANE        NaN   \n",
       "16              0.0      3307.05    401203  BC01       THANE        NaN   \n",
       "17              0.0      1020.70    400607  BC01       THANE        NaN   \n",
       "18              0.0      1546.47    400606  BC01       THANE        NaN   \n",
       "19              0.0         0.00    400607  BC01       THANE        NaN   \n",
       "\n",
       "   Print Status  Recovrbl Exp     Regn No  SGST/UGST(14%)  SGST/UGST(2.5%)  \\\n",
       "0            NO           0.0  KA19MA1291             0.0              0.0   \n",
       "1            NO           0.0   MH43R3046             0.0              0.0   \n",
       "2            NO           0.0  AP09AX0582             0.0              0.0   \n",
       "3            NO           0.0   MH43R3046             0.0              0.0   \n",
       "4            NO           0.0  MH04CD9768             0.0              0.0   \n",
       "5            NO           0.0  MH04GM2960             0.0              0.0   \n",
       "6            NO           0.0  MH06AL1935             0.0              0.0   \n",
       "7            NO           0.0  MH04FR8641             0.0              0.0   \n",
       "8            NO           0.0   MH05BJ558             0.0              0.0   \n",
       "9            NO           0.0   GA07E3439             0.0              0.0   \n",
       "10           NO           0.0  MH04FR5880             0.0              0.0   \n",
       "11           NO           0.0   MH04ED820             0.0              0.0   \n",
       "12           NO           0.0   MH04ED820             0.0              0.0   \n",
       "13           NO           0.0  MH04FR3603             0.0              0.0   \n",
       "14           NO           0.0  MH04AF2323             0.0              0.0   \n",
       "15           NO           0.0  MH05AX2023             0.0              0.0   \n",
       "16           NO           0.0  MH04EF5050             0.0              0.0   \n",
       "17           NO           0.0   MH03AR655             0.0              0.0   \n",
       "18           NO           0.0  MH04DF3535             0.0              0.0   \n",
       "19           NO           0.0  MH04EF7653             0.0              0.0   \n",
       "\n",
       "    SGST/UGST(6%)  SGST/UGST(9%)  Service Advisor Name  TDS amount  \\\n",
       "0             0.0            0.0                   NaN         0.0   \n",
       "1             0.0            0.0                   NaN         0.0   \n",
       "2             0.0            0.0                   NaN         0.0   \n",
       "3             0.0            0.0                   NaN         0.0   \n",
       "4             0.0            0.0                   NaN         0.0   \n",
       "5             0.0            0.0                   NaN         0.0   \n",
       "6             0.0            0.0                   NaN         0.0   \n",
       "7             0.0            0.0                   NaN         0.0   \n",
       "8             0.0            0.0                   NaN         0.0   \n",
       "9             0.0            0.0                   NaN         0.0   \n",
       "10            0.0            0.0                   NaN         0.0   \n",
       "11            0.0            0.0                   NaN         0.0   \n",
       "12            0.0            0.0                   NaN         0.0   \n",
       "13            0.0            0.0                   NaN         0.0   \n",
       "14            0.0            0.0                   NaN         0.0   \n",
       "15            0.0            0.0                   NaN         0.0   \n",
       "16            0.0            0.0                   NaN         0.0   \n",
       "17            0.0            0.0                   NaN         0.0   \n",
       "18            0.0            0.0                   NaN         0.0   \n",
       "19            0.0            0.0                   NaN         0.0   \n",
       "\n",
       "   Technician Name  Total Amt Wtd Tax.  Total CGST  Total GST  Total IGST  \\\n",
       "0           RUPESH             4051.95         0.0        0.0         0.0   \n",
       "1         PRASHANT             1001.29         0.0        0.0         0.0   \n",
       "2            IMRAN              233.14         0.0        0.0         0.0   \n",
       "3         PRASHANT                0.00         0.0        0.0         0.0   \n",
       "4         DAYANAND             2747.12         0.0        0.0         0.0   \n",
       "5         DAYANAND              865.92         0.0        0.0         0.0   \n",
       "6         PRASHANT              749.42         0.0        0.0         0.0   \n",
       "7           SAMEER                0.00         0.0        0.0         0.0   \n",
       "8          HARSHAD                0.00         0.0        0.0         0.0   \n",
       "9         DAYANAND             3912.61         0.0        0.0         0.0   \n",
       "10        DAYANAND                0.00         0.0        0.0         0.0   \n",
       "11          RAJESH                0.00         0.0        0.0         0.0   \n",
       "12        dayanand             2507.68         0.0        0.0         0.0   \n",
       "13       ALLHAUDIN              744.04         0.0        0.0         0.0   \n",
       "14          RUPESH              755.56         0.0        0.0         0.0   \n",
       "15         HARSHAD             4137.75         0.0        0.0         0.0   \n",
       "16          RUPESH             4549.94         0.0        0.0         0.0   \n",
       "17        DAYANAND             2119.56         0.0        0.0         0.0   \n",
       "18         HARSHAD             2949.24         0.0        0.0         0.0   \n",
       "19         HARSHAD              647.90         0.0        0.0         0.0   \n",
       "\n",
       "    Total SGST/UGST  Total Value  User ID  \n",
       "0               0.0      4051.95  BC01FS1  \n",
       "1               0.0      1001.29  BC01SA2  \n",
       "2               0.0       233.14  BC01SA2  \n",
       "3               0.0         0.00  BC01SA2  \n",
       "4               0.0      2747.12  BC01SA2  \n",
       "5               0.0       865.92  BC01SA2  \n",
       "6               0.0       749.42  BC01SA2  \n",
       "7               0.0         0.00  BC01SA2  \n",
       "8               0.0         0.00  BC01SA1  \n",
       "9               0.0      3912.61  BC01SA1  \n",
       "10              0.0         0.00  BC01SA2  \n",
       "11              0.0         0.00  BC01SA1  \n",
       "12              0.0      2507.68  BC01SA1  \n",
       "13              0.0       744.04  BC01SA2  \n",
       "14              0.0       755.56  BC01SA2  \n",
       "15              0.0      4137.75  BC01SA2  \n",
       "16              0.0      4549.94  BC01SA2  \n",
       "17              0.0      2119.56  BC01SA2  \n",
       "18              0.0      2949.24  BC01SA2  \n",
       "19              0.0       647.90  BC01SA1  "
      ]
     },
     "execution_count": 5,
     "metadata": {},
     "output_type": "execute_result"
    }
   ],
   "source": [
    "# Reading the first 20 rows of Final_invoice data set\n",
    "Final_invoice.head(20)"
   ]
  },
  {
   "cell_type": "code",
   "execution_count": 6,
   "metadata": {},
   "outputs": [
    {
     "data": {
      "text/html": [
       "<div>\n",
       "<style scoped>\n",
       "    .dataframe tbody tr th:only-of-type {\n",
       "        vertical-align: middle;\n",
       "    }\n",
       "\n",
       "    .dataframe tbody tr th {\n",
       "        vertical-align: top;\n",
       "    }\n",
       "\n",
       "    .dataframe thead th {\n",
       "        text-align: right;\n",
       "    }\n",
       "</style>\n",
       "<table border=\"1\" class=\"dataframe\">\n",
       "  <thead>\n",
       "    <tr style=\"text-align: right;\">\n",
       "      <th></th>\n",
       "      <th>Unnamed: 0</th>\n",
       "      <th>DBM Order</th>\n",
       "      <th>Order Item</th>\n",
       "      <th>Material</th>\n",
       "      <th>Labor Value Number</th>\n",
       "      <th>Description</th>\n",
       "      <th>Item Category</th>\n",
       "      <th>Order Quantity</th>\n",
       "      <th>Target quantity UoM</th>\n",
       "      <th>Net value</th>\n",
       "    </tr>\n",
       "  </thead>\n",
       "  <tbody>\n",
       "    <tr>\n",
       "      <th>0</th>\n",
       "      <td>0</td>\n",
       "      <td>22385</td>\n",
       "      <td>180</td>\n",
       "      <td>OSLCC_SRV31</td>\n",
       "      <td>NaN</td>\n",
       "      <td>MACHINING RR.SUSPENSION CHARGE  (MAJOR)</td>\n",
       "      <td>P010</td>\n",
       "      <td>1.2</td>\n",
       "      <td>MIN</td>\n",
       "      <td>1869.87</td>\n",
       "    </tr>\n",
       "    <tr>\n",
       "      <th>1</th>\n",
       "      <td>1</td>\n",
       "      <td>23910</td>\n",
       "      <td>10</td>\n",
       "      <td>1DM279018170117</td>\n",
       "      <td>NaN</td>\n",
       "      <td>ASSY.OIL COOLER (6-PLATE) (VOR</td>\n",
       "      <td>P002</td>\n",
       "      <td>1.0</td>\n",
       "      <td>EA</td>\n",
       "      <td>2151.13</td>\n",
       "    </tr>\n",
       "    <tr>\n",
       "      <th>2</th>\n",
       "      <td>2</td>\n",
       "      <td>23910</td>\n",
       "      <td>40</td>\n",
       "      <td>1IS150203BE01</td>\n",
       "      <td>NaN</td>\n",
       "      <td>FRONT WHEEL BEARING/ LUBRICATE</td>\n",
       "      <td>P002</td>\n",
       "      <td>1.0</td>\n",
       "      <td>EA</td>\n",
       "      <td>2552.92</td>\n",
       "    </tr>\n",
       "    <tr>\n",
       "      <th>3</th>\n",
       "      <td>3</td>\n",
       "      <td>23910</td>\n",
       "      <td>60</td>\n",
       "      <td>1DM279001990173</td>\n",
       "      <td>NaN</td>\n",
       "      <td>ASSY.CYL.HEAD W /O INJ.(NA W /O</td>\n",
       "      <td>P002</td>\n",
       "      <td>1.0</td>\n",
       "      <td>EA</td>\n",
       "      <td>20360.14</td>\n",
       "    </tr>\n",
       "    <tr>\n",
       "      <th>4</th>\n",
       "      <td>4</td>\n",
       "      <td>23910</td>\n",
       "      <td>70</td>\n",
       "      <td>1DM88552790S001SA</td>\n",
       "      <td>NaN</td>\n",
       "      <td>Engine Overhaul Kit -Indica Di</td>\n",
       "      <td>P002</td>\n",
       "      <td>1.0</td>\n",
       "      <td>EA</td>\n",
       "      <td>10691.63</td>\n",
       "    </tr>\n",
       "    <tr>\n",
       "      <th>5</th>\n",
       "      <td>5</td>\n",
       "      <td>23910</td>\n",
       "      <td>80</td>\n",
       "      <td>1DS030401EN129</td>\n",
       "      <td>NaN</td>\n",
       "      <td>CYLINDER LINER</td>\n",
       "      <td>P002</td>\n",
       "      <td>1.0</td>\n",
       "      <td>EA</td>\n",
       "      <td>1155.56</td>\n",
       "    </tr>\n",
       "    <tr>\n",
       "      <th>6</th>\n",
       "      <td>6</td>\n",
       "      <td>23910</td>\n",
       "      <td>90</td>\n",
       "      <td>1DM279001150156</td>\n",
       "      <td>NaN</td>\n",
       "      <td>824.72 SY.CYL.HEAD COVER-PLAS</td>\n",
       "      <td>P002</td>\n",
       "      <td>1.0</td>\n",
       "      <td>EA</td>\n",
       "      <td>1827.57</td>\n",
       "    </tr>\n",
       "    <tr>\n",
       "      <th>7</th>\n",
       "      <td>7</td>\n",
       "      <td>23910</td>\n",
       "      <td>100</td>\n",
       "      <td>OSLCC_SRV33</td>\n",
       "      <td>NaN</td>\n",
       "      <td>MACHINING CYLINDER HEAD  (DIESEL)</td>\n",
       "      <td>P010</td>\n",
       "      <td>1.0</td>\n",
       "      <td>MIN</td>\n",
       "      <td>3379.98</td>\n",
       "    </tr>\n",
       "    <tr>\n",
       "      <th>8</th>\n",
       "      <td>8</td>\n",
       "      <td>23910</td>\n",
       "      <td>110</td>\n",
       "      <td>OSLCC_SRV34</td>\n",
       "      <td>NaN</td>\n",
       "      <td>MACHINING CYLINDER BLOCK  (DIESEL)</td>\n",
       "      <td>P010</td>\n",
       "      <td>1.0</td>\n",
       "      <td>MIN</td>\n",
       "      <td>5880.97</td>\n",
       "    </tr>\n",
       "    <tr>\n",
       "      <th>9</th>\n",
       "      <td>9</td>\n",
       "      <td>23910</td>\n",
       "      <td>120</td>\n",
       "      <td>RECO001</td>\n",
       "      <td>NaN</td>\n",
       "      <td>MISC_RECOVERABLE CHARGES</td>\n",
       "      <td>P011</td>\n",
       "      <td>1.0</td>\n",
       "      <td>MIN</td>\n",
       "      <td>1099.99</td>\n",
       "    </tr>\n",
       "    <tr>\n",
       "      <th>10</th>\n",
       "      <td>10</td>\n",
       "      <td>23910</td>\n",
       "      <td>130</td>\n",
       "      <td>1DM279050100157</td>\n",
       "      <td>NaN</td>\n",
       "      <td>ASSY.AUXILLIARY WATER TANK (EN</td>\n",
       "      <td>P002</td>\n",
       "      <td>1.0</td>\n",
       "      <td>EA</td>\n",
       "      <td>509.34</td>\n",
       "    </tr>\n",
       "    <tr>\n",
       "      <th>11</th>\n",
       "      <td>11</td>\n",
       "      <td>23910</td>\n",
       "      <td>140</td>\n",
       "      <td>1DS030200EL199</td>\n",
       "      <td>NaN</td>\n",
       "      <td>GLOW PLUG KIT</td>\n",
       "      <td>P002</td>\n",
       "      <td>1.0</td>\n",
       "      <td>EA</td>\n",
       "      <td>1728.91</td>\n",
       "    </tr>\n",
       "    <tr>\n",
       "      <th>12</th>\n",
       "      <td>12</td>\n",
       "      <td>23910</td>\n",
       "      <td>150</td>\n",
       "      <td>1DMG885526900003</td>\n",
       "      <td>NaN</td>\n",
       "      <td>GEAR SHIFT LINKAGE BUSH KIT (</td>\n",
       "      <td>P002</td>\n",
       "      <td>1.0</td>\n",
       "      <td>EA</td>\n",
       "      <td>146.67</td>\n",
       "    </tr>\n",
       "    <tr>\n",
       "      <th>13</th>\n",
       "      <td>13</td>\n",
       "      <td>23910</td>\n",
       "      <td>160</td>\n",
       "      <td>1DS030100EN22</td>\n",
       "      <td>NaN</td>\n",
       "      <td>WATER PUMP</td>\n",
       "      <td>P002</td>\n",
       "      <td>1.0</td>\n",
       "      <td>EA</td>\n",
       "      <td>866.67</td>\n",
       "    </tr>\n",
       "    <tr>\n",
       "      <th>14</th>\n",
       "      <td>14</td>\n",
       "      <td>30485</td>\n",
       "      <td>10</td>\n",
       "      <td>1ES120100EN174</td>\n",
       "      <td>NaN</td>\n",
       "      <td>COOLANT TANK</td>\n",
       "      <td>P002</td>\n",
       "      <td>1.0</td>\n",
       "      <td>EA</td>\n",
       "      <td>4890.46</td>\n",
       "    </tr>\n",
       "    <tr>\n",
       "      <th>15</th>\n",
       "      <td>15</td>\n",
       "      <td>30485</td>\n",
       "      <td>20</td>\n",
       "      <td>1ES120100EN180</td>\n",
       "      <td>NaN</td>\n",
       "      <td>COOLANT CAP</td>\n",
       "      <td>P002</td>\n",
       "      <td>1.0</td>\n",
       "      <td>EA</td>\n",
       "      <td>479.45</td>\n",
       "    </tr>\n",
       "    <tr>\n",
       "      <th>16</th>\n",
       "      <td>16</td>\n",
       "      <td>30485</td>\n",
       "      <td>30</td>\n",
       "      <td>1ES120401ST26</td>\n",
       "      <td>NaN</td>\n",
       "      <td>BOOT</td>\n",
       "      <td>P002</td>\n",
       "      <td>2.0</td>\n",
       "      <td>EA</td>\n",
       "      <td>838.37</td>\n",
       "    </tr>\n",
       "    <tr>\n",
       "      <th>17</th>\n",
       "      <td>17</td>\n",
       "      <td>30485</td>\n",
       "      <td>40</td>\n",
       "      <td>1ES120100CL01</td>\n",
       "      <td>NaN</td>\n",
       "      <td>CLUTCH KIT</td>\n",
       "      <td>P002</td>\n",
       "      <td>1.0</td>\n",
       "      <td>EA</td>\n",
       "      <td>7438.74</td>\n",
       "    </tr>\n",
       "    <tr>\n",
       "      <th>18</th>\n",
       "      <td>18</td>\n",
       "      <td>30485</td>\n",
       "      <td>50</td>\n",
       "      <td>1ES120100CL26</td>\n",
       "      <td>NaN</td>\n",
       "      <td>CLUTCH RELEASE BRG</td>\n",
       "      <td>P002</td>\n",
       "      <td>1.0</td>\n",
       "      <td>EA</td>\n",
       "      <td>1439.19</td>\n",
       "    </tr>\n",
       "    <tr>\n",
       "      <th>19</th>\n",
       "      <td>19</td>\n",
       "      <td>30485</td>\n",
       "      <td>60</td>\n",
       "      <td>1ES120100EN21</td>\n",
       "      <td>NaN</td>\n",
       "      <td>VALVE</td>\n",
       "      <td>P002</td>\n",
       "      <td>1.0</td>\n",
       "      <td>EA</td>\n",
       "      <td>3090.60</td>\n",
       "    </tr>\n",
       "  </tbody>\n",
       "</table>\n",
       "</div>"
      ],
      "text/plain": [
       "    Unnamed: 0  DBM Order  Order Item           Material Labor Value Number  \\\n",
       "0            0      22385         180        OSLCC_SRV31                NaN   \n",
       "1            1      23910          10    1DM279018170117                NaN   \n",
       "2            2      23910          40      1IS150203BE01                NaN   \n",
       "3            3      23910          60    1DM279001990173                NaN   \n",
       "4            4      23910          70  1DM88552790S001SA                NaN   \n",
       "5            5      23910          80     1DS030401EN129                NaN   \n",
       "6            6      23910          90    1DM279001150156                NaN   \n",
       "7            7      23910         100        OSLCC_SRV33                NaN   \n",
       "8            8      23910         110        OSLCC_SRV34                NaN   \n",
       "9            9      23910         120            RECO001                NaN   \n",
       "10          10      23910         130    1DM279050100157                NaN   \n",
       "11          11      23910         140     1DS030200EL199                NaN   \n",
       "12          12      23910         150   1DMG885526900003                NaN   \n",
       "13          13      23910         160      1DS030100EN22                NaN   \n",
       "14          14      30485          10     1ES120100EN174                NaN   \n",
       "15          15      30485          20     1ES120100EN180                NaN   \n",
       "16          16      30485          30      1ES120401ST26                NaN   \n",
       "17          17      30485          40      1ES120100CL01                NaN   \n",
       "18          18      30485          50      1ES120100CL26                NaN   \n",
       "19          19      30485          60      1ES120100EN21                NaN   \n",
       "\n",
       "                                Description Item Category  Order Quantity  \\\n",
       "0   MACHINING RR.SUSPENSION CHARGE  (MAJOR)          P010             1.2   \n",
       "1            ASSY.OIL COOLER (6-PLATE) (VOR          P002             1.0   \n",
       "2            FRONT WHEEL BEARING/ LUBRICATE          P002             1.0   \n",
       "3           ASSY.CYL.HEAD W /O INJ.(NA W /O          P002             1.0   \n",
       "4            Engine Overhaul Kit -Indica Di          P002             1.0   \n",
       "5                            CYLINDER LINER          P002             1.0   \n",
       "6             824.72 SY.CYL.HEAD COVER-PLAS          P002             1.0   \n",
       "7         MACHINING CYLINDER HEAD  (DIESEL)          P010             1.0   \n",
       "8        MACHINING CYLINDER BLOCK  (DIESEL)          P010             1.0   \n",
       "9                  MISC_RECOVERABLE CHARGES          P011             1.0   \n",
       "10           ASSY.AUXILLIARY WATER TANK (EN          P002             1.0   \n",
       "11                            GLOW PLUG KIT          P002             1.0   \n",
       "12            GEAR SHIFT LINKAGE BUSH KIT (          P002             1.0   \n",
       "13                               WATER PUMP          P002             1.0   \n",
       "14                             COOLANT TANK          P002             1.0   \n",
       "15                              COOLANT CAP          P002             1.0   \n",
       "16                                     BOOT          P002             2.0   \n",
       "17                               CLUTCH KIT          P002             1.0   \n",
       "18                       CLUTCH RELEASE BRG          P002             1.0   \n",
       "19                                    VALVE          P002             1.0   \n",
       "\n",
       "   Target quantity UoM  Net value  \n",
       "0                  MIN    1869.87  \n",
       "1                   EA    2151.13  \n",
       "2                   EA    2552.92  \n",
       "3                   EA   20360.14  \n",
       "4                   EA   10691.63  \n",
       "5                   EA    1155.56  \n",
       "6                   EA    1827.57  \n",
       "7                  MIN    3379.98  \n",
       "8                  MIN    5880.97  \n",
       "9                  MIN    1099.99  \n",
       "10                  EA     509.34  \n",
       "11                  EA    1728.91  \n",
       "12                  EA     146.67  \n",
       "13                  EA     866.67  \n",
       "14                  EA    4890.46  \n",
       "15                  EA     479.45  \n",
       "16                  EA     838.37  \n",
       "17                  EA    7438.74  \n",
       "18                  EA    1439.19  \n",
       "19                  EA    3090.60  "
      ]
     },
     "execution_count": 6,
     "metadata": {},
     "output_type": "execute_result"
    }
   ],
   "source": [
    "# Reading the first 20 rows of JTD data set\n",
    "JTD.head(20)"
   ]
  },
  {
   "cell_type": "code",
   "execution_count": 7,
   "metadata": {},
   "outputs": [
    {
     "data": {
      "text/html": [
       "<div>\n",
       "<style scoped>\n",
       "    .dataframe tbody tr th:only-of-type {\n",
       "        vertical-align: middle;\n",
       "    }\n",
       "\n",
       "    .dataframe tbody tr th {\n",
       "        vertical-align: top;\n",
       "    }\n",
       "\n",
       "    .dataframe thead th {\n",
       "        text-align: right;\n",
       "    }\n",
       "</style>\n",
       "<table border=\"1\" class=\"dataframe\">\n",
       "  <thead>\n",
       "    <tr style=\"text-align: right;\">\n",
       "      <th></th>\n",
       "      <th>Plant</th>\n",
       "      <th>Name 1</th>\n",
       "      <th>Valuation Area</th>\n",
       "      <th>Customer no. - plant</th>\n",
       "      <th>Vendor number plant</th>\n",
       "      <th>Factory calendar</th>\n",
       "      <th>Name 2</th>\n",
       "      <th>House number and street</th>\n",
       "      <th>PO Box</th>\n",
       "      <th>Postal Code</th>\n",
       "      <th>City</th>\n",
       "      <th>Sales organization</th>\n",
       "      <th>State</th>\n",
       "    </tr>\n",
       "  </thead>\n",
       "  <tbody>\n",
       "    <tr>\n",
       "      <th>0</th>\n",
       "      <td>BC07</td>\n",
       "      <td>NERKUNDRAM</td>\n",
       "      <td>BC07</td>\n",
       "      <td>PLBC07</td>\n",
       "      <td>PLBC07</td>\n",
       "      <td>IN</td>\n",
       "      <td>NaN</td>\n",
       "      <td>No.117 Poonamallee High Road,</td>\n",
       "      <td>600107.0</td>\n",
       "      <td>600107</td>\n",
       "      <td>Chennai</td>\n",
       "      <td>MFCS</td>\n",
       "      <td>Tamil Nadu</td>\n",
       "    </tr>\n",
       "    <tr>\n",
       "      <th>1</th>\n",
       "      <td>BC30</td>\n",
       "      <td>SAS NAGAR - MOHALI</td>\n",
       "      <td>BC30</td>\n",
       "      <td>PLBC30</td>\n",
       "      <td>PLBC30</td>\n",
       "      <td>IN</td>\n",
       "      <td>NaN</td>\n",
       "      <td>C-118, Phase 07,</td>\n",
       "      <td>160055.0</td>\n",
       "      <td>160055</td>\n",
       "      <td>Mohali</td>\n",
       "      <td>MFCS</td>\n",
       "      <td>Punjab</td>\n",
       "    </tr>\n",
       "    <tr>\n",
       "      <th>2</th>\n",
       "      <td>X001</td>\n",
       "      <td>X001 - AUTO PLANET WHEELS</td>\n",
       "      <td>X001</td>\n",
       "      <td>PLX001</td>\n",
       "      <td>NaN</td>\n",
       "      <td>IN</td>\n",
       "      <td>Thane</td>\n",
       "      <td>Unit No.3, Kothari Compound,</td>\n",
       "      <td>400610.0</td>\n",
       "      <td>400610</td>\n",
       "      <td>Thane</td>\n",
       "      <td>MFCA</td>\n",
       "      <td>Maharashtra</td>\n",
       "    </tr>\n",
       "    <tr>\n",
       "      <th>3</th>\n",
       "      <td>X002</td>\n",
       "      <td>X002 - BHANDARI INDUSTRIES PVT</td>\n",
       "      <td>X002</td>\n",
       "      <td>PLX002</td>\n",
       "      <td>NaN</td>\n",
       "      <td>IN</td>\n",
       "      <td>Ghaziabad</td>\n",
       "      <td>18/1, C Site 4, Sahibabad</td>\n",
       "      <td>201010.0</td>\n",
       "      <td>201010</td>\n",
       "      <td>Ghaziabad</td>\n",
       "      <td>MFCA</td>\n",
       "      <td>Uttar Pradesh</td>\n",
       "    </tr>\n",
       "    <tr>\n",
       "      <th>4</th>\n",
       "      <td>X003</td>\n",
       "      <td>X003 - Om Sri Satya Sai Automo</td>\n",
       "      <td>X003</td>\n",
       "      <td>PLX003</td>\n",
       "      <td>NaN</td>\n",
       "      <td>IN</td>\n",
       "      <td>Bengaluru</td>\n",
       "      <td>#75, Sy.No. 83/2, Panathur Mai</td>\n",
       "      <td>560087.0</td>\n",
       "      <td>560087</td>\n",
       "      <td>Bengaluru</td>\n",
       "      <td>MFCB</td>\n",
       "      <td>Karnataka</td>\n",
       "    </tr>\n",
       "    <tr>\n",
       "      <th>5</th>\n",
       "      <td>X005</td>\n",
       "      <td>X005 - KLN MOTORS</td>\n",
       "      <td>X005</td>\n",
       "      <td>PLX005</td>\n",
       "      <td>NaN</td>\n",
       "      <td>IN</td>\n",
       "      <td>Chennai</td>\n",
       "      <td>No.8 (NP) Developed Plot,</td>\n",
       "      <td>600032.0</td>\n",
       "      <td>600032</td>\n",
       "      <td>Chennai</td>\n",
       "      <td>MFCB</td>\n",
       "      <td>Tamil Nadu</td>\n",
       "    </tr>\n",
       "    <tr>\n",
       "      <th>6</th>\n",
       "      <td>X006</td>\n",
       "      <td>X006 - A.M.MOTORS</td>\n",
       "      <td>X006</td>\n",
       "      <td>PLX006</td>\n",
       "      <td>NaN</td>\n",
       "      <td>IN</td>\n",
       "      <td>Mumbai</td>\n",
       "      <td>8, Mira, Behind Ajit Palace Ho</td>\n",
       "      <td>401104.0</td>\n",
       "      <td>401104</td>\n",
       "      <td>Thane</td>\n",
       "      <td>MFCB</td>\n",
       "      <td>Maharashtra</td>\n",
       "    </tr>\n",
       "    <tr>\n",
       "      <th>7</th>\n",
       "      <td>X007</td>\n",
       "      <td>X007 - OM SRI SATYA SAI AUTOMO</td>\n",
       "      <td>X007</td>\n",
       "      <td>PLX007</td>\n",
       "      <td>NaN</td>\n",
       "      <td>IN</td>\n",
       "      <td>Bengaluru</td>\n",
       "      <td>Seegehalli main road,</td>\n",
       "      <td>560037.0</td>\n",
       "      <td>560037</td>\n",
       "      <td>Bengaluru</td>\n",
       "      <td>MFCB</td>\n",
       "      <td>Karnataka</td>\n",
       "    </tr>\n",
       "    <tr>\n",
       "      <th>8</th>\n",
       "      <td>X008</td>\n",
       "      <td>X008- AAKASH AUTO (Puducherry)</td>\n",
       "      <td>X008</td>\n",
       "      <td>PLX008</td>\n",
       "      <td>NaN</td>\n",
       "      <td>IN</td>\n",
       "      <td>Puducherry</td>\n",
       "      <td>145/2, Villiyanur main road,</td>\n",
       "      <td>605110.0</td>\n",
       "      <td>605110</td>\n",
       "      <td>Puducherry</td>\n",
       "      <td>MFCC</td>\n",
       "      <td>Puducherry</td>\n",
       "    </tr>\n",
       "    <tr>\n",
       "      <th>9</th>\n",
       "      <td>X010</td>\n",
       "      <td>X010 - LVM MOTORS</td>\n",
       "      <td>X010</td>\n",
       "      <td>PLX010</td>\n",
       "      <td>NaN</td>\n",
       "      <td>IN</td>\n",
       "      <td>Chennai</td>\n",
       "      <td>B- 49 Emerald Nagar, SIPCOT,</td>\n",
       "      <td>632406.0</td>\n",
       "      <td>632406</td>\n",
       "      <td>Ranipet</td>\n",
       "      <td>MFCD</td>\n",
       "      <td>Tamil Nadu</td>\n",
       "    </tr>\n",
       "    <tr>\n",
       "      <th>10</th>\n",
       "      <td>X011</td>\n",
       "      <td>X011- AAKASH AUTO (Villupuram)</td>\n",
       "      <td>X011</td>\n",
       "      <td>PLX011</td>\n",
       "      <td>NaN</td>\n",
       "      <td>IN</td>\n",
       "      <td>Chennai</td>\n",
       "      <td>No 7, Trichy Trunk Road,</td>\n",
       "      <td>605401.0</td>\n",
       "      <td>605401</td>\n",
       "      <td>Villupuram</td>\n",
       "      <td>MFCD</td>\n",
       "      <td>Tamil Nadu</td>\n",
       "    </tr>\n",
       "    <tr>\n",
       "      <th>11</th>\n",
       "      <td>X012</td>\n",
       "      <td>X012 - SR CAR CARE</td>\n",
       "      <td>X012</td>\n",
       "      <td>PLX012</td>\n",
       "      <td>NaN</td>\n",
       "      <td>IN</td>\n",
       "      <td>Tamil Nadu</td>\n",
       "      <td>No 5, Bye Pass Road,</td>\n",
       "      <td>608001.0</td>\n",
       "      <td>608001</td>\n",
       "      <td>Chidambaram</td>\n",
       "      <td>MFCD</td>\n",
       "      <td>Tamil Nadu</td>\n",
       "    </tr>\n",
       "    <tr>\n",
       "      <th>12</th>\n",
       "      <td>X013</td>\n",
       "      <td>X013 - SAI AUTO WORKS</td>\n",
       "      <td>X013</td>\n",
       "      <td>PLX013</td>\n",
       "      <td>NaN</td>\n",
       "      <td>IN</td>\n",
       "      <td>Tamil Nadu</td>\n",
       "      <td>NH 45 C, Rainbow Nagar Near Mo</td>\n",
       "      <td>607308.0</td>\n",
       "      <td>607308</td>\n",
       "      <td>Neyveli</td>\n",
       "      <td>MFCD</td>\n",
       "      <td>Tamil Nadu</td>\n",
       "    </tr>\n",
       "    <tr>\n",
       "      <th>13</th>\n",
       "      <td>X014</td>\n",
       "      <td>X014 - NANGAN MOTORS PVT LTD.</td>\n",
       "      <td>X014</td>\n",
       "      <td>PLX014</td>\n",
       "      <td>NaN</td>\n",
       "      <td>IN</td>\n",
       "      <td>Ambur</td>\n",
       "      <td>0/1, M.C.Road,</td>\n",
       "      <td>635802.0</td>\n",
       "      <td>635802</td>\n",
       "      <td>Ambur</td>\n",
       "      <td>MFCD</td>\n",
       "      <td>Tamil Nadu</td>\n",
       "    </tr>\n",
       "    <tr>\n",
       "      <th>14</th>\n",
       "      <td>X016</td>\n",
       "      <td>X016 - KHUTWAD MOTORS</td>\n",
       "      <td>X016</td>\n",
       "      <td>PLX016</td>\n",
       "      <td>NaN</td>\n",
       "      <td>IN</td>\n",
       "      <td>Boripardhi</td>\n",
       "      <td>Khutwad Complex,</td>\n",
       "      <td>412203.0</td>\n",
       "      <td>412203</td>\n",
       "      <td>Boripardhi</td>\n",
       "      <td>MFCD</td>\n",
       "      <td>Maharashtra</td>\n",
       "    </tr>\n",
       "    <tr>\n",
       "      <th>15</th>\n",
       "      <td>X017</td>\n",
       "      <td>X017 - HEM KIRAN DIESELS</td>\n",
       "      <td>X017</td>\n",
       "      <td>PLX017</td>\n",
       "      <td>NaN</td>\n",
       "      <td>IN</td>\n",
       "      <td>Kolhapur</td>\n",
       "      <td>1227-E Rajaram Road,</td>\n",
       "      <td>416008.0</td>\n",
       "      <td>416008</td>\n",
       "      <td>Kolhapur</td>\n",
       "      <td>MFCD</td>\n",
       "      <td>Maharashtra</td>\n",
       "    </tr>\n",
       "    <tr>\n",
       "      <th>16</th>\n",
       "      <td>X018</td>\n",
       "      <td>X018 - EXPRESS WHEELS AUTO SER</td>\n",
       "      <td>X018</td>\n",
       "      <td>PLX018</td>\n",
       "      <td>NaN</td>\n",
       "      <td>IN</td>\n",
       "      <td>Shirur</td>\n",
       "      <td>Gut No. 1340,</td>\n",
       "      <td>412210.0</td>\n",
       "      <td>412210</td>\n",
       "      <td>Shirur</td>\n",
       "      <td>MFCD</td>\n",
       "      <td>Maharashtra</td>\n",
       "    </tr>\n",
       "    <tr>\n",
       "      <th>17</th>\n",
       "      <td>X020</td>\n",
       "      <td>X020 - SURYABALA SERVICE</td>\n",
       "      <td>X020</td>\n",
       "      <td>PLX020</td>\n",
       "      <td>NaN</td>\n",
       "      <td>IN</td>\n",
       "      <td>Coimbatore</td>\n",
       "      <td>Subbiah Naidu Thottam,</td>\n",
       "      <td>641039.0</td>\n",
       "      <td>641039</td>\n",
       "      <td>Coimbatore</td>\n",
       "      <td>MFCC</td>\n",
       "      <td>Tamil Nadu</td>\n",
       "    </tr>\n",
       "    <tr>\n",
       "      <th>18</th>\n",
       "      <td>X021</td>\n",
       "      <td>X021 - THE TRUE SAI MOTORSS</td>\n",
       "      <td>X021</td>\n",
       "      <td>PLX021</td>\n",
       "      <td>NaN</td>\n",
       "      <td>IN</td>\n",
       "      <td>Salem</td>\n",
       "      <td>1/9, Court Road,</td>\n",
       "      <td>636007.0</td>\n",
       "      <td>636007</td>\n",
       "      <td>Salem</td>\n",
       "      <td>MFCC</td>\n",
       "      <td>Tamil Nadu</td>\n",
       "    </tr>\n",
       "    <tr>\n",
       "      <th>19</th>\n",
       "      <td>X022</td>\n",
       "      <td>X022 - ARASU CAR ACCESSORIES</td>\n",
       "      <td>X022</td>\n",
       "      <td>PLX022</td>\n",
       "      <td>NaN</td>\n",
       "      <td>IN</td>\n",
       "      <td>Thanjavur</td>\n",
       "      <td># 20, Sanjeeve Nagar,</td>\n",
       "      <td>613005.0</td>\n",
       "      <td>613005</td>\n",
       "      <td>Thanjavur</td>\n",
       "      <td>MFCD</td>\n",
       "      <td>Tamil Nadu</td>\n",
       "    </tr>\n",
       "  </tbody>\n",
       "</table>\n",
       "</div>"
      ],
      "text/plain": [
       "   Plant                          Name 1 Valuation Area Customer no. - plant  \\\n",
       "0   BC07                      NERKUNDRAM           BC07               PLBC07   \n",
       "1   BC30              SAS NAGAR - MOHALI           BC30               PLBC30   \n",
       "2   X001       X001 - AUTO PLANET WHEELS           X001               PLX001   \n",
       "3   X002  X002 - BHANDARI INDUSTRIES PVT           X002               PLX002   \n",
       "4   X003  X003 - Om Sri Satya Sai Automo           X003               PLX003   \n",
       "5   X005               X005 - KLN MOTORS           X005               PLX005   \n",
       "6   X006               X006 - A.M.MOTORS           X006               PLX006   \n",
       "7   X007  X007 - OM SRI SATYA SAI AUTOMO           X007               PLX007   \n",
       "8   X008  X008- AAKASH AUTO (Puducherry)           X008               PLX008   \n",
       "9   X010               X010 - LVM MOTORS           X010               PLX010   \n",
       "10  X011  X011- AAKASH AUTO (Villupuram)           X011               PLX011   \n",
       "11  X012              X012 - SR CAR CARE           X012               PLX012   \n",
       "12  X013           X013 - SAI AUTO WORKS           X013               PLX013   \n",
       "13  X014   X014 - NANGAN MOTORS PVT LTD.           X014               PLX014   \n",
       "14  X016           X016 - KHUTWAD MOTORS           X016               PLX016   \n",
       "15  X017        X017 - HEM KIRAN DIESELS           X017               PLX017   \n",
       "16  X018  X018 - EXPRESS WHEELS AUTO SER           X018               PLX018   \n",
       "17  X020        X020 - SURYABALA SERVICE           X020               PLX020   \n",
       "18  X021     X021 - THE TRUE SAI MOTORSS           X021               PLX021   \n",
       "19  X022    X022 - ARASU CAR ACCESSORIES           X022               PLX022   \n",
       "\n",
       "   Vendor number plant Factory calendar      Name 2  \\\n",
       "0               PLBC07               IN         NaN   \n",
       "1               PLBC30               IN         NaN   \n",
       "2                  NaN               IN       Thane   \n",
       "3                  NaN               IN   Ghaziabad   \n",
       "4                  NaN               IN   Bengaluru   \n",
       "5                  NaN               IN     Chennai   \n",
       "6                  NaN               IN      Mumbai   \n",
       "7                  NaN               IN   Bengaluru   \n",
       "8                  NaN               IN  Puducherry   \n",
       "9                  NaN               IN     Chennai   \n",
       "10                 NaN               IN     Chennai   \n",
       "11                 NaN               IN  Tamil Nadu   \n",
       "12                 NaN               IN  Tamil Nadu   \n",
       "13                 NaN               IN       Ambur   \n",
       "14                 NaN               IN  Boripardhi   \n",
       "15                 NaN               IN    Kolhapur   \n",
       "16                 NaN               IN      Shirur   \n",
       "17                 NaN               IN  Coimbatore   \n",
       "18                 NaN               IN       Salem   \n",
       "19                 NaN               IN   Thanjavur   \n",
       "\n",
       "           House number and street    PO Box  Postal Code         City  \\\n",
       "0    No.117 Poonamallee High Road,  600107.0       600107      Chennai   \n",
       "1                 C-118, Phase 07,  160055.0       160055       Mohali   \n",
       "2     Unit No.3, Kothari Compound,  400610.0       400610        Thane   \n",
       "3        18/1, C Site 4, Sahibabad  201010.0       201010    Ghaziabad   \n",
       "4   #75, Sy.No. 83/2, Panathur Mai  560087.0       560087    Bengaluru   \n",
       "5        No.8 (NP) Developed Plot,  600032.0       600032      Chennai   \n",
       "6   8, Mira, Behind Ajit Palace Ho  401104.0       401104        Thane   \n",
       "7            Seegehalli main road,  560037.0       560037    Bengaluru   \n",
       "8     145/2, Villiyanur main road,  605110.0       605110   Puducherry   \n",
       "9     B- 49 Emerald Nagar, SIPCOT,  632406.0       632406      Ranipet   \n",
       "10        No 7, Trichy Trunk Road,  605401.0       605401   Villupuram   \n",
       "11            No 5, Bye Pass Road,  608001.0       608001  Chidambaram   \n",
       "12  NH 45 C, Rainbow Nagar Near Mo  607308.0       607308      Neyveli   \n",
       "13                  0/1, M.C.Road,  635802.0       635802        Ambur   \n",
       "14                Khutwad Complex,  412203.0       412203   Boripardhi   \n",
       "15            1227-E Rajaram Road,  416008.0       416008     Kolhapur   \n",
       "16                   Gut No. 1340,  412210.0       412210       Shirur   \n",
       "17          Subbiah Naidu Thottam,  641039.0       641039   Coimbatore   \n",
       "18                1/9, Court Road,  636007.0       636007        Salem   \n",
       "19           # 20, Sanjeeve Nagar,  613005.0       613005    Thanjavur   \n",
       "\n",
       "   Sales organization          State  \n",
       "0                MFCS     Tamil Nadu  \n",
       "1                MFCS         Punjab  \n",
       "2                MFCA    Maharashtra  \n",
       "3                MFCA  Uttar Pradesh  \n",
       "4                MFCB      Karnataka  \n",
       "5                MFCB     Tamil Nadu  \n",
       "6                MFCB    Maharashtra  \n",
       "7                MFCB      Karnataka  \n",
       "8                MFCC     Puducherry  \n",
       "9                MFCD     Tamil Nadu  \n",
       "10               MFCD     Tamil Nadu  \n",
       "11               MFCD     Tamil Nadu  \n",
       "12               MFCD     Tamil Nadu  \n",
       "13               MFCD     Tamil Nadu  \n",
       "14               MFCD    Maharashtra  \n",
       "15               MFCD    Maharashtra  \n",
       "16               MFCD    Maharashtra  \n",
       "17               MFCC     Tamil Nadu  \n",
       "18               MFCC     Tamil Nadu  \n",
       "19               MFCD     Tamil Nadu  "
      ]
     },
     "execution_count": 7,
     "metadata": {},
     "output_type": "execute_result"
    }
   ],
   "source": [
    "# Reading the first 20 rows of Plant_master data set\n",
    "Plant_Master.head(20)"
   ]
  },
  {
   "cell_type": "markdown",
   "metadata": {},
   "source": [
    "# Identifying missing values"
   ]
  },
  {
   "cell_type": "code",
   "execution_count": 8,
   "metadata": {},
   "outputs": [],
   "source": [
    "def get_missingvalues(df):\n",
    "    count = df.isnull().sum().sort_values(ascending=False)\n",
    "    percent = ((df.isnull().sum()/df.isnull().count())*100).sort_values(ascending=False)\n",
    "    missing_values = pd.concat([count,percent], axis=1, keys = ['count','percent'])\n",
    "    return missing_values"
   ]
  },
  {
   "cell_type": "code",
   "execution_count": 9,
   "metadata": {},
   "outputs": [
    {
     "data": {
      "text/html": [
       "<div>\n",
       "<style scoped>\n",
       "    .dataframe tbody tr th:only-of-type {\n",
       "        vertical-align: middle;\n",
       "    }\n",
       "\n",
       "    .dataframe tbody tr th {\n",
       "        vertical-align: top;\n",
       "    }\n",
       "\n",
       "    .dataframe thead th {\n",
       "        text-align: right;\n",
       "    }\n",
       "</style>\n",
       "<table border=\"1\" class=\"dataframe\">\n",
       "  <thead>\n",
       "    <tr style=\"text-align: right;\">\n",
       "      <th></th>\n",
       "      <th>count</th>\n",
       "      <th>percent</th>\n",
       "    </tr>\n",
       "  </thead>\n",
       "  <tbody>\n",
       "    <tr>\n",
       "      <th>Death date</th>\n",
       "      <td>554675</td>\n",
       "      <td>99.880613</td>\n",
       "    </tr>\n",
       "    <tr>\n",
       "      <th>Date of Birth</th>\n",
       "      <td>541894</td>\n",
       "      <td>97.579132</td>\n",
       "    </tr>\n",
       "    <tr>\n",
       "      <th>Occupation</th>\n",
       "      <td>540780</td>\n",
       "      <td>97.378533</td>\n",
       "    </tr>\n",
       "    <tr>\n",
       "      <th>Marital Status</th>\n",
       "      <td>539301</td>\n",
       "      <td>97.112209</td>\n",
       "    </tr>\n",
       "    <tr>\n",
       "      <th>Title</th>\n",
       "      <td>46307</td>\n",
       "      <td>8.338525</td>\n",
       "    </tr>\n",
       "    <tr>\n",
       "      <th>Data Origin</th>\n",
       "      <td>136</td>\n",
       "      <td>0.024490</td>\n",
       "    </tr>\n",
       "    <tr>\n",
       "      <th>Partner Type</th>\n",
       "      <td>78</td>\n",
       "      <td>0.014046</td>\n",
       "    </tr>\n",
       "    <tr>\n",
       "      <th>Customer No.</th>\n",
       "      <td>0</td>\n",
       "      <td>0.000000</td>\n",
       "    </tr>\n",
       "    <tr>\n",
       "      <th>Business Partner</th>\n",
       "      <td>0</td>\n",
       "      <td>0.000000</td>\n",
       "    </tr>\n",
       "  </tbody>\n",
       "</table>\n",
       "</div>"
      ],
      "text/plain": [
       "                   count    percent\n",
       "Death date        554675  99.880613\n",
       "Date of Birth     541894  97.579132\n",
       "Occupation        540780  97.378533\n",
       "Marital Status    539301  97.112209\n",
       "Title              46307   8.338525\n",
       "Data Origin          136   0.024490\n",
       "Partner Type          78   0.014046\n",
       "Customer No.           0   0.000000\n",
       "Business Partner       0   0.000000"
      ]
     },
     "execution_count": 9,
     "metadata": {},
     "output_type": "execute_result"
    }
   ],
   "source": [
    "get_missingvalues(Customer_data)"
   ]
  },
  {
   "cell_type": "code",
   "execution_count": 10,
   "metadata": {},
   "outputs": [
    {
     "data": {
      "text/html": [
       "<div>\n",
       "<style scoped>\n",
       "    .dataframe tbody tr th:only-of-type {\n",
       "        vertical-align: middle;\n",
       "    }\n",
       "\n",
       "    .dataframe tbody tr th {\n",
       "        vertical-align: top;\n",
       "    }\n",
       "\n",
       "    .dataframe thead th {\n",
       "        text-align: right;\n",
       "    }\n",
       "</style>\n",
       "<table border=\"1\" class=\"dataframe\">\n",
       "  <thead>\n",
       "    <tr style=\"text-align: right;\">\n",
       "      <th></th>\n",
       "      <th>count</th>\n",
       "      <th>percent</th>\n",
       "    </tr>\n",
       "  </thead>\n",
       "  <tbody>\n",
       "    <tr>\n",
       "      <th>Service Advisor Name</th>\n",
       "      <td>492314</td>\n",
       "      <td>100.000000</td>\n",
       "    </tr>\n",
       "    <tr>\n",
       "      <th>Claim No.</th>\n",
       "      <td>487510</td>\n",
       "      <td>99.024200</td>\n",
       "    </tr>\n",
       "    <tr>\n",
       "      <th>Policy no.</th>\n",
       "      <td>475432</td>\n",
       "      <td>96.570888</td>\n",
       "    </tr>\n",
       "    <tr>\n",
       "      <th>Expiry Date</th>\n",
       "      <td>470083</td>\n",
       "      <td>95.484386</td>\n",
       "    </tr>\n",
       "    <tr>\n",
       "      <th>Insurance Company</th>\n",
       "      <td>468723</td>\n",
       "      <td>95.208140</td>\n",
       "    </tr>\n",
       "    <tr>\n",
       "      <th>Cash /Cashless Type</th>\n",
       "      <td>464894</td>\n",
       "      <td>94.430384</td>\n",
       "    </tr>\n",
       "    <tr>\n",
       "      <th>Gate Pass Date</th>\n",
       "      <td>451399</td>\n",
       "      <td>91.689247</td>\n",
       "    </tr>\n",
       "    <tr>\n",
       "      <th>Technician Name</th>\n",
       "      <td>236834</td>\n",
       "      <td>48.106290</td>\n",
       "    </tr>\n",
       "    <tr>\n",
       "      <th>IGST(18%)</th>\n",
       "      <td>197286</td>\n",
       "      <td>40.073205</td>\n",
       "    </tr>\n",
       "    <tr>\n",
       "      <th>IGST(12%)</th>\n",
       "      <td>197286</td>\n",
       "      <td>40.073205</td>\n",
       "    </tr>\n",
       "    <tr>\n",
       "      <th>Total Value</th>\n",
       "      <td>197286</td>\n",
       "      <td>40.073205</td>\n",
       "    </tr>\n",
       "    <tr>\n",
       "      <th>CGST(14%)</th>\n",
       "      <td>197286</td>\n",
       "      <td>40.073205</td>\n",
       "    </tr>\n",
       "    <tr>\n",
       "      <th>ODN No.</th>\n",
       "      <td>197286</td>\n",
       "      <td>40.073205</td>\n",
       "    </tr>\n",
       "    <tr>\n",
       "      <th>Outstanding Amt</th>\n",
       "      <td>197286</td>\n",
       "      <td>40.073205</td>\n",
       "    </tr>\n",
       "    <tr>\n",
       "      <th>CGST(9%)</th>\n",
       "      <td>197286</td>\n",
       "      <td>40.073205</td>\n",
       "    </tr>\n",
       "    <tr>\n",
       "      <th>CGST(6%)</th>\n",
       "      <td>197286</td>\n",
       "      <td>40.073205</td>\n",
       "    </tr>\n",
       "    <tr>\n",
       "      <th>IGST(28%)</th>\n",
       "      <td>197286</td>\n",
       "      <td>40.073205</td>\n",
       "    </tr>\n",
       "    <tr>\n",
       "      <th>CGST(2.5%)</th>\n",
       "      <td>197286</td>\n",
       "      <td>40.073205</td>\n",
       "    </tr>\n",
       "    <tr>\n",
       "      <th>IGST(5%)</th>\n",
       "      <td>197286</td>\n",
       "      <td>40.073205</td>\n",
       "    </tr>\n",
       "    <tr>\n",
       "      <th>TDS amount</th>\n",
       "      <td>197286</td>\n",
       "      <td>40.073205</td>\n",
       "    </tr>\n",
       "    <tr>\n",
       "      <th>Amt Rcvd From Custom</th>\n",
       "      <td>197286</td>\n",
       "      <td>40.073205</td>\n",
       "    </tr>\n",
       "    <tr>\n",
       "      <th>Total SGST/UGST</th>\n",
       "      <td>197286</td>\n",
       "      <td>40.073205</td>\n",
       "    </tr>\n",
       "    <tr>\n",
       "      <th>SGST/UGST(14%)</th>\n",
       "      <td>197286</td>\n",
       "      <td>40.073205</td>\n",
       "    </tr>\n",
       "    <tr>\n",
       "      <th>Total IGST</th>\n",
       "      <td>197286</td>\n",
       "      <td>40.073205</td>\n",
       "    </tr>\n",
       "    <tr>\n",
       "      <th>SGST/UGST(2.5%)</th>\n",
       "      <td>197286</td>\n",
       "      <td>40.073205</td>\n",
       "    </tr>\n",
       "    <tr>\n",
       "      <th>...</th>\n",
       "      <td>...</td>\n",
       "      <td>...</td>\n",
       "    </tr>\n",
       "    <tr>\n",
       "      <th>District</th>\n",
       "      <td>0</td>\n",
       "      <td>0.000000</td>\n",
       "    </tr>\n",
       "    <tr>\n",
       "      <th>Customer No.</th>\n",
       "      <td>0</td>\n",
       "      <td>0.000000</td>\n",
       "    </tr>\n",
       "    <tr>\n",
       "      <th>Cust Type</th>\n",
       "      <td>0</td>\n",
       "      <td>0.000000</td>\n",
       "    </tr>\n",
       "    <tr>\n",
       "      <th>Gate Pass Time</th>\n",
       "      <td>0</td>\n",
       "      <td>0.000000</td>\n",
       "    </tr>\n",
       "    <tr>\n",
       "      <th>User ID</th>\n",
       "      <td>0</td>\n",
       "      <td>0.000000</td>\n",
       "    </tr>\n",
       "    <tr>\n",
       "      <th>Labour Total</th>\n",
       "      <td>0</td>\n",
       "      <td>0.000000</td>\n",
       "    </tr>\n",
       "    <tr>\n",
       "      <th>Invoice Date</th>\n",
       "      <td>0</td>\n",
       "      <td>0.000000</td>\n",
       "    </tr>\n",
       "    <tr>\n",
       "      <th>Order Type</th>\n",
       "      <td>0</td>\n",
       "      <td>0.000000</td>\n",
       "    </tr>\n",
       "    <tr>\n",
       "      <th>Total Amt Wtd Tax.</th>\n",
       "      <td>0</td>\n",
       "      <td>0.000000</td>\n",
       "    </tr>\n",
       "    <tr>\n",
       "      <th>Recovrbl Exp</th>\n",
       "      <td>0</td>\n",
       "      <td>0.000000</td>\n",
       "    </tr>\n",
       "    <tr>\n",
       "      <th>Print Status</th>\n",
       "      <td>0</td>\n",
       "      <td>0.000000</td>\n",
       "    </tr>\n",
       "    <tr>\n",
       "      <th>Plant Name1</th>\n",
       "      <td>0</td>\n",
       "      <td>0.000000</td>\n",
       "    </tr>\n",
       "    <tr>\n",
       "      <th>Plant</th>\n",
       "      <td>0</td>\n",
       "      <td>0.000000</td>\n",
       "    </tr>\n",
       "    <tr>\n",
       "      <th>Pin code</th>\n",
       "      <td>0</td>\n",
       "      <td>0.000000</td>\n",
       "    </tr>\n",
       "    <tr>\n",
       "      <th>Parts Total</th>\n",
       "      <td>0</td>\n",
       "      <td>0.000000</td>\n",
       "    </tr>\n",
       "    <tr>\n",
       "      <th>OSL Total</th>\n",
       "      <td>0</td>\n",
       "      <td>0.000000</td>\n",
       "    </tr>\n",
       "    <tr>\n",
       "      <th>Invoice No</th>\n",
       "      <td>0</td>\n",
       "      <td>0.000000</td>\n",
       "    </tr>\n",
       "    <tr>\n",
       "      <th>Misc Total</th>\n",
       "      <td>0</td>\n",
       "      <td>0.000000</td>\n",
       "    </tr>\n",
       "    <tr>\n",
       "      <th>Make</th>\n",
       "      <td>0</td>\n",
       "      <td>0.000000</td>\n",
       "    </tr>\n",
       "    <tr>\n",
       "      <th>KMs Reading</th>\n",
       "      <td>0</td>\n",
       "      <td>0.000000</td>\n",
       "    </tr>\n",
       "    <tr>\n",
       "      <th>JobCard Time</th>\n",
       "      <td>0</td>\n",
       "      <td>0.000000</td>\n",
       "    </tr>\n",
       "    <tr>\n",
       "      <th>JobCard Date</th>\n",
       "      <td>0</td>\n",
       "      <td>0.000000</td>\n",
       "    </tr>\n",
       "    <tr>\n",
       "      <th>Job Card No</th>\n",
       "      <td>0</td>\n",
       "      <td>0.000000</td>\n",
       "    </tr>\n",
       "    <tr>\n",
       "      <th>Invoice Time</th>\n",
       "      <td>0</td>\n",
       "      <td>0.000000</td>\n",
       "    </tr>\n",
       "    <tr>\n",
       "      <th>Unnamed: 0</th>\n",
       "      <td>0</td>\n",
       "      <td>0.000000</td>\n",
       "    </tr>\n",
       "  </tbody>\n",
       "</table>\n",
       "<p>59 rows × 2 columns</p>\n",
       "</div>"
      ],
      "text/plain": [
       "                       count     percent\n",
       "Service Advisor Name  492314  100.000000\n",
       "Claim No.             487510   99.024200\n",
       "Policy no.            475432   96.570888\n",
       "Expiry Date           470083   95.484386\n",
       "Insurance Company     468723   95.208140\n",
       "Cash /Cashless Type   464894   94.430384\n",
       "Gate Pass Date        451399   91.689247\n",
       "Technician Name       236834   48.106290\n",
       "IGST(18%)             197286   40.073205\n",
       "IGST(12%)             197286   40.073205\n",
       "Total Value           197286   40.073205\n",
       "CGST(14%)             197286   40.073205\n",
       "ODN No.               197286   40.073205\n",
       "Outstanding Amt       197286   40.073205\n",
       "CGST(9%)              197286   40.073205\n",
       "CGST(6%)              197286   40.073205\n",
       "IGST(28%)             197286   40.073205\n",
       "CGST(2.5%)            197286   40.073205\n",
       "IGST(5%)              197286   40.073205\n",
       "TDS amount            197286   40.073205\n",
       "Amt Rcvd From Custom  197286   40.073205\n",
       "Total SGST/UGST       197286   40.073205\n",
       "SGST/UGST(14%)        197286   40.073205\n",
       "Total IGST            197286   40.073205\n",
       "SGST/UGST(2.5%)       197286   40.073205\n",
       "...                      ...         ...\n",
       "District                   0    0.000000\n",
       "Customer No.               0    0.000000\n",
       "Cust Type                  0    0.000000\n",
       "Gate Pass Time             0    0.000000\n",
       "User ID                    0    0.000000\n",
       "Labour Total               0    0.000000\n",
       "Invoice Date               0    0.000000\n",
       "Order Type                 0    0.000000\n",
       "Total Amt Wtd Tax.         0    0.000000\n",
       "Recovrbl Exp               0    0.000000\n",
       "Print Status               0    0.000000\n",
       "Plant Name1                0    0.000000\n",
       "Plant                      0    0.000000\n",
       "Pin code                   0    0.000000\n",
       "Parts Total                0    0.000000\n",
       "OSL Total                  0    0.000000\n",
       "Invoice No                 0    0.000000\n",
       "Misc Total                 0    0.000000\n",
       "Make                       0    0.000000\n",
       "KMs Reading                0    0.000000\n",
       "JobCard Time               0    0.000000\n",
       "JobCard Date               0    0.000000\n",
       "Job Card No                0    0.000000\n",
       "Invoice Time               0    0.000000\n",
       "Unnamed: 0                 0    0.000000\n",
       "\n",
       "[59 rows x 2 columns]"
      ]
     },
     "execution_count": 10,
     "metadata": {},
     "output_type": "execute_result"
    }
   ],
   "source": [
    "get_missingvalues(Final_invoice)"
   ]
  },
  {
   "cell_type": "code",
   "execution_count": 11,
   "metadata": {},
   "outputs": [
    {
     "data": {
      "text/html": [
       "<div>\n",
       "<style scoped>\n",
       "    .dataframe tbody tr th:only-of-type {\n",
       "        vertical-align: middle;\n",
       "    }\n",
       "\n",
       "    .dataframe tbody tr th {\n",
       "        vertical-align: top;\n",
       "    }\n",
       "\n",
       "    .dataframe thead th {\n",
       "        text-align: right;\n",
       "    }\n",
       "</style>\n",
       "<table border=\"1\" class=\"dataframe\">\n",
       "  <thead>\n",
       "    <tr style=\"text-align: right;\">\n",
       "      <th></th>\n",
       "      <th>count</th>\n",
       "      <th>percent</th>\n",
       "    </tr>\n",
       "  </thead>\n",
       "  <tbody>\n",
       "    <tr>\n",
       "      <th>Labor Value Number</th>\n",
       "      <td>3774033</td>\n",
       "      <td>67.159778</td>\n",
       "    </tr>\n",
       "    <tr>\n",
       "      <th>Target quantity UoM</th>\n",
       "      <td>51629</td>\n",
       "      <td>0.918750</td>\n",
       "    </tr>\n",
       "    <tr>\n",
       "      <th>Description</th>\n",
       "      <td>51629</td>\n",
       "      <td>0.918750</td>\n",
       "    </tr>\n",
       "    <tr>\n",
       "      <th>Material</th>\n",
       "      <td>51629</td>\n",
       "      <td>0.918750</td>\n",
       "    </tr>\n",
       "    <tr>\n",
       "      <th>Net value</th>\n",
       "      <td>0</td>\n",
       "      <td>0.000000</td>\n",
       "    </tr>\n",
       "    <tr>\n",
       "      <th>Order Quantity</th>\n",
       "      <td>0</td>\n",
       "      <td>0.000000</td>\n",
       "    </tr>\n",
       "    <tr>\n",
       "      <th>Item Category</th>\n",
       "      <td>0</td>\n",
       "      <td>0.000000</td>\n",
       "    </tr>\n",
       "    <tr>\n",
       "      <th>Order Item</th>\n",
       "      <td>0</td>\n",
       "      <td>0.000000</td>\n",
       "    </tr>\n",
       "    <tr>\n",
       "      <th>DBM Order</th>\n",
       "      <td>0</td>\n",
       "      <td>0.000000</td>\n",
       "    </tr>\n",
       "    <tr>\n",
       "      <th>Unnamed: 0</th>\n",
       "      <td>0</td>\n",
       "      <td>0.000000</td>\n",
       "    </tr>\n",
       "  </tbody>\n",
       "</table>\n",
       "</div>"
      ],
      "text/plain": [
       "                       count    percent\n",
       "Labor Value Number   3774033  67.159778\n",
       "Target quantity UoM    51629   0.918750\n",
       "Description            51629   0.918750\n",
       "Material               51629   0.918750\n",
       "Net value                  0   0.000000\n",
       "Order Quantity             0   0.000000\n",
       "Item Category              0   0.000000\n",
       "Order Item                 0   0.000000\n",
       "DBM Order                  0   0.000000\n",
       "Unnamed: 0                 0   0.000000"
      ]
     },
     "execution_count": 11,
     "metadata": {},
     "output_type": "execute_result"
    }
   ],
   "source": [
    "get_missingvalues(JTD)"
   ]
  },
  {
   "cell_type": "code",
   "execution_count": 12,
   "metadata": {},
   "outputs": [
    {
     "data": {
      "text/html": [
       "<div>\n",
       "<style scoped>\n",
       "    .dataframe tbody tr th:only-of-type {\n",
       "        vertical-align: middle;\n",
       "    }\n",
       "\n",
       "    .dataframe tbody tr th {\n",
       "        vertical-align: top;\n",
       "    }\n",
       "\n",
       "    .dataframe thead th {\n",
       "        text-align: right;\n",
       "    }\n",
       "</style>\n",
       "<table border=\"1\" class=\"dataframe\">\n",
       "  <thead>\n",
       "    <tr style=\"text-align: right;\">\n",
       "      <th></th>\n",
       "      <th>count</th>\n",
       "      <th>percent</th>\n",
       "    </tr>\n",
       "  </thead>\n",
       "  <tbody>\n",
       "    <tr>\n",
       "      <th>Vendor number plant</th>\n",
       "      <td>436</td>\n",
       "      <td>99.543379</td>\n",
       "    </tr>\n",
       "    <tr>\n",
       "      <th>Sales organization</th>\n",
       "      <td>5</td>\n",
       "      <td>1.141553</td>\n",
       "    </tr>\n",
       "    <tr>\n",
       "      <th>House number and street</th>\n",
       "      <td>2</td>\n",
       "      <td>0.456621</td>\n",
       "    </tr>\n",
       "    <tr>\n",
       "      <th>Name 2</th>\n",
       "      <td>2</td>\n",
       "      <td>0.456621</td>\n",
       "    </tr>\n",
       "    <tr>\n",
       "      <th>PO Box</th>\n",
       "      <td>1</td>\n",
       "      <td>0.228311</td>\n",
       "    </tr>\n",
       "    <tr>\n",
       "      <th>State</th>\n",
       "      <td>0</td>\n",
       "      <td>0.000000</td>\n",
       "    </tr>\n",
       "    <tr>\n",
       "      <th>City</th>\n",
       "      <td>0</td>\n",
       "      <td>0.000000</td>\n",
       "    </tr>\n",
       "    <tr>\n",
       "      <th>Postal Code</th>\n",
       "      <td>0</td>\n",
       "      <td>0.000000</td>\n",
       "    </tr>\n",
       "    <tr>\n",
       "      <th>Factory calendar</th>\n",
       "      <td>0</td>\n",
       "      <td>0.000000</td>\n",
       "    </tr>\n",
       "    <tr>\n",
       "      <th>Customer no. - plant</th>\n",
       "      <td>0</td>\n",
       "      <td>0.000000</td>\n",
       "    </tr>\n",
       "    <tr>\n",
       "      <th>Valuation Area</th>\n",
       "      <td>0</td>\n",
       "      <td>0.000000</td>\n",
       "    </tr>\n",
       "    <tr>\n",
       "      <th>Name 1</th>\n",
       "      <td>0</td>\n",
       "      <td>0.000000</td>\n",
       "    </tr>\n",
       "    <tr>\n",
       "      <th>Plant</th>\n",
       "      <td>0</td>\n",
       "      <td>0.000000</td>\n",
       "    </tr>\n",
       "  </tbody>\n",
       "</table>\n",
       "</div>"
      ],
      "text/plain": [
       "                         count    percent\n",
       "Vendor number plant        436  99.543379\n",
       "Sales organization           5   1.141553\n",
       "House number and street      2   0.456621\n",
       "Name 2                       2   0.456621\n",
       "PO Box                       1   0.228311\n",
       "State                        0   0.000000\n",
       "City                         0   0.000000\n",
       "Postal Code                  0   0.000000\n",
       "Factory calendar             0   0.000000\n",
       "Customer no. - plant         0   0.000000\n",
       "Valuation Area               0   0.000000\n",
       "Name 1                       0   0.000000\n",
       "Plant                        0   0.000000"
      ]
     },
     "execution_count": 12,
     "metadata": {},
     "output_type": "execute_result"
    }
   ],
   "source": [
    "get_missingvalues(Plant_Master)"
   ]
  },
  {
   "cell_type": "markdown",
   "metadata": {},
   "source": [
    "# Shape of datasets"
   ]
  },
  {
   "cell_type": "code",
   "execution_count": 13,
   "metadata": {},
   "outputs": [
    {
     "name": "stdout",
     "output_type": "stream",
     "text": [
      "Customer data shape is: (555338, 9)\n",
      "Final Invoice data shape is: (492314, 59)\n",
      "JTD data shape is: (5619484, 10)\n",
      "Plant_Master data shape is: (438, 13)\n"
     ]
    }
   ],
   "source": [
    "print(\"Customer data shape is:\",Customer_data.shape)\n",
    "print(\"Final Invoice data shape is:\",Final_invoice.shape)\n",
    "print(\"JTD data shape is:\",JTD.shape)\n",
    "print(\"Plant_Master data shape is:\",Plant_Master.shape)"
   ]
  },
  {
   "cell_type": "markdown",
   "metadata": {},
   "source": [
    "# Data Preprocessing and EDA"
   ]
  },
  {
   "cell_type": "code",
   "execution_count": 14,
   "metadata": {},
   "outputs": [
    {
     "data": {
      "text/html": [
       "<div>\n",
       "<style scoped>\n",
       "    .dataframe tbody tr th:only-of-type {\n",
       "        vertical-align: middle;\n",
       "    }\n",
       "\n",
       "    .dataframe tbody tr th {\n",
       "        vertical-align: top;\n",
       "    }\n",
       "\n",
       "    .dataframe thead th {\n",
       "        text-align: right;\n",
       "    }\n",
       "</style>\n",
       "<table border=\"1\" class=\"dataframe\">\n",
       "  <thead>\n",
       "    <tr style=\"text-align: right;\">\n",
       "      <th></th>\n",
       "      <th>Business Partner</th>\n",
       "      <th>Customer No.</th>\n",
       "      <th>Partner Type</th>\n",
       "      <th>Data Origin</th>\n",
       "    </tr>\n",
       "  </thead>\n",
       "  <tbody>\n",
       "    <tr>\n",
       "      <th>0</th>\n",
       "      <td>31</td>\n",
       "      <td>1</td>\n",
       "      <td>1.0</td>\n",
       "      <td>Z001</td>\n",
       "    </tr>\n",
       "    <tr>\n",
       "      <th>1</th>\n",
       "      <td>32</td>\n",
       "      <td>2</td>\n",
       "      <td>1.0</td>\n",
       "      <td>Z005</td>\n",
       "    </tr>\n",
       "    <tr>\n",
       "      <th>2</th>\n",
       "      <td>34</td>\n",
       "      <td>4</td>\n",
       "      <td>1.0</td>\n",
       "      <td>Z005</td>\n",
       "    </tr>\n",
       "    <tr>\n",
       "      <th>3</th>\n",
       "      <td>35</td>\n",
       "      <td>5</td>\n",
       "      <td>1.0</td>\n",
       "      <td>Z005</td>\n",
       "    </tr>\n",
       "    <tr>\n",
       "      <th>4</th>\n",
       "      <td>42</td>\n",
       "      <td>7</td>\n",
       "      <td>1.0</td>\n",
       "      <td>Z008</td>\n",
       "    </tr>\n",
       "    <tr>\n",
       "      <th>5</th>\n",
       "      <td>45</td>\n",
       "      <td>9</td>\n",
       "      <td>1.0</td>\n",
       "      <td>Z003</td>\n",
       "    </tr>\n",
       "    <tr>\n",
       "      <th>6</th>\n",
       "      <td>46</td>\n",
       "      <td>10</td>\n",
       "      <td>1.0</td>\n",
       "      <td>Z005</td>\n",
       "    </tr>\n",
       "    <tr>\n",
       "      <th>7</th>\n",
       "      <td>47</td>\n",
       "      <td>11</td>\n",
       "      <td>NaN</td>\n",
       "      <td>NaN</td>\n",
       "    </tr>\n",
       "    <tr>\n",
       "      <th>8</th>\n",
       "      <td>49</td>\n",
       "      <td>13</td>\n",
       "      <td>9001.0</td>\n",
       "      <td>Z003</td>\n",
       "    </tr>\n",
       "    <tr>\n",
       "      <th>9</th>\n",
       "      <td>50</td>\n",
       "      <td>14</td>\n",
       "      <td>1.0</td>\n",
       "      <td>Z005</td>\n",
       "    </tr>\n",
       "  </tbody>\n",
       "</table>\n",
       "</div>"
      ],
      "text/plain": [
       "  Business Partner Customer No.  Partner Type Data Origin\n",
       "0               31            1           1.0        Z001\n",
       "1               32            2           1.0        Z005\n",
       "2               34            4           1.0        Z005\n",
       "3               35            5           1.0        Z005\n",
       "4               42            7           1.0        Z008\n",
       "5               45            9           1.0        Z003\n",
       "6               46           10           1.0        Z005\n",
       "7               47           11           NaN         NaN\n",
       "8               49           13        9001.0        Z003\n",
       "9               50           14           1.0        Z005"
      ]
     },
     "execution_count": 14,
     "metadata": {},
     "output_type": "execute_result"
    }
   ],
   "source": [
    "# Droppiong records from customer data which has more than 50% missing values\n",
    "Customer_data = Customer_data.drop(['Title','Marital Status','Occupation','Date of Birth','Death date'],axis=1)\n",
    "Customer_data.head(10)"
   ]
  },
  {
   "cell_type": "code",
   "execution_count": 15,
   "metadata": {},
   "outputs": [
    {
     "name": "stdout",
     "output_type": "stream",
     "text": [
      "Total missing Values in Partner Type: 0\n",
      "Total missing values in Data Origin: 0\n"
     ]
    }
   ],
   "source": [
    "#Imputing Partner Type and Data Origin with mode value\n",
    "Customer_data['Partner Type'] = Customer_data['Partner Type'].fillna(Customer_data['Partner Type'].mode()[0])\n",
    "Customer_data['Data Origin'] = Customer_data['Data Origin'].fillna(Customer_data['Data Origin'].mode()[0])\n",
    "\n",
    "print(\"Total missing Values in Partner Type:\",Customer_data['Partner Type'].isnull().sum())\n",
    "print(\"Total missing values in Data Origin:\",Customer_data['Data Origin'].isnull().sum())"
   ]
  },
  {
   "cell_type": "code",
   "execution_count": 16,
   "metadata": {},
   "outputs": [
    {
     "data": {
      "text/html": [
       "<div>\n",
       "<style scoped>\n",
       "    .dataframe tbody tr th:only-of-type {\n",
       "        vertical-align: middle;\n",
       "    }\n",
       "\n",
       "    .dataframe tbody tr th {\n",
       "        vertical-align: top;\n",
       "    }\n",
       "\n",
       "    .dataframe thead th {\n",
       "        text-align: right;\n",
       "    }\n",
       "</style>\n",
       "<table border=\"1\" class=\"dataframe\">\n",
       "  <thead>\n",
       "    <tr style=\"text-align: right;\">\n",
       "      <th></th>\n",
       "      <th>Area / Locality</th>\n",
       "      <th>CITY</th>\n",
       "      <th>Cust Type</th>\n",
       "      <th>Customer No.</th>\n",
       "      <th>District</th>\n",
       "      <th>Gate Pass Time</th>\n",
       "      <th>Invoice Date</th>\n",
       "      <th>Invoice No</th>\n",
       "      <th>Invoice Time</th>\n",
       "      <th>Job Card No</th>\n",
       "      <th>JobCard Date</th>\n",
       "      <th>JobCard Time</th>\n",
       "      <th>KMs Reading</th>\n",
       "      <th>Labour Total</th>\n",
       "      <th>Make</th>\n",
       "      <th>Misc Total</th>\n",
       "      <th>Model</th>\n",
       "      <th>ODN No.</th>\n",
       "      <th>OSL Total</th>\n",
       "      <th>Order Type</th>\n",
       "      <th>Parts Total</th>\n",
       "      <th>Pin code</th>\n",
       "      <th>Plant</th>\n",
       "      <th>Plant Name1</th>\n",
       "      <th>Print Status</th>\n",
       "      <th>Recovrbl Exp</th>\n",
       "      <th>Regn No</th>\n",
       "      <th>Technician Name</th>\n",
       "      <th>Total Amt Wtd Tax.</th>\n",
       "      <th>Total Value</th>\n",
       "      <th>User ID</th>\n",
       "    </tr>\n",
       "  </thead>\n",
       "  <tbody>\n",
       "    <tr>\n",
       "      <th>0</th>\n",
       "      <td>MAJIWADA</td>\n",
       "      <td>Thane</td>\n",
       "      <td>Retail</td>\n",
       "      <td>67849</td>\n",
       "      <td>Maharashtra</td>\n",
       "      <td>00:00:00</td>\n",
       "      <td>2015-01-02</td>\n",
       "      <td>7005200002</td>\n",
       "      <td>11:30:36</td>\n",
       "      <td>168303</td>\n",
       "      <td>2014-12-13</td>\n",
       "      <td>14:29:43</td>\n",
       "      <td>49317</td>\n",
       "      <td>1203.14</td>\n",
       "      <td>GENERAL MOTORS</td>\n",
       "      <td>0.00</td>\n",
       "      <td>SPARK</td>\n",
       "      <td>7.005200e+09</td>\n",
       "      <td>500.06</td>\n",
       "      <td>Paid Service</td>\n",
       "      <td>2348.75</td>\n",
       "      <td>400601</td>\n",
       "      <td>BC01</td>\n",
       "      <td>THANE</td>\n",
       "      <td>NO</td>\n",
       "      <td>0.0</td>\n",
       "      <td>KA19MA1291</td>\n",
       "      <td>RUPESH</td>\n",
       "      <td>4051.95</td>\n",
       "      <td>4051.95</td>\n",
       "      <td>BC01FS1</td>\n",
       "    </tr>\n",
       "    <tr>\n",
       "      <th>1</th>\n",
       "      <td>THNAE</td>\n",
       "      <td>THNAE</td>\n",
       "      <td>Retail</td>\n",
       "      <td>84419</td>\n",
       "      <td>Maharashtra</td>\n",
       "      <td>00:00:00</td>\n",
       "      <td>2015-01-03</td>\n",
       "      <td>7005200003</td>\n",
       "      <td>10:07:32</td>\n",
       "      <td>173997</td>\n",
       "      <td>2015-01-02</td>\n",
       "      <td>14:12:18</td>\n",
       "      <td>78584</td>\n",
       "      <td>804.26</td>\n",
       "      <td>TATA MOTORS</td>\n",
       "      <td>197.03</td>\n",
       "      <td>INDICA</td>\n",
       "      <td>7.005200e+09</td>\n",
       "      <td>0.00</td>\n",
       "      <td>SMC Value Package</td>\n",
       "      <td>0.00</td>\n",
       "      <td>400603</td>\n",
       "      <td>BC01</td>\n",
       "      <td>THANE</td>\n",
       "      <td>NO</td>\n",
       "      <td>0.0</td>\n",
       "      <td>MH43R3046</td>\n",
       "      <td>PRASHANT</td>\n",
       "      <td>1001.29</td>\n",
       "      <td>1001.29</td>\n",
       "      <td>BC01SA2</td>\n",
       "    </tr>\n",
       "    <tr>\n",
       "      <th>2</th>\n",
       "      <td>THANE</td>\n",
       "      <td>THANE[W]</td>\n",
       "      <td>Retail</td>\n",
       "      <td>81055</td>\n",
       "      <td>Maharashtra</td>\n",
       "      <td>00:00:00</td>\n",
       "      <td>2015-01-03</td>\n",
       "      <td>7005200004</td>\n",
       "      <td>11:12:57</td>\n",
       "      <td>173889</td>\n",
       "      <td>2015-01-02</td>\n",
       "      <td>11:40:44</td>\n",
       "      <td>33985</td>\n",
       "      <td>180.19</td>\n",
       "      <td>MARUTI SUZUKI</td>\n",
       "      <td>0.00</td>\n",
       "      <td>ZEN</td>\n",
       "      <td>7.005200e+09</td>\n",
       "      <td>0.00</td>\n",
       "      <td>Running Repairs</td>\n",
       "      <td>52.95</td>\n",
       "      <td>400607</td>\n",
       "      <td>BC01</td>\n",
       "      <td>THANE</td>\n",
       "      <td>NO</td>\n",
       "      <td>0.0</td>\n",
       "      <td>AP09AX0582</td>\n",
       "      <td>IMRAN</td>\n",
       "      <td>233.14</td>\n",
       "      <td>233.14</td>\n",
       "      <td>BC01SA2</td>\n",
       "    </tr>\n",
       "    <tr>\n",
       "      <th>3</th>\n",
       "      <td>THNAE</td>\n",
       "      <td>THNAE</td>\n",
       "      <td>Retail</td>\n",
       "      <td>84419</td>\n",
       "      <td>Maharashtra</td>\n",
       "      <td>00:00:00</td>\n",
       "      <td>2015-01-03</td>\n",
       "      <td>7005200005</td>\n",
       "      <td>11:40:44</td>\n",
       "      <td>174158</td>\n",
       "      <td>2015-01-03</td>\n",
       "      <td>10:12:32</td>\n",
       "      <td>78584</td>\n",
       "      <td>0.00</td>\n",
       "      <td>TATA MOTORS</td>\n",
       "      <td>0.00</td>\n",
       "      <td>INDICA</td>\n",
       "      <td>7.005200e+09</td>\n",
       "      <td>0.00</td>\n",
       "      <td>SMC Redemption</td>\n",
       "      <td>0.00</td>\n",
       "      <td>400603</td>\n",
       "      <td>BC01</td>\n",
       "      <td>THANE</td>\n",
       "      <td>NO</td>\n",
       "      <td>0.0</td>\n",
       "      <td>MH43R3046</td>\n",
       "      <td>PRASHANT</td>\n",
       "      <td>0.00</td>\n",
       "      <td>0.00</td>\n",
       "      <td>BC01SA2</td>\n",
       "    </tr>\n",
       "    <tr>\n",
       "      <th>4</th>\n",
       "      <td>THANE</td>\n",
       "      <td>THANE</td>\n",
       "      <td>Retail</td>\n",
       "      <td>18980</td>\n",
       "      <td>Maharashtra</td>\n",
       "      <td>00:00:00</td>\n",
       "      <td>2015-01-03</td>\n",
       "      <td>7005200006</td>\n",
       "      <td>12:07:17</td>\n",
       "      <td>173860</td>\n",
       "      <td>2015-01-02</td>\n",
       "      <td>10:45:42</td>\n",
       "      <td>50057</td>\n",
       "      <td>1202.97</td>\n",
       "      <td>HYUNDAI</td>\n",
       "      <td>100.00</td>\n",
       "      <td>SANTRO XING</td>\n",
       "      <td>7.005200e+09</td>\n",
       "      <td>499.99</td>\n",
       "      <td>Paid Service</td>\n",
       "      <td>944.16</td>\n",
       "      <td>400603</td>\n",
       "      <td>BC01</td>\n",
       "      <td>THANE</td>\n",
       "      <td>NO</td>\n",
       "      <td>0.0</td>\n",
       "      <td>MH04CD9768</td>\n",
       "      <td>DAYANAND</td>\n",
       "      <td>2747.12</td>\n",
       "      <td>2747.12</td>\n",
       "      <td>BC01SA2</td>\n",
       "    </tr>\n",
       "  </tbody>\n",
       "</table>\n",
       "</div>"
      ],
      "text/plain": [
       "  Area / Locality      CITY Cust Type Customer No.     District  \\\n",
       "0        MAJIWADA     Thane    Retail        67849  Maharashtra   \n",
       "1           THNAE     THNAE    Retail        84419  Maharashtra   \n",
       "2           THANE  THANE[W]    Retail        81055  Maharashtra   \n",
       "3           THNAE     THNAE    Retail        84419  Maharashtra   \n",
       "4           THANE     THANE    Retail        18980  Maharashtra   \n",
       "\n",
       "  Gate Pass Time Invoice Date  Invoice No Invoice Time  Job Card No  \\\n",
       "0       00:00:00   2015-01-02  7005200002     11:30:36       168303   \n",
       "1       00:00:00   2015-01-03  7005200003     10:07:32       173997   \n",
       "2       00:00:00   2015-01-03  7005200004     11:12:57       173889   \n",
       "3       00:00:00   2015-01-03  7005200005     11:40:44       174158   \n",
       "4       00:00:00   2015-01-03  7005200006     12:07:17       173860   \n",
       "\n",
       "  JobCard Date JobCard Time  KMs Reading  Labour Total            Make  \\\n",
       "0   2014-12-13     14:29:43        49317       1203.14  GENERAL MOTORS   \n",
       "1   2015-01-02     14:12:18        78584        804.26     TATA MOTORS   \n",
       "2   2015-01-02     11:40:44        33985        180.19   MARUTI SUZUKI   \n",
       "3   2015-01-03     10:12:32        78584          0.00     TATA MOTORS   \n",
       "4   2015-01-02     10:45:42        50057       1202.97         HYUNDAI   \n",
       "\n",
       "   Misc Total        Model       ODN No.  OSL Total         Order Type  \\\n",
       "0        0.00        SPARK  7.005200e+09     500.06       Paid Service   \n",
       "1      197.03       INDICA  7.005200e+09       0.00  SMC Value Package   \n",
       "2        0.00          ZEN  7.005200e+09       0.00    Running Repairs   \n",
       "3        0.00       INDICA  7.005200e+09       0.00     SMC Redemption   \n",
       "4      100.00  SANTRO XING  7.005200e+09     499.99       Paid Service   \n",
       "\n",
       "   Parts Total  Pin code Plant Plant Name1 Print Status  Recovrbl Exp  \\\n",
       "0      2348.75    400601  BC01       THANE           NO           0.0   \n",
       "1         0.00    400603  BC01       THANE           NO           0.0   \n",
       "2        52.95    400607  BC01       THANE           NO           0.0   \n",
       "3         0.00    400603  BC01       THANE           NO           0.0   \n",
       "4       944.16    400603  BC01       THANE           NO           0.0   \n",
       "\n",
       "      Regn No Technician Name  Total Amt Wtd Tax.  Total Value  User ID  \n",
       "0  KA19MA1291          RUPESH             4051.95      4051.95  BC01FS1  \n",
       "1   MH43R3046        PRASHANT             1001.29      1001.29  BC01SA2  \n",
       "2  AP09AX0582           IMRAN              233.14       233.14  BC01SA2  \n",
       "3   MH43R3046        PRASHANT                0.00         0.00  BC01SA2  \n",
       "4  MH04CD9768        DAYANAND             2747.12      2747.12  BC01SA2  "
      ]
     },
     "execution_count": 16,
     "metadata": {},
     "output_type": "execute_result"
    }
   ],
   "source": [
    "#Dropping columns which has more than 45% of missing values and other irrelevant columns\n",
    "Final_invoice = Final_invoice.drop(['Amt Rcvd From Custom','Amt Rcvd From Ins Co',\n",
    "                                          'CGST(14%)','CGST(2.5%)', 'CGST(6%)','IGST(12%)','CGST(9%)',\n",
    "                                          'IGST(18%)','IGST(28%)','IGST(5%)','SGST/UGST(14%)',\n",
    "                                          'SGST/UGST(2.5%)','SGST/UGST(6%)','SGST/UGST(9%)',\n",
    "                                          'TDS amount','Service Advisor Name','Outstanding Amt',\n",
    "                                        'Total CGST','Total GST','Total IGST','Total SGST/UGST',\n",
    "                                          'Policy no.','Cash /Cashless Type','Expiry Date','Gate Pass Date',\n",
    "                                          'Insurance Company','Claim No.','Unnamed: 0'\n",
    "                                         ],axis=1)\n",
    "Final_invoice.head(5)"
   ]
  },
  {
   "cell_type": "code",
   "execution_count": 17,
   "metadata": {},
   "outputs": [
    {
     "data": {
      "text/html": [
       "<div>\n",
       "<style scoped>\n",
       "    .dataframe tbody tr th:only-of-type {\n",
       "        vertical-align: middle;\n",
       "    }\n",
       "\n",
       "    .dataframe tbody tr th {\n",
       "        vertical-align: top;\n",
       "    }\n",
       "\n",
       "    .dataframe thead th {\n",
       "        text-align: right;\n",
       "    }\n",
       "</style>\n",
       "<table border=\"1\" class=\"dataframe\">\n",
       "  <thead>\n",
       "    <tr style=\"text-align: right;\">\n",
       "      <th></th>\n",
       "      <th>Area / Locality</th>\n",
       "      <th>CITY</th>\n",
       "      <th>Cust Type</th>\n",
       "      <th>Customer No.</th>\n",
       "      <th>District</th>\n",
       "      <th>Gate Pass Time</th>\n",
       "      <th>Invoice Date</th>\n",
       "      <th>Invoice No</th>\n",
       "      <th>Invoice Time</th>\n",
       "      <th>Job Card No</th>\n",
       "      <th>JobCard Date</th>\n",
       "      <th>JobCard Time</th>\n",
       "      <th>KMs Reading</th>\n",
       "      <th>Labour Total</th>\n",
       "      <th>Make</th>\n",
       "      <th>Misc Total</th>\n",
       "      <th>Model</th>\n",
       "      <th>ODN No.</th>\n",
       "      <th>OSL Total</th>\n",
       "      <th>Order Type</th>\n",
       "      <th>Parts Total</th>\n",
       "      <th>Pin code</th>\n",
       "      <th>Plant</th>\n",
       "      <th>Plant Name1</th>\n",
       "      <th>Print Status</th>\n",
       "      <th>Recovrbl Exp</th>\n",
       "      <th>Regn No</th>\n",
       "      <th>Technician Name</th>\n",
       "      <th>Total Amt Wtd Tax.</th>\n",
       "      <th>Total Value</th>\n",
       "      <th>User ID</th>\n",
       "      <th>Invoice_Date_time</th>\n",
       "      <th>Job_Card_Date_time</th>\n",
       "      <th>Service TAT</th>\n",
       "    </tr>\n",
       "  </thead>\n",
       "  <tbody>\n",
       "    <tr>\n",
       "      <th>0</th>\n",
       "      <td>MAJIWADA</td>\n",
       "      <td>Thane</td>\n",
       "      <td>Retail</td>\n",
       "      <td>67849</td>\n",
       "      <td>Maharashtra</td>\n",
       "      <td>00:00:00</td>\n",
       "      <td>2015-01-02</td>\n",
       "      <td>7005200002</td>\n",
       "      <td>11:30:36</td>\n",
       "      <td>168303</td>\n",
       "      <td>2014-12-13</td>\n",
       "      <td>14:29:43</td>\n",
       "      <td>49317</td>\n",
       "      <td>1203.14</td>\n",
       "      <td>GENERAL MOTORS</td>\n",
       "      <td>0.00</td>\n",
       "      <td>SPARK</td>\n",
       "      <td>7.005200e+09</td>\n",
       "      <td>500.06</td>\n",
       "      <td>Paid Service</td>\n",
       "      <td>2348.75</td>\n",
       "      <td>400601</td>\n",
       "      <td>BC01</td>\n",
       "      <td>THANE</td>\n",
       "      <td>NO</td>\n",
       "      <td>0.0</td>\n",
       "      <td>KA19MA1291</td>\n",
       "      <td>RUPESH</td>\n",
       "      <td>4051.95</td>\n",
       "      <td>4051.95</td>\n",
       "      <td>BC01FS1</td>\n",
       "      <td>2015-01-02 11:30:36</td>\n",
       "      <td>2014-12-13 14:29:43</td>\n",
       "      <td>19 days 21:00:53</td>\n",
       "    </tr>\n",
       "    <tr>\n",
       "      <th>1</th>\n",
       "      <td>THNAE</td>\n",
       "      <td>THNAE</td>\n",
       "      <td>Retail</td>\n",
       "      <td>84419</td>\n",
       "      <td>Maharashtra</td>\n",
       "      <td>00:00:00</td>\n",
       "      <td>2015-01-03</td>\n",
       "      <td>7005200003</td>\n",
       "      <td>10:07:32</td>\n",
       "      <td>173997</td>\n",
       "      <td>2015-01-02</td>\n",
       "      <td>14:12:18</td>\n",
       "      <td>78584</td>\n",
       "      <td>804.26</td>\n",
       "      <td>TATA MOTORS</td>\n",
       "      <td>197.03</td>\n",
       "      <td>INDICA</td>\n",
       "      <td>7.005200e+09</td>\n",
       "      <td>0.00</td>\n",
       "      <td>SMC Value Package</td>\n",
       "      <td>0.00</td>\n",
       "      <td>400603</td>\n",
       "      <td>BC01</td>\n",
       "      <td>THANE</td>\n",
       "      <td>NO</td>\n",
       "      <td>0.0</td>\n",
       "      <td>MH43R3046</td>\n",
       "      <td>PRASHANT</td>\n",
       "      <td>1001.29</td>\n",
       "      <td>1001.29</td>\n",
       "      <td>BC01SA2</td>\n",
       "      <td>2015-01-03 10:07:32</td>\n",
       "      <td>2015-01-02 14:12:18</td>\n",
       "      <td>0 days 19:55:14</td>\n",
       "    </tr>\n",
       "    <tr>\n",
       "      <th>2</th>\n",
       "      <td>THANE</td>\n",
       "      <td>THANE[W]</td>\n",
       "      <td>Retail</td>\n",
       "      <td>81055</td>\n",
       "      <td>Maharashtra</td>\n",
       "      <td>00:00:00</td>\n",
       "      <td>2015-01-03</td>\n",
       "      <td>7005200004</td>\n",
       "      <td>11:12:57</td>\n",
       "      <td>173889</td>\n",
       "      <td>2015-01-02</td>\n",
       "      <td>11:40:44</td>\n",
       "      <td>33985</td>\n",
       "      <td>180.19</td>\n",
       "      <td>MARUTI SUZUKI</td>\n",
       "      <td>0.00</td>\n",
       "      <td>ZEN</td>\n",
       "      <td>7.005200e+09</td>\n",
       "      <td>0.00</td>\n",
       "      <td>Running Repairs</td>\n",
       "      <td>52.95</td>\n",
       "      <td>400607</td>\n",
       "      <td>BC01</td>\n",
       "      <td>THANE</td>\n",
       "      <td>NO</td>\n",
       "      <td>0.0</td>\n",
       "      <td>AP09AX0582</td>\n",
       "      <td>IMRAN</td>\n",
       "      <td>233.14</td>\n",
       "      <td>233.14</td>\n",
       "      <td>BC01SA2</td>\n",
       "      <td>2015-01-03 11:12:57</td>\n",
       "      <td>2015-01-02 11:40:44</td>\n",
       "      <td>0 days 23:32:13</td>\n",
       "    </tr>\n",
       "    <tr>\n",
       "      <th>3</th>\n",
       "      <td>THNAE</td>\n",
       "      <td>THNAE</td>\n",
       "      <td>Retail</td>\n",
       "      <td>84419</td>\n",
       "      <td>Maharashtra</td>\n",
       "      <td>00:00:00</td>\n",
       "      <td>2015-01-03</td>\n",
       "      <td>7005200005</td>\n",
       "      <td>11:40:44</td>\n",
       "      <td>174158</td>\n",
       "      <td>2015-01-03</td>\n",
       "      <td>10:12:32</td>\n",
       "      <td>78584</td>\n",
       "      <td>0.00</td>\n",
       "      <td>TATA MOTORS</td>\n",
       "      <td>0.00</td>\n",
       "      <td>INDICA</td>\n",
       "      <td>7.005200e+09</td>\n",
       "      <td>0.00</td>\n",
       "      <td>SMC Redemption</td>\n",
       "      <td>0.00</td>\n",
       "      <td>400603</td>\n",
       "      <td>BC01</td>\n",
       "      <td>THANE</td>\n",
       "      <td>NO</td>\n",
       "      <td>0.0</td>\n",
       "      <td>MH43R3046</td>\n",
       "      <td>PRASHANT</td>\n",
       "      <td>0.00</td>\n",
       "      <td>0.00</td>\n",
       "      <td>BC01SA2</td>\n",
       "      <td>2015-01-03 11:40:44</td>\n",
       "      <td>2015-01-03 10:12:32</td>\n",
       "      <td>0 days 01:28:12</td>\n",
       "    </tr>\n",
       "    <tr>\n",
       "      <th>4</th>\n",
       "      <td>THANE</td>\n",
       "      <td>THANE</td>\n",
       "      <td>Retail</td>\n",
       "      <td>18980</td>\n",
       "      <td>Maharashtra</td>\n",
       "      <td>00:00:00</td>\n",
       "      <td>2015-01-03</td>\n",
       "      <td>7005200006</td>\n",
       "      <td>12:07:17</td>\n",
       "      <td>173860</td>\n",
       "      <td>2015-01-02</td>\n",
       "      <td>10:45:42</td>\n",
       "      <td>50057</td>\n",
       "      <td>1202.97</td>\n",
       "      <td>HYUNDAI</td>\n",
       "      <td>100.00</td>\n",
       "      <td>SANTRO XING</td>\n",
       "      <td>7.005200e+09</td>\n",
       "      <td>499.99</td>\n",
       "      <td>Paid Service</td>\n",
       "      <td>944.16</td>\n",
       "      <td>400603</td>\n",
       "      <td>BC01</td>\n",
       "      <td>THANE</td>\n",
       "      <td>NO</td>\n",
       "      <td>0.0</td>\n",
       "      <td>MH04CD9768</td>\n",
       "      <td>DAYANAND</td>\n",
       "      <td>2747.12</td>\n",
       "      <td>2747.12</td>\n",
       "      <td>BC01SA2</td>\n",
       "      <td>2015-01-03 12:07:17</td>\n",
       "      <td>2015-01-02 10:45:42</td>\n",
       "      <td>1 days 01:21:35</td>\n",
       "    </tr>\n",
       "    <tr>\n",
       "      <th>5</th>\n",
       "      <td>THANE</td>\n",
       "      <td>THANE</td>\n",
       "      <td>Retail</td>\n",
       "      <td>84457</td>\n",
       "      <td>Maharashtra</td>\n",
       "      <td>00:00:00</td>\n",
       "      <td>2015-01-03</td>\n",
       "      <td>7005200007</td>\n",
       "      <td>12:10:08</td>\n",
       "      <td>174053</td>\n",
       "      <td>2015-01-02</td>\n",
       "      <td>15:15:10</td>\n",
       "      <td>13122</td>\n",
       "      <td>0.00</td>\n",
       "      <td>TOYOTA</td>\n",
       "      <td>0.00</td>\n",
       "      <td>INNOVA</td>\n",
       "      <td>7.005200e+09</td>\n",
       "      <td>851.70</td>\n",
       "      <td>Running Repairs</td>\n",
       "      <td>14.22</td>\n",
       "      <td>400603</td>\n",
       "      <td>BC01</td>\n",
       "      <td>THANE</td>\n",
       "      <td>NO</td>\n",
       "      <td>0.0</td>\n",
       "      <td>MH04GM2960</td>\n",
       "      <td>DAYANAND</td>\n",
       "      <td>865.92</td>\n",
       "      <td>865.92</td>\n",
       "      <td>BC01SA2</td>\n",
       "      <td>2015-01-03 12:10:08</td>\n",
       "      <td>2015-01-02 15:15:10</td>\n",
       "      <td>0 days 20:54:58</td>\n",
       "    </tr>\n",
       "    <tr>\n",
       "      <th>6</th>\n",
       "      <td>THANE WEST</td>\n",
       "      <td>THANE</td>\n",
       "      <td>Retail</td>\n",
       "      <td>12523</td>\n",
       "      <td>Maharashtra</td>\n",
       "      <td>00:00:00</td>\n",
       "      <td>2015-01-03</td>\n",
       "      <td>7005200008</td>\n",
       "      <td>12:12:31</td>\n",
       "      <td>173953</td>\n",
       "      <td>2015-01-02</td>\n",
       "      <td>12:15:55</td>\n",
       "      <td>26964</td>\n",
       "      <td>0.00</td>\n",
       "      <td>HONDA</td>\n",
       "      <td>0.00</td>\n",
       "      <td>CITY</td>\n",
       "      <td>7.005200e+09</td>\n",
       "      <td>749.42</td>\n",
       "      <td>Running Repairs</td>\n",
       "      <td>0.00</td>\n",
       "      <td>400607</td>\n",
       "      <td>BC01</td>\n",
       "      <td>THANE</td>\n",
       "      <td>NO</td>\n",
       "      <td>0.0</td>\n",
       "      <td>MH06AL1935</td>\n",
       "      <td>PRASHANT</td>\n",
       "      <td>749.42</td>\n",
       "      <td>749.42</td>\n",
       "      <td>BC01SA2</td>\n",
       "      <td>2015-01-03 12:12:31</td>\n",
       "      <td>2015-01-02 12:15:55</td>\n",
       "      <td>0 days 23:56:36</td>\n",
       "    </tr>\n",
       "    <tr>\n",
       "      <th>7</th>\n",
       "      <td>G.B. ROAD</td>\n",
       "      <td>THANE</td>\n",
       "      <td>Retail</td>\n",
       "      <td>55220</td>\n",
       "      <td>Maharashtra</td>\n",
       "      <td>00:00:00</td>\n",
       "      <td>2015-01-03</td>\n",
       "      <td>7005200009</td>\n",
       "      <td>12:18:54</td>\n",
       "      <td>174254</td>\n",
       "      <td>2015-01-03</td>\n",
       "      <td>12:02:32</td>\n",
       "      <td>12943</td>\n",
       "      <td>0.00</td>\n",
       "      <td>MARUTI SUZUKI</td>\n",
       "      <td>0.00</td>\n",
       "      <td>SWIFT DZIRE</td>\n",
       "      <td>7.005200e+09</td>\n",
       "      <td>0.00</td>\n",
       "      <td>Running Repairs</td>\n",
       "      <td>0.00</td>\n",
       "      <td>400606</td>\n",
       "      <td>BC01</td>\n",
       "      <td>THANE</td>\n",
       "      <td>NO</td>\n",
       "      <td>0.0</td>\n",
       "      <td>MH04FR8641</td>\n",
       "      <td>SAMEER</td>\n",
       "      <td>0.00</td>\n",
       "      <td>0.00</td>\n",
       "      <td>BC01SA2</td>\n",
       "      <td>2015-01-03 12:18:54</td>\n",
       "      <td>2015-01-03 12:02:32</td>\n",
       "      <td>0 days 00:16:22</td>\n",
       "    </tr>\n",
       "    <tr>\n",
       "      <th>8</th>\n",
       "      <td>THANE</td>\n",
       "      <td>THANE[W]</td>\n",
       "      <td>Retail</td>\n",
       "      <td>84511</td>\n",
       "      <td>Maharashtra</td>\n",
       "      <td>00:00:00</td>\n",
       "      <td>2015-01-03</td>\n",
       "      <td>7005200010</td>\n",
       "      <td>13:07:27</td>\n",
       "      <td>174162</td>\n",
       "      <td>2015-01-03</td>\n",
       "      <td>10:21:26</td>\n",
       "      <td>18563</td>\n",
       "      <td>0.00</td>\n",
       "      <td>TATA MOTORS</td>\n",
       "      <td>0.00</td>\n",
       "      <td>INDIGO</td>\n",
       "      <td>7.005200e+09</td>\n",
       "      <td>0.00</td>\n",
       "      <td>Running Repairs</td>\n",
       "      <td>0.00</td>\n",
       "      <td>400607</td>\n",
       "      <td>BC01</td>\n",
       "      <td>THANE</td>\n",
       "      <td>NO</td>\n",
       "      <td>0.0</td>\n",
       "      <td>MH05BJ558</td>\n",
       "      <td>HARSHAD</td>\n",
       "      <td>0.00</td>\n",
       "      <td>0.00</td>\n",
       "      <td>BC01SA1</td>\n",
       "      <td>2015-01-03 13:07:27</td>\n",
       "      <td>2015-01-03 10:21:26</td>\n",
       "      <td>0 days 02:46:01</td>\n",
       "    </tr>\n",
       "    <tr>\n",
       "      <th>9</th>\n",
       "      <td>THANE</td>\n",
       "      <td>THANE</td>\n",
       "      <td>Retail</td>\n",
       "      <td>84457</td>\n",
       "      <td>Maharashtra</td>\n",
       "      <td>00:00:00</td>\n",
       "      <td>2015-01-03</td>\n",
       "      <td>7005200011</td>\n",
       "      <td>15:54:21</td>\n",
       "      <td>174203</td>\n",
       "      <td>2015-01-03</td>\n",
       "      <td>11:11:00</td>\n",
       "      <td>5443</td>\n",
       "      <td>698.92</td>\n",
       "      <td>MARUTI SUZUKI</td>\n",
       "      <td>49.99</td>\n",
       "      <td>ALTO</td>\n",
       "      <td>7.005200e+09</td>\n",
       "      <td>499.95</td>\n",
       "      <td>Paid Service</td>\n",
       "      <td>2663.75</td>\n",
       "      <td>400603</td>\n",
       "      <td>BC01</td>\n",
       "      <td>THANE</td>\n",
       "      <td>NO</td>\n",
       "      <td>0.0</td>\n",
       "      <td>GA07E3439</td>\n",
       "      <td>DAYANAND</td>\n",
       "      <td>3912.61</td>\n",
       "      <td>3912.61</td>\n",
       "      <td>BC01SA1</td>\n",
       "      <td>2015-01-03 15:54:21</td>\n",
       "      <td>2015-01-03 11:11:00</td>\n",
       "      <td>0 days 04:43:21</td>\n",
       "    </tr>\n",
       "  </tbody>\n",
       "</table>\n",
       "</div>"
      ],
      "text/plain": [
       "  Area / Locality      CITY Cust Type Customer No.     District  \\\n",
       "0        MAJIWADA     Thane    Retail        67849  Maharashtra   \n",
       "1           THNAE     THNAE    Retail        84419  Maharashtra   \n",
       "2           THANE  THANE[W]    Retail        81055  Maharashtra   \n",
       "3           THNAE     THNAE    Retail        84419  Maharashtra   \n",
       "4           THANE     THANE    Retail        18980  Maharashtra   \n",
       "5           THANE     THANE    Retail        84457  Maharashtra   \n",
       "6      THANE WEST     THANE    Retail        12523  Maharashtra   \n",
       "7       G.B. ROAD     THANE    Retail        55220  Maharashtra   \n",
       "8           THANE  THANE[W]    Retail        84511  Maharashtra   \n",
       "9           THANE     THANE    Retail        84457  Maharashtra   \n",
       "\n",
       "  Gate Pass Time Invoice Date  Invoice No Invoice Time  Job Card No  \\\n",
       "0       00:00:00   2015-01-02  7005200002     11:30:36       168303   \n",
       "1       00:00:00   2015-01-03  7005200003     10:07:32       173997   \n",
       "2       00:00:00   2015-01-03  7005200004     11:12:57       173889   \n",
       "3       00:00:00   2015-01-03  7005200005     11:40:44       174158   \n",
       "4       00:00:00   2015-01-03  7005200006     12:07:17       173860   \n",
       "5       00:00:00   2015-01-03  7005200007     12:10:08       174053   \n",
       "6       00:00:00   2015-01-03  7005200008     12:12:31       173953   \n",
       "7       00:00:00   2015-01-03  7005200009     12:18:54       174254   \n",
       "8       00:00:00   2015-01-03  7005200010     13:07:27       174162   \n",
       "9       00:00:00   2015-01-03  7005200011     15:54:21       174203   \n",
       "\n",
       "  JobCard Date JobCard Time  KMs Reading  Labour Total            Make  \\\n",
       "0   2014-12-13     14:29:43        49317       1203.14  GENERAL MOTORS   \n",
       "1   2015-01-02     14:12:18        78584        804.26     TATA MOTORS   \n",
       "2   2015-01-02     11:40:44        33985        180.19   MARUTI SUZUKI   \n",
       "3   2015-01-03     10:12:32        78584          0.00     TATA MOTORS   \n",
       "4   2015-01-02     10:45:42        50057       1202.97         HYUNDAI   \n",
       "5   2015-01-02     15:15:10        13122          0.00          TOYOTA   \n",
       "6   2015-01-02     12:15:55        26964          0.00           HONDA   \n",
       "7   2015-01-03     12:02:32        12943          0.00   MARUTI SUZUKI   \n",
       "8   2015-01-03     10:21:26        18563          0.00     TATA MOTORS   \n",
       "9   2015-01-03     11:11:00         5443        698.92   MARUTI SUZUKI   \n",
       "\n",
       "   Misc Total        Model       ODN No.  OSL Total         Order Type  \\\n",
       "0        0.00        SPARK  7.005200e+09     500.06       Paid Service   \n",
       "1      197.03       INDICA  7.005200e+09       0.00  SMC Value Package   \n",
       "2        0.00          ZEN  7.005200e+09       0.00    Running Repairs   \n",
       "3        0.00       INDICA  7.005200e+09       0.00     SMC Redemption   \n",
       "4      100.00  SANTRO XING  7.005200e+09     499.99       Paid Service   \n",
       "5        0.00       INNOVA  7.005200e+09     851.70    Running Repairs   \n",
       "6        0.00         CITY  7.005200e+09     749.42    Running Repairs   \n",
       "7        0.00  SWIFT DZIRE  7.005200e+09       0.00    Running Repairs   \n",
       "8        0.00       INDIGO  7.005200e+09       0.00    Running Repairs   \n",
       "9       49.99         ALTO  7.005200e+09     499.95       Paid Service   \n",
       "\n",
       "   Parts Total  Pin code Plant Plant Name1 Print Status  Recovrbl Exp  \\\n",
       "0      2348.75    400601  BC01       THANE           NO           0.0   \n",
       "1         0.00    400603  BC01       THANE           NO           0.0   \n",
       "2        52.95    400607  BC01       THANE           NO           0.0   \n",
       "3         0.00    400603  BC01       THANE           NO           0.0   \n",
       "4       944.16    400603  BC01       THANE           NO           0.0   \n",
       "5        14.22    400603  BC01       THANE           NO           0.0   \n",
       "6         0.00    400607  BC01       THANE           NO           0.0   \n",
       "7         0.00    400606  BC01       THANE           NO           0.0   \n",
       "8         0.00    400607  BC01       THANE           NO           0.0   \n",
       "9      2663.75    400603  BC01       THANE           NO           0.0   \n",
       "\n",
       "      Regn No Technician Name  Total Amt Wtd Tax.  Total Value  User ID  \\\n",
       "0  KA19MA1291          RUPESH             4051.95      4051.95  BC01FS1   \n",
       "1   MH43R3046        PRASHANT             1001.29      1001.29  BC01SA2   \n",
       "2  AP09AX0582           IMRAN              233.14       233.14  BC01SA2   \n",
       "3   MH43R3046        PRASHANT                0.00         0.00  BC01SA2   \n",
       "4  MH04CD9768        DAYANAND             2747.12      2747.12  BC01SA2   \n",
       "5  MH04GM2960        DAYANAND              865.92       865.92  BC01SA2   \n",
       "6  MH06AL1935        PRASHANT              749.42       749.42  BC01SA2   \n",
       "7  MH04FR8641          SAMEER                0.00         0.00  BC01SA2   \n",
       "8   MH05BJ558         HARSHAD                0.00         0.00  BC01SA1   \n",
       "9   GA07E3439        DAYANAND             3912.61      3912.61  BC01SA1   \n",
       "\n",
       "    Invoice_Date_time  Job_Card_Date_time      Service TAT  \n",
       "0 2015-01-02 11:30:36 2014-12-13 14:29:43 19 days 21:00:53  \n",
       "1 2015-01-03 10:07:32 2015-01-02 14:12:18  0 days 19:55:14  \n",
       "2 2015-01-03 11:12:57 2015-01-02 11:40:44  0 days 23:32:13  \n",
       "3 2015-01-03 11:40:44 2015-01-03 10:12:32  0 days 01:28:12  \n",
       "4 2015-01-03 12:07:17 2015-01-02 10:45:42  1 days 01:21:35  \n",
       "5 2015-01-03 12:10:08 2015-01-02 15:15:10  0 days 20:54:58  \n",
       "6 2015-01-03 12:12:31 2015-01-02 12:15:55  0 days 23:56:36  \n",
       "7 2015-01-03 12:18:54 2015-01-03 12:02:32  0 days 00:16:22  \n",
       "8 2015-01-03 13:07:27 2015-01-03 10:21:26  0 days 02:46:01  \n",
       "9 2015-01-03 15:54:21 2015-01-03 11:11:00  0 days 04:43:21  "
      ]
     },
     "execution_count": 17,
     "metadata": {},
     "output_type": "execute_result"
    }
   ],
   "source": [
    "#Merging Invoice date and Invoice time column and Job card date and Job card time column and creating new Service TAT column\n",
    "Final_invoice[\"Invoice_Date_time\"] = Final_invoice[\"Invoice Date\"] + ' ' + Final_invoice[\"Invoice Time\"]\n",
    "Final_invoice[\"Job_Card_Date_time\"] = Final_invoice[\"JobCard Date\"] + ' ' + Final_invoice[\"JobCard Time\"]\n",
    "Final_invoice[\"Invoice_Date_time\"] = pd.to_datetime(Final_invoice[\"Invoice_Date_time\"])\n",
    "Final_invoice[\"Job_Card_Date_time\"] = pd.to_datetime(Final_invoice[\"Job_Card_Date_time\"])\n",
    "Final_invoice['Service TAT'] = Final_invoice[\"Invoice_Date_time\"]-Final_invoice[\"Job_Card_Date_time\"]\n",
    "Final_invoice.head(10)"
   ]
  },
  {
   "cell_type": "code",
   "execution_count": 18,
   "metadata": {},
   "outputs": [
    {
     "data": {
      "text/html": [
       "<div>\n",
       "<style scoped>\n",
       "    .dataframe tbody tr th:only-of-type {\n",
       "        vertical-align: middle;\n",
       "    }\n",
       "\n",
       "    .dataframe tbody tr th {\n",
       "        vertical-align: top;\n",
       "    }\n",
       "\n",
       "    .dataframe thead th {\n",
       "        text-align: right;\n",
       "    }\n",
       "</style>\n",
       "<table border=\"1\" class=\"dataframe\">\n",
       "  <thead>\n",
       "    <tr style=\"text-align: right;\">\n",
       "      <th></th>\n",
       "      <th>Area / Locality</th>\n",
       "      <th>CITY</th>\n",
       "      <th>Cust Type</th>\n",
       "      <th>Customer No.</th>\n",
       "      <th>District</th>\n",
       "      <th>Gate Pass Time</th>\n",
       "      <th>Invoice No</th>\n",
       "      <th>Job Card No</th>\n",
       "      <th>KMs Reading</th>\n",
       "      <th>Labour Total</th>\n",
       "      <th>Make</th>\n",
       "      <th>Misc Total</th>\n",
       "      <th>Model</th>\n",
       "      <th>ODN No.</th>\n",
       "      <th>OSL Total</th>\n",
       "      <th>Order Type</th>\n",
       "      <th>Parts Total</th>\n",
       "      <th>Pin code</th>\n",
       "      <th>Plant</th>\n",
       "      <th>Plant Name1</th>\n",
       "      <th>Print Status</th>\n",
       "      <th>Recovrbl Exp</th>\n",
       "      <th>Regn No</th>\n",
       "      <th>Technician Name</th>\n",
       "      <th>Total Amt Wtd Tax.</th>\n",
       "      <th>Total Value</th>\n",
       "      <th>User ID</th>\n",
       "      <th>Invoice_Date_time</th>\n",
       "      <th>Job_Card_Date_time</th>\n",
       "      <th>Service TAT</th>\n",
       "    </tr>\n",
       "  </thead>\n",
       "  <tbody>\n",
       "    <tr>\n",
       "      <th>0</th>\n",
       "      <td>MAJIWADA</td>\n",
       "      <td>Thane</td>\n",
       "      <td>Retail</td>\n",
       "      <td>67849</td>\n",
       "      <td>Maharashtra</td>\n",
       "      <td>00:00:00</td>\n",
       "      <td>7005200002</td>\n",
       "      <td>168303</td>\n",
       "      <td>49317</td>\n",
       "      <td>1203.14</td>\n",
       "      <td>GENERAL MOTORS</td>\n",
       "      <td>0.00</td>\n",
       "      <td>SPARK</td>\n",
       "      <td>7.005200e+09</td>\n",
       "      <td>500.06</td>\n",
       "      <td>Paid Service</td>\n",
       "      <td>2348.75</td>\n",
       "      <td>400601</td>\n",
       "      <td>BC01</td>\n",
       "      <td>THANE</td>\n",
       "      <td>NO</td>\n",
       "      <td>0.0</td>\n",
       "      <td>KA19MA1291</td>\n",
       "      <td>RUPESH</td>\n",
       "      <td>4051.95</td>\n",
       "      <td>4051.95</td>\n",
       "      <td>BC01FS1</td>\n",
       "      <td>2015-01-02 11:30:36</td>\n",
       "      <td>2014-12-13 14:29:43</td>\n",
       "      <td>19 days 21:00:53</td>\n",
       "    </tr>\n",
       "    <tr>\n",
       "      <th>1</th>\n",
       "      <td>THNAE</td>\n",
       "      <td>THNAE</td>\n",
       "      <td>Retail</td>\n",
       "      <td>84419</td>\n",
       "      <td>Maharashtra</td>\n",
       "      <td>00:00:00</td>\n",
       "      <td>7005200003</td>\n",
       "      <td>173997</td>\n",
       "      <td>78584</td>\n",
       "      <td>804.26</td>\n",
       "      <td>TATA MOTORS</td>\n",
       "      <td>197.03</td>\n",
       "      <td>INDICA</td>\n",
       "      <td>7.005200e+09</td>\n",
       "      <td>0.00</td>\n",
       "      <td>SMC Value Package</td>\n",
       "      <td>0.00</td>\n",
       "      <td>400603</td>\n",
       "      <td>BC01</td>\n",
       "      <td>THANE</td>\n",
       "      <td>NO</td>\n",
       "      <td>0.0</td>\n",
       "      <td>MH43R3046</td>\n",
       "      <td>PRASHANT</td>\n",
       "      <td>1001.29</td>\n",
       "      <td>1001.29</td>\n",
       "      <td>BC01SA2</td>\n",
       "      <td>2015-01-03 10:07:32</td>\n",
       "      <td>2015-01-02 14:12:18</td>\n",
       "      <td>0 days 19:55:14</td>\n",
       "    </tr>\n",
       "    <tr>\n",
       "      <th>2</th>\n",
       "      <td>THANE</td>\n",
       "      <td>THANE[W]</td>\n",
       "      <td>Retail</td>\n",
       "      <td>81055</td>\n",
       "      <td>Maharashtra</td>\n",
       "      <td>00:00:00</td>\n",
       "      <td>7005200004</td>\n",
       "      <td>173889</td>\n",
       "      <td>33985</td>\n",
       "      <td>180.19</td>\n",
       "      <td>MARUTI SUZUKI</td>\n",
       "      <td>0.00</td>\n",
       "      <td>ZEN</td>\n",
       "      <td>7.005200e+09</td>\n",
       "      <td>0.00</td>\n",
       "      <td>Running Repairs</td>\n",
       "      <td>52.95</td>\n",
       "      <td>400607</td>\n",
       "      <td>BC01</td>\n",
       "      <td>THANE</td>\n",
       "      <td>NO</td>\n",
       "      <td>0.0</td>\n",
       "      <td>AP09AX0582</td>\n",
       "      <td>IMRAN</td>\n",
       "      <td>233.14</td>\n",
       "      <td>233.14</td>\n",
       "      <td>BC01SA2</td>\n",
       "      <td>2015-01-03 11:12:57</td>\n",
       "      <td>2015-01-02 11:40:44</td>\n",
       "      <td>0 days 23:32:13</td>\n",
       "    </tr>\n",
       "    <tr>\n",
       "      <th>3</th>\n",
       "      <td>THNAE</td>\n",
       "      <td>THNAE</td>\n",
       "      <td>Retail</td>\n",
       "      <td>84419</td>\n",
       "      <td>Maharashtra</td>\n",
       "      <td>00:00:00</td>\n",
       "      <td>7005200005</td>\n",
       "      <td>174158</td>\n",
       "      <td>78584</td>\n",
       "      <td>0.00</td>\n",
       "      <td>TATA MOTORS</td>\n",
       "      <td>0.00</td>\n",
       "      <td>INDICA</td>\n",
       "      <td>7.005200e+09</td>\n",
       "      <td>0.00</td>\n",
       "      <td>SMC Redemption</td>\n",
       "      <td>0.00</td>\n",
       "      <td>400603</td>\n",
       "      <td>BC01</td>\n",
       "      <td>THANE</td>\n",
       "      <td>NO</td>\n",
       "      <td>0.0</td>\n",
       "      <td>MH43R3046</td>\n",
       "      <td>PRASHANT</td>\n",
       "      <td>0.00</td>\n",
       "      <td>0.00</td>\n",
       "      <td>BC01SA2</td>\n",
       "      <td>2015-01-03 11:40:44</td>\n",
       "      <td>2015-01-03 10:12:32</td>\n",
       "      <td>0 days 01:28:12</td>\n",
       "    </tr>\n",
       "    <tr>\n",
       "      <th>4</th>\n",
       "      <td>THANE</td>\n",
       "      <td>THANE</td>\n",
       "      <td>Retail</td>\n",
       "      <td>18980</td>\n",
       "      <td>Maharashtra</td>\n",
       "      <td>00:00:00</td>\n",
       "      <td>7005200006</td>\n",
       "      <td>173860</td>\n",
       "      <td>50057</td>\n",
       "      <td>1202.97</td>\n",
       "      <td>HYUNDAI</td>\n",
       "      <td>100.00</td>\n",
       "      <td>SANTRO XING</td>\n",
       "      <td>7.005200e+09</td>\n",
       "      <td>499.99</td>\n",
       "      <td>Paid Service</td>\n",
       "      <td>944.16</td>\n",
       "      <td>400603</td>\n",
       "      <td>BC01</td>\n",
       "      <td>THANE</td>\n",
       "      <td>NO</td>\n",
       "      <td>0.0</td>\n",
       "      <td>MH04CD9768</td>\n",
       "      <td>DAYANAND</td>\n",
       "      <td>2747.12</td>\n",
       "      <td>2747.12</td>\n",
       "      <td>BC01SA2</td>\n",
       "      <td>2015-01-03 12:07:17</td>\n",
       "      <td>2015-01-02 10:45:42</td>\n",
       "      <td>1 days 01:21:35</td>\n",
       "    </tr>\n",
       "  </tbody>\n",
       "</table>\n",
       "</div>"
      ],
      "text/plain": [
       "  Area / Locality      CITY Cust Type Customer No.     District  \\\n",
       "0        MAJIWADA     Thane    Retail        67849  Maharashtra   \n",
       "1           THNAE     THNAE    Retail        84419  Maharashtra   \n",
       "2           THANE  THANE[W]    Retail        81055  Maharashtra   \n",
       "3           THNAE     THNAE    Retail        84419  Maharashtra   \n",
       "4           THANE     THANE    Retail        18980  Maharashtra   \n",
       "\n",
       "  Gate Pass Time  Invoice No  Job Card No  KMs Reading  Labour Total  \\\n",
       "0       00:00:00  7005200002       168303        49317       1203.14   \n",
       "1       00:00:00  7005200003       173997        78584        804.26   \n",
       "2       00:00:00  7005200004       173889        33985        180.19   \n",
       "3       00:00:00  7005200005       174158        78584          0.00   \n",
       "4       00:00:00  7005200006       173860        50057       1202.97   \n",
       "\n",
       "             Make  Misc Total        Model       ODN No.  OSL Total  \\\n",
       "0  GENERAL MOTORS        0.00        SPARK  7.005200e+09     500.06   \n",
       "1     TATA MOTORS      197.03       INDICA  7.005200e+09       0.00   \n",
       "2   MARUTI SUZUKI        0.00          ZEN  7.005200e+09       0.00   \n",
       "3     TATA MOTORS        0.00       INDICA  7.005200e+09       0.00   \n",
       "4         HYUNDAI      100.00  SANTRO XING  7.005200e+09     499.99   \n",
       "\n",
       "          Order Type  Parts Total  Pin code Plant Plant Name1 Print Status  \\\n",
       "0       Paid Service      2348.75    400601  BC01       THANE           NO   \n",
       "1  SMC Value Package         0.00    400603  BC01       THANE           NO   \n",
       "2    Running Repairs        52.95    400607  BC01       THANE           NO   \n",
       "3     SMC Redemption         0.00    400603  BC01       THANE           NO   \n",
       "4       Paid Service       944.16    400603  BC01       THANE           NO   \n",
       "\n",
       "   Recovrbl Exp     Regn No Technician Name  Total Amt Wtd Tax.  Total Value  \\\n",
       "0           0.0  KA19MA1291          RUPESH             4051.95      4051.95   \n",
       "1           0.0   MH43R3046        PRASHANT             1001.29      1001.29   \n",
       "2           0.0  AP09AX0582           IMRAN              233.14       233.14   \n",
       "3           0.0   MH43R3046        PRASHANT                0.00         0.00   \n",
       "4           0.0  MH04CD9768        DAYANAND             2747.12      2747.12   \n",
       "\n",
       "   User ID   Invoice_Date_time  Job_Card_Date_time      Service TAT  \n",
       "0  BC01FS1 2015-01-02 11:30:36 2014-12-13 14:29:43 19 days 21:00:53  \n",
       "1  BC01SA2 2015-01-03 10:07:32 2015-01-02 14:12:18  0 days 19:55:14  \n",
       "2  BC01SA2 2015-01-03 11:12:57 2015-01-02 11:40:44  0 days 23:32:13  \n",
       "3  BC01SA2 2015-01-03 11:40:44 2015-01-03 10:12:32  0 days 01:28:12  \n",
       "4  BC01SA2 2015-01-03 12:07:17 2015-01-02 10:45:42  1 days 01:21:35  "
      ]
     },
     "execution_count": 18,
     "metadata": {},
     "output_type": "execute_result"
    }
   ],
   "source": [
    "Final_invoice.drop(['JobCard Date','JobCard Time','Invoice Date','Invoice Time'],axis=1,inplace=True)\n",
    "Final_invoice.head(5)"
   ]
  },
  {
   "cell_type": "code",
   "execution_count": 19,
   "metadata": {},
   "outputs": [
    {
     "data": {
      "text/html": [
       "<div>\n",
       "<style scoped>\n",
       "    .dataframe tbody tr th:only-of-type {\n",
       "        vertical-align: middle;\n",
       "    }\n",
       "\n",
       "    .dataframe tbody tr th {\n",
       "        vertical-align: top;\n",
       "    }\n",
       "\n",
       "    .dataframe thead th {\n",
       "        text-align: right;\n",
       "    }\n",
       "</style>\n",
       "<table border=\"1\" class=\"dataframe\">\n",
       "  <thead>\n",
       "    <tr style=\"text-align: right;\">\n",
       "      <th></th>\n",
       "      <th>DBM Order</th>\n",
       "      <th>Order Item</th>\n",
       "      <th>Material</th>\n",
       "      <th>Description</th>\n",
       "      <th>Item Category</th>\n",
       "      <th>Order Quantity</th>\n",
       "      <th>Target quantity UoM</th>\n",
       "      <th>Net value</th>\n",
       "    </tr>\n",
       "  </thead>\n",
       "  <tbody>\n",
       "    <tr>\n",
       "      <th>0</th>\n",
       "      <td>22385</td>\n",
       "      <td>180</td>\n",
       "      <td>OSLCC_SRV31</td>\n",
       "      <td>MACHINING RR.SUSPENSION CHARGE  (MAJOR)</td>\n",
       "      <td>P010</td>\n",
       "      <td>1.2</td>\n",
       "      <td>MIN</td>\n",
       "      <td>1869.87</td>\n",
       "    </tr>\n",
       "    <tr>\n",
       "      <th>1</th>\n",
       "      <td>23910</td>\n",
       "      <td>10</td>\n",
       "      <td>1DM279018170117</td>\n",
       "      <td>ASSY.OIL COOLER (6-PLATE) (VOR</td>\n",
       "      <td>P002</td>\n",
       "      <td>1.0</td>\n",
       "      <td>EA</td>\n",
       "      <td>2151.13</td>\n",
       "    </tr>\n",
       "    <tr>\n",
       "      <th>2</th>\n",
       "      <td>23910</td>\n",
       "      <td>40</td>\n",
       "      <td>1IS150203BE01</td>\n",
       "      <td>FRONT WHEEL BEARING/ LUBRICATE</td>\n",
       "      <td>P002</td>\n",
       "      <td>1.0</td>\n",
       "      <td>EA</td>\n",
       "      <td>2552.92</td>\n",
       "    </tr>\n",
       "    <tr>\n",
       "      <th>3</th>\n",
       "      <td>23910</td>\n",
       "      <td>60</td>\n",
       "      <td>1DM279001990173</td>\n",
       "      <td>ASSY.CYL.HEAD W /O INJ.(NA W /O</td>\n",
       "      <td>P002</td>\n",
       "      <td>1.0</td>\n",
       "      <td>EA</td>\n",
       "      <td>20360.14</td>\n",
       "    </tr>\n",
       "    <tr>\n",
       "      <th>4</th>\n",
       "      <td>23910</td>\n",
       "      <td>70</td>\n",
       "      <td>1DM88552790S001SA</td>\n",
       "      <td>Engine Overhaul Kit -Indica Di</td>\n",
       "      <td>P002</td>\n",
       "      <td>1.0</td>\n",
       "      <td>EA</td>\n",
       "      <td>10691.63</td>\n",
       "    </tr>\n",
       "    <tr>\n",
       "      <th>5</th>\n",
       "      <td>23910</td>\n",
       "      <td>80</td>\n",
       "      <td>1DS030401EN129</td>\n",
       "      <td>CYLINDER LINER</td>\n",
       "      <td>P002</td>\n",
       "      <td>1.0</td>\n",
       "      <td>EA</td>\n",
       "      <td>1155.56</td>\n",
       "    </tr>\n",
       "    <tr>\n",
       "      <th>6</th>\n",
       "      <td>23910</td>\n",
       "      <td>90</td>\n",
       "      <td>1DM279001150156</td>\n",
       "      <td>824.72 SY.CYL.HEAD COVER-PLAS</td>\n",
       "      <td>P002</td>\n",
       "      <td>1.0</td>\n",
       "      <td>EA</td>\n",
       "      <td>1827.57</td>\n",
       "    </tr>\n",
       "    <tr>\n",
       "      <th>7</th>\n",
       "      <td>23910</td>\n",
       "      <td>100</td>\n",
       "      <td>OSLCC_SRV33</td>\n",
       "      <td>MACHINING CYLINDER HEAD  (DIESEL)</td>\n",
       "      <td>P010</td>\n",
       "      <td>1.0</td>\n",
       "      <td>MIN</td>\n",
       "      <td>3379.98</td>\n",
       "    </tr>\n",
       "    <tr>\n",
       "      <th>8</th>\n",
       "      <td>23910</td>\n",
       "      <td>110</td>\n",
       "      <td>OSLCC_SRV34</td>\n",
       "      <td>MACHINING CYLINDER BLOCK  (DIESEL)</td>\n",
       "      <td>P010</td>\n",
       "      <td>1.0</td>\n",
       "      <td>MIN</td>\n",
       "      <td>5880.97</td>\n",
       "    </tr>\n",
       "    <tr>\n",
       "      <th>9</th>\n",
       "      <td>23910</td>\n",
       "      <td>120</td>\n",
       "      <td>RECO001</td>\n",
       "      <td>MISC_RECOVERABLE CHARGES</td>\n",
       "      <td>P011</td>\n",
       "      <td>1.0</td>\n",
       "      <td>MIN</td>\n",
       "      <td>1099.99</td>\n",
       "    </tr>\n",
       "  </tbody>\n",
       "</table>\n",
       "</div>"
      ],
      "text/plain": [
       "   DBM Order  Order Item           Material  \\\n",
       "0      22385         180        OSLCC_SRV31   \n",
       "1      23910          10    1DM279018170117   \n",
       "2      23910          40      1IS150203BE01   \n",
       "3      23910          60    1DM279001990173   \n",
       "4      23910          70  1DM88552790S001SA   \n",
       "5      23910          80     1DS030401EN129   \n",
       "6      23910          90    1DM279001150156   \n",
       "7      23910         100        OSLCC_SRV33   \n",
       "8      23910         110        OSLCC_SRV34   \n",
       "9      23910         120            RECO001   \n",
       "\n",
       "                               Description Item Category  Order Quantity  \\\n",
       "0  MACHINING RR.SUSPENSION CHARGE  (MAJOR)          P010             1.2   \n",
       "1           ASSY.OIL COOLER (6-PLATE) (VOR          P002             1.0   \n",
       "2           FRONT WHEEL BEARING/ LUBRICATE          P002             1.0   \n",
       "3          ASSY.CYL.HEAD W /O INJ.(NA W /O          P002             1.0   \n",
       "4           Engine Overhaul Kit -Indica Di          P002             1.0   \n",
       "5                           CYLINDER LINER          P002             1.0   \n",
       "6            824.72 SY.CYL.HEAD COVER-PLAS          P002             1.0   \n",
       "7        MACHINING CYLINDER HEAD  (DIESEL)          P010             1.0   \n",
       "8       MACHINING CYLINDER BLOCK  (DIESEL)          P010             1.0   \n",
       "9                 MISC_RECOVERABLE CHARGES          P011             1.0   \n",
       "\n",
       "  Target quantity UoM  Net value  \n",
       "0                 MIN    1869.87  \n",
       "1                  EA    2151.13  \n",
       "2                  EA    2552.92  \n",
       "3                  EA   20360.14  \n",
       "4                  EA   10691.63  \n",
       "5                  EA    1155.56  \n",
       "6                  EA    1827.57  \n",
       "7                 MIN    3379.98  \n",
       "8                 MIN    5880.97  \n",
       "9                 MIN    1099.99  "
      ]
     },
     "execution_count": 19,
     "metadata": {},
     "output_type": "execute_result"
    }
   ],
   "source": [
    "#Dropping column which has more than 50% missing values in JTD dataset\n",
    "\n",
    "JTD = JTD.drop(['Labor Value Number','Unnamed: 0'],axis=1)\n",
    "\n",
    "#Imputing missing values in JTD dataset\n",
    "\n",
    "JTD['Target quantity UoM'] = JTD['Target quantity UoM'].fillna(JTD['Target quantity UoM'].mode()[0])\n",
    "JTD['Description'] = JTD['Description'].fillna(JTD['Description'].mode()[0])\n",
    "JTD['Material'] = JTD['Material'].fillna(JTD['Material'].mode()[0])\n",
    "\n",
    "JTD.head(10)\n"
   ]
  },
  {
   "cell_type": "markdown",
   "metadata": {},
   "source": [
    "# Merging datasets"
   ]
  },
  {
   "cell_type": "code",
   "execution_count": 20,
   "metadata": {},
   "outputs": [
    {
     "data": {
      "text/plain": [
       "(492314, 33)"
      ]
     },
     "execution_count": 20,
     "metadata": {},
     "output_type": "execute_result"
    }
   ],
   "source": [
    "# Joining Customer_data and Final_invoice datasets\n",
    "customer_invoice = pd.merge(Final_invoice,Customer_data, how = 'left', on = 'Customer No.')\n",
    "customer_invoice.shape"
   ]
  },
  {
   "cell_type": "code",
   "execution_count": 21,
   "metadata": {},
   "outputs": [
    {
     "data": {
      "text/html": [
       "<div>\n",
       "<style scoped>\n",
       "    .dataframe tbody tr th:only-of-type {\n",
       "        vertical-align: middle;\n",
       "    }\n",
       "\n",
       "    .dataframe tbody tr th {\n",
       "        vertical-align: top;\n",
       "    }\n",
       "\n",
       "    .dataframe thead th {\n",
       "        text-align: right;\n",
       "    }\n",
       "</style>\n",
       "<table border=\"1\" class=\"dataframe\">\n",
       "  <thead>\n",
       "    <tr style=\"text-align: right;\">\n",
       "      <th></th>\n",
       "      <th>Area / Locality</th>\n",
       "      <th>CITY</th>\n",
       "      <th>Cust Type</th>\n",
       "      <th>Customer No.</th>\n",
       "      <th>District</th>\n",
       "      <th>Gate Pass Time</th>\n",
       "      <th>Invoice No</th>\n",
       "      <th>Job Card No</th>\n",
       "      <th>KMs Reading</th>\n",
       "      <th>Labour Total</th>\n",
       "      <th>Make</th>\n",
       "      <th>Misc Total</th>\n",
       "      <th>Model</th>\n",
       "      <th>ODN No.</th>\n",
       "      <th>OSL Total</th>\n",
       "      <th>Order Type</th>\n",
       "      <th>Parts Total</th>\n",
       "      <th>Pin code</th>\n",
       "      <th>Plant</th>\n",
       "      <th>Plant Name1</th>\n",
       "      <th>Print Status</th>\n",
       "      <th>Recovrbl Exp</th>\n",
       "      <th>Regn No</th>\n",
       "      <th>Technician Name</th>\n",
       "      <th>Total Amt Wtd Tax.</th>\n",
       "      <th>Total Value</th>\n",
       "      <th>User ID</th>\n",
       "      <th>Invoice_Date_time</th>\n",
       "      <th>Job_Card_Date_time</th>\n",
       "      <th>Service TAT</th>\n",
       "      <th>Business Partner</th>\n",
       "      <th>Partner Type</th>\n",
       "      <th>Data Origin</th>\n",
       "    </tr>\n",
       "  </thead>\n",
       "  <tbody>\n",
       "    <tr>\n",
       "      <th>0</th>\n",
       "      <td>MAJIWADA</td>\n",
       "      <td>Thane</td>\n",
       "      <td>Retail</td>\n",
       "      <td>67849</td>\n",
       "      <td>Maharashtra</td>\n",
       "      <td>00:00:00</td>\n",
       "      <td>7005200002</td>\n",
       "      <td>168303</td>\n",
       "      <td>49317</td>\n",
       "      <td>1203.14</td>\n",
       "      <td>GENERAL MOTORS</td>\n",
       "      <td>0.00</td>\n",
       "      <td>SPARK</td>\n",
       "      <td>7.005200e+09</td>\n",
       "      <td>500.06</td>\n",
       "      <td>Paid Service</td>\n",
       "      <td>2348.75</td>\n",
       "      <td>400601</td>\n",
       "      <td>BC01</td>\n",
       "      <td>THANE</td>\n",
       "      <td>NO</td>\n",
       "      <td>0.0</td>\n",
       "      <td>KA19MA1291</td>\n",
       "      <td>RUPESH</td>\n",
       "      <td>4051.95</td>\n",
       "      <td>4051.95</td>\n",
       "      <td>BC01FS1</td>\n",
       "      <td>2015-01-02 11:30:36</td>\n",
       "      <td>2014-12-13 14:29:43</td>\n",
       "      <td>19 days 21:00:53</td>\n",
       "      <td>NaN</td>\n",
       "      <td>NaN</td>\n",
       "      <td>NaN</td>\n",
       "    </tr>\n",
       "    <tr>\n",
       "      <th>1</th>\n",
       "      <td>THNAE</td>\n",
       "      <td>THNAE</td>\n",
       "      <td>Retail</td>\n",
       "      <td>84419</td>\n",
       "      <td>Maharashtra</td>\n",
       "      <td>00:00:00</td>\n",
       "      <td>7005200003</td>\n",
       "      <td>173997</td>\n",
       "      <td>78584</td>\n",
       "      <td>804.26</td>\n",
       "      <td>TATA MOTORS</td>\n",
       "      <td>197.03</td>\n",
       "      <td>INDICA</td>\n",
       "      <td>7.005200e+09</td>\n",
       "      <td>0.00</td>\n",
       "      <td>SMC Value Package</td>\n",
       "      <td>0.00</td>\n",
       "      <td>400603</td>\n",
       "      <td>BC01</td>\n",
       "      <td>THANE</td>\n",
       "      <td>NO</td>\n",
       "      <td>0.0</td>\n",
       "      <td>MH43R3046</td>\n",
       "      <td>PRASHANT</td>\n",
       "      <td>1001.29</td>\n",
       "      <td>1001.29</td>\n",
       "      <td>BC01SA2</td>\n",
       "      <td>2015-01-03 10:07:32</td>\n",
       "      <td>2015-01-02 14:12:18</td>\n",
       "      <td>0 days 19:55:14</td>\n",
       "      <td>NaN</td>\n",
       "      <td>NaN</td>\n",
       "      <td>NaN</td>\n",
       "    </tr>\n",
       "    <tr>\n",
       "      <th>2</th>\n",
       "      <td>THANE</td>\n",
       "      <td>THANE[W]</td>\n",
       "      <td>Retail</td>\n",
       "      <td>81055</td>\n",
       "      <td>Maharashtra</td>\n",
       "      <td>00:00:00</td>\n",
       "      <td>7005200004</td>\n",
       "      <td>173889</td>\n",
       "      <td>33985</td>\n",
       "      <td>180.19</td>\n",
       "      <td>MARUTI SUZUKI</td>\n",
       "      <td>0.00</td>\n",
       "      <td>ZEN</td>\n",
       "      <td>7.005200e+09</td>\n",
       "      <td>0.00</td>\n",
       "      <td>Running Repairs</td>\n",
       "      <td>52.95</td>\n",
       "      <td>400607</td>\n",
       "      <td>BC01</td>\n",
       "      <td>THANE</td>\n",
       "      <td>NO</td>\n",
       "      <td>0.0</td>\n",
       "      <td>AP09AX0582</td>\n",
       "      <td>IMRAN</td>\n",
       "      <td>233.14</td>\n",
       "      <td>233.14</td>\n",
       "      <td>BC01SA2</td>\n",
       "      <td>2015-01-03 11:12:57</td>\n",
       "      <td>2015-01-02 11:40:44</td>\n",
       "      <td>0 days 23:32:13</td>\n",
       "      <td>NaN</td>\n",
       "      <td>NaN</td>\n",
       "      <td>NaN</td>\n",
       "    </tr>\n",
       "    <tr>\n",
       "      <th>3</th>\n",
       "      <td>THNAE</td>\n",
       "      <td>THNAE</td>\n",
       "      <td>Retail</td>\n",
       "      <td>84419</td>\n",
       "      <td>Maharashtra</td>\n",
       "      <td>00:00:00</td>\n",
       "      <td>7005200005</td>\n",
       "      <td>174158</td>\n",
       "      <td>78584</td>\n",
       "      <td>0.00</td>\n",
       "      <td>TATA MOTORS</td>\n",
       "      <td>0.00</td>\n",
       "      <td>INDICA</td>\n",
       "      <td>7.005200e+09</td>\n",
       "      <td>0.00</td>\n",
       "      <td>SMC Redemption</td>\n",
       "      <td>0.00</td>\n",
       "      <td>400603</td>\n",
       "      <td>BC01</td>\n",
       "      <td>THANE</td>\n",
       "      <td>NO</td>\n",
       "      <td>0.0</td>\n",
       "      <td>MH43R3046</td>\n",
       "      <td>PRASHANT</td>\n",
       "      <td>0.00</td>\n",
       "      <td>0.00</td>\n",
       "      <td>BC01SA2</td>\n",
       "      <td>2015-01-03 11:40:44</td>\n",
       "      <td>2015-01-03 10:12:32</td>\n",
       "      <td>0 days 01:28:12</td>\n",
       "      <td>NaN</td>\n",
       "      <td>NaN</td>\n",
       "      <td>NaN</td>\n",
       "    </tr>\n",
       "    <tr>\n",
       "      <th>4</th>\n",
       "      <td>THANE</td>\n",
       "      <td>THANE</td>\n",
       "      <td>Retail</td>\n",
       "      <td>18980</td>\n",
       "      <td>Maharashtra</td>\n",
       "      <td>00:00:00</td>\n",
       "      <td>7005200006</td>\n",
       "      <td>173860</td>\n",
       "      <td>50057</td>\n",
       "      <td>1202.97</td>\n",
       "      <td>HYUNDAI</td>\n",
       "      <td>100.00</td>\n",
       "      <td>SANTRO XING</td>\n",
       "      <td>7.005200e+09</td>\n",
       "      <td>499.99</td>\n",
       "      <td>Paid Service</td>\n",
       "      <td>944.16</td>\n",
       "      <td>400603</td>\n",
       "      <td>BC01</td>\n",
       "      <td>THANE</td>\n",
       "      <td>NO</td>\n",
       "      <td>0.0</td>\n",
       "      <td>MH04CD9768</td>\n",
       "      <td>DAYANAND</td>\n",
       "      <td>2747.12</td>\n",
       "      <td>2747.12</td>\n",
       "      <td>BC01SA2</td>\n",
       "      <td>2015-01-03 12:07:17</td>\n",
       "      <td>2015-01-02 10:45:42</td>\n",
       "      <td>1 days 01:21:35</td>\n",
       "      <td>NaN</td>\n",
       "      <td>NaN</td>\n",
       "      <td>NaN</td>\n",
       "    </tr>\n",
       "    <tr>\n",
       "      <th>5</th>\n",
       "      <td>THANE</td>\n",
       "      <td>THANE</td>\n",
       "      <td>Retail</td>\n",
       "      <td>84457</td>\n",
       "      <td>Maharashtra</td>\n",
       "      <td>00:00:00</td>\n",
       "      <td>7005200007</td>\n",
       "      <td>174053</td>\n",
       "      <td>13122</td>\n",
       "      <td>0.00</td>\n",
       "      <td>TOYOTA</td>\n",
       "      <td>0.00</td>\n",
       "      <td>INNOVA</td>\n",
       "      <td>7.005200e+09</td>\n",
       "      <td>851.70</td>\n",
       "      <td>Running Repairs</td>\n",
       "      <td>14.22</td>\n",
       "      <td>400603</td>\n",
       "      <td>BC01</td>\n",
       "      <td>THANE</td>\n",
       "      <td>NO</td>\n",
       "      <td>0.0</td>\n",
       "      <td>MH04GM2960</td>\n",
       "      <td>DAYANAND</td>\n",
       "      <td>865.92</td>\n",
       "      <td>865.92</td>\n",
       "      <td>BC01SA2</td>\n",
       "      <td>2015-01-03 12:10:08</td>\n",
       "      <td>2015-01-02 15:15:10</td>\n",
       "      <td>0 days 20:54:58</td>\n",
       "      <td>NaN</td>\n",
       "      <td>NaN</td>\n",
       "      <td>NaN</td>\n",
       "    </tr>\n",
       "    <tr>\n",
       "      <th>6</th>\n",
       "      <td>THANE WEST</td>\n",
       "      <td>THANE</td>\n",
       "      <td>Retail</td>\n",
       "      <td>12523</td>\n",
       "      <td>Maharashtra</td>\n",
       "      <td>00:00:00</td>\n",
       "      <td>7005200008</td>\n",
       "      <td>173953</td>\n",
       "      <td>26964</td>\n",
       "      <td>0.00</td>\n",
       "      <td>HONDA</td>\n",
       "      <td>0.00</td>\n",
       "      <td>CITY</td>\n",
       "      <td>7.005200e+09</td>\n",
       "      <td>749.42</td>\n",
       "      <td>Running Repairs</td>\n",
       "      <td>0.00</td>\n",
       "      <td>400607</td>\n",
       "      <td>BC01</td>\n",
       "      <td>THANE</td>\n",
       "      <td>NO</td>\n",
       "      <td>0.0</td>\n",
       "      <td>MH06AL1935</td>\n",
       "      <td>PRASHANT</td>\n",
       "      <td>749.42</td>\n",
       "      <td>749.42</td>\n",
       "      <td>BC01SA2</td>\n",
       "      <td>2015-01-03 12:12:31</td>\n",
       "      <td>2015-01-02 12:15:55</td>\n",
       "      <td>0 days 23:56:36</td>\n",
       "      <td>NaN</td>\n",
       "      <td>NaN</td>\n",
       "      <td>NaN</td>\n",
       "    </tr>\n",
       "    <tr>\n",
       "      <th>7</th>\n",
       "      <td>G.B. ROAD</td>\n",
       "      <td>THANE</td>\n",
       "      <td>Retail</td>\n",
       "      <td>55220</td>\n",
       "      <td>Maharashtra</td>\n",
       "      <td>00:00:00</td>\n",
       "      <td>7005200009</td>\n",
       "      <td>174254</td>\n",
       "      <td>12943</td>\n",
       "      <td>0.00</td>\n",
       "      <td>MARUTI SUZUKI</td>\n",
       "      <td>0.00</td>\n",
       "      <td>SWIFT DZIRE</td>\n",
       "      <td>7.005200e+09</td>\n",
       "      <td>0.00</td>\n",
       "      <td>Running Repairs</td>\n",
       "      <td>0.00</td>\n",
       "      <td>400606</td>\n",
       "      <td>BC01</td>\n",
       "      <td>THANE</td>\n",
       "      <td>NO</td>\n",
       "      <td>0.0</td>\n",
       "      <td>MH04FR8641</td>\n",
       "      <td>SAMEER</td>\n",
       "      <td>0.00</td>\n",
       "      <td>0.00</td>\n",
       "      <td>BC01SA2</td>\n",
       "      <td>2015-01-03 12:18:54</td>\n",
       "      <td>2015-01-03 12:02:32</td>\n",
       "      <td>0 days 00:16:22</td>\n",
       "      <td>NaN</td>\n",
       "      <td>NaN</td>\n",
       "      <td>NaN</td>\n",
       "    </tr>\n",
       "    <tr>\n",
       "      <th>8</th>\n",
       "      <td>THANE</td>\n",
       "      <td>THANE[W]</td>\n",
       "      <td>Retail</td>\n",
       "      <td>84511</td>\n",
       "      <td>Maharashtra</td>\n",
       "      <td>00:00:00</td>\n",
       "      <td>7005200010</td>\n",
       "      <td>174162</td>\n",
       "      <td>18563</td>\n",
       "      <td>0.00</td>\n",
       "      <td>TATA MOTORS</td>\n",
       "      <td>0.00</td>\n",
       "      <td>INDIGO</td>\n",
       "      <td>7.005200e+09</td>\n",
       "      <td>0.00</td>\n",
       "      <td>Running Repairs</td>\n",
       "      <td>0.00</td>\n",
       "      <td>400607</td>\n",
       "      <td>BC01</td>\n",
       "      <td>THANE</td>\n",
       "      <td>NO</td>\n",
       "      <td>0.0</td>\n",
       "      <td>MH05BJ558</td>\n",
       "      <td>HARSHAD</td>\n",
       "      <td>0.00</td>\n",
       "      <td>0.00</td>\n",
       "      <td>BC01SA1</td>\n",
       "      <td>2015-01-03 13:07:27</td>\n",
       "      <td>2015-01-03 10:21:26</td>\n",
       "      <td>0 days 02:46:01</td>\n",
       "      <td>NaN</td>\n",
       "      <td>NaN</td>\n",
       "      <td>NaN</td>\n",
       "    </tr>\n",
       "    <tr>\n",
       "      <th>9</th>\n",
       "      <td>THANE</td>\n",
       "      <td>THANE</td>\n",
       "      <td>Retail</td>\n",
       "      <td>84457</td>\n",
       "      <td>Maharashtra</td>\n",
       "      <td>00:00:00</td>\n",
       "      <td>7005200011</td>\n",
       "      <td>174203</td>\n",
       "      <td>5443</td>\n",
       "      <td>698.92</td>\n",
       "      <td>MARUTI SUZUKI</td>\n",
       "      <td>49.99</td>\n",
       "      <td>ALTO</td>\n",
       "      <td>7.005200e+09</td>\n",
       "      <td>499.95</td>\n",
       "      <td>Paid Service</td>\n",
       "      <td>2663.75</td>\n",
       "      <td>400603</td>\n",
       "      <td>BC01</td>\n",
       "      <td>THANE</td>\n",
       "      <td>NO</td>\n",
       "      <td>0.0</td>\n",
       "      <td>GA07E3439</td>\n",
       "      <td>DAYANAND</td>\n",
       "      <td>3912.61</td>\n",
       "      <td>3912.61</td>\n",
       "      <td>BC01SA1</td>\n",
       "      <td>2015-01-03 15:54:21</td>\n",
       "      <td>2015-01-03 11:11:00</td>\n",
       "      <td>0 days 04:43:21</td>\n",
       "      <td>NaN</td>\n",
       "      <td>NaN</td>\n",
       "      <td>NaN</td>\n",
       "    </tr>\n",
       "  </tbody>\n",
       "</table>\n",
       "</div>"
      ],
      "text/plain": [
       "  Area / Locality      CITY Cust Type Customer No.     District  \\\n",
       "0        MAJIWADA     Thane    Retail        67849  Maharashtra   \n",
       "1           THNAE     THNAE    Retail        84419  Maharashtra   \n",
       "2           THANE  THANE[W]    Retail        81055  Maharashtra   \n",
       "3           THNAE     THNAE    Retail        84419  Maharashtra   \n",
       "4           THANE     THANE    Retail        18980  Maharashtra   \n",
       "5           THANE     THANE    Retail        84457  Maharashtra   \n",
       "6      THANE WEST     THANE    Retail        12523  Maharashtra   \n",
       "7       G.B. ROAD     THANE    Retail        55220  Maharashtra   \n",
       "8           THANE  THANE[W]    Retail        84511  Maharashtra   \n",
       "9           THANE     THANE    Retail        84457  Maharashtra   \n",
       "\n",
       "  Gate Pass Time  Invoice No  Job Card No  KMs Reading  Labour Total  \\\n",
       "0       00:00:00  7005200002       168303        49317       1203.14   \n",
       "1       00:00:00  7005200003       173997        78584        804.26   \n",
       "2       00:00:00  7005200004       173889        33985        180.19   \n",
       "3       00:00:00  7005200005       174158        78584          0.00   \n",
       "4       00:00:00  7005200006       173860        50057       1202.97   \n",
       "5       00:00:00  7005200007       174053        13122          0.00   \n",
       "6       00:00:00  7005200008       173953        26964          0.00   \n",
       "7       00:00:00  7005200009       174254        12943          0.00   \n",
       "8       00:00:00  7005200010       174162        18563          0.00   \n",
       "9       00:00:00  7005200011       174203         5443        698.92   \n",
       "\n",
       "             Make  Misc Total        Model       ODN No.  OSL Total  \\\n",
       "0  GENERAL MOTORS        0.00        SPARK  7.005200e+09     500.06   \n",
       "1     TATA MOTORS      197.03       INDICA  7.005200e+09       0.00   \n",
       "2   MARUTI SUZUKI        0.00          ZEN  7.005200e+09       0.00   \n",
       "3     TATA MOTORS        0.00       INDICA  7.005200e+09       0.00   \n",
       "4         HYUNDAI      100.00  SANTRO XING  7.005200e+09     499.99   \n",
       "5          TOYOTA        0.00       INNOVA  7.005200e+09     851.70   \n",
       "6           HONDA        0.00         CITY  7.005200e+09     749.42   \n",
       "7   MARUTI SUZUKI        0.00  SWIFT DZIRE  7.005200e+09       0.00   \n",
       "8     TATA MOTORS        0.00       INDIGO  7.005200e+09       0.00   \n",
       "9   MARUTI SUZUKI       49.99         ALTO  7.005200e+09     499.95   \n",
       "\n",
       "          Order Type  Parts Total  Pin code Plant Plant Name1 Print Status  \\\n",
       "0       Paid Service      2348.75    400601  BC01       THANE           NO   \n",
       "1  SMC Value Package         0.00    400603  BC01       THANE           NO   \n",
       "2    Running Repairs        52.95    400607  BC01       THANE           NO   \n",
       "3     SMC Redemption         0.00    400603  BC01       THANE           NO   \n",
       "4       Paid Service       944.16    400603  BC01       THANE           NO   \n",
       "5    Running Repairs        14.22    400603  BC01       THANE           NO   \n",
       "6    Running Repairs         0.00    400607  BC01       THANE           NO   \n",
       "7    Running Repairs         0.00    400606  BC01       THANE           NO   \n",
       "8    Running Repairs         0.00    400607  BC01       THANE           NO   \n",
       "9       Paid Service      2663.75    400603  BC01       THANE           NO   \n",
       "\n",
       "   Recovrbl Exp     Regn No Technician Name  Total Amt Wtd Tax.  Total Value  \\\n",
       "0           0.0  KA19MA1291          RUPESH             4051.95      4051.95   \n",
       "1           0.0   MH43R3046        PRASHANT             1001.29      1001.29   \n",
       "2           0.0  AP09AX0582           IMRAN              233.14       233.14   \n",
       "3           0.0   MH43R3046        PRASHANT                0.00         0.00   \n",
       "4           0.0  MH04CD9768        DAYANAND             2747.12      2747.12   \n",
       "5           0.0  MH04GM2960        DAYANAND              865.92       865.92   \n",
       "6           0.0  MH06AL1935        PRASHANT              749.42       749.42   \n",
       "7           0.0  MH04FR8641          SAMEER                0.00         0.00   \n",
       "8           0.0   MH05BJ558         HARSHAD                0.00         0.00   \n",
       "9           0.0   GA07E3439        DAYANAND             3912.61      3912.61   \n",
       "\n",
       "   User ID   Invoice_Date_time  Job_Card_Date_time      Service TAT  \\\n",
       "0  BC01FS1 2015-01-02 11:30:36 2014-12-13 14:29:43 19 days 21:00:53   \n",
       "1  BC01SA2 2015-01-03 10:07:32 2015-01-02 14:12:18  0 days 19:55:14   \n",
       "2  BC01SA2 2015-01-03 11:12:57 2015-01-02 11:40:44  0 days 23:32:13   \n",
       "3  BC01SA2 2015-01-03 11:40:44 2015-01-03 10:12:32  0 days 01:28:12   \n",
       "4  BC01SA2 2015-01-03 12:07:17 2015-01-02 10:45:42  1 days 01:21:35   \n",
       "5  BC01SA2 2015-01-03 12:10:08 2015-01-02 15:15:10  0 days 20:54:58   \n",
       "6  BC01SA2 2015-01-03 12:12:31 2015-01-02 12:15:55  0 days 23:56:36   \n",
       "7  BC01SA2 2015-01-03 12:18:54 2015-01-03 12:02:32  0 days 00:16:22   \n",
       "8  BC01SA1 2015-01-03 13:07:27 2015-01-03 10:21:26  0 days 02:46:01   \n",
       "9  BC01SA1 2015-01-03 15:54:21 2015-01-03 11:11:00  0 days 04:43:21   \n",
       "\n",
       "  Business Partner  Partner Type Data Origin  \n",
       "0              NaN           NaN         NaN  \n",
       "1              NaN           NaN         NaN  \n",
       "2              NaN           NaN         NaN  \n",
       "3              NaN           NaN         NaN  \n",
       "4              NaN           NaN         NaN  \n",
       "5              NaN           NaN         NaN  \n",
       "6              NaN           NaN         NaN  \n",
       "7              NaN           NaN         NaN  \n",
       "8              NaN           NaN         NaN  \n",
       "9              NaN           NaN         NaN  "
      ]
     },
     "execution_count": 21,
     "metadata": {},
     "output_type": "execute_result"
    }
   ],
   "source": [
    "customer_invoice.head(10)"
   ]
  },
  {
   "cell_type": "code",
   "execution_count": 22,
   "metadata": {},
   "outputs": [
    {
     "data": {
      "text/html": [
       "<div>\n",
       "<style scoped>\n",
       "    .dataframe tbody tr th:only-of-type {\n",
       "        vertical-align: middle;\n",
       "    }\n",
       "\n",
       "    .dataframe tbody tr th {\n",
       "        vertical-align: top;\n",
       "    }\n",
       "\n",
       "    .dataframe thead th {\n",
       "        text-align: right;\n",
       "    }\n",
       "</style>\n",
       "<table border=\"1\" class=\"dataframe\">\n",
       "  <thead>\n",
       "    <tr style=\"text-align: right;\">\n",
       "      <th></th>\n",
       "      <th>DBM Order</th>\n",
       "      <th>Order Item</th>\n",
       "      <th>Material</th>\n",
       "      <th>Description</th>\n",
       "      <th>Item Category</th>\n",
       "      <th>Order Quantity</th>\n",
       "      <th>Target quantity UoM</th>\n",
       "      <th>Net value</th>\n",
       "    </tr>\n",
       "  </thead>\n",
       "  <tbody>\n",
       "    <tr>\n",
       "      <th>0</th>\n",
       "      <td>22385</td>\n",
       "      <td>180</td>\n",
       "      <td>OSLCC_SRV31</td>\n",
       "      <td>MACHINING RR.SUSPENSION CHARGE  (MAJOR)</td>\n",
       "      <td>P010</td>\n",
       "      <td>1.2</td>\n",
       "      <td>MIN</td>\n",
       "      <td>1869.87</td>\n",
       "    </tr>\n",
       "    <tr>\n",
       "      <th>1</th>\n",
       "      <td>23910</td>\n",
       "      <td>10</td>\n",
       "      <td>1DM279018170117</td>\n",
       "      <td>ASSY.OIL COOLER (6-PLATE) (VOR</td>\n",
       "      <td>P002</td>\n",
       "      <td>1.0</td>\n",
       "      <td>EA</td>\n",
       "      <td>2151.13</td>\n",
       "    </tr>\n",
       "    <tr>\n",
       "      <th>2</th>\n",
       "      <td>23910</td>\n",
       "      <td>40</td>\n",
       "      <td>1IS150203BE01</td>\n",
       "      <td>FRONT WHEEL BEARING/ LUBRICATE</td>\n",
       "      <td>P002</td>\n",
       "      <td>1.0</td>\n",
       "      <td>EA</td>\n",
       "      <td>2552.92</td>\n",
       "    </tr>\n",
       "    <tr>\n",
       "      <th>3</th>\n",
       "      <td>23910</td>\n",
       "      <td>60</td>\n",
       "      <td>1DM279001990173</td>\n",
       "      <td>ASSY.CYL.HEAD W /O INJ.(NA W /O</td>\n",
       "      <td>P002</td>\n",
       "      <td>1.0</td>\n",
       "      <td>EA</td>\n",
       "      <td>20360.14</td>\n",
       "    </tr>\n",
       "    <tr>\n",
       "      <th>4</th>\n",
       "      <td>23910</td>\n",
       "      <td>70</td>\n",
       "      <td>1DM88552790S001SA</td>\n",
       "      <td>Engine Overhaul Kit -Indica Di</td>\n",
       "      <td>P002</td>\n",
       "      <td>1.0</td>\n",
       "      <td>EA</td>\n",
       "      <td>10691.63</td>\n",
       "    </tr>\n",
       "    <tr>\n",
       "      <th>5</th>\n",
       "      <td>23910</td>\n",
       "      <td>80</td>\n",
       "      <td>1DS030401EN129</td>\n",
       "      <td>CYLINDER LINER</td>\n",
       "      <td>P002</td>\n",
       "      <td>1.0</td>\n",
       "      <td>EA</td>\n",
       "      <td>1155.56</td>\n",
       "    </tr>\n",
       "    <tr>\n",
       "      <th>6</th>\n",
       "      <td>23910</td>\n",
       "      <td>90</td>\n",
       "      <td>1DM279001150156</td>\n",
       "      <td>824.72 SY.CYL.HEAD COVER-PLAS</td>\n",
       "      <td>P002</td>\n",
       "      <td>1.0</td>\n",
       "      <td>EA</td>\n",
       "      <td>1827.57</td>\n",
       "    </tr>\n",
       "    <tr>\n",
       "      <th>7</th>\n",
       "      <td>23910</td>\n",
       "      <td>100</td>\n",
       "      <td>OSLCC_SRV33</td>\n",
       "      <td>MACHINING CYLINDER HEAD  (DIESEL)</td>\n",
       "      <td>P010</td>\n",
       "      <td>1.0</td>\n",
       "      <td>MIN</td>\n",
       "      <td>3379.98</td>\n",
       "    </tr>\n",
       "    <tr>\n",
       "      <th>8</th>\n",
       "      <td>23910</td>\n",
       "      <td>110</td>\n",
       "      <td>OSLCC_SRV34</td>\n",
       "      <td>MACHINING CYLINDER BLOCK  (DIESEL)</td>\n",
       "      <td>P010</td>\n",
       "      <td>1.0</td>\n",
       "      <td>MIN</td>\n",
       "      <td>5880.97</td>\n",
       "    </tr>\n",
       "    <tr>\n",
       "      <th>9</th>\n",
       "      <td>23910</td>\n",
       "      <td>120</td>\n",
       "      <td>RECO001</td>\n",
       "      <td>MISC_RECOVERABLE CHARGES</td>\n",
       "      <td>P011</td>\n",
       "      <td>1.0</td>\n",
       "      <td>MIN</td>\n",
       "      <td>1099.99</td>\n",
       "    </tr>\n",
       "  </tbody>\n",
       "</table>\n",
       "</div>"
      ],
      "text/plain": [
       "   DBM Order  Order Item           Material  \\\n",
       "0      22385         180        OSLCC_SRV31   \n",
       "1      23910          10    1DM279018170117   \n",
       "2      23910          40      1IS150203BE01   \n",
       "3      23910          60    1DM279001990173   \n",
       "4      23910          70  1DM88552790S001SA   \n",
       "5      23910          80     1DS030401EN129   \n",
       "6      23910          90    1DM279001150156   \n",
       "7      23910         100        OSLCC_SRV33   \n",
       "8      23910         110        OSLCC_SRV34   \n",
       "9      23910         120            RECO001   \n",
       "\n",
       "                               Description Item Category  Order Quantity  \\\n",
       "0  MACHINING RR.SUSPENSION CHARGE  (MAJOR)          P010             1.2   \n",
       "1           ASSY.OIL COOLER (6-PLATE) (VOR          P002             1.0   \n",
       "2           FRONT WHEEL BEARING/ LUBRICATE          P002             1.0   \n",
       "3          ASSY.CYL.HEAD W /O INJ.(NA W /O          P002             1.0   \n",
       "4           Engine Overhaul Kit -Indica Di          P002             1.0   \n",
       "5                           CYLINDER LINER          P002             1.0   \n",
       "6            824.72 SY.CYL.HEAD COVER-PLAS          P002             1.0   \n",
       "7        MACHINING CYLINDER HEAD  (DIESEL)          P010             1.0   \n",
       "8       MACHINING CYLINDER BLOCK  (DIESEL)          P010             1.0   \n",
       "9                 MISC_RECOVERABLE CHARGES          P011             1.0   \n",
       "\n",
       "  Target quantity UoM  Net value  \n",
       "0                 MIN    1869.87  \n",
       "1                  EA    2151.13  \n",
       "2                  EA    2552.92  \n",
       "3                  EA   20360.14  \n",
       "4                  EA   10691.63  \n",
       "5                  EA    1155.56  \n",
       "6                  EA    1827.57  \n",
       "7                 MIN    3379.98  \n",
       "8                 MIN    5880.97  \n",
       "9                 MIN    1099.99  "
      ]
     },
     "execution_count": 22,
     "metadata": {},
     "output_type": "execute_result"
    }
   ],
   "source": [
    "# Now we wil join customer_invoice with JTD dataset\n",
    "JTD.head(10)"
   ]
  },
  {
   "cell_type": "code",
   "execution_count": 23,
   "metadata": {},
   "outputs": [
    {
     "data": {
      "text/html": [
       "<div>\n",
       "<style scoped>\n",
       "    .dataframe tbody tr th:only-of-type {\n",
       "        vertical-align: middle;\n",
       "    }\n",
       "\n",
       "    .dataframe tbody tr th {\n",
       "        vertical-align: top;\n",
       "    }\n",
       "\n",
       "    .dataframe thead th {\n",
       "        text-align: right;\n",
       "    }\n",
       "</style>\n",
       "<table border=\"1\" class=\"dataframe\">\n",
       "  <thead>\n",
       "    <tr style=\"text-align: right;\">\n",
       "      <th></th>\n",
       "      <th>DBM Order</th>\n",
       "      <th>Item Category</th>\n",
       "      <th>Net value</th>\n",
       "      <th>Order Quantity</th>\n",
       "    </tr>\n",
       "  </thead>\n",
       "  <tbody>\n",
       "    <tr>\n",
       "      <th>0</th>\n",
       "      <td>4</td>\n",
       "      <td>P001</td>\n",
       "      <td>3455.92</td>\n",
       "      <td>714.0</td>\n",
       "    </tr>\n",
       "    <tr>\n",
       "      <th>1</th>\n",
       "      <td>4</td>\n",
       "      <td>P002</td>\n",
       "      <td>11042.62</td>\n",
       "      <td>15.6</td>\n",
       "    </tr>\n",
       "    <tr>\n",
       "      <th>2</th>\n",
       "      <td>4</td>\n",
       "      <td>P010</td>\n",
       "      <td>2399.95</td>\n",
       "      <td>1.0</td>\n",
       "    </tr>\n",
       "    <tr>\n",
       "      <th>3</th>\n",
       "      <td>4</td>\n",
       "      <td>P011</td>\n",
       "      <td>100.00</td>\n",
       "      <td>1.0</td>\n",
       "    </tr>\n",
       "    <tr>\n",
       "      <th>4</th>\n",
       "      <td>5</td>\n",
       "      <td>P001</td>\n",
       "      <td>2310.47</td>\n",
       "      <td>283.0</td>\n",
       "    </tr>\n",
       "    <tr>\n",
       "      <th>5</th>\n",
       "      <td>5</td>\n",
       "      <td>P002</td>\n",
       "      <td>1469.33</td>\n",
       "      <td>7.2</td>\n",
       "    </tr>\n",
       "    <tr>\n",
       "      <th>6</th>\n",
       "      <td>6</td>\n",
       "      <td>P001</td>\n",
       "      <td>1340.37</td>\n",
       "      <td>109.0</td>\n",
       "    </tr>\n",
       "    <tr>\n",
       "      <th>7</th>\n",
       "      <td>7</td>\n",
       "      <td>P001</td>\n",
       "      <td>167.36</td>\n",
       "      <td>36.5</td>\n",
       "    </tr>\n",
       "    <tr>\n",
       "      <th>8</th>\n",
       "      <td>8</td>\n",
       "      <td>P001</td>\n",
       "      <td>200.02</td>\n",
       "      <td>60.0</td>\n",
       "    </tr>\n",
       "    <tr>\n",
       "      <th>9</th>\n",
       "      <td>8</td>\n",
       "      <td>P002</td>\n",
       "      <td>2106.92</td>\n",
       "      <td>9.0</td>\n",
       "    </tr>\n",
       "  </tbody>\n",
       "</table>\n",
       "</div>"
      ],
      "text/plain": [
       "   DBM Order Item Category  Net value  Order Quantity\n",
       "0          4          P001    3455.92           714.0\n",
       "1          4          P002   11042.62            15.6\n",
       "2          4          P010    2399.95             1.0\n",
       "3          4          P011     100.00             1.0\n",
       "4          5          P001    2310.47           283.0\n",
       "5          5          P002    1469.33             7.2\n",
       "6          6          P001    1340.37           109.0\n",
       "7          7          P001     167.36            36.5\n",
       "8          8          P001     200.02            60.0\n",
       "9          8          P002    2106.92             9.0"
      ]
     },
     "execution_count": 23,
     "metadata": {},
     "output_type": "execute_result"
    }
   ],
   "source": [
    "#We can see there are duplicate order no's and now we wil group them to show just a single order number and will aggregate the measures to sum\n",
    "\n",
    "JTD_grouped = JTD.groupby([\"DBM Order\",\"Item Category\"],as_index=False).agg({\"Net value\":'sum',\"Order Quantity\":'sum'})\n",
    "JTD_grouped.head(10)"
   ]
  },
  {
   "cell_type": "code",
   "execution_count": 24,
   "metadata": {},
   "outputs": [
    {
     "data": {
      "text/plain": [
       "(1735310, 4)"
      ]
     },
     "execution_count": 24,
     "metadata": {},
     "output_type": "execute_result"
    }
   ],
   "source": [
    "JTD_grouped.shape"
   ]
  },
  {
   "cell_type": "code",
   "execution_count": 25,
   "metadata": {},
   "outputs": [
    {
     "data": {
      "text/html": [
       "<div>\n",
       "<style scoped>\n",
       "    .dataframe tbody tr th:only-of-type {\n",
       "        vertical-align: middle;\n",
       "    }\n",
       "\n",
       "    .dataframe tbody tr th {\n",
       "        vertical-align: top;\n",
       "    }\n",
       "\n",
       "    .dataframe thead th {\n",
       "        text-align: right;\n",
       "    }\n",
       "</style>\n",
       "<table border=\"1\" class=\"dataframe\">\n",
       "  <thead>\n",
       "    <tr style=\"text-align: right;\">\n",
       "      <th></th>\n",
       "      <th>Area / Locality</th>\n",
       "      <th>CITY</th>\n",
       "      <th>Cust Type</th>\n",
       "      <th>Customer No.</th>\n",
       "      <th>District</th>\n",
       "      <th>Gate Pass Time</th>\n",
       "      <th>Invoice No</th>\n",
       "      <th>Job Card No</th>\n",
       "      <th>KMs Reading</th>\n",
       "      <th>Labour Total</th>\n",
       "      <th>Make</th>\n",
       "      <th>Misc Total</th>\n",
       "      <th>Model</th>\n",
       "      <th>ODN No.</th>\n",
       "      <th>OSL Total</th>\n",
       "      <th>Order Type</th>\n",
       "      <th>Parts Total</th>\n",
       "      <th>Pin code</th>\n",
       "      <th>Plant</th>\n",
       "      <th>Plant Name1</th>\n",
       "      <th>Print Status</th>\n",
       "      <th>Recovrbl Exp</th>\n",
       "      <th>Regn No</th>\n",
       "      <th>Technician Name</th>\n",
       "      <th>Total Amt Wtd Tax.</th>\n",
       "      <th>Total Value</th>\n",
       "      <th>User ID</th>\n",
       "      <th>Invoice_Date_time</th>\n",
       "      <th>Job_Card_Date_time</th>\n",
       "      <th>Service TAT</th>\n",
       "      <th>Business Partner</th>\n",
       "      <th>Partner Type</th>\n",
       "      <th>Data Origin</th>\n",
       "      <th>DBM Order</th>\n",
       "      <th>Item Category</th>\n",
       "      <th>Net value</th>\n",
       "      <th>Order Quantity</th>\n",
       "    </tr>\n",
       "  </thead>\n",
       "  <tbody>\n",
       "    <tr>\n",
       "      <th>0</th>\n",
       "      <td>MAJIWADA</td>\n",
       "      <td>Thane</td>\n",
       "      <td>Retail</td>\n",
       "      <td>67849</td>\n",
       "      <td>Maharashtra</td>\n",
       "      <td>00:00:00</td>\n",
       "      <td>7005200002</td>\n",
       "      <td>168303</td>\n",
       "      <td>49317</td>\n",
       "      <td>1203.14</td>\n",
       "      <td>GENERAL MOTORS</td>\n",
       "      <td>0.00</td>\n",
       "      <td>SPARK</td>\n",
       "      <td>7.005200e+09</td>\n",
       "      <td>500.06</td>\n",
       "      <td>Paid Service</td>\n",
       "      <td>2348.75</td>\n",
       "      <td>400601</td>\n",
       "      <td>BC01</td>\n",
       "      <td>THANE</td>\n",
       "      <td>NO</td>\n",
       "      <td>0.0</td>\n",
       "      <td>KA19MA1291</td>\n",
       "      <td>RUPESH</td>\n",
       "      <td>4051.95</td>\n",
       "      <td>4051.95</td>\n",
       "      <td>BC01FS1</td>\n",
       "      <td>2015-01-02 11:30:36</td>\n",
       "      <td>2014-12-13 14:29:43</td>\n",
       "      <td>19 days 21:00:53</td>\n",
       "      <td>NaN</td>\n",
       "      <td>NaN</td>\n",
       "      <td>NaN</td>\n",
       "      <td>168303.0</td>\n",
       "      <td>P001</td>\n",
       "      <td>1203.14</td>\n",
       "      <td>73.0</td>\n",
       "    </tr>\n",
       "    <tr>\n",
       "      <th>1</th>\n",
       "      <td>MAJIWADA</td>\n",
       "      <td>Thane</td>\n",
       "      <td>Retail</td>\n",
       "      <td>67849</td>\n",
       "      <td>Maharashtra</td>\n",
       "      <td>00:00:00</td>\n",
       "      <td>7005200002</td>\n",
       "      <td>168303</td>\n",
       "      <td>49317</td>\n",
       "      <td>1203.14</td>\n",
       "      <td>GENERAL MOTORS</td>\n",
       "      <td>0.00</td>\n",
       "      <td>SPARK</td>\n",
       "      <td>7.005200e+09</td>\n",
       "      <td>500.06</td>\n",
       "      <td>Paid Service</td>\n",
       "      <td>2348.75</td>\n",
       "      <td>400601</td>\n",
       "      <td>BC01</td>\n",
       "      <td>THANE</td>\n",
       "      <td>NO</td>\n",
       "      <td>0.0</td>\n",
       "      <td>KA19MA1291</td>\n",
       "      <td>RUPESH</td>\n",
       "      <td>4051.95</td>\n",
       "      <td>4051.95</td>\n",
       "      <td>BC01FS1</td>\n",
       "      <td>2015-01-02 11:30:36</td>\n",
       "      <td>2014-12-13 14:29:43</td>\n",
       "      <td>19 days 21:00:53</td>\n",
       "      <td>NaN</td>\n",
       "      <td>NaN</td>\n",
       "      <td>NaN</td>\n",
       "      <td>168303.0</td>\n",
       "      <td>P002</td>\n",
       "      <td>2348.75</td>\n",
       "      <td>6.5</td>\n",
       "    </tr>\n",
       "    <tr>\n",
       "      <th>2</th>\n",
       "      <td>MAJIWADA</td>\n",
       "      <td>Thane</td>\n",
       "      <td>Retail</td>\n",
       "      <td>67849</td>\n",
       "      <td>Maharashtra</td>\n",
       "      <td>00:00:00</td>\n",
       "      <td>7005200002</td>\n",
       "      <td>168303</td>\n",
       "      <td>49317</td>\n",
       "      <td>1203.14</td>\n",
       "      <td>GENERAL MOTORS</td>\n",
       "      <td>0.00</td>\n",
       "      <td>SPARK</td>\n",
       "      <td>7.005200e+09</td>\n",
       "      <td>500.06</td>\n",
       "      <td>Paid Service</td>\n",
       "      <td>2348.75</td>\n",
       "      <td>400601</td>\n",
       "      <td>BC01</td>\n",
       "      <td>THANE</td>\n",
       "      <td>NO</td>\n",
       "      <td>0.0</td>\n",
       "      <td>KA19MA1291</td>\n",
       "      <td>RUPESH</td>\n",
       "      <td>4051.95</td>\n",
       "      <td>4051.95</td>\n",
       "      <td>BC01FS1</td>\n",
       "      <td>2015-01-02 11:30:36</td>\n",
       "      <td>2014-12-13 14:29:43</td>\n",
       "      <td>19 days 21:00:53</td>\n",
       "      <td>NaN</td>\n",
       "      <td>NaN</td>\n",
       "      <td>NaN</td>\n",
       "      <td>168303.0</td>\n",
       "      <td>P010</td>\n",
       "      <td>500.06</td>\n",
       "      <td>1.0</td>\n",
       "    </tr>\n",
       "    <tr>\n",
       "      <th>3</th>\n",
       "      <td>THNAE</td>\n",
       "      <td>THNAE</td>\n",
       "      <td>Retail</td>\n",
       "      <td>84419</td>\n",
       "      <td>Maharashtra</td>\n",
       "      <td>00:00:00</td>\n",
       "      <td>7005200003</td>\n",
       "      <td>173997</td>\n",
       "      <td>78584</td>\n",
       "      <td>804.26</td>\n",
       "      <td>TATA MOTORS</td>\n",
       "      <td>197.03</td>\n",
       "      <td>INDICA</td>\n",
       "      <td>7.005200e+09</td>\n",
       "      <td>0.00</td>\n",
       "      <td>SMC Value Package</td>\n",
       "      <td>0.00</td>\n",
       "      <td>400603</td>\n",
       "      <td>BC01</td>\n",
       "      <td>THANE</td>\n",
       "      <td>NO</td>\n",
       "      <td>0.0</td>\n",
       "      <td>MH43R3046</td>\n",
       "      <td>PRASHANT</td>\n",
       "      <td>1001.29</td>\n",
       "      <td>1001.29</td>\n",
       "      <td>BC01SA2</td>\n",
       "      <td>2015-01-03 10:07:32</td>\n",
       "      <td>2015-01-02 14:12:18</td>\n",
       "      <td>0 days 19:55:14</td>\n",
       "      <td>NaN</td>\n",
       "      <td>NaN</td>\n",
       "      <td>NaN</td>\n",
       "      <td>173997.0</td>\n",
       "      <td>P001</td>\n",
       "      <td>804.26</td>\n",
       "      <td>170.0</td>\n",
       "    </tr>\n",
       "    <tr>\n",
       "      <th>4</th>\n",
       "      <td>THNAE</td>\n",
       "      <td>THNAE</td>\n",
       "      <td>Retail</td>\n",
       "      <td>84419</td>\n",
       "      <td>Maharashtra</td>\n",
       "      <td>00:00:00</td>\n",
       "      <td>7005200003</td>\n",
       "      <td>173997</td>\n",
       "      <td>78584</td>\n",
       "      <td>804.26</td>\n",
       "      <td>TATA MOTORS</td>\n",
       "      <td>197.03</td>\n",
       "      <td>INDICA</td>\n",
       "      <td>7.005200e+09</td>\n",
       "      <td>0.00</td>\n",
       "      <td>SMC Value Package</td>\n",
       "      <td>0.00</td>\n",
       "      <td>400603</td>\n",
       "      <td>BC01</td>\n",
       "      <td>THANE</td>\n",
       "      <td>NO</td>\n",
       "      <td>0.0</td>\n",
       "      <td>MH43R3046</td>\n",
       "      <td>PRASHANT</td>\n",
       "      <td>1001.29</td>\n",
       "      <td>1001.29</td>\n",
       "      <td>BC01SA2</td>\n",
       "      <td>2015-01-03 10:07:32</td>\n",
       "      <td>2015-01-02 14:12:18</td>\n",
       "      <td>0 days 19:55:14</td>\n",
       "      <td>NaN</td>\n",
       "      <td>NaN</td>\n",
       "      <td>NaN</td>\n",
       "      <td>173997.0</td>\n",
       "      <td>P011</td>\n",
       "      <td>197.03</td>\n",
       "      <td>1.0</td>\n",
       "    </tr>\n",
       "    <tr>\n",
       "      <th>5</th>\n",
       "      <td>THANE</td>\n",
       "      <td>THANE[W]</td>\n",
       "      <td>Retail</td>\n",
       "      <td>81055</td>\n",
       "      <td>Maharashtra</td>\n",
       "      <td>00:00:00</td>\n",
       "      <td>7005200004</td>\n",
       "      <td>173889</td>\n",
       "      <td>33985</td>\n",
       "      <td>180.19</td>\n",
       "      <td>MARUTI SUZUKI</td>\n",
       "      <td>0.00</td>\n",
       "      <td>ZEN</td>\n",
       "      <td>7.005200e+09</td>\n",
       "      <td>0.00</td>\n",
       "      <td>Running Repairs</td>\n",
       "      <td>52.95</td>\n",
       "      <td>400607</td>\n",
       "      <td>BC01</td>\n",
       "      <td>THANE</td>\n",
       "      <td>NO</td>\n",
       "      <td>0.0</td>\n",
       "      <td>AP09AX0582</td>\n",
       "      <td>IMRAN</td>\n",
       "      <td>233.14</td>\n",
       "      <td>233.14</td>\n",
       "      <td>BC01SA2</td>\n",
       "      <td>2015-01-03 11:12:57</td>\n",
       "      <td>2015-01-02 11:40:44</td>\n",
       "      <td>0 days 23:32:13</td>\n",
       "      <td>NaN</td>\n",
       "      <td>NaN</td>\n",
       "      <td>NaN</td>\n",
       "      <td>173889.0</td>\n",
       "      <td>P001</td>\n",
       "      <td>180.19</td>\n",
       "      <td>30.0</td>\n",
       "    </tr>\n",
       "    <tr>\n",
       "      <th>6</th>\n",
       "      <td>THANE</td>\n",
       "      <td>THANE[W]</td>\n",
       "      <td>Retail</td>\n",
       "      <td>81055</td>\n",
       "      <td>Maharashtra</td>\n",
       "      <td>00:00:00</td>\n",
       "      <td>7005200004</td>\n",
       "      <td>173889</td>\n",
       "      <td>33985</td>\n",
       "      <td>180.19</td>\n",
       "      <td>MARUTI SUZUKI</td>\n",
       "      <td>0.00</td>\n",
       "      <td>ZEN</td>\n",
       "      <td>7.005200e+09</td>\n",
       "      <td>0.00</td>\n",
       "      <td>Running Repairs</td>\n",
       "      <td>52.95</td>\n",
       "      <td>400607</td>\n",
       "      <td>BC01</td>\n",
       "      <td>THANE</td>\n",
       "      <td>NO</td>\n",
       "      <td>0.0</td>\n",
       "      <td>AP09AX0582</td>\n",
       "      <td>IMRAN</td>\n",
       "      <td>233.14</td>\n",
       "      <td>233.14</td>\n",
       "      <td>BC01SA2</td>\n",
       "      <td>2015-01-03 11:12:57</td>\n",
       "      <td>2015-01-02 11:40:44</td>\n",
       "      <td>0 days 23:32:13</td>\n",
       "      <td>NaN</td>\n",
       "      <td>NaN</td>\n",
       "      <td>NaN</td>\n",
       "      <td>173889.0</td>\n",
       "      <td>P002</td>\n",
       "      <td>52.95</td>\n",
       "      <td>3.0</td>\n",
       "    </tr>\n",
       "    <tr>\n",
       "      <th>7</th>\n",
       "      <td>THNAE</td>\n",
       "      <td>THNAE</td>\n",
       "      <td>Retail</td>\n",
       "      <td>84419</td>\n",
       "      <td>Maharashtra</td>\n",
       "      <td>00:00:00</td>\n",
       "      <td>7005200005</td>\n",
       "      <td>174158</td>\n",
       "      <td>78584</td>\n",
       "      <td>0.00</td>\n",
       "      <td>TATA MOTORS</td>\n",
       "      <td>0.00</td>\n",
       "      <td>INDICA</td>\n",
       "      <td>7.005200e+09</td>\n",
       "      <td>0.00</td>\n",
       "      <td>SMC Redemption</td>\n",
       "      <td>0.00</td>\n",
       "      <td>400603</td>\n",
       "      <td>BC01</td>\n",
       "      <td>THANE</td>\n",
       "      <td>NO</td>\n",
       "      <td>0.0</td>\n",
       "      <td>MH43R3046</td>\n",
       "      <td>PRASHANT</td>\n",
       "      <td>0.00</td>\n",
       "      <td>0.00</td>\n",
       "      <td>BC01SA2</td>\n",
       "      <td>2015-01-03 11:40:44</td>\n",
       "      <td>2015-01-03 10:12:32</td>\n",
       "      <td>0 days 01:28:12</td>\n",
       "      <td>NaN</td>\n",
       "      <td>NaN</td>\n",
       "      <td>NaN</td>\n",
       "      <td>174158.0</td>\n",
       "      <td>P001</td>\n",
       "      <td>0.00</td>\n",
       "      <td>86.0</td>\n",
       "    </tr>\n",
       "    <tr>\n",
       "      <th>8</th>\n",
       "      <td>THNAE</td>\n",
       "      <td>THNAE</td>\n",
       "      <td>Retail</td>\n",
       "      <td>84419</td>\n",
       "      <td>Maharashtra</td>\n",
       "      <td>00:00:00</td>\n",
       "      <td>7005200005</td>\n",
       "      <td>174158</td>\n",
       "      <td>78584</td>\n",
       "      <td>0.00</td>\n",
       "      <td>TATA MOTORS</td>\n",
       "      <td>0.00</td>\n",
       "      <td>INDICA</td>\n",
       "      <td>7.005200e+09</td>\n",
       "      <td>0.00</td>\n",
       "      <td>SMC Redemption</td>\n",
       "      <td>0.00</td>\n",
       "      <td>400603</td>\n",
       "      <td>BC01</td>\n",
       "      <td>THANE</td>\n",
       "      <td>NO</td>\n",
       "      <td>0.0</td>\n",
       "      <td>MH43R3046</td>\n",
       "      <td>PRASHANT</td>\n",
       "      <td>0.00</td>\n",
       "      <td>0.00</td>\n",
       "      <td>BC01SA2</td>\n",
       "      <td>2015-01-03 11:40:44</td>\n",
       "      <td>2015-01-03 10:12:32</td>\n",
       "      <td>0 days 01:28:12</td>\n",
       "      <td>NaN</td>\n",
       "      <td>NaN</td>\n",
       "      <td>NaN</td>\n",
       "      <td>174158.0</td>\n",
       "      <td>P011</td>\n",
       "      <td>0.00</td>\n",
       "      <td>1.0</td>\n",
       "    </tr>\n",
       "    <tr>\n",
       "      <th>9</th>\n",
       "      <td>THANE</td>\n",
       "      <td>THANE</td>\n",
       "      <td>Retail</td>\n",
       "      <td>18980</td>\n",
       "      <td>Maharashtra</td>\n",
       "      <td>00:00:00</td>\n",
       "      <td>7005200006</td>\n",
       "      <td>173860</td>\n",
       "      <td>50057</td>\n",
       "      <td>1202.97</td>\n",
       "      <td>HYUNDAI</td>\n",
       "      <td>100.00</td>\n",
       "      <td>SANTRO XING</td>\n",
       "      <td>7.005200e+09</td>\n",
       "      <td>499.99</td>\n",
       "      <td>Paid Service</td>\n",
       "      <td>944.16</td>\n",
       "      <td>400603</td>\n",
       "      <td>BC01</td>\n",
       "      <td>THANE</td>\n",
       "      <td>NO</td>\n",
       "      <td>0.0</td>\n",
       "      <td>MH04CD9768</td>\n",
       "      <td>DAYANAND</td>\n",
       "      <td>2747.12</td>\n",
       "      <td>2747.12</td>\n",
       "      <td>BC01SA2</td>\n",
       "      <td>2015-01-03 12:07:17</td>\n",
       "      <td>2015-01-02 10:45:42</td>\n",
       "      <td>1 days 01:21:35</td>\n",
       "      <td>NaN</td>\n",
       "      <td>NaN</td>\n",
       "      <td>NaN</td>\n",
       "      <td>173860.0</td>\n",
       "      <td>P001</td>\n",
       "      <td>1202.97</td>\n",
       "      <td>85.0</td>\n",
       "    </tr>\n",
       "  </tbody>\n",
       "</table>\n",
       "</div>"
      ],
      "text/plain": [
       "  Area / Locality      CITY Cust Type Customer No.     District  \\\n",
       "0        MAJIWADA     Thane    Retail        67849  Maharashtra   \n",
       "1        MAJIWADA     Thane    Retail        67849  Maharashtra   \n",
       "2        MAJIWADA     Thane    Retail        67849  Maharashtra   \n",
       "3           THNAE     THNAE    Retail        84419  Maharashtra   \n",
       "4           THNAE     THNAE    Retail        84419  Maharashtra   \n",
       "5           THANE  THANE[W]    Retail        81055  Maharashtra   \n",
       "6           THANE  THANE[W]    Retail        81055  Maharashtra   \n",
       "7           THNAE     THNAE    Retail        84419  Maharashtra   \n",
       "8           THNAE     THNAE    Retail        84419  Maharashtra   \n",
       "9           THANE     THANE    Retail        18980  Maharashtra   \n",
       "\n",
       "  Gate Pass Time  Invoice No  Job Card No  KMs Reading  Labour Total  \\\n",
       "0       00:00:00  7005200002       168303        49317       1203.14   \n",
       "1       00:00:00  7005200002       168303        49317       1203.14   \n",
       "2       00:00:00  7005200002       168303        49317       1203.14   \n",
       "3       00:00:00  7005200003       173997        78584        804.26   \n",
       "4       00:00:00  7005200003       173997        78584        804.26   \n",
       "5       00:00:00  7005200004       173889        33985        180.19   \n",
       "6       00:00:00  7005200004       173889        33985        180.19   \n",
       "7       00:00:00  7005200005       174158        78584          0.00   \n",
       "8       00:00:00  7005200005       174158        78584          0.00   \n",
       "9       00:00:00  7005200006       173860        50057       1202.97   \n",
       "\n",
       "             Make  Misc Total        Model       ODN No.  OSL Total  \\\n",
       "0  GENERAL MOTORS        0.00        SPARK  7.005200e+09     500.06   \n",
       "1  GENERAL MOTORS        0.00        SPARK  7.005200e+09     500.06   \n",
       "2  GENERAL MOTORS        0.00        SPARK  7.005200e+09     500.06   \n",
       "3     TATA MOTORS      197.03       INDICA  7.005200e+09       0.00   \n",
       "4     TATA MOTORS      197.03       INDICA  7.005200e+09       0.00   \n",
       "5   MARUTI SUZUKI        0.00          ZEN  7.005200e+09       0.00   \n",
       "6   MARUTI SUZUKI        0.00          ZEN  7.005200e+09       0.00   \n",
       "7     TATA MOTORS        0.00       INDICA  7.005200e+09       0.00   \n",
       "8     TATA MOTORS        0.00       INDICA  7.005200e+09       0.00   \n",
       "9         HYUNDAI      100.00  SANTRO XING  7.005200e+09     499.99   \n",
       "\n",
       "          Order Type  Parts Total  Pin code Plant Plant Name1 Print Status  \\\n",
       "0       Paid Service      2348.75    400601  BC01       THANE           NO   \n",
       "1       Paid Service      2348.75    400601  BC01       THANE           NO   \n",
       "2       Paid Service      2348.75    400601  BC01       THANE           NO   \n",
       "3  SMC Value Package         0.00    400603  BC01       THANE           NO   \n",
       "4  SMC Value Package         0.00    400603  BC01       THANE           NO   \n",
       "5    Running Repairs        52.95    400607  BC01       THANE           NO   \n",
       "6    Running Repairs        52.95    400607  BC01       THANE           NO   \n",
       "7     SMC Redemption         0.00    400603  BC01       THANE           NO   \n",
       "8     SMC Redemption         0.00    400603  BC01       THANE           NO   \n",
       "9       Paid Service       944.16    400603  BC01       THANE           NO   \n",
       "\n",
       "   Recovrbl Exp     Regn No Technician Name  Total Amt Wtd Tax.  Total Value  \\\n",
       "0           0.0  KA19MA1291          RUPESH             4051.95      4051.95   \n",
       "1           0.0  KA19MA1291          RUPESH             4051.95      4051.95   \n",
       "2           0.0  KA19MA1291          RUPESH             4051.95      4051.95   \n",
       "3           0.0   MH43R3046        PRASHANT             1001.29      1001.29   \n",
       "4           0.0   MH43R3046        PRASHANT             1001.29      1001.29   \n",
       "5           0.0  AP09AX0582           IMRAN              233.14       233.14   \n",
       "6           0.0  AP09AX0582           IMRAN              233.14       233.14   \n",
       "7           0.0   MH43R3046        PRASHANT                0.00         0.00   \n",
       "8           0.0   MH43R3046        PRASHANT                0.00         0.00   \n",
       "9           0.0  MH04CD9768        DAYANAND             2747.12      2747.12   \n",
       "\n",
       "   User ID   Invoice_Date_time  Job_Card_Date_time      Service TAT  \\\n",
       "0  BC01FS1 2015-01-02 11:30:36 2014-12-13 14:29:43 19 days 21:00:53   \n",
       "1  BC01FS1 2015-01-02 11:30:36 2014-12-13 14:29:43 19 days 21:00:53   \n",
       "2  BC01FS1 2015-01-02 11:30:36 2014-12-13 14:29:43 19 days 21:00:53   \n",
       "3  BC01SA2 2015-01-03 10:07:32 2015-01-02 14:12:18  0 days 19:55:14   \n",
       "4  BC01SA2 2015-01-03 10:07:32 2015-01-02 14:12:18  0 days 19:55:14   \n",
       "5  BC01SA2 2015-01-03 11:12:57 2015-01-02 11:40:44  0 days 23:32:13   \n",
       "6  BC01SA2 2015-01-03 11:12:57 2015-01-02 11:40:44  0 days 23:32:13   \n",
       "7  BC01SA2 2015-01-03 11:40:44 2015-01-03 10:12:32  0 days 01:28:12   \n",
       "8  BC01SA2 2015-01-03 11:40:44 2015-01-03 10:12:32  0 days 01:28:12   \n",
       "9  BC01SA2 2015-01-03 12:07:17 2015-01-02 10:45:42  1 days 01:21:35   \n",
       "\n",
       "  Business Partner  Partner Type Data Origin  DBM Order Item Category  \\\n",
       "0              NaN           NaN         NaN   168303.0          P001   \n",
       "1              NaN           NaN         NaN   168303.0          P002   \n",
       "2              NaN           NaN         NaN   168303.0          P010   \n",
       "3              NaN           NaN         NaN   173997.0          P001   \n",
       "4              NaN           NaN         NaN   173997.0          P011   \n",
       "5              NaN           NaN         NaN   173889.0          P001   \n",
       "6              NaN           NaN         NaN   173889.0          P002   \n",
       "7              NaN           NaN         NaN   174158.0          P001   \n",
       "8              NaN           NaN         NaN   174158.0          P011   \n",
       "9              NaN           NaN         NaN   173860.0          P001   \n",
       "\n",
       "   Net value  Order Quantity  \n",
       "0    1203.14            73.0  \n",
       "1    2348.75             6.5  \n",
       "2     500.06             1.0  \n",
       "3     804.26           170.0  \n",
       "4     197.03             1.0  \n",
       "5     180.19            30.0  \n",
       "6      52.95             3.0  \n",
       "7       0.00            86.0  \n",
       "8       0.00             1.0  \n",
       "9    1202.97            85.0  "
      ]
     },
     "execution_count": 25,
     "metadata": {},
     "output_type": "execute_result"
    }
   ],
   "source": [
    "#we will now join customer_invoice with JTD data sets\n",
    "customer_invoice_jtd = pd.merge(customer_invoice, JTD_grouped, how = 'left', left_on = 'Job Card No', right_on = 'DBM Order')\n",
    "customer_invoice_jtd.head(10)"
   ]
  },
  {
   "cell_type": "code",
   "execution_count": 26,
   "metadata": {},
   "outputs": [
    {
     "data": {
      "text/plain": [
       "Area / Locality        49527\n",
       "CITY                       1\n",
       "Cust Type                  0\n",
       "Customer No.               0\n",
       "District                   0\n",
       "Gate Pass Time             0\n",
       "Invoice No                 0\n",
       "Job Card No                0\n",
       "KMs Reading                0\n",
       "Labour Total               0\n",
       "Make                       0\n",
       "Misc Total                 0\n",
       "Model                   3185\n",
       "ODN No.               337171\n",
       "OSL Total                  0\n",
       "Order Type                 0\n",
       "Parts Total                0\n",
       "Pin code                   0\n",
       "Plant                      0\n",
       "Plant Name1                0\n",
       "Print Status               0\n",
       "Recovrbl Exp               0\n",
       "Regn No                   23\n",
       "Technician Name       414979\n",
       "Total Amt Wtd Tax.         0\n",
       "Total Value           337171\n",
       "User ID                    0\n",
       "Invoice_Date_time          0\n",
       "Job_Card_Date_time         0\n",
       "Service TAT                0\n",
       "Business Partner      894749\n",
       "Partner Type          894749\n",
       "Data Origin           894749\n",
       "DBM Order                 39\n",
       "Item Category             39\n",
       "Net value                 39\n",
       "Order Quantity            39\n",
       "dtype: int64"
      ]
     },
     "execution_count": 26,
     "metadata": {},
     "output_type": "execute_result"
    }
   ],
   "source": [
    "customer_invoice_jtd.isnull().sum()"
   ]
  },
  {
   "cell_type": "code",
   "execution_count": 27,
   "metadata": {},
   "outputs": [
    {
     "data": {
      "text/html": [
       "<div>\n",
       "<style scoped>\n",
       "    .dataframe tbody tr th:only-of-type {\n",
       "        vertical-align: middle;\n",
       "    }\n",
       "\n",
       "    .dataframe tbody tr th {\n",
       "        vertical-align: top;\n",
       "    }\n",
       "\n",
       "    .dataframe thead th {\n",
       "        text-align: right;\n",
       "    }\n",
       "</style>\n",
       "<table border=\"1\" class=\"dataframe\">\n",
       "  <thead>\n",
       "    <tr style=\"text-align: right;\">\n",
       "      <th></th>\n",
       "      <th>Plant</th>\n",
       "      <th>Name 1</th>\n",
       "      <th>Valuation Area</th>\n",
       "      <th>Customer no. - plant</th>\n",
       "      <th>Vendor number plant</th>\n",
       "      <th>Factory calendar</th>\n",
       "      <th>Name 2</th>\n",
       "      <th>House number and street</th>\n",
       "      <th>PO Box</th>\n",
       "      <th>Postal Code</th>\n",
       "      <th>City</th>\n",
       "      <th>Sales organization</th>\n",
       "      <th>State</th>\n",
       "    </tr>\n",
       "  </thead>\n",
       "  <tbody>\n",
       "    <tr>\n",
       "      <th>0</th>\n",
       "      <td>BC07</td>\n",
       "      <td>NERKUNDRAM</td>\n",
       "      <td>BC07</td>\n",
       "      <td>PLBC07</td>\n",
       "      <td>PLBC07</td>\n",
       "      <td>IN</td>\n",
       "      <td>NaN</td>\n",
       "      <td>No.117 Poonamallee High Road,</td>\n",
       "      <td>600107.0</td>\n",
       "      <td>600107</td>\n",
       "      <td>Chennai</td>\n",
       "      <td>MFCS</td>\n",
       "      <td>Tamil Nadu</td>\n",
       "    </tr>\n",
       "    <tr>\n",
       "      <th>1</th>\n",
       "      <td>BC30</td>\n",
       "      <td>SAS NAGAR - MOHALI</td>\n",
       "      <td>BC30</td>\n",
       "      <td>PLBC30</td>\n",
       "      <td>PLBC30</td>\n",
       "      <td>IN</td>\n",
       "      <td>NaN</td>\n",
       "      <td>C-118, Phase 07,</td>\n",
       "      <td>160055.0</td>\n",
       "      <td>160055</td>\n",
       "      <td>Mohali</td>\n",
       "      <td>MFCS</td>\n",
       "      <td>Punjab</td>\n",
       "    </tr>\n",
       "    <tr>\n",
       "      <th>2</th>\n",
       "      <td>X001</td>\n",
       "      <td>X001 - AUTO PLANET WHEELS</td>\n",
       "      <td>X001</td>\n",
       "      <td>PLX001</td>\n",
       "      <td>NaN</td>\n",
       "      <td>IN</td>\n",
       "      <td>Thane</td>\n",
       "      <td>Unit No.3, Kothari Compound,</td>\n",
       "      <td>400610.0</td>\n",
       "      <td>400610</td>\n",
       "      <td>Thane</td>\n",
       "      <td>MFCA</td>\n",
       "      <td>Maharashtra</td>\n",
       "    </tr>\n",
       "    <tr>\n",
       "      <th>3</th>\n",
       "      <td>X002</td>\n",
       "      <td>X002 - BHANDARI INDUSTRIES PVT</td>\n",
       "      <td>X002</td>\n",
       "      <td>PLX002</td>\n",
       "      <td>NaN</td>\n",
       "      <td>IN</td>\n",
       "      <td>Ghaziabad</td>\n",
       "      <td>18/1, C Site 4, Sahibabad</td>\n",
       "      <td>201010.0</td>\n",
       "      <td>201010</td>\n",
       "      <td>Ghaziabad</td>\n",
       "      <td>MFCA</td>\n",
       "      <td>Uttar Pradesh</td>\n",
       "    </tr>\n",
       "    <tr>\n",
       "      <th>4</th>\n",
       "      <td>X003</td>\n",
       "      <td>X003 - Om Sri Satya Sai Automo</td>\n",
       "      <td>X003</td>\n",
       "      <td>PLX003</td>\n",
       "      <td>NaN</td>\n",
       "      <td>IN</td>\n",
       "      <td>Bengaluru</td>\n",
       "      <td>#75, Sy.No. 83/2, Panathur Mai</td>\n",
       "      <td>560087.0</td>\n",
       "      <td>560087</td>\n",
       "      <td>Bengaluru</td>\n",
       "      <td>MFCB</td>\n",
       "      <td>Karnataka</td>\n",
       "    </tr>\n",
       "  </tbody>\n",
       "</table>\n",
       "</div>"
      ],
      "text/plain": [
       "  Plant                          Name 1 Valuation Area Customer no. - plant  \\\n",
       "0  BC07                      NERKUNDRAM           BC07               PLBC07   \n",
       "1  BC30              SAS NAGAR - MOHALI           BC30               PLBC30   \n",
       "2  X001       X001 - AUTO PLANET WHEELS           X001               PLX001   \n",
       "3  X002  X002 - BHANDARI INDUSTRIES PVT           X002               PLX002   \n",
       "4  X003  X003 - Om Sri Satya Sai Automo           X003               PLX003   \n",
       "\n",
       "  Vendor number plant Factory calendar     Name 2  \\\n",
       "0              PLBC07               IN        NaN   \n",
       "1              PLBC30               IN        NaN   \n",
       "2                 NaN               IN      Thane   \n",
       "3                 NaN               IN  Ghaziabad   \n",
       "4                 NaN               IN  Bengaluru   \n",
       "\n",
       "          House number and street    PO Box  Postal Code       City  \\\n",
       "0   No.117 Poonamallee High Road,  600107.0       600107    Chennai   \n",
       "1                C-118, Phase 07,  160055.0       160055     Mohali   \n",
       "2    Unit No.3, Kothari Compound,  400610.0       400610      Thane   \n",
       "3       18/1, C Site 4, Sahibabad  201010.0       201010  Ghaziabad   \n",
       "4  #75, Sy.No. 83/2, Panathur Mai  560087.0       560087  Bengaluru   \n",
       "\n",
       "  Sales organization          State  \n",
       "0               MFCS     Tamil Nadu  \n",
       "1               MFCS         Punjab  \n",
       "2               MFCA    Maharashtra  \n",
       "3               MFCA  Uttar Pradesh  \n",
       "4               MFCB      Karnataka  "
      ]
     },
     "execution_count": 27,
     "metadata": {},
     "output_type": "execute_result"
    }
   ],
   "source": [
    "Plant_Master = pd.read_excel('G:/Data Science ML AI/Python files/Projects/Capstone_Mahinda_Finance_Use_Case/Data/Plant Master.xlsx')\n",
    "Plant_Master.head()"
   ]
  },
  {
   "cell_type": "code",
   "execution_count": 28,
   "metadata": {},
   "outputs": [
    {
     "data": {
      "text/html": [
       "<div>\n",
       "<style scoped>\n",
       "    .dataframe tbody tr th:only-of-type {\n",
       "        vertical-align: middle;\n",
       "    }\n",
       "\n",
       "    .dataframe tbody tr th {\n",
       "        vertical-align: top;\n",
       "    }\n",
       "\n",
       "    .dataframe thead th {\n",
       "        text-align: right;\n",
       "    }\n",
       "</style>\n",
       "<table border=\"1\" class=\"dataframe\">\n",
       "  <thead>\n",
       "    <tr style=\"text-align: right;\">\n",
       "      <th>col_0</th>\n",
       "      <th>Plant</th>\n",
       "    </tr>\n",
       "    <tr>\n",
       "      <th>State</th>\n",
       "      <th></th>\n",
       "    </tr>\n",
       "  </thead>\n",
       "  <tbody>\n",
       "    <tr>\n",
       "      <th>Andhra Pradesh</th>\n",
       "      <td>15</td>\n",
       "    </tr>\n",
       "    <tr>\n",
       "      <th>Assam</th>\n",
       "      <td>7</td>\n",
       "    </tr>\n",
       "    <tr>\n",
       "      <th>Bihar</th>\n",
       "      <td>21</td>\n",
       "    </tr>\n",
       "    <tr>\n",
       "      <th>Chandigarh</th>\n",
       "      <td>1</td>\n",
       "    </tr>\n",
       "    <tr>\n",
       "      <th>Chhattisgarh</th>\n",
       "      <td>5</td>\n",
       "    </tr>\n",
       "    <tr>\n",
       "      <th>Delhi</th>\n",
       "      <td>1</td>\n",
       "    </tr>\n",
       "    <tr>\n",
       "      <th>Goa</th>\n",
       "      <td>1</td>\n",
       "    </tr>\n",
       "    <tr>\n",
       "      <th>Gujarat</th>\n",
       "      <td>13</td>\n",
       "    </tr>\n",
       "    <tr>\n",
       "      <th>Haryana</th>\n",
       "      <td>20</td>\n",
       "    </tr>\n",
       "    <tr>\n",
       "      <th>Himachal Pradesh</th>\n",
       "      <td>5</td>\n",
       "    </tr>\n",
       "    <tr>\n",
       "      <th>Jammu and Kashmir</th>\n",
       "      <td>2</td>\n",
       "    </tr>\n",
       "    <tr>\n",
       "      <th>Jharkhand</th>\n",
       "      <td>12</td>\n",
       "    </tr>\n",
       "    <tr>\n",
       "      <th>Karnataka</th>\n",
       "      <td>31</td>\n",
       "    </tr>\n",
       "    <tr>\n",
       "      <th>Kerala</th>\n",
       "      <td>6</td>\n",
       "    </tr>\n",
       "    <tr>\n",
       "      <th>Madhya Pradesh</th>\n",
       "      <td>35</td>\n",
       "    </tr>\n",
       "    <tr>\n",
       "      <th>Maharashtra</th>\n",
       "      <td>48</td>\n",
       "    </tr>\n",
       "    <tr>\n",
       "      <th>Manipur</th>\n",
       "      <td>1</td>\n",
       "    </tr>\n",
       "    <tr>\n",
       "      <th>Nagaland</th>\n",
       "      <td>1</td>\n",
       "    </tr>\n",
       "    <tr>\n",
       "      <th>Odisha</th>\n",
       "      <td>13</td>\n",
       "    </tr>\n",
       "    <tr>\n",
       "      <th>Puducherry</th>\n",
       "      <td>3</td>\n",
       "    </tr>\n",
       "    <tr>\n",
       "      <th>Punjab</th>\n",
       "      <td>16</td>\n",
       "    </tr>\n",
       "    <tr>\n",
       "      <th>Rajasthan</th>\n",
       "      <td>52</td>\n",
       "    </tr>\n",
       "    <tr>\n",
       "      <th>Tamil Nadu</th>\n",
       "      <td>47</td>\n",
       "    </tr>\n",
       "    <tr>\n",
       "      <th>Telangana</th>\n",
       "      <td>13</td>\n",
       "    </tr>\n",
       "    <tr>\n",
       "      <th>Uttar Pradesh</th>\n",
       "      <td>46</td>\n",
       "    </tr>\n",
       "    <tr>\n",
       "      <th>Uttarakhand</th>\n",
       "      <td>9</td>\n",
       "    </tr>\n",
       "    <tr>\n",
       "      <th>West Bengal</th>\n",
       "      <td>14</td>\n",
       "    </tr>\n",
       "  </tbody>\n",
       "</table>\n",
       "</div>"
      ],
      "text/plain": [
       "col_0              Plant\n",
       "State                   \n",
       "Andhra Pradesh        15\n",
       "Assam                  7\n",
       "Bihar                 21\n",
       "Chandigarh             1\n",
       "Chhattisgarh           5\n",
       "Delhi                  1\n",
       "Goa                    1\n",
       "Gujarat               13\n",
       "Haryana               20\n",
       "Himachal Pradesh       5\n",
       "Jammu and Kashmir      2\n",
       "Jharkhand             12\n",
       "Karnataka             31\n",
       "Kerala                 6\n",
       "Madhya Pradesh        35\n",
       "Maharashtra           48\n",
       "Manipur                1\n",
       "Nagaland               1\n",
       "Odisha                13\n",
       "Puducherry             3\n",
       "Punjab                16\n",
       "Rajasthan             52\n",
       "Tamil Nadu            47\n",
       "Telangana             13\n",
       "Uttar Pradesh         46\n",
       "Uttarakhand            9\n",
       "West Bengal           14"
      ]
     },
     "execution_count": 28,
     "metadata": {},
     "output_type": "execute_result"
    }
   ],
   "source": [
    "plants_per_state = pd.crosstab(index = Plant_Master[\"State\"], columns = \"Plant\")\n",
    "plants_per_state"
   ]
  },
  {
   "cell_type": "code",
   "execution_count": 29,
   "metadata": {},
   "outputs": [],
   "source": [
    "import seaborn as sns"
   ]
  },
  {
   "cell_type": "code",
   "execution_count": 30,
   "metadata": {},
   "outputs": [
    {
     "data": {
      "image/png": "[encoded data removed]",
      "text/plain": [
       "<Figure size 3960x1800 with 1 Axes>"
      ]
     },
     "metadata": {
      "needs_background": "light"
     },
     "output_type": "display_data"
    }
   ],
   "source": [
    "plt.figure(figsize=(55,25))\n",
    "sns.set(style='darkgrid')\n",
    "ax = sns.countplot(x=\"State\",data=Plant_Master)"
   ]
  },
  {
   "cell_type": "markdown",
   "metadata": {},
   "source": [
    "# Geolocation Based Customer Analysis"
   ]
  },
  {
   "cell_type": "code",
   "execution_count": 31,
   "metadata": {},
   "outputs": [
    {
     "data": {
      "text/html": [
       "<div>\n",
       "<style scoped>\n",
       "    .dataframe tbody tr th:only-of-type {\n",
       "        vertical-align: middle;\n",
       "    }\n",
       "\n",
       "    .dataframe tbody tr th {\n",
       "        vertical-align: top;\n",
       "    }\n",
       "\n",
       "    .dataframe thead th {\n",
       "        text-align: right;\n",
       "    }\n",
       "</style>\n",
       "<table border=\"1\" class=\"dataframe\">\n",
       "  <thead>\n",
       "    <tr style=\"text-align: right;\">\n",
       "      <th></th>\n",
       "      <th>Area / Locality</th>\n",
       "      <th>CITY</th>\n",
       "      <th>Cust Type</th>\n",
       "      <th>Customer No.</th>\n",
       "      <th>District</th>\n",
       "      <th>Gate Pass Time</th>\n",
       "      <th>Invoice No</th>\n",
       "      <th>Job Card No</th>\n",
       "      <th>KMs Reading</th>\n",
       "      <th>Labour Total</th>\n",
       "      <th>Make</th>\n",
       "      <th>Misc Total</th>\n",
       "      <th>Model</th>\n",
       "      <th>ODN No.</th>\n",
       "      <th>OSL Total</th>\n",
       "      <th>Order Type</th>\n",
       "      <th>Parts Total</th>\n",
       "      <th>Pin code</th>\n",
       "      <th>Plant</th>\n",
       "      <th>Plant Name1</th>\n",
       "      <th>Print Status</th>\n",
       "      <th>Recovrbl Exp</th>\n",
       "      <th>Regn No</th>\n",
       "      <th>Technician Name</th>\n",
       "      <th>Total Amt Wtd Tax.</th>\n",
       "      <th>Total Value</th>\n",
       "      <th>User ID</th>\n",
       "      <th>Invoice_Date_time</th>\n",
       "      <th>Job_Card_Date_time</th>\n",
       "      <th>Service TAT</th>\n",
       "    </tr>\n",
       "  </thead>\n",
       "  <tbody>\n",
       "    <tr>\n",
       "      <th>0</th>\n",
       "      <td>MAJIWADA</td>\n",
       "      <td>Thane</td>\n",
       "      <td>Retail</td>\n",
       "      <td>67849</td>\n",
       "      <td>Maharashtra</td>\n",
       "      <td>00:00:00</td>\n",
       "      <td>7005200002</td>\n",
       "      <td>168303</td>\n",
       "      <td>49317</td>\n",
       "      <td>1203.14</td>\n",
       "      <td>GENERAL MOTORS</td>\n",
       "      <td>0.00</td>\n",
       "      <td>SPARK</td>\n",
       "      <td>7.005200e+09</td>\n",
       "      <td>500.06</td>\n",
       "      <td>Paid Service</td>\n",
       "      <td>2348.75</td>\n",
       "      <td>400601</td>\n",
       "      <td>BC01</td>\n",
       "      <td>THANE</td>\n",
       "      <td>NO</td>\n",
       "      <td>0.0</td>\n",
       "      <td>KA19MA1291</td>\n",
       "      <td>RUPESH</td>\n",
       "      <td>4051.95</td>\n",
       "      <td>4051.95</td>\n",
       "      <td>BC01FS1</td>\n",
       "      <td>2015-01-02 11:30:36</td>\n",
       "      <td>2014-12-13 14:29:43</td>\n",
       "      <td>19 days 21:00:53</td>\n",
       "    </tr>\n",
       "    <tr>\n",
       "      <th>1</th>\n",
       "      <td>THNAE</td>\n",
       "      <td>THNAE</td>\n",
       "      <td>Retail</td>\n",
       "      <td>84419</td>\n",
       "      <td>Maharashtra</td>\n",
       "      <td>00:00:00</td>\n",
       "      <td>7005200003</td>\n",
       "      <td>173997</td>\n",
       "      <td>78584</td>\n",
       "      <td>804.26</td>\n",
       "      <td>TATA MOTORS</td>\n",
       "      <td>197.03</td>\n",
       "      <td>INDICA</td>\n",
       "      <td>7.005200e+09</td>\n",
       "      <td>0.00</td>\n",
       "      <td>SMC Value Package</td>\n",
       "      <td>0.00</td>\n",
       "      <td>400603</td>\n",
       "      <td>BC01</td>\n",
       "      <td>THANE</td>\n",
       "      <td>NO</td>\n",
       "      <td>0.0</td>\n",
       "      <td>MH43R3046</td>\n",
       "      <td>PRASHANT</td>\n",
       "      <td>1001.29</td>\n",
       "      <td>1001.29</td>\n",
       "      <td>BC01SA2</td>\n",
       "      <td>2015-01-03 10:07:32</td>\n",
       "      <td>2015-01-02 14:12:18</td>\n",
       "      <td>0 days 19:55:14</td>\n",
       "    </tr>\n",
       "    <tr>\n",
       "      <th>2</th>\n",
       "      <td>THANE</td>\n",
       "      <td>THANE[W]</td>\n",
       "      <td>Retail</td>\n",
       "      <td>81055</td>\n",
       "      <td>Maharashtra</td>\n",
       "      <td>00:00:00</td>\n",
       "      <td>7005200004</td>\n",
       "      <td>173889</td>\n",
       "      <td>33985</td>\n",
       "      <td>180.19</td>\n",
       "      <td>MARUTI SUZUKI</td>\n",
       "      <td>0.00</td>\n",
       "      <td>ZEN</td>\n",
       "      <td>7.005200e+09</td>\n",
       "      <td>0.00</td>\n",
       "      <td>Running Repairs</td>\n",
       "      <td>52.95</td>\n",
       "      <td>400607</td>\n",
       "      <td>BC01</td>\n",
       "      <td>THANE</td>\n",
       "      <td>NO</td>\n",
       "      <td>0.0</td>\n",
       "      <td>AP09AX0582</td>\n",
       "      <td>IMRAN</td>\n",
       "      <td>233.14</td>\n",
       "      <td>233.14</td>\n",
       "      <td>BC01SA2</td>\n",
       "      <td>2015-01-03 11:12:57</td>\n",
       "      <td>2015-01-02 11:40:44</td>\n",
       "      <td>0 days 23:32:13</td>\n",
       "    </tr>\n",
       "    <tr>\n",
       "      <th>3</th>\n",
       "      <td>THNAE</td>\n",
       "      <td>THNAE</td>\n",
       "      <td>Retail</td>\n",
       "      <td>84419</td>\n",
       "      <td>Maharashtra</td>\n",
       "      <td>00:00:00</td>\n",
       "      <td>7005200005</td>\n",
       "      <td>174158</td>\n",
       "      <td>78584</td>\n",
       "      <td>0.00</td>\n",
       "      <td>TATA MOTORS</td>\n",
       "      <td>0.00</td>\n",
       "      <td>INDICA</td>\n",
       "      <td>7.005200e+09</td>\n",
       "      <td>0.00</td>\n",
       "      <td>SMC Redemption</td>\n",
       "      <td>0.00</td>\n",
       "      <td>400603</td>\n",
       "      <td>BC01</td>\n",
       "      <td>THANE</td>\n",
       "      <td>NO</td>\n",
       "      <td>0.0</td>\n",
       "      <td>MH43R3046</td>\n",
       "      <td>PRASHANT</td>\n",
       "      <td>0.00</td>\n",
       "      <td>0.00</td>\n",
       "      <td>BC01SA2</td>\n",
       "      <td>2015-01-03 11:40:44</td>\n",
       "      <td>2015-01-03 10:12:32</td>\n",
       "      <td>0 days 01:28:12</td>\n",
       "    </tr>\n",
       "    <tr>\n",
       "      <th>4</th>\n",
       "      <td>THANE</td>\n",
       "      <td>THANE</td>\n",
       "      <td>Retail</td>\n",
       "      <td>18980</td>\n",
       "      <td>Maharashtra</td>\n",
       "      <td>00:00:00</td>\n",
       "      <td>7005200006</td>\n",
       "      <td>173860</td>\n",
       "      <td>50057</td>\n",
       "      <td>1202.97</td>\n",
       "      <td>HYUNDAI</td>\n",
       "      <td>100.00</td>\n",
       "      <td>SANTRO XING</td>\n",
       "      <td>7.005200e+09</td>\n",
       "      <td>499.99</td>\n",
       "      <td>Paid Service</td>\n",
       "      <td>944.16</td>\n",
       "      <td>400603</td>\n",
       "      <td>BC01</td>\n",
       "      <td>THANE</td>\n",
       "      <td>NO</td>\n",
       "      <td>0.0</td>\n",
       "      <td>MH04CD9768</td>\n",
       "      <td>DAYANAND</td>\n",
       "      <td>2747.12</td>\n",
       "      <td>2747.12</td>\n",
       "      <td>BC01SA2</td>\n",
       "      <td>2015-01-03 12:07:17</td>\n",
       "      <td>2015-01-02 10:45:42</td>\n",
       "      <td>1 days 01:21:35</td>\n",
       "    </tr>\n",
       "    <tr>\n",
       "      <th>5</th>\n",
       "      <td>THANE</td>\n",
       "      <td>THANE</td>\n",
       "      <td>Retail</td>\n",
       "      <td>84457</td>\n",
       "      <td>Maharashtra</td>\n",
       "      <td>00:00:00</td>\n",
       "      <td>7005200007</td>\n",
       "      <td>174053</td>\n",
       "      <td>13122</td>\n",
       "      <td>0.00</td>\n",
       "      <td>TOYOTA</td>\n",
       "      <td>0.00</td>\n",
       "      <td>INNOVA</td>\n",
       "      <td>7.005200e+09</td>\n",
       "      <td>851.70</td>\n",
       "      <td>Running Repairs</td>\n",
       "      <td>14.22</td>\n",
       "      <td>400603</td>\n",
       "      <td>BC01</td>\n",
       "      <td>THANE</td>\n",
       "      <td>NO</td>\n",
       "      <td>0.0</td>\n",
       "      <td>MH04GM2960</td>\n",
       "      <td>DAYANAND</td>\n",
       "      <td>865.92</td>\n",
       "      <td>865.92</td>\n",
       "      <td>BC01SA2</td>\n",
       "      <td>2015-01-03 12:10:08</td>\n",
       "      <td>2015-01-02 15:15:10</td>\n",
       "      <td>0 days 20:54:58</td>\n",
       "    </tr>\n",
       "    <tr>\n",
       "      <th>6</th>\n",
       "      <td>THANE WEST</td>\n",
       "      <td>THANE</td>\n",
       "      <td>Retail</td>\n",
       "      <td>12523</td>\n",
       "      <td>Maharashtra</td>\n",
       "      <td>00:00:00</td>\n",
       "      <td>7005200008</td>\n",
       "      <td>173953</td>\n",
       "      <td>26964</td>\n",
       "      <td>0.00</td>\n",
       "      <td>HONDA</td>\n",
       "      <td>0.00</td>\n",
       "      <td>CITY</td>\n",
       "      <td>7.005200e+09</td>\n",
       "      <td>749.42</td>\n",
       "      <td>Running Repairs</td>\n",
       "      <td>0.00</td>\n",
       "      <td>400607</td>\n",
       "      <td>BC01</td>\n",
       "      <td>THANE</td>\n",
       "      <td>NO</td>\n",
       "      <td>0.0</td>\n",
       "      <td>MH06AL1935</td>\n",
       "      <td>PRASHANT</td>\n",
       "      <td>749.42</td>\n",
       "      <td>749.42</td>\n",
       "      <td>BC01SA2</td>\n",
       "      <td>2015-01-03 12:12:31</td>\n",
       "      <td>2015-01-02 12:15:55</td>\n",
       "      <td>0 days 23:56:36</td>\n",
       "    </tr>\n",
       "    <tr>\n",
       "      <th>7</th>\n",
       "      <td>G.B. ROAD</td>\n",
       "      <td>THANE</td>\n",
       "      <td>Retail</td>\n",
       "      <td>55220</td>\n",
       "      <td>Maharashtra</td>\n",
       "      <td>00:00:00</td>\n",
       "      <td>7005200009</td>\n",
       "      <td>174254</td>\n",
       "      <td>12943</td>\n",
       "      <td>0.00</td>\n",
       "      <td>MARUTI SUZUKI</td>\n",
       "      <td>0.00</td>\n",
       "      <td>SWIFT DZIRE</td>\n",
       "      <td>7.005200e+09</td>\n",
       "      <td>0.00</td>\n",
       "      <td>Running Repairs</td>\n",
       "      <td>0.00</td>\n",
       "      <td>400606</td>\n",
       "      <td>BC01</td>\n",
       "      <td>THANE</td>\n",
       "      <td>NO</td>\n",
       "      <td>0.0</td>\n",
       "      <td>MH04FR8641</td>\n",
       "      <td>SAMEER</td>\n",
       "      <td>0.00</td>\n",
       "      <td>0.00</td>\n",
       "      <td>BC01SA2</td>\n",
       "      <td>2015-01-03 12:18:54</td>\n",
       "      <td>2015-01-03 12:02:32</td>\n",
       "      <td>0 days 00:16:22</td>\n",
       "    </tr>\n",
       "    <tr>\n",
       "      <th>8</th>\n",
       "      <td>THANE</td>\n",
       "      <td>THANE[W]</td>\n",
       "      <td>Retail</td>\n",
       "      <td>84511</td>\n",
       "      <td>Maharashtra</td>\n",
       "      <td>00:00:00</td>\n",
       "      <td>7005200010</td>\n",
       "      <td>174162</td>\n",
       "      <td>18563</td>\n",
       "      <td>0.00</td>\n",
       "      <td>TATA MOTORS</td>\n",
       "      <td>0.00</td>\n",
       "      <td>INDIGO</td>\n",
       "      <td>7.005200e+09</td>\n",
       "      <td>0.00</td>\n",
       "      <td>Running Repairs</td>\n",
       "      <td>0.00</td>\n",
       "      <td>400607</td>\n",
       "      <td>BC01</td>\n",
       "      <td>THANE</td>\n",
       "      <td>NO</td>\n",
       "      <td>0.0</td>\n",
       "      <td>MH05BJ558</td>\n",
       "      <td>HARSHAD</td>\n",
       "      <td>0.00</td>\n",
       "      <td>0.00</td>\n",
       "      <td>BC01SA1</td>\n",
       "      <td>2015-01-03 13:07:27</td>\n",
       "      <td>2015-01-03 10:21:26</td>\n",
       "      <td>0 days 02:46:01</td>\n",
       "    </tr>\n",
       "    <tr>\n",
       "      <th>9</th>\n",
       "      <td>THANE</td>\n",
       "      <td>THANE</td>\n",
       "      <td>Retail</td>\n",
       "      <td>84457</td>\n",
       "      <td>Maharashtra</td>\n",
       "      <td>00:00:00</td>\n",
       "      <td>7005200011</td>\n",
       "      <td>174203</td>\n",
       "      <td>5443</td>\n",
       "      <td>698.92</td>\n",
       "      <td>MARUTI SUZUKI</td>\n",
       "      <td>49.99</td>\n",
       "      <td>ALTO</td>\n",
       "      <td>7.005200e+09</td>\n",
       "      <td>499.95</td>\n",
       "      <td>Paid Service</td>\n",
       "      <td>2663.75</td>\n",
       "      <td>400603</td>\n",
       "      <td>BC01</td>\n",
       "      <td>THANE</td>\n",
       "      <td>NO</td>\n",
       "      <td>0.0</td>\n",
       "      <td>GA07E3439</td>\n",
       "      <td>DAYANAND</td>\n",
       "      <td>3912.61</td>\n",
       "      <td>3912.61</td>\n",
       "      <td>BC01SA1</td>\n",
       "      <td>2015-01-03 15:54:21</td>\n",
       "      <td>2015-01-03 11:11:00</td>\n",
       "      <td>0 days 04:43:21</td>\n",
       "    </tr>\n",
       "  </tbody>\n",
       "</table>\n",
       "</div>"
      ],
      "text/plain": [
       "  Area / Locality      CITY Cust Type Customer No.     District  \\\n",
       "0        MAJIWADA     Thane    Retail        67849  Maharashtra   \n",
       "1           THNAE     THNAE    Retail        84419  Maharashtra   \n",
       "2           THANE  THANE[W]    Retail        81055  Maharashtra   \n",
       "3           THNAE     THNAE    Retail        84419  Maharashtra   \n",
       "4           THANE     THANE    Retail        18980  Maharashtra   \n",
       "5           THANE     THANE    Retail        84457  Maharashtra   \n",
       "6      THANE WEST     THANE    Retail        12523  Maharashtra   \n",
       "7       G.B. ROAD     THANE    Retail        55220  Maharashtra   \n",
       "8           THANE  THANE[W]    Retail        84511  Maharashtra   \n",
       "9           THANE     THANE    Retail        84457  Maharashtra   \n",
       "\n",
       "  Gate Pass Time  Invoice No  Job Card No  KMs Reading  Labour Total  \\\n",
       "0       00:00:00  7005200002       168303        49317       1203.14   \n",
       "1       00:00:00  7005200003       173997        78584        804.26   \n",
       "2       00:00:00  7005200004       173889        33985        180.19   \n",
       "3       00:00:00  7005200005       174158        78584          0.00   \n",
       "4       00:00:00  7005200006       173860        50057       1202.97   \n",
       "5       00:00:00  7005200007       174053        13122          0.00   \n",
       "6       00:00:00  7005200008       173953        26964          0.00   \n",
       "7       00:00:00  7005200009       174254        12943          0.00   \n",
       "8       00:00:00  7005200010       174162        18563          0.00   \n",
       "9       00:00:00  7005200011       174203         5443        698.92   \n",
       "\n",
       "             Make  Misc Total        Model       ODN No.  OSL Total  \\\n",
       "0  GENERAL MOTORS        0.00        SPARK  7.005200e+09     500.06   \n",
       "1     TATA MOTORS      197.03       INDICA  7.005200e+09       0.00   \n",
       "2   MARUTI SUZUKI        0.00          ZEN  7.005200e+09       0.00   \n",
       "3     TATA MOTORS        0.00       INDICA  7.005200e+09       0.00   \n",
       "4         HYUNDAI      100.00  SANTRO XING  7.005200e+09     499.99   \n",
       "5          TOYOTA        0.00       INNOVA  7.005200e+09     851.70   \n",
       "6           HONDA        0.00         CITY  7.005200e+09     749.42   \n",
       "7   MARUTI SUZUKI        0.00  SWIFT DZIRE  7.005200e+09       0.00   \n",
       "8     TATA MOTORS        0.00       INDIGO  7.005200e+09       0.00   \n",
       "9   MARUTI SUZUKI       49.99         ALTO  7.005200e+09     499.95   \n",
       "\n",
       "          Order Type  Parts Total  Pin code Plant Plant Name1 Print Status  \\\n",
       "0       Paid Service      2348.75    400601  BC01       THANE           NO   \n",
       "1  SMC Value Package         0.00    400603  BC01       THANE           NO   \n",
       "2    Running Repairs        52.95    400607  BC01       THANE           NO   \n",
       "3     SMC Redemption         0.00    400603  BC01       THANE           NO   \n",
       "4       Paid Service       944.16    400603  BC01       THANE           NO   \n",
       "5    Running Repairs        14.22    400603  BC01       THANE           NO   \n",
       "6    Running Repairs         0.00    400607  BC01       THANE           NO   \n",
       "7    Running Repairs         0.00    400606  BC01       THANE           NO   \n",
       "8    Running Repairs         0.00    400607  BC01       THANE           NO   \n",
       "9       Paid Service      2663.75    400603  BC01       THANE           NO   \n",
       "\n",
       "   Recovrbl Exp     Regn No Technician Name  Total Amt Wtd Tax.  Total Value  \\\n",
       "0           0.0  KA19MA1291          RUPESH             4051.95      4051.95   \n",
       "1           0.0   MH43R3046        PRASHANT             1001.29      1001.29   \n",
       "2           0.0  AP09AX0582           IMRAN              233.14       233.14   \n",
       "3           0.0   MH43R3046        PRASHANT                0.00         0.00   \n",
       "4           0.0  MH04CD9768        DAYANAND             2747.12      2747.12   \n",
       "5           0.0  MH04GM2960        DAYANAND              865.92       865.92   \n",
       "6           0.0  MH06AL1935        PRASHANT              749.42       749.42   \n",
       "7           0.0  MH04FR8641          SAMEER                0.00         0.00   \n",
       "8           0.0   MH05BJ558         HARSHAD                0.00         0.00   \n",
       "9           0.0   GA07E3439        DAYANAND             3912.61      3912.61   \n",
       "\n",
       "   User ID   Invoice_Date_time  Job_Card_Date_time      Service TAT  \n",
       "0  BC01FS1 2015-01-02 11:30:36 2014-12-13 14:29:43 19 days 21:00:53  \n",
       "1  BC01SA2 2015-01-03 10:07:32 2015-01-02 14:12:18  0 days 19:55:14  \n",
       "2  BC01SA2 2015-01-03 11:12:57 2015-01-02 11:40:44  0 days 23:32:13  \n",
       "3  BC01SA2 2015-01-03 11:40:44 2015-01-03 10:12:32  0 days 01:28:12  \n",
       "4  BC01SA2 2015-01-03 12:07:17 2015-01-02 10:45:42  1 days 01:21:35  \n",
       "5  BC01SA2 2015-01-03 12:10:08 2015-01-02 15:15:10  0 days 20:54:58  \n",
       "6  BC01SA2 2015-01-03 12:12:31 2015-01-02 12:15:55  0 days 23:56:36  \n",
       "7  BC01SA2 2015-01-03 12:18:54 2015-01-03 12:02:32  0 days 00:16:22  \n",
       "8  BC01SA1 2015-01-03 13:07:27 2015-01-03 10:21:26  0 days 02:46:01  \n",
       "9  BC01SA1 2015-01-03 15:54:21 2015-01-03 11:11:00  0 days 04:43:21  "
      ]
     },
     "execution_count": 31,
     "metadata": {},
     "output_type": "execute_result"
    }
   ],
   "source": [
    "Final_invoice.head(10)"
   ]
  },
  {
   "cell_type": "code",
   "execution_count": 32,
   "metadata": {},
   "outputs": [
    {
     "data": {
      "text/html": [
       "<div>\n",
       "<style scoped>\n",
       "    .dataframe tbody tr th:only-of-type {\n",
       "        vertical-align: middle;\n",
       "    }\n",
       "\n",
       "    .dataframe tbody tr th {\n",
       "        vertical-align: top;\n",
       "    }\n",
       "\n",
       "    .dataframe thead th {\n",
       "        text-align: right;\n",
       "    }\n",
       "</style>\n",
       "<table border=\"1\" class=\"dataframe\">\n",
       "  <thead>\n",
       "    <tr style=\"text-align: right;\">\n",
       "      <th></th>\n",
       "      <th>Area / Locality</th>\n",
       "      <th>CITY</th>\n",
       "      <th>Cust Type</th>\n",
       "      <th>Customer No.</th>\n",
       "      <th>State</th>\n",
       "      <th>Gate Pass Time</th>\n",
       "      <th>Invoice No</th>\n",
       "      <th>Job Card No</th>\n",
       "      <th>KMs Reading</th>\n",
       "      <th>Labour Total</th>\n",
       "      <th>Make</th>\n",
       "      <th>Misc Total</th>\n",
       "      <th>Model</th>\n",
       "      <th>ODN No.</th>\n",
       "      <th>OSL Total</th>\n",
       "      <th>Order Type</th>\n",
       "      <th>Parts Total</th>\n",
       "      <th>Pin code</th>\n",
       "      <th>Plant</th>\n",
       "      <th>Plant Name1</th>\n",
       "      <th>Print Status</th>\n",
       "      <th>Recovrbl Exp</th>\n",
       "      <th>Regn No</th>\n",
       "      <th>Technician Name</th>\n",
       "      <th>Total Amt Wtd Tax.</th>\n",
       "      <th>Total Value</th>\n",
       "      <th>User ID</th>\n",
       "      <th>Invoice_Date_time</th>\n",
       "      <th>Job_Card_Date_time</th>\n",
       "      <th>Service TAT</th>\n",
       "    </tr>\n",
       "  </thead>\n",
       "  <tbody>\n",
       "    <tr>\n",
       "      <th>0</th>\n",
       "      <td>MAJIWADA</td>\n",
       "      <td>Thane</td>\n",
       "      <td>Retail</td>\n",
       "      <td>67849</td>\n",
       "      <td>Maharashtra</td>\n",
       "      <td>00:00:00</td>\n",
       "      <td>7005200002</td>\n",
       "      <td>168303</td>\n",
       "      <td>49317</td>\n",
       "      <td>1203.14</td>\n",
       "      <td>GENERAL MOTORS</td>\n",
       "      <td>0.00</td>\n",
       "      <td>SPARK</td>\n",
       "      <td>7.005200e+09</td>\n",
       "      <td>500.06</td>\n",
       "      <td>Paid Service</td>\n",
       "      <td>2348.75</td>\n",
       "      <td>400601</td>\n",
       "      <td>BC01</td>\n",
       "      <td>THANE</td>\n",
       "      <td>NO</td>\n",
       "      <td>0.0</td>\n",
       "      <td>KA19MA1291</td>\n",
       "      <td>RUPESH</td>\n",
       "      <td>4051.95</td>\n",
       "      <td>4051.95</td>\n",
       "      <td>BC01FS1</td>\n",
       "      <td>2015-01-02 11:30:36</td>\n",
       "      <td>2014-12-13 14:29:43</td>\n",
       "      <td>19 days 21:00:53</td>\n",
       "    </tr>\n",
       "    <tr>\n",
       "      <th>1</th>\n",
       "      <td>THNAE</td>\n",
       "      <td>THNAE</td>\n",
       "      <td>Retail</td>\n",
       "      <td>84419</td>\n",
       "      <td>Maharashtra</td>\n",
       "      <td>00:00:00</td>\n",
       "      <td>7005200003</td>\n",
       "      <td>173997</td>\n",
       "      <td>78584</td>\n",
       "      <td>804.26</td>\n",
       "      <td>TATA MOTORS</td>\n",
       "      <td>197.03</td>\n",
       "      <td>INDICA</td>\n",
       "      <td>7.005200e+09</td>\n",
       "      <td>0.00</td>\n",
       "      <td>SMC Value Package</td>\n",
       "      <td>0.00</td>\n",
       "      <td>400603</td>\n",
       "      <td>BC01</td>\n",
       "      <td>THANE</td>\n",
       "      <td>NO</td>\n",
       "      <td>0.0</td>\n",
       "      <td>MH43R3046</td>\n",
       "      <td>PRASHANT</td>\n",
       "      <td>1001.29</td>\n",
       "      <td>1001.29</td>\n",
       "      <td>BC01SA2</td>\n",
       "      <td>2015-01-03 10:07:32</td>\n",
       "      <td>2015-01-02 14:12:18</td>\n",
       "      <td>0 days 19:55:14</td>\n",
       "    </tr>\n",
       "    <tr>\n",
       "      <th>2</th>\n",
       "      <td>THANE</td>\n",
       "      <td>THANE[W]</td>\n",
       "      <td>Retail</td>\n",
       "      <td>81055</td>\n",
       "      <td>Maharashtra</td>\n",
       "      <td>00:00:00</td>\n",
       "      <td>7005200004</td>\n",
       "      <td>173889</td>\n",
       "      <td>33985</td>\n",
       "      <td>180.19</td>\n",
       "      <td>MARUTI SUZUKI</td>\n",
       "      <td>0.00</td>\n",
       "      <td>ZEN</td>\n",
       "      <td>7.005200e+09</td>\n",
       "      <td>0.00</td>\n",
       "      <td>Running Repairs</td>\n",
       "      <td>52.95</td>\n",
       "      <td>400607</td>\n",
       "      <td>BC01</td>\n",
       "      <td>THANE</td>\n",
       "      <td>NO</td>\n",
       "      <td>0.0</td>\n",
       "      <td>AP09AX0582</td>\n",
       "      <td>IMRAN</td>\n",
       "      <td>233.14</td>\n",
       "      <td>233.14</td>\n",
       "      <td>BC01SA2</td>\n",
       "      <td>2015-01-03 11:12:57</td>\n",
       "      <td>2015-01-02 11:40:44</td>\n",
       "      <td>0 days 23:32:13</td>\n",
       "    </tr>\n",
       "    <tr>\n",
       "      <th>3</th>\n",
       "      <td>THNAE</td>\n",
       "      <td>THNAE</td>\n",
       "      <td>Retail</td>\n",
       "      <td>84419</td>\n",
       "      <td>Maharashtra</td>\n",
       "      <td>00:00:00</td>\n",
       "      <td>7005200005</td>\n",
       "      <td>174158</td>\n",
       "      <td>78584</td>\n",
       "      <td>0.00</td>\n",
       "      <td>TATA MOTORS</td>\n",
       "      <td>0.00</td>\n",
       "      <td>INDICA</td>\n",
       "      <td>7.005200e+09</td>\n",
       "      <td>0.00</td>\n",
       "      <td>SMC Redemption</td>\n",
       "      <td>0.00</td>\n",
       "      <td>400603</td>\n",
       "      <td>BC01</td>\n",
       "      <td>THANE</td>\n",
       "      <td>NO</td>\n",
       "      <td>0.0</td>\n",
       "      <td>MH43R3046</td>\n",
       "      <td>PRASHANT</td>\n",
       "      <td>0.00</td>\n",
       "      <td>0.00</td>\n",
       "      <td>BC01SA2</td>\n",
       "      <td>2015-01-03 11:40:44</td>\n",
       "      <td>2015-01-03 10:12:32</td>\n",
       "      <td>0 days 01:28:12</td>\n",
       "    </tr>\n",
       "    <tr>\n",
       "      <th>4</th>\n",
       "      <td>THANE</td>\n",
       "      <td>THANE</td>\n",
       "      <td>Retail</td>\n",
       "      <td>18980</td>\n",
       "      <td>Maharashtra</td>\n",
       "      <td>00:00:00</td>\n",
       "      <td>7005200006</td>\n",
       "      <td>173860</td>\n",
       "      <td>50057</td>\n",
       "      <td>1202.97</td>\n",
       "      <td>HYUNDAI</td>\n",
       "      <td>100.00</td>\n",
       "      <td>SANTRO XING</td>\n",
       "      <td>7.005200e+09</td>\n",
       "      <td>499.99</td>\n",
       "      <td>Paid Service</td>\n",
       "      <td>944.16</td>\n",
       "      <td>400603</td>\n",
       "      <td>BC01</td>\n",
       "      <td>THANE</td>\n",
       "      <td>NO</td>\n",
       "      <td>0.0</td>\n",
       "      <td>MH04CD9768</td>\n",
       "      <td>DAYANAND</td>\n",
       "      <td>2747.12</td>\n",
       "      <td>2747.12</td>\n",
       "      <td>BC01SA2</td>\n",
       "      <td>2015-01-03 12:07:17</td>\n",
       "      <td>2015-01-02 10:45:42</td>\n",
       "      <td>1 days 01:21:35</td>\n",
       "    </tr>\n",
       "  </tbody>\n",
       "</table>\n",
       "</div>"
      ],
      "text/plain": [
       "  Area / Locality      CITY Cust Type Customer No.        State  \\\n",
       "0        MAJIWADA     Thane    Retail        67849  Maharashtra   \n",
       "1           THNAE     THNAE    Retail        84419  Maharashtra   \n",
       "2           THANE  THANE[W]    Retail        81055  Maharashtra   \n",
       "3           THNAE     THNAE    Retail        84419  Maharashtra   \n",
       "4           THANE     THANE    Retail        18980  Maharashtra   \n",
       "\n",
       "  Gate Pass Time  Invoice No  Job Card No  KMs Reading  Labour Total  \\\n",
       "0       00:00:00  7005200002       168303        49317       1203.14   \n",
       "1       00:00:00  7005200003       173997        78584        804.26   \n",
       "2       00:00:00  7005200004       173889        33985        180.19   \n",
       "3       00:00:00  7005200005       174158        78584          0.00   \n",
       "4       00:00:00  7005200006       173860        50057       1202.97   \n",
       "\n",
       "             Make  Misc Total        Model       ODN No.  OSL Total  \\\n",
       "0  GENERAL MOTORS        0.00        SPARK  7.005200e+09     500.06   \n",
       "1     TATA MOTORS      197.03       INDICA  7.005200e+09       0.00   \n",
       "2   MARUTI SUZUKI        0.00          ZEN  7.005200e+09       0.00   \n",
       "3     TATA MOTORS        0.00       INDICA  7.005200e+09       0.00   \n",
       "4         HYUNDAI      100.00  SANTRO XING  7.005200e+09     499.99   \n",
       "\n",
       "          Order Type  Parts Total  Pin code Plant Plant Name1 Print Status  \\\n",
       "0       Paid Service      2348.75    400601  BC01       THANE           NO   \n",
       "1  SMC Value Package         0.00    400603  BC01       THANE           NO   \n",
       "2    Running Repairs        52.95    400607  BC01       THANE           NO   \n",
       "3     SMC Redemption         0.00    400603  BC01       THANE           NO   \n",
       "4       Paid Service       944.16    400603  BC01       THANE           NO   \n",
       "\n",
       "   Recovrbl Exp     Regn No Technician Name  Total Amt Wtd Tax.  Total Value  \\\n",
       "0           0.0  KA19MA1291          RUPESH             4051.95      4051.95   \n",
       "1           0.0   MH43R3046        PRASHANT             1001.29      1001.29   \n",
       "2           0.0  AP09AX0582           IMRAN              233.14       233.14   \n",
       "3           0.0   MH43R3046        PRASHANT                0.00         0.00   \n",
       "4           0.0  MH04CD9768        DAYANAND             2747.12      2747.12   \n",
       "\n",
       "   User ID   Invoice_Date_time  Job_Card_Date_time      Service TAT  \n",
       "0  BC01FS1 2015-01-02 11:30:36 2014-12-13 14:29:43 19 days 21:00:53  \n",
       "1  BC01SA2 2015-01-03 10:07:32 2015-01-02 14:12:18  0 days 19:55:14  \n",
       "2  BC01SA2 2015-01-03 11:12:57 2015-01-02 11:40:44  0 days 23:32:13  \n",
       "3  BC01SA2 2015-01-03 11:40:44 2015-01-03 10:12:32  0 days 01:28:12  \n",
       "4  BC01SA2 2015-01-03 12:07:17 2015-01-02 10:45:42  1 days 01:21:35  "
      ]
     },
     "execution_count": 32,
     "metadata": {},
     "output_type": "execute_result"
    }
   ],
   "source": [
    "#we can see that State column has been incorrect;y labelled as District hence we will change the column name\n",
    "\n",
    "Final_invoice = Final_invoice.rename(columns = {'District':'State'})\n",
    "Final_invoice.head(5)"
   ]
  },
  {
   "cell_type": "code",
   "execution_count": 34,
   "metadata": {},
   "outputs": [
    {
     "data": {
      "text/html": [
       "<div>\n",
       "<style scoped>\n",
       "    .dataframe tbody tr th:only-of-type {\n",
       "        vertical-align: middle;\n",
       "    }\n",
       "\n",
       "    .dataframe tbody tr th {\n",
       "        vertical-align: top;\n",
       "    }\n",
       "\n",
       "    .dataframe thead th {\n",
       "        text-align: right;\n",
       "    }\n",
       "</style>\n",
       "<table border=\"1\" class=\"dataframe\">\n",
       "  <thead>\n",
       "    <tr style=\"text-align: right;\">\n",
       "      <th>col_0</th>\n",
       "      <th>Model</th>\n",
       "    </tr>\n",
       "    <tr>\n",
       "      <th>State</th>\n",
       "      <th></th>\n",
       "    </tr>\n",
       "  </thead>\n",
       "  <tbody>\n",
       "    <tr>\n",
       "      <th>Andaman and Nico.In.</th>\n",
       "      <td>8</td>\n",
       "    </tr>\n",
       "    <tr>\n",
       "      <th>Andhra Pradesh</th>\n",
       "      <td>40604</td>\n",
       "    </tr>\n",
       "    <tr>\n",
       "      <th>Arunachal Pradesh</th>\n",
       "      <td>62</td>\n",
       "    </tr>\n",
       "    <tr>\n",
       "      <th>Assam</th>\n",
       "      <td>100</td>\n",
       "    </tr>\n",
       "    <tr>\n",
       "      <th>Bihar</th>\n",
       "      <td>3258</td>\n",
       "    </tr>\n",
       "    <tr>\n",
       "      <th>Chandigarh</th>\n",
       "      <td>3319</td>\n",
       "    </tr>\n",
       "    <tr>\n",
       "      <th>Chhattisgarh</th>\n",
       "      <td>622</td>\n",
       "    </tr>\n",
       "    <tr>\n",
       "      <th>Dadra and Nagar Hav.</th>\n",
       "      <td>907</td>\n",
       "    </tr>\n",
       "    <tr>\n",
       "      <th>Daman and Diu</th>\n",
       "      <td>436</td>\n",
       "    </tr>\n",
       "    <tr>\n",
       "      <th>Delhi</th>\n",
       "      <td>5414</td>\n",
       "    </tr>\n",
       "    <tr>\n",
       "      <th>Goa</th>\n",
       "      <td>24</td>\n",
       "    </tr>\n",
       "    <tr>\n",
       "      <th>Gujarat</th>\n",
       "      <td>24403</td>\n",
       "    </tr>\n",
       "    <tr>\n",
       "      <th>Haryana</th>\n",
       "      <td>17971</td>\n",
       "    </tr>\n",
       "    <tr>\n",
       "      <th>Himachal Pradesh</th>\n",
       "      <td>3316</td>\n",
       "    </tr>\n",
       "    <tr>\n",
       "      <th>Jammu and Kashmir</th>\n",
       "      <td>21</td>\n",
       "    </tr>\n",
       "    <tr>\n",
       "      <th>Jharkhand</th>\n",
       "      <td>256</td>\n",
       "    </tr>\n",
       "    <tr>\n",
       "      <th>Karnataka</th>\n",
       "      <td>44135</td>\n",
       "    </tr>\n",
       "    <tr>\n",
       "      <th>Kerala</th>\n",
       "      <td>6002</td>\n",
       "    </tr>\n",
       "    <tr>\n",
       "      <th>Lakshadweep</th>\n",
       "      <td>7</td>\n",
       "    </tr>\n",
       "    <tr>\n",
       "      <th>Madhya Pradesh</th>\n",
       "      <td>13598</td>\n",
       "    </tr>\n",
       "    <tr>\n",
       "      <th>Maharashtra</th>\n",
       "      <td>128119</td>\n",
       "    </tr>\n",
       "    <tr>\n",
       "      <th>Manipur</th>\n",
       "      <td>3</td>\n",
       "    </tr>\n",
       "    <tr>\n",
       "      <th>Megalaya</th>\n",
       "      <td>7</td>\n",
       "    </tr>\n",
       "    <tr>\n",
       "      <th>Mizoram</th>\n",
       "      <td>2</td>\n",
       "    </tr>\n",
       "    <tr>\n",
       "      <th>Nagaland</th>\n",
       "      <td>24</td>\n",
       "    </tr>\n",
       "    <tr>\n",
       "      <th>Odisha</th>\n",
       "      <td>2305</td>\n",
       "    </tr>\n",
       "    <tr>\n",
       "      <th>Puducherry</th>\n",
       "      <td>1716</td>\n",
       "    </tr>\n",
       "    <tr>\n",
       "      <th>Punjab</th>\n",
       "      <td>22741</td>\n",
       "    </tr>\n",
       "    <tr>\n",
       "      <th>Rajasthan</th>\n",
       "      <td>13466</td>\n",
       "    </tr>\n",
       "    <tr>\n",
       "      <th>Sikkim</th>\n",
       "      <td>6</td>\n",
       "    </tr>\n",
       "    <tr>\n",
       "      <th>Tamil Nadu</th>\n",
       "      <td>116309</td>\n",
       "    </tr>\n",
       "    <tr>\n",
       "      <th>Telangana</th>\n",
       "      <td>7741</td>\n",
       "    </tr>\n",
       "    <tr>\n",
       "      <th>Tripura</th>\n",
       "      <td>5</td>\n",
       "    </tr>\n",
       "    <tr>\n",
       "      <th>Uttar Pradesh</th>\n",
       "      <td>31534</td>\n",
       "    </tr>\n",
       "    <tr>\n",
       "      <th>Uttarakhand</th>\n",
       "      <td>2541</td>\n",
       "    </tr>\n",
       "    <tr>\n",
       "      <th>West Bengal</th>\n",
       "      <td>1332</td>\n",
       "    </tr>\n",
       "  </tbody>\n",
       "</table>\n",
       "</div>"
      ],
      "text/plain": [
       "col_0                  Model\n",
       "State                       \n",
       "Andaman and Nico.In.       8\n",
       "Andhra Pradesh         40604\n",
       "Arunachal Pradesh         62\n",
       "Assam                    100\n",
       "Bihar                   3258\n",
       "Chandigarh              3319\n",
       "Chhattisgarh             622\n",
       "Dadra and Nagar Hav.     907\n",
       "Daman and Diu            436\n",
       "Delhi                   5414\n",
       "Goa                       24\n",
       "Gujarat                24403\n",
       "Haryana                17971\n",
       "Himachal Pradesh        3316\n",
       "Jammu and Kashmir         21\n",
       "Jharkhand                256\n",
       "Karnataka              44135\n",
       "Kerala                  6002\n",
       "Lakshadweep                7\n",
       "Madhya Pradesh         13598\n",
       "Maharashtra           128119\n",
       "Manipur                    3\n",
       "Megalaya                   7\n",
       "Mizoram                    2\n",
       "Nagaland                  24\n",
       "Odisha                  2305\n",
       "Puducherry              1716\n",
       "Punjab                 22741\n",
       "Rajasthan              13466\n",
       "Sikkim                     6\n",
       "Tamil Nadu            116309\n",
       "Telangana               7741\n",
       "Tripura                    5\n",
       "Uttar Pradesh          31534\n",
       "Uttarakhand             2541\n",
       "West Bengal             1332"
      ]
     },
     "execution_count": 34,
     "metadata": {},
     "output_type": "execute_result"
    }
   ],
   "source": [
    "cars_per_state = pd.crosstab(index = Final_invoice[\"State\"], columns = \"Model\")\n",
    "cars_per_state"
   ]
  },
  {
   "cell_type": "code",
   "execution_count": 35,
   "metadata": {},
   "outputs": [
    {
     "data": {
      "text/plain": [
       "array(['GENERAL MOTORS', 'TATA MOTORS', 'MARUTI SUZUKI', 'HYUNDAI',\n",
       "       'TOYOTA', 'HONDA', 'FIAT', 'FORD', 'SKODA', 'MAHINDRA &  MAHINDRA',\n",
       "       'VOLKSWAGEN', 'NISSAN', 'RENAULT', 'MERCEDES BENZ',\n",
       "       'MITSUBISHI MOTORS', 'DAEWOO', 'BMW', 'FORCE', 'SONALIKA', 'VOLVO',\n",
       "       'HINDUSTAN MOTORS', 'AUDI', 'PREMIER\\xa0AUTOMOBILES', 'PORCHE',\n",
       "       'LAND ROVER', 'JEEP', 'MORRIS', 'SAN MOTORS'], dtype=object)"
      ]
     },
     "execution_count": 35,
     "metadata": {},
     "output_type": "execute_result"
    }
   ],
   "source": [
    "Final_invoice[\"Make\"].unique()"
   ]
  },
  {
   "cell_type": "code",
   "execution_count": 36,
   "metadata": {},
   "outputs": [
    {
     "data": {
      "text/plain": [
       "array(['SPARK', 'INDICA', 'ZEN', 'SANTRO XING', 'INNOVA', 'CITY',\n",
       "       'SWIFT DZIRE', 'INDIGO', 'ALTO', 'WAGONR', 'SANTRO', 'I10',\n",
       "       'VISTA', 'AVEO', 'GRAND PUNTO', 'FIESTA', 'RAPID', 'TAVERA',\n",
       "       'XYLO', 'POLO', 'LOGAN P', 'SWIFT', 'FIGO', 'VERITO',\n",
       "       'ESTEEM 1300', 'SCORPIO CRDE', 'SCORPIO NEF', 'ACCENT', '800',\n",
       "       'SAFARI', 'ZEN ESTILO', 'I20', 'VERNA', 'ETIOS', 'LOGAN D', 'GETZ',\n",
       "       'RITZ', 'IKON', 'CIVIC', 'XUV 500', 'SUMO', 'PALIO', 'BEAT',\n",
       "       'OPTRA', 'SX4', 'LAURA', 'JAZZ', 'EON', 'LINEA', 'QUALIS',\n",
       "       'INDIGO MANZA', 'FABIA', 'COROLLA', 'VENTO', 'BOLERO',\n",
       "       'SUPER SUNNY', 'EECO', 'ADVENTURE', 'CHEVROLET CRUZE', 'OCTAVIA',\n",
       "       'AVEO UV-A', 'OPEL', nan, 'INDIGO MARINA', 'FORTUNER', 'MAXX',\n",
       "       'DUSTER', 'MICRA', 'ENDEAVOUR', 'FUSION', 'BRIO', 'RENAULT 1.9',\n",
       "       'OMNI', 'SUPERB', 'NANO', 'OPEL CORSA', 'A STAR', 'E-CLASS',\n",
       "       'LANCER', 'SAIL', 'CR-V', 'JETTA', 'COROLLA ALTIS', 'CAPTIVA',\n",
       "       'MAGIC', 'QUANTO', 'SSANYONG KORANDO', 'ACCORD', 'ESTEEM 1000',\n",
       "       'MATIZ', 'ERTIGA', 'AMAZE', 'SRV', 'ARIA', 'VERSA',\n",
       "       'BOLERO PIK UP', 'ESCORT', 'BMW-M3', 'PULSE', 'SONATA', 'BALENO',\n",
       "       'SUMO GRANDE', 'OPTRA MAGNUM', 'FORCE ONE', 'X-TRAIL', 'TEANA',\n",
       "       'COMMANDER', 'GYPSY 1000', 'ROOMSTER', 'TRAX', 'THAR',\n",
       "       'TAVERA NEO', 'XCENT', 'RHINO RX', 'ARMADA', 'GYPSY 1300',\n",
       "       'VOLVO XC90', 'YETI', 'ELANTRA', 'GRAND', 'MAHINDRA CNG',\n",
       "       'PALIO STILE', 'G CLASS', 'S 350 L', 'MARSHAL', 'UNO', '5 SERIES',\n",
       "       'CAMRY', 'MAHINDRA PIK UP', 'WINGER', 'VENTURE', 'SIERRA',\n",
       "       'CONTESSA', 'OPEL ASTRA', '207', 'PASSAT', 'LAUREL', 'FLUENCE',\n",
       "       'TERRACAN', 'PAJERO', 'C-CLASS', 'AMBASSADOR', 'FOCUS', 'MONTERO',\n",
       "       'Q7', 'Q5', '7 SERIES', 'CLASSIC', 'SONATA V-6', 'BMW-M5', 'CEDIA',\n",
       "       'XENON XT', 'KIZASHI', 'BMW-M6', 'LAND ROVER DISCOVERY', 'PETRA',\n",
       "       'JAGUAR XF', 'MAHINDRA MM', 'A4', 'SSANYONG REXTON', 'KOLEOS',\n",
       "       'SANTA FE', 'SIENA', 'GRAND VITARA', 'ACE', 'ML 350',\n",
       "       'S 320 CDI L', 'FORESTER', 'RIO', 'TL', 'SLK-CLASS', 'X5', 'X3',\n",
       "       'A6', 'CL-CLASS', 'MONDEO', 'X1', 'SWIFT D,ZIRE', 'JAGUAR XJ',\n",
       "       'ZEST', 'ECOSPORT', 'CIAZ', 'TERRANO', 'DATSUN GO', 'CELERIO',\n",
       "       'SCALA', 'CLS-CLASS', 'ENJOY', 'CAYENNE', 'MOBILIO', 'PADMINI',\n",
       "       'CIELO', 'OUTLANDER', 'ROVER', '3 SERIES', 'VELOSTER', 'BOLT',\n",
       "       'MINIS', 'TOUAREG', 'LAND CRUISER PRADO', 'LODGY', 'TUCSON',\n",
       "       'LIMOUSINE', 'S-CLASS', 'REVA', 'LAND ROVER RANGE ROVER',\n",
       "       'TATA-NANO', '6 SERIES', 'VOLVO S80', 'A8', 'A7', 'CHEROKEE',\n",
       "       'LAND ROVER FREELANDER', 'SL-CLASS', 'AUSTIN', 'JAGUAR XL',\n",
       "       'ML-CLASS', 'VECTRA', 'ESTILO', '500', 'CAYMAN S', 'TT', 'BMW X6',\n",
       "       'SAN STORM 1.2', 'CLK-CLASS', 'ASTAR', 'Z4', 'MAXXIMO', 'GENIO',\n",
       "       'CRETA', 'KWID', 'KUV100', 'BREZZA', 'BRV', 'TUV300', 'TIAGO',\n",
       "       'EVALIA', 'SUPRO', 'AMEO', 'AVIGO', 'ECO SPORT', 'TREKKER',\n",
       "       'GL-CLASS', 'TRAILBLAZER', 'PUSHPAK', 'NEXIA'], dtype=object)"
      ]
     },
     "execution_count": 36,
     "metadata": {},
     "output_type": "execute_result"
    }
   ],
   "source": [
    "Final_invoice[\"Model\"].unique()"
   ]
  },
  {
   "cell_type": "code",
   "execution_count": 37,
   "metadata": {},
   "outputs": [
    {
     "data": {
      "text/html": [
       "<div>\n",
       "<style scoped>\n",
       "    .dataframe tbody tr th:only-of-type {\n",
       "        vertical-align: middle;\n",
       "    }\n",
       "\n",
       "    .dataframe tbody tr th {\n",
       "        vertical-align: top;\n",
       "    }\n",
       "\n",
       "    .dataframe thead th {\n",
       "        text-align: right;\n",
       "    }\n",
       "</style>\n",
       "<table border=\"1\" class=\"dataframe\">\n",
       "  <thead>\n",
       "    <tr style=\"text-align: right;\">\n",
       "      <th></th>\n",
       "      <th>CITY</th>\n",
       "      <th>State</th>\n",
       "      <th>Make</th>\n",
       "      <th>Model</th>\n",
       "      <th>Order Type</th>\n",
       "    </tr>\n",
       "  </thead>\n",
       "  <tbody>\n",
       "    <tr>\n",
       "      <th>0</th>\n",
       "      <td>Thane</td>\n",
       "      <td>Maharashtra</td>\n",
       "      <td>GENERAL MOTORS</td>\n",
       "      <td>SPARK</td>\n",
       "      <td>Paid Service</td>\n",
       "    </tr>\n",
       "    <tr>\n",
       "      <th>1</th>\n",
       "      <td>THNAE</td>\n",
       "      <td>Maharashtra</td>\n",
       "      <td>TATA MOTORS</td>\n",
       "      <td>INDICA</td>\n",
       "      <td>SMC Value Package</td>\n",
       "    </tr>\n",
       "    <tr>\n",
       "      <th>2</th>\n",
       "      <td>THANE[W]</td>\n",
       "      <td>Maharashtra</td>\n",
       "      <td>MARUTI SUZUKI</td>\n",
       "      <td>ZEN</td>\n",
       "      <td>Running Repairs</td>\n",
       "    </tr>\n",
       "    <tr>\n",
       "      <th>3</th>\n",
       "      <td>THNAE</td>\n",
       "      <td>Maharashtra</td>\n",
       "      <td>TATA MOTORS</td>\n",
       "      <td>INDICA</td>\n",
       "      <td>SMC Redemption</td>\n",
       "    </tr>\n",
       "    <tr>\n",
       "      <th>4</th>\n",
       "      <td>THANE</td>\n",
       "      <td>Maharashtra</td>\n",
       "      <td>HYUNDAI</td>\n",
       "      <td>SANTRO XING</td>\n",
       "      <td>Paid Service</td>\n",
       "    </tr>\n",
       "  </tbody>\n",
       "</table>\n",
       "</div>"
      ],
      "text/plain": [
       "       CITY        State            Make        Model         Order Type\n",
       "0     Thane  Maharashtra  GENERAL MOTORS        SPARK       Paid Service\n",
       "1     THNAE  Maharashtra     TATA MOTORS       INDICA  SMC Value Package\n",
       "2  THANE[W]  Maharashtra   MARUTI SUZUKI          ZEN    Running Repairs\n",
       "3     THNAE  Maharashtra     TATA MOTORS       INDICA     SMC Redemption\n",
       "4     THANE  Maharashtra         HYUNDAI  SANTRO XING       Paid Service"
      ]
     },
     "execution_count": 37,
     "metadata": {},
     "output_type": "execute_result"
    }
   ],
   "source": [
    "df = Final_invoice[['CITY','State','Make','Model','Order Type']]\n",
    "df.head(5)"
   ]
  },
  {
   "cell_type": "code",
   "execution_count": 38,
   "metadata": {},
   "outputs": [
    {
     "data": {
      "text/plain": [
       "CITY             1\n",
       "State            0\n",
       "Make             0\n",
       "Model         1525\n",
       "Order Type       0\n",
       "dtype: int64"
      ]
     },
     "execution_count": 38,
     "metadata": {},
     "output_type": "execute_result"
    }
   ],
   "source": [
    "df.isnull().sum()"
   ]
  },
  {
   "cell_type": "code",
   "execution_count": 39,
   "metadata": {},
   "outputs": [
    {
     "data": {
      "text/plain": [
       "CITY          0\n",
       "State         0\n",
       "Make          0\n",
       "Model         0\n",
       "Order Type    0\n",
       "dtype: int64"
      ]
     },
     "execution_count": 39,
     "metadata": {},
     "output_type": "execute_result"
    }
   ],
   "source": [
    "df = df.dropna()\n",
    "df.isnull().sum()"
   ]
  },
  {
   "cell_type": "code",
   "execution_count": 40,
   "metadata": {},
   "outputs": [
    {
     "data": {
      "text/html": [
       "<div>\n",
       "<style scoped>\n",
       "    .dataframe tbody tr th:only-of-type {\n",
       "        vertical-align: middle;\n",
       "    }\n",
       "\n",
       "    .dataframe tbody tr th {\n",
       "        vertical-align: top;\n",
       "    }\n",
       "\n",
       "    .dataframe thead th {\n",
       "        text-align: right;\n",
       "    }\n",
       "</style>\n",
       "<table border=\"1\" class=\"dataframe\">\n",
       "  <thead>\n",
       "    <tr style=\"text-align: right;\">\n",
       "      <th></th>\n",
       "      <th>CITY</th>\n",
       "      <th>State</th>\n",
       "      <th>Make</th>\n",
       "      <th>Model</th>\n",
       "      <th>Order Type</th>\n",
       "    </tr>\n",
       "  </thead>\n",
       "  <tbody>\n",
       "    <tr>\n",
       "      <th>0</th>\n",
       "      <td>Thane</td>\n",
       "      <td>Maharashtra</td>\n",
       "      <td>GENERAL MOTORS</td>\n",
       "      <td>SPARK</td>\n",
       "      <td>Paid Service</td>\n",
       "    </tr>\n",
       "    <tr>\n",
       "      <th>1</th>\n",
       "      <td>THNAE</td>\n",
       "      <td>Maharashtra</td>\n",
       "      <td>TATA MOTORS</td>\n",
       "      <td>INDICA</td>\n",
       "      <td>SMC Value Package</td>\n",
       "    </tr>\n",
       "    <tr>\n",
       "      <th>2</th>\n",
       "      <td>THANE[W]</td>\n",
       "      <td>Maharashtra</td>\n",
       "      <td>MARUTI SUZUKI</td>\n",
       "      <td>ZEN</td>\n",
       "      <td>Running Repairs</td>\n",
       "    </tr>\n",
       "    <tr>\n",
       "      <th>3</th>\n",
       "      <td>THNAE</td>\n",
       "      <td>Maharashtra</td>\n",
       "      <td>TATA MOTORS</td>\n",
       "      <td>INDICA</td>\n",
       "      <td>SMC Redemption</td>\n",
       "    </tr>\n",
       "    <tr>\n",
       "      <th>4</th>\n",
       "      <td>THANE</td>\n",
       "      <td>Maharashtra</td>\n",
       "      <td>HYUNDAI</td>\n",
       "      <td>SANTRO XING</td>\n",
       "      <td>Paid Service</td>\n",
       "    </tr>\n",
       "    <tr>\n",
       "      <th>5</th>\n",
       "      <td>THANE</td>\n",
       "      <td>Maharashtra</td>\n",
       "      <td>TOYOTA</td>\n",
       "      <td>INNOVA</td>\n",
       "      <td>Running Repairs</td>\n",
       "    </tr>\n",
       "    <tr>\n",
       "      <th>6</th>\n",
       "      <td>THANE</td>\n",
       "      <td>Maharashtra</td>\n",
       "      <td>HONDA</td>\n",
       "      <td>CITY</td>\n",
       "      <td>Running Repairs</td>\n",
       "    </tr>\n",
       "    <tr>\n",
       "      <th>7</th>\n",
       "      <td>THANE</td>\n",
       "      <td>Maharashtra</td>\n",
       "      <td>MARUTI SUZUKI</td>\n",
       "      <td>SWIFT DZIRE</td>\n",
       "      <td>Running Repairs</td>\n",
       "    </tr>\n",
       "    <tr>\n",
       "      <th>8</th>\n",
       "      <td>THANE[W]</td>\n",
       "      <td>Maharashtra</td>\n",
       "      <td>TATA MOTORS</td>\n",
       "      <td>INDIGO</td>\n",
       "      <td>Running Repairs</td>\n",
       "    </tr>\n",
       "    <tr>\n",
       "      <th>9</th>\n",
       "      <td>THANE</td>\n",
       "      <td>Maharashtra</td>\n",
       "      <td>MARUTI SUZUKI</td>\n",
       "      <td>ALTO</td>\n",
       "      <td>Paid Service</td>\n",
       "    </tr>\n",
       "    <tr>\n",
       "      <th>10</th>\n",
       "      <td>THANE[E]</td>\n",
       "      <td>Maharashtra</td>\n",
       "      <td>MARUTI SUZUKI</td>\n",
       "      <td>WAGONR</td>\n",
       "      <td>SMC Redemption</td>\n",
       "    </tr>\n",
       "    <tr>\n",
       "      <th>11</th>\n",
       "      <td>THANE</td>\n",
       "      <td>Maharashtra</td>\n",
       "      <td>HYUNDAI</td>\n",
       "      <td>SANTRO</td>\n",
       "      <td>SMC Redemption</td>\n",
       "    </tr>\n",
       "    <tr>\n",
       "      <th>12</th>\n",
       "      <td>THANE</td>\n",
       "      <td>Maharashtra</td>\n",
       "      <td>HYUNDAI</td>\n",
       "      <td>SANTRO</td>\n",
       "      <td>Running Repairs</td>\n",
       "    </tr>\n",
       "    <tr>\n",
       "      <th>13</th>\n",
       "      <td>THANE-W</td>\n",
       "      <td>Maharashtra</td>\n",
       "      <td>HYUNDAI</td>\n",
       "      <td>I10</td>\n",
       "      <td>Running Repairs</td>\n",
       "    </tr>\n",
       "    <tr>\n",
       "      <th>14</th>\n",
       "      <td>THANE</td>\n",
       "      <td>Maharashtra</td>\n",
       "      <td>HYUNDAI</td>\n",
       "      <td>I10</td>\n",
       "      <td>Running Repairs</td>\n",
       "    </tr>\n",
       "    <tr>\n",
       "      <th>15</th>\n",
       "      <td>THANE</td>\n",
       "      <td>Maharashtra</td>\n",
       "      <td>TATA MOTORS</td>\n",
       "      <td>VISTA</td>\n",
       "      <td>Paid Service</td>\n",
       "    </tr>\n",
       "    <tr>\n",
       "      <th>16</th>\n",
       "      <td>THANE</td>\n",
       "      <td>Maharashtra</td>\n",
       "      <td>MARUTI SUZUKI</td>\n",
       "      <td>SWIFT DZIRE</td>\n",
       "      <td>Paid Service</td>\n",
       "    </tr>\n",
       "    <tr>\n",
       "      <th>17</th>\n",
       "      <td>THANE[W]</td>\n",
       "      <td>Maharashtra</td>\n",
       "      <td>MARUTI SUZUKI</td>\n",
       "      <td>ALTO</td>\n",
       "      <td>Paid Service</td>\n",
       "    </tr>\n",
       "    <tr>\n",
       "      <th>18</th>\n",
       "      <td>THANE</td>\n",
       "      <td>Maharashtra</td>\n",
       "      <td>GENERAL MOTORS</td>\n",
       "      <td>AVEO</td>\n",
       "      <td>Running Repairs</td>\n",
       "    </tr>\n",
       "    <tr>\n",
       "      <th>19</th>\n",
       "      <td>THANE[W]</td>\n",
       "      <td>Maharashtra</td>\n",
       "      <td>GENERAL MOTORS</td>\n",
       "      <td>SPARK</td>\n",
       "      <td>Running Repairs</td>\n",
       "    </tr>\n",
       "    <tr>\n",
       "      <th>20</th>\n",
       "      <td>Thane</td>\n",
       "      <td>Maharashtra</td>\n",
       "      <td>MARUTI SUZUKI</td>\n",
       "      <td>ALTO</td>\n",
       "      <td>Paid Service</td>\n",
       "    </tr>\n",
       "    <tr>\n",
       "      <th>21</th>\n",
       "      <td>THANE (W)</td>\n",
       "      <td>Maharashtra</td>\n",
       "      <td>HYUNDAI</td>\n",
       "      <td>SANTRO</td>\n",
       "      <td>Paid Service</td>\n",
       "    </tr>\n",
       "    <tr>\n",
       "      <th>22</th>\n",
       "      <td>THANE</td>\n",
       "      <td>Maharashtra</td>\n",
       "      <td>FIAT</td>\n",
       "      <td>GRAND PUNTO</td>\n",
       "      <td>Running Repairs</td>\n",
       "    </tr>\n",
       "    <tr>\n",
       "      <th>23</th>\n",
       "      <td>THANE[W]</td>\n",
       "      <td>Maharashtra</td>\n",
       "      <td>HYUNDAI</td>\n",
       "      <td>SANTRO</td>\n",
       "      <td>Paid Service</td>\n",
       "    </tr>\n",
       "    <tr>\n",
       "      <th>24</th>\n",
       "      <td>Thane</td>\n",
       "      <td>Maharashtra</td>\n",
       "      <td>TATA MOTORS</td>\n",
       "      <td>INDICA</td>\n",
       "      <td>Running Repairs</td>\n",
       "    </tr>\n",
       "    <tr>\n",
       "      <th>...</th>\n",
       "      <td>...</td>\n",
       "      <td>...</td>\n",
       "      <td>...</td>\n",
       "      <td>...</td>\n",
       "      <td>...</td>\n",
       "    </tr>\n",
       "    <tr>\n",
       "      <th>492289</th>\n",
       "      <td>NIZAMABAD</td>\n",
       "      <td>Telangana</td>\n",
       "      <td>HYUNDAI</td>\n",
       "      <td>I10</td>\n",
       "      <td>Paid Service</td>\n",
       "    </tr>\n",
       "    <tr>\n",
       "      <th>492290</th>\n",
       "      <td>NIZAMABAD</td>\n",
       "      <td>Telangana</td>\n",
       "      <td>MARUTI SUZUKI</td>\n",
       "      <td>ZEN</td>\n",
       "      <td>Running Repairs</td>\n",
       "    </tr>\n",
       "    <tr>\n",
       "      <th>492291</th>\n",
       "      <td>NIZAMABAD</td>\n",
       "      <td>Telangana</td>\n",
       "      <td>MARUTI SUZUKI</td>\n",
       "      <td>RITZ</td>\n",
       "      <td>Running Repairs</td>\n",
       "    </tr>\n",
       "    <tr>\n",
       "      <th>492292</th>\n",
       "      <td>KILPAUK, CHENNAI</td>\n",
       "      <td>Tamil Nadu</td>\n",
       "      <td>NISSAN</td>\n",
       "      <td>SUPER SUNNY</td>\n",
       "      <td>Paid Service</td>\n",
       "    </tr>\n",
       "    <tr>\n",
       "      <th>492293</th>\n",
       "      <td>CHENNAI</td>\n",
       "      <td>Tamil Nadu</td>\n",
       "      <td>TATA MOTORS</td>\n",
       "      <td>INDIGO</td>\n",
       "      <td>Running Repairs</td>\n",
       "    </tr>\n",
       "    <tr>\n",
       "      <th>492294</th>\n",
       "      <td>CHENNAI</td>\n",
       "      <td>Tamil Nadu</td>\n",
       "      <td>TATA MOTORS</td>\n",
       "      <td>NANO</td>\n",
       "      <td>Running Repairs</td>\n",
       "    </tr>\n",
       "    <tr>\n",
       "      <th>492295</th>\n",
       "      <td>CHENNAI</td>\n",
       "      <td>Tamil Nadu</td>\n",
       "      <td>FORD</td>\n",
       "      <td>ESCORT</td>\n",
       "      <td>Running Repairs</td>\n",
       "    </tr>\n",
       "    <tr>\n",
       "      <th>492296</th>\n",
       "      <td>PARRYS</td>\n",
       "      <td>Tamil Nadu</td>\n",
       "      <td>GENERAL MOTORS</td>\n",
       "      <td>BEAT</td>\n",
       "      <td>Running Repairs</td>\n",
       "    </tr>\n",
       "    <tr>\n",
       "      <th>492297</th>\n",
       "      <td>Chennai</td>\n",
       "      <td>Tamil Nadu</td>\n",
       "      <td>MARUTI SUZUKI</td>\n",
       "      <td>SWIFT DZIRE</td>\n",
       "      <td>Running Repairs</td>\n",
       "    </tr>\n",
       "    <tr>\n",
       "      <th>492298</th>\n",
       "      <td>Chennai</td>\n",
       "      <td>Tamil Nadu</td>\n",
       "      <td>MARUTI SUZUKI</td>\n",
       "      <td>SWIFT DZIRE</td>\n",
       "      <td>Running Repairs</td>\n",
       "    </tr>\n",
       "    <tr>\n",
       "      <th>492299</th>\n",
       "      <td>CHENNAI</td>\n",
       "      <td>Tamil Nadu</td>\n",
       "      <td>GENERAL MOTORS</td>\n",
       "      <td>TAVERA NEO</td>\n",
       "      <td>Running Repairs</td>\n",
       "    </tr>\n",
       "    <tr>\n",
       "      <th>492300</th>\n",
       "      <td>Chennai</td>\n",
       "      <td>Tamil Nadu</td>\n",
       "      <td>TATA MOTORS</td>\n",
       "      <td>INDIGO</td>\n",
       "      <td>Running Repairs</td>\n",
       "    </tr>\n",
       "    <tr>\n",
       "      <th>492301</th>\n",
       "      <td>CHENNAI</td>\n",
       "      <td>Tamil Nadu</td>\n",
       "      <td>HYUNDAI</td>\n",
       "      <td>I10</td>\n",
       "      <td>Running Repairs</td>\n",
       "    </tr>\n",
       "    <tr>\n",
       "      <th>492302</th>\n",
       "      <td>Tambaram</td>\n",
       "      <td>Tamil Nadu</td>\n",
       "      <td>MAHINDRA &amp;  MAHINDRA</td>\n",
       "      <td>QUANTO</td>\n",
       "      <td>Running Repairs</td>\n",
       "    </tr>\n",
       "    <tr>\n",
       "      <th>492303</th>\n",
       "      <td>Pattabiram</td>\n",
       "      <td>Tamil Nadu</td>\n",
       "      <td>MARUTI SUZUKI</td>\n",
       "      <td>SWIFT</td>\n",
       "      <td>Paid Service</td>\n",
       "    </tr>\n",
       "    <tr>\n",
       "      <th>492304</th>\n",
       "      <td>CHENNAI</td>\n",
       "      <td>Tamil Nadu</td>\n",
       "      <td>MAHINDRA &amp;  MAHINDRA</td>\n",
       "      <td>SCORPIO NEF</td>\n",
       "      <td>Running Repairs</td>\n",
       "    </tr>\n",
       "    <tr>\n",
       "      <th>492305</th>\n",
       "      <td>CHENNAI</td>\n",
       "      <td>Tamil Nadu</td>\n",
       "      <td>FORD</td>\n",
       "      <td>FIESTA</td>\n",
       "      <td>Running Repairs</td>\n",
       "    </tr>\n",
       "    <tr>\n",
       "      <th>492306</th>\n",
       "      <td>CHENNAI</td>\n",
       "      <td>Tamil Nadu</td>\n",
       "      <td>TATA MOTORS</td>\n",
       "      <td>INDIGO</td>\n",
       "      <td>Paid Service</td>\n",
       "    </tr>\n",
       "    <tr>\n",
       "      <th>492307</th>\n",
       "      <td>ayanavaram</td>\n",
       "      <td>Tamil Nadu</td>\n",
       "      <td>MARUTI SUZUKI</td>\n",
       "      <td>RITZ</td>\n",
       "      <td>Paid Service</td>\n",
       "    </tr>\n",
       "    <tr>\n",
       "      <th>492308</th>\n",
       "      <td>CHENNAI</td>\n",
       "      <td>Tamil Nadu</td>\n",
       "      <td>MAHINDRA &amp;  MAHINDRA</td>\n",
       "      <td>XYLO</td>\n",
       "      <td>Paid Service</td>\n",
       "    </tr>\n",
       "    <tr>\n",
       "      <th>492309</th>\n",
       "      <td>Chennai</td>\n",
       "      <td>Tamil Nadu</td>\n",
       "      <td>MARUTI SUZUKI</td>\n",
       "      <td>ALTO</td>\n",
       "      <td>Paid Service</td>\n",
       "    </tr>\n",
       "    <tr>\n",
       "      <th>492310</th>\n",
       "      <td>ADAMBAKKAM</td>\n",
       "      <td>Tamil Nadu</td>\n",
       "      <td>NISSAN</td>\n",
       "      <td>MICRA</td>\n",
       "      <td>Paid Service</td>\n",
       "    </tr>\n",
       "    <tr>\n",
       "      <th>492311</th>\n",
       "      <td>CHENNAI</td>\n",
       "      <td>Tamil Nadu</td>\n",
       "      <td>MAHINDRA &amp;  MAHINDRA</td>\n",
       "      <td>SCORPIO CRDE</td>\n",
       "      <td>Paid Service</td>\n",
       "    </tr>\n",
       "    <tr>\n",
       "      <th>492312</th>\n",
       "      <td>Vijaya Nagar, 1 main road,Velacherr</td>\n",
       "      <td>Tamil Nadu</td>\n",
       "      <td>HONDA</td>\n",
       "      <td>AMAZE</td>\n",
       "      <td>Accidental</td>\n",
       "    </tr>\n",
       "    <tr>\n",
       "      <th>492313</th>\n",
       "      <td>saidapet</td>\n",
       "      <td>Tamil Nadu</td>\n",
       "      <td>MARUTI SUZUKI</td>\n",
       "      <td>WAGONR</td>\n",
       "      <td>Running Repairs</td>\n",
       "    </tr>\n",
       "  </tbody>\n",
       "</table>\n",
       "<p>490788 rows × 5 columns</p>\n",
       "</div>"
      ],
      "text/plain": [
       "                                       CITY        State  \\\n",
       "0                                     Thane  Maharashtra   \n",
       "1                                     THNAE  Maharashtra   \n",
       "2                                  THANE[W]  Maharashtra   \n",
       "3                                     THNAE  Maharashtra   \n",
       "4                                     THANE  Maharashtra   \n",
       "5                                     THANE  Maharashtra   \n",
       "6                                     THANE  Maharashtra   \n",
       "7                                     THANE  Maharashtra   \n",
       "8                                  THANE[W]  Maharashtra   \n",
       "9                                     THANE  Maharashtra   \n",
       "10                                 THANE[E]  Maharashtra   \n",
       "11                                    THANE  Maharashtra   \n",
       "12                                    THANE  Maharashtra   \n",
       "13                                  THANE-W  Maharashtra   \n",
       "14                                    THANE  Maharashtra   \n",
       "15                                    THANE  Maharashtra   \n",
       "16                                    THANE  Maharashtra   \n",
       "17                                 THANE[W]  Maharashtra   \n",
       "18                                    THANE  Maharashtra   \n",
       "19                                 THANE[W]  Maharashtra   \n",
       "20                                    Thane  Maharashtra   \n",
       "21                                THANE (W)  Maharashtra   \n",
       "22                                    THANE  Maharashtra   \n",
       "23                                 THANE[W]  Maharashtra   \n",
       "24                                    Thane  Maharashtra   \n",
       "...                                     ...          ...   \n",
       "492289                            NIZAMABAD    Telangana   \n",
       "492290                            NIZAMABAD    Telangana   \n",
       "492291                            NIZAMABAD    Telangana   \n",
       "492292                     KILPAUK, CHENNAI   Tamil Nadu   \n",
       "492293                              CHENNAI   Tamil Nadu   \n",
       "492294                              CHENNAI   Tamil Nadu   \n",
       "492295                              CHENNAI   Tamil Nadu   \n",
       "492296                               PARRYS   Tamil Nadu   \n",
       "492297                              Chennai   Tamil Nadu   \n",
       "492298                              Chennai   Tamil Nadu   \n",
       "492299                              CHENNAI   Tamil Nadu   \n",
       "492300                              Chennai   Tamil Nadu   \n",
       "492301                              CHENNAI   Tamil Nadu   \n",
       "492302                             Tambaram   Tamil Nadu   \n",
       "492303                           Pattabiram   Tamil Nadu   \n",
       "492304                              CHENNAI   Tamil Nadu   \n",
       "492305                              CHENNAI   Tamil Nadu   \n",
       "492306                              CHENNAI   Tamil Nadu   \n",
       "492307                           ayanavaram   Tamil Nadu   \n",
       "492308                              CHENNAI   Tamil Nadu   \n",
       "492309                              Chennai   Tamil Nadu   \n",
       "492310                           ADAMBAKKAM   Tamil Nadu   \n",
       "492311                              CHENNAI   Tamil Nadu   \n",
       "492312  Vijaya Nagar, 1 main road,Velacherr   Tamil Nadu   \n",
       "492313                             saidapet   Tamil Nadu   \n",
       "\n",
       "                        Make         Model         Order Type  \n",
       "0             GENERAL MOTORS         SPARK       Paid Service  \n",
       "1                TATA MOTORS        INDICA  SMC Value Package  \n",
       "2              MARUTI SUZUKI           ZEN    Running Repairs  \n",
       "3                TATA MOTORS        INDICA     SMC Redemption  \n",
       "4                    HYUNDAI   SANTRO XING       Paid Service  \n",
       "5                     TOYOTA        INNOVA    Running Repairs  \n",
       "6                      HONDA          CITY    Running Repairs  \n",
       "7              MARUTI SUZUKI   SWIFT DZIRE    Running Repairs  \n",
       "8                TATA MOTORS        INDIGO    Running Repairs  \n",
       "9              MARUTI SUZUKI          ALTO       Paid Service  \n",
       "10             MARUTI SUZUKI        WAGONR     SMC Redemption  \n",
       "11                   HYUNDAI        SANTRO     SMC Redemption  \n",
       "12                   HYUNDAI        SANTRO    Running Repairs  \n",
       "13                   HYUNDAI           I10    Running Repairs  \n",
       "14                   HYUNDAI           I10    Running Repairs  \n",
       "15               TATA MOTORS         VISTA       Paid Service  \n",
       "16             MARUTI SUZUKI   SWIFT DZIRE       Paid Service  \n",
       "17             MARUTI SUZUKI          ALTO       Paid Service  \n",
       "18            GENERAL MOTORS          AVEO    Running Repairs  \n",
       "19            GENERAL MOTORS         SPARK    Running Repairs  \n",
       "20             MARUTI SUZUKI          ALTO       Paid Service  \n",
       "21                   HYUNDAI        SANTRO       Paid Service  \n",
       "22                      FIAT   GRAND PUNTO    Running Repairs  \n",
       "23                   HYUNDAI        SANTRO       Paid Service  \n",
       "24               TATA MOTORS        INDICA    Running Repairs  \n",
       "...                      ...           ...                ...  \n",
       "492289               HYUNDAI           I10       Paid Service  \n",
       "492290         MARUTI SUZUKI           ZEN    Running Repairs  \n",
       "492291         MARUTI SUZUKI          RITZ    Running Repairs  \n",
       "492292                NISSAN   SUPER SUNNY       Paid Service  \n",
       "492293           TATA MOTORS        INDIGO    Running Repairs  \n",
       "492294           TATA MOTORS          NANO    Running Repairs  \n",
       "492295                  FORD        ESCORT    Running Repairs  \n",
       "492296        GENERAL MOTORS          BEAT    Running Repairs  \n",
       "492297         MARUTI SUZUKI   SWIFT DZIRE    Running Repairs  \n",
       "492298         MARUTI SUZUKI   SWIFT DZIRE    Running Repairs  \n",
       "492299        GENERAL MOTORS    TAVERA NEO    Running Repairs  \n",
       "492300           TATA MOTORS        INDIGO    Running Repairs  \n",
       "492301               HYUNDAI           I10    Running Repairs  \n",
       "492302  MAHINDRA &  MAHINDRA        QUANTO    Running Repairs  \n",
       "492303         MARUTI SUZUKI         SWIFT       Paid Service  \n",
       "492304  MAHINDRA &  MAHINDRA   SCORPIO NEF    Running Repairs  \n",
       "492305                  FORD        FIESTA    Running Repairs  \n",
       "492306           TATA MOTORS        INDIGO       Paid Service  \n",
       "492307         MARUTI SUZUKI          RITZ       Paid Service  \n",
       "492308  MAHINDRA &  MAHINDRA          XYLO       Paid Service  \n",
       "492309         MARUTI SUZUKI          ALTO       Paid Service  \n",
       "492310                NISSAN         MICRA       Paid Service  \n",
       "492311  MAHINDRA &  MAHINDRA  SCORPIO CRDE       Paid Service  \n",
       "492312                 HONDA         AMAZE         Accidental  \n",
       "492313         MARUTI SUZUKI        WAGONR    Running Repairs  \n",
       "\n",
       "[490788 rows x 5 columns]"
      ]
     },
     "execution_count": 40,
     "metadata": {},
     "output_type": "execute_result"
    }
   ],
   "source": [
    "df"
   ]
  },
  {
   "cell_type": "markdown",
   "metadata": {},
   "source": [
    "# Area wise car population"
   ]
  },
  {
   "cell_type": "code",
   "execution_count": 41,
   "metadata": {},
   "outputs": [
    {
     "name": "stdout",
     "output_type": "stream",
     "text": [
      "                               CITY          State                  Make  \\\n",
      "1489                         Mohali         Punjab  MAHINDRA &  MAHINDRA   \n",
      "1492                         Mohali         Punjab  MAHINDRA &  MAHINDRA   \n",
      "1977  Sohna Road Sector 49, GURGAON        Haryana                TOYOTA   \n",
      "3443                           PUNE        Haryana         MARUTI SUZUKI   \n",
      "3474                           PUNE        Haryana           TATA MOTORS   \n",
      "3517                           PUNE        Haryana                TOYOTA   \n",
      "3519                           PUNE        Haryana           TATA MOTORS   \n",
      "3521                           PUNE        Haryana           TATA MOTORS   \n",
      "3556                           PUNE        Haryana                TOYOTA   \n",
      "3557                      GHAZIABAD  Uttar Pradesh               HYUNDAI   \n",
      "\n",
      "             Model       Order Type  \n",
      "1489        BOLERO  Running Repairs  \n",
      "1492        BOLERO       Accidental  \n",
      "1977        INNOVA  Running Repairs  \n",
      "3443           SX4  Running Repairs  \n",
      "3474  INDIGO MANZA  Running Repairs  \n",
      "3517        INNOVA  Running Repairs  \n",
      "3519        INDIGO  Running Repairs  \n",
      "3521  INDIGO MANZA     Repeat Order  \n",
      "3556        INNOVA       Accidental  \n",
      "3557        ACCENT     Paid Service  \n",
      "----------------------------------------------------------------------------------------------------------\n",
      "['Punjab' 'Haryana' 'Uttar Pradesh' 'Delhi' 'Uttarakhand'\n",
      " 'Himachal Pradesh' 'Jammu and Kashmir']\n"
     ]
    }
   ],
   "source": [
    "# Creating zones for analysis\n",
    "\n",
    "north_states = ['Uttar Pradesh','Delhi','Himachal Pradesh','Punjab','Uttarakhand','Haryana','Jammu and Kashmir']\n",
    "filter1 = df['State'].isin(north_states)\n",
    "north_zone = df.loc[filter1]\n",
    "print(north_zone.head(10))\n",
    "print(\"----------------------------------------------------------------------------------------------------------\")\n",
    "print(north_zone.State.unique())"
   ]
  },
  {
   "cell_type": "code",
   "execution_count": 42,
   "metadata": {},
   "outputs": [
    {
     "name": "stdout",
     "output_type": "stream",
     "text": [
      "       CITY        State            Make        Model         Order Type\n",
      "0     Thane  Maharashtra  GENERAL MOTORS        SPARK       Paid Service\n",
      "1     THNAE  Maharashtra     TATA MOTORS       INDICA  SMC Value Package\n",
      "2  THANE[W]  Maharashtra   MARUTI SUZUKI          ZEN    Running Repairs\n",
      "3     THNAE  Maharashtra     TATA MOTORS       INDICA     SMC Redemption\n",
      "4     THANE  Maharashtra         HYUNDAI  SANTRO XING       Paid Service\n",
      "5     THANE  Maharashtra          TOYOTA       INNOVA    Running Repairs\n",
      "6     THANE  Maharashtra           HONDA         CITY    Running Repairs\n",
      "7     THANE  Maharashtra   MARUTI SUZUKI  SWIFT DZIRE    Running Repairs\n",
      "8  THANE[W]  Maharashtra     TATA MOTORS       INDIGO    Running Repairs\n",
      "9     THANE  Maharashtra   MARUTI SUZUKI         ALTO       Paid Service\n",
      "----------------------------------------------------------------------------------------------------------\n",
      "['Maharashtra' 'Gujarat' 'Dadra and Nagar Hav.' 'Daman and Diu'\n",
      " 'Rajasthan' 'Goa']\n"
     ]
    }
   ],
   "source": [
    "west_states=['Maharashtra','Gujarat','Dadra and Nagar Hav.','Daman and Diu','Goa','Rajasthan']\n",
    "filter2 = df[\"State\"].isin(west_states)\n",
    "west_zone = df.loc[filter2]\n",
    "print(west_zone.head(10))\n",
    "print(\"----------------------------------------------------------------------------------------------------------\")\n",
    "print(west_zone.State.unique())"
   ]
  },
  {
   "cell_type": "code",
   "execution_count": 46,
   "metadata": {},
   "outputs": [
    {
     "name": "stdout",
     "output_type": "stream",
     "text": [
      "           CITY           State           Make        Model       Order Type\n",
      "631   BANGALORE       Karnataka        HYUNDAI  SANTRO XING  Running Repairs\n",
      "948      NASHIK  Andhra Pradesh  MARUTI SUZUKI  SWIFT DZIRE     Paid Service\n",
      "1146  hyderabad  Andhra Pradesh        HYUNDAI       SANTRO     Paid Service\n",
      "1147  hyderabad       Telangana  MARUTI SUZUKI          800  Running Repairs\n",
      "1148  HYDERABAD  Andhra Pradesh  MARUTI SUZUKI         ALTO     Paid Service\n",
      "1149  HYDERABAD  Andhra Pradesh  MARUTI SUZUKI  SWIFT DZIRE     Paid Service\n",
      "1150   HYDRABAD  Andhra Pradesh  MARUTI SUZUKI       WAGONR     Paid Service\n",
      "1151        hyd       Telangana    TATA MOTORS        VISTA  Running Repairs\n",
      "1152   HYDRABAD  Andhra Pradesh    TATA MOTORS        VISTA  Running Repairs\n",
      "1153  hyderabad       Telangana        HYUNDAI          I20  Running Repairs\n",
      "----------------------------------------------------------------------------------------------------------\n",
      "['Karnataka' 'Andhra Pradesh' 'Telangana' 'Tamil Nadu' 'Kerala'\n",
      " 'Puducherry' 'Lakshadweep' 'Andaman and Nico.In.']\n"
     ]
    }
   ],
   "source": [
    "south_states = ['Karnataka','Tamil Nadu','Andhra Pradesh','Telangana','Kerala','Puducherry','Lakshadweep','Andaman and Nico.In.']\n",
    "filter3 = df[\"State\"].isin(south_states)\n",
    "south_zone = df.loc[filter3]\n",
    "print(south_zone.head(10))\n",
    "print(\"----------------------------------------------------------------------------------------------------------\")\n",
    "print(south_zone.State.unique())"
   ]
  },
  {
   "cell_type": "code",
   "execution_count": 47,
   "metadata": {},
   "outputs": [
    {
     "name": "stdout",
     "output_type": "stream",
     "text": [
      "             CITY              State           Make   Model         Order Type\n",
      "1364    HYDERABAD            Tripura  MARUTI SUZUKI  ERTIGA    Running Repairs\n",
      "5070     LUDHIANA            Manipur        HYUNDAI  SANTRO    Running Repairs\n",
      "5628       MOHALI  Arunachal Pradesh        HYUNDAI  SANTRO    Running Repairs\n",
      "6165   CHANDIGARH  Arunachal Pradesh  MARUTI SUZUKI   SWIFT     SMC Redemption\n",
      "6222   CHANDIGARH  Arunachal Pradesh  MARUTI SUZUKI   SWIFT    Running Repairs\n",
      "13431       NOIDA           Megalaya    TATA MOTORS  INDICA    Running Repairs\n",
      "14397  CHANDIGARH  Arunachal Pradesh  MARUTI SUZUKI   SWIFT  SMC Value Package\n",
      "14504  CHANDIGARH  Arunachal Pradesh  MARUTI SUZUKI   SWIFT     SMC Redemption\n",
      "17993  PATANCHERU  Arunachal Pradesh  MARUTI SUZUKI    ALTO       Paid Service\n",
      "22847  CHANDIGARH  Arunachal Pradesh  MARUTI SUZUKI   SWIFT     SMC Redemption\n",
      "----------------------------------------------------------------------------------------------------------\n",
      "['Tripura' 'Manipur' 'Arunachal Pradesh' 'Megalaya' 'Bihar' 'Jharkhand'\n",
      " 'West Bengal' 'Nagaland' 'Sikkim' 'Odisha' 'Mizoram' 'Assam']\n"
     ]
    }
   ],
   "source": [
    "east_states = ['West Bengal','Odisha','Bihar','Jharkhand','Arunachal Pradesh','Assam','Manipur','Megalaya','Mizoram','Nagaland','Sikkim','Tripura']\n",
    "filter4 = df[\"State\"].isin(east_states)\n",
    "east_zone = df.loc[filter4]\n",
    "print(east_zone.head(10))\n",
    "print(\"----------------------------------------------------------------------------------------------------------\")\n",
    "print(east_zone.State.unique())"
   ]
  },
  {
   "cell_type": "code",
   "execution_count": 48,
   "metadata": {},
   "outputs": [
    {
     "name": "stdout",
     "output_type": "stream",
     "text": [
      "            CITY           State                  Make         Model  \\\n",
      "337         PUNE  Madhya Pradesh  MAHINDRA &  MAHINDRA  SCORPIO CRDE   \n",
      "743        NASIK  Madhya Pradesh               HYUNDAI           I10   \n",
      "4715      NAGPUR  Madhya Pradesh         MARUTI SUZUKI        WAGONR   \n",
      "4806    JABALPUR  Madhya Pradesh         MARUTI SUZUKI         SWIFT   \n",
      "4886      SHIWNI  Madhya Pradesh  MAHINDRA &  MAHINDRA          XYLO   \n",
      "4925      SAUSAR  Madhya Pradesh           TATA MOTORS  INDIGO MANZA   \n",
      "4958       SAGAR  Madhya Pradesh               HYUNDAI         XCENT   \n",
      "5586      KHARAR  Madhya Pradesh        GENERAL MOTORS         SPARK   \n",
      "12697  faridabad  Madhya Pradesh         MARUTI SUZUKI         SWIFT   \n",
      "12698  faridabad  Madhya Pradesh         MARUTI SUZUKI         SWIFT   \n",
      "\n",
      "              Order Type  \n",
      "337       SMC Redemption  \n",
      "743      Running Repairs  \n",
      "4715        Paid Service  \n",
      "4806     Running Repairs  \n",
      "4886     Running Repairs  \n",
      "4925     Running Repairs  \n",
      "4958     Running Repairs  \n",
      "5586        Paid Service  \n",
      "12697  SMC Value Package  \n",
      "12698     SMC Redemption  \n",
      "----------------------------------------------------------------------------------------------------------\n",
      "['Madhya Pradesh' 'Chhattisgarh']\n"
     ]
    }
   ],
   "source": [
    "central_states = ['Madhya Pradesh','Chhattisgarh']\n",
    "filter5 = df[\"State\"].isin(central_states)\n",
    "central_zone = df.loc[filter5]\n",
    "print(central_zone.head(10))\n",
    "print(\"----------------------------------------------------------------------------------------------------------\")\n",
    "print(central_zone.State.unique())"
   ]
  },
  {
   "cell_type": "markdown",
   "metadata": {},
   "source": [
    "# Zone wise car visits"
   ]
  },
  {
   "cell_type": "markdown",
   "metadata": {},
   "source": [
    "# West Zone"
   ]
  },
  {
   "cell_type": "code",
   "execution_count": 56,
   "metadata": {},
   "outputs": [
    {
     "data": {
      "text/html": [
       "<div>\n",
       "<style scoped>\n",
       "    .dataframe tbody tr th:only-of-type {\n",
       "        vertical-align: middle;\n",
       "    }\n",
       "\n",
       "    .dataframe tbody tr th {\n",
       "        vertical-align: top;\n",
       "    }\n",
       "\n",
       "    .dataframe thead th {\n",
       "        text-align: right;\n",
       "    }\n",
       "</style>\n",
       "<table border=\"1\" class=\"dataframe\">\n",
       "  <thead>\n",
       "    <tr style=\"text-align: right;\">\n",
       "      <th></th>\n",
       "      <th>Car Name</th>\n",
       "      <th>count</th>\n",
       "    </tr>\n",
       "  </thead>\n",
       "  <tbody>\n",
       "    <tr>\n",
       "      <th>0</th>\n",
       "      <td>MARUTI SUZUKI</td>\n",
       "      <td>55758</td>\n",
       "    </tr>\n",
       "    <tr>\n",
       "      <th>1</th>\n",
       "      <td>HYUNDAI</td>\n",
       "      <td>30316</td>\n",
       "    </tr>\n",
       "    <tr>\n",
       "      <th>2</th>\n",
       "      <td>MAHINDRA &amp;  MAHINDRA</td>\n",
       "      <td>27665</td>\n",
       "    </tr>\n",
       "    <tr>\n",
       "      <th>3</th>\n",
       "      <td>TATA MOTORS</td>\n",
       "      <td>16549</td>\n",
       "    </tr>\n",
       "    <tr>\n",
       "      <th>4</th>\n",
       "      <td>GENERAL MOTORS</td>\n",
       "      <td>10988</td>\n",
       "    </tr>\n",
       "    <tr>\n",
       "      <th>5</th>\n",
       "      <td>HONDA</td>\n",
       "      <td>5976</td>\n",
       "    </tr>\n",
       "    <tr>\n",
       "      <th>6</th>\n",
       "      <td>FORD</td>\n",
       "      <td>5678</td>\n",
       "    </tr>\n",
       "    <tr>\n",
       "      <th>7</th>\n",
       "      <td>TOYOTA</td>\n",
       "      <td>4874</td>\n",
       "    </tr>\n",
       "    <tr>\n",
       "      <th>8</th>\n",
       "      <td>FIAT</td>\n",
       "      <td>2447</td>\n",
       "    </tr>\n",
       "    <tr>\n",
       "      <th>9</th>\n",
       "      <td>SKODA</td>\n",
       "      <td>2174</td>\n",
       "    </tr>\n",
       "    <tr>\n",
       "      <th>10</th>\n",
       "      <td>VOLKSWAGEN</td>\n",
       "      <td>1698</td>\n",
       "    </tr>\n",
       "    <tr>\n",
       "      <th>11</th>\n",
       "      <td>RENAULT</td>\n",
       "      <td>907</td>\n",
       "    </tr>\n",
       "    <tr>\n",
       "      <th>12</th>\n",
       "      <td>NISSAN</td>\n",
       "      <td>797</td>\n",
       "    </tr>\n",
       "    <tr>\n",
       "      <th>13</th>\n",
       "      <td>MITSUBISHI MOTORS</td>\n",
       "      <td>280</td>\n",
       "    </tr>\n",
       "    <tr>\n",
       "      <th>14</th>\n",
       "      <td>DAEWOO</td>\n",
       "      <td>123</td>\n",
       "    </tr>\n",
       "    <tr>\n",
       "      <th>15</th>\n",
       "      <td>MERCEDES BENZ</td>\n",
       "      <td>117</td>\n",
       "    </tr>\n",
       "    <tr>\n",
       "      <th>16</th>\n",
       "      <td>BMW</td>\n",
       "      <td>99</td>\n",
       "    </tr>\n",
       "    <tr>\n",
       "      <th>17</th>\n",
       "      <td>AUDI</td>\n",
       "      <td>73</td>\n",
       "    </tr>\n",
       "    <tr>\n",
       "      <th>18</th>\n",
       "      <td>PREMIER AUTOMOBILES</td>\n",
       "      <td>71</td>\n",
       "    </tr>\n",
       "    <tr>\n",
       "      <th>19</th>\n",
       "      <td>FORCE</td>\n",
       "      <td>51</td>\n",
       "    </tr>\n",
       "    <tr>\n",
       "      <th>20</th>\n",
       "      <td>HINDUSTAN MOTORS</td>\n",
       "      <td>27</td>\n",
       "    </tr>\n",
       "    <tr>\n",
       "      <th>21</th>\n",
       "      <td>LAND ROVER</td>\n",
       "      <td>11</td>\n",
       "    </tr>\n",
       "    <tr>\n",
       "      <th>22</th>\n",
       "      <td>SONALIKA</td>\n",
       "      <td>9</td>\n",
       "    </tr>\n",
       "    <tr>\n",
       "      <th>23</th>\n",
       "      <td>VOLVO</td>\n",
       "      <td>5</td>\n",
       "    </tr>\n",
       "    <tr>\n",
       "      <th>24</th>\n",
       "      <td>SAN MOTORS</td>\n",
       "      <td>2</td>\n",
       "    </tr>\n",
       "    <tr>\n",
       "      <th>25</th>\n",
       "      <td>PORCHE</td>\n",
       "      <td>2</td>\n",
       "    </tr>\n",
       "    <tr>\n",
       "      <th>26</th>\n",
       "      <td>JEEP</td>\n",
       "      <td>1</td>\n",
       "    </tr>\n",
       "    <tr>\n",
       "      <th>27</th>\n",
       "      <td>MORRIS</td>\n",
       "      <td>1</td>\n",
       "    </tr>\n",
       "  </tbody>\n",
       "</table>\n",
       "</div>"
      ],
      "text/plain": [
       "                Car Name  count\n",
       "0          MARUTI SUZUKI  55758\n",
       "1                HYUNDAI  30316\n",
       "2   MAHINDRA &  MAHINDRA  27665\n",
       "3            TATA MOTORS  16549\n",
       "4         GENERAL MOTORS  10988\n",
       "5                  HONDA   5976\n",
       "6                   FORD   5678\n",
       "7                 TOYOTA   4874\n",
       "8                   FIAT   2447\n",
       "9                  SKODA   2174\n",
       "10            VOLKSWAGEN   1698\n",
       "11               RENAULT    907\n",
       "12                NISSAN    797\n",
       "13     MITSUBISHI MOTORS    280\n",
       "14                DAEWOO    123\n",
       "15         MERCEDES BENZ    117\n",
       "16                   BMW     99\n",
       "17                  AUDI     73\n",
       "18   PREMIER AUTOMOBILES     71\n",
       "19                 FORCE     51\n",
       "20      HINDUSTAN MOTORS     27\n",
       "21            LAND ROVER     11\n",
       "22              SONALIKA      9\n",
       "23                 VOLVO      5\n",
       "24            SAN MOTORS      2\n",
       "25                PORCHE      2\n",
       "26                  JEEP      1\n",
       "27                MORRIS      1"
      ]
     },
     "execution_count": 56,
     "metadata": {},
     "output_type": "execute_result"
    }
   ],
   "source": [
    "z1 = pd.DataFrame(west_zone[\"Make\"].value_counts(ascending=False))\n",
    "z1 = z1.rename(columns={'Make':'count'})\n",
    "z1 = z1.reset_index()\n",
    "z1 = z1.rename(columns={'index':'Car Name'})\n",
    "z1"
   ]
  },
  {
   "cell_type": "code",
   "execution_count": 57,
   "metadata": {},
   "outputs": [
    {
     "data": {
      "text/plain": [
       "<matplotlib.axes._subplots.AxesSubplot at 0x1b394bd5b00>"
      ]
     },
     "execution_count": 57,
     "metadata": {},
     "output_type": "execute_result"
    },
    {
     "data": {
      "image/png": "[encoded data removed]",
      "text/plain": [
       "<Figure size 432x288 with 1 Axes>"
      ]
     },
     "metadata": {},
     "output_type": "display_data"
    }
   ],
   "source": [
    "z1.plot(kind='bar')"
   ]
  },
  {
   "cell_type": "code",
   "execution_count": 59,
   "metadata": {},
   "outputs": [
    {
     "name": "stdout",
     "output_type": "stream",
     "text": [
      "Requirement already satisfied: notebook>=5.3 in c:\\users\\hp\\anaconda3\\lib\\site-packages (6.0.0)\n",
      "Requirement already satisfied: ipywidgets>=7.5 in c:\\users\\hp\\anaconda3\\lib\\site-packages (7.5.0)\n",
      "Requirement already satisfied: ipykernel in c:\\users\\hp\\anaconda3\\lib\\site-packages (from notebook>=5.3) (5.1.1)\n",
      "Requirement already satisfied: jupyter-core>=4.4.0 in c:\\users\\hp\\anaconda3\\lib\\site-packages (from notebook>=5.3) (4.5.0)\n",
      "Requirement already satisfied: terminado>=0.8.1 in c:\\users\\hp\\anaconda3\\lib\\site-packages (from notebook>=5.3) (0.8.2)\n",
      "Requirement already satisfied: pyzmq>=17 in c:\\users\\hp\\anaconda3\\lib\\site-packages (from notebook>=5.3) (18.0.0)\n",
      "Requirement already satisfied: jinja2 in c:\\users\\hp\\anaconda3\\lib\\site-packages (from notebook>=5.3) (2.10.1)\n",
      "Requirement already satisfied: nbformat in c:\\users\\hp\\anaconda3\\lib\\site-packages (from notebook>=5.3) (4.4.0)\n",
      "Requirement already satisfied: nbconvert in c:\\users\\hp\\anaconda3\\lib\\site-packages (from notebook>=5.3) (5.5.0)\n",
      "Requirement already satisfied: traitlets>=4.2.1 in c:\\users\\hp\\anaconda3\\lib\\site-packages (from notebook>=5.3) (4.3.2)\n",
      "Requirement already satisfied: tornado>=5.0 in c:\\users\\hp\\anaconda3\\lib\\site-packages (from notebook>=5.3) (6.0.3)\n",
      "Requirement already satisfied: Send2Trash in c:\\users\\hp\\anaconda3\\lib\\site-packages (from notebook>=5.3) (1.5.0)\n",
      "Requirement already satisfied: ipython-genutils in c:\\users\\hp\\anaconda3\\lib\\site-packages (from notebook>=5.3) (0.2.0)\n",
      "Requirement already satisfied: jupyter-client>=5.3.1 in c:\\users\\hp\\anaconda3\\lib\\site-packages (from notebook>=5.3) (5.3.1)\n",
      "Requirement already satisfied: prometheus-client in c:\\users\\hp\\anaconda3\\lib\\site-packages (from notebook>=5.3) (0.7.1)\n",
      "Requirement already satisfied: ipython>=4.0.0; python_version >= \"3.3\" in c:\\users\\hp\\anaconda3\\lib\\site-packages (from ipywidgets>=7.5) (7.6.1)\n",
      "Requirement already satisfied: widgetsnbextension~=3.5.0 in c:\\users\\hp\\anaconda3\\lib\\site-packages (from ipywidgets>=7.5) (3.5.0)\n",
      "Requirement already satisfied: MarkupSafe>=0.23 in c:\\users\\hp\\anaconda3\\lib\\site-packages (from jinja2->notebook>=5.3) (1.1.1)\n",
      "Requirement already satisfied: jsonschema!=2.5.0,>=2.4 in c:\\users\\hp\\anaconda3\\lib\\site-packages (from nbformat->notebook>=5.3) (3.0.1)\n",
      "Requirement already satisfied: entrypoints>=0.2.2 in c:\\users\\hp\\anaconda3\\lib\\site-packages (from nbconvert->notebook>=5.3) (0.3)\n",
      "Requirement already satisfied: pygments in c:\\users\\hp\\anaconda3\\lib\\site-packages (from nbconvert->notebook>=5.3) (2.4.2)\n",
      "Requirement already satisfied: pandocfilters>=1.4.1 in c:\\users\\hp\\anaconda3\\lib\\site-packages (from nbconvert->notebook>=5.3) (1.4.2)\n",
      "Requirement already satisfied: testpath in c:\\users\\hp\\anaconda3\\lib\\site-packages (from nbconvert->notebook>=5.3) (0.4.2)\n",
      "Requirement already satisfied: bleach in c:\\users\\hp\\anaconda3\\lib\\site-packages (from nbconvert->notebook>=5.3) (3.1.0)\n",
      "Requirement already satisfied: mistune>=0.8.1 in c:\\users\\hp\\anaconda3\\lib\\site-packages (from nbconvert->notebook>=5.3) (0.8.4)\n",
      "Requirement already satisfied: defusedxml in c:\\users\\hp\\anaconda3\\lib\\site-packages (from nbconvert->notebook>=5.3) (0.6.0)\n",
      "Requirement already satisfied: six in c:\\users\\hp\\anaconda3\\lib\\site-packages (from traitlets>=4.2.1->notebook>=5.3) (1.12.0)\n",
      "Requirement already satisfied: decorator in c:\\users\\hp\\anaconda3\\lib\\site-packages (from traitlets>=4.2.1->notebook>=5.3) (4.4.0)\n",
      "Requirement already satisfied: python-dateutil>=2.1 in c:\\users\\hp\\anaconda3\\lib\\site-packages (from jupyter-client>=5.3.1->notebook>=5.3) (2.8.0)\n",
      "Requirement already satisfied: pickleshare in c:\\users\\hp\\anaconda3\\lib\\site-packages (from ipython>=4.0.0; python_version >= \"3.3\"->ipywidgets>=7.5) (0.7.5)\n",
      "Requirement already satisfied: colorama; sys_platform == \"win32\" in c:\\users\\hp\\anaconda3\\lib\\site-packages (from ipython>=4.0.0; python_version >= \"3.3\"->ipywidgets>=7.5) (0.4.1)\n",
      "Requirement already satisfied: jedi>=0.10 in c:\\users\\hp\\anaconda3\\lib\\site-packages (from ipython>=4.0.0; python_version >= \"3.3\"->ipywidgets>=7.5) (0.13.3)\n",
      "Requirement already satisfied: prompt-toolkit<2.1.0,>=2.0.0 in c:\\users\\hp\\anaconda3\\lib\\site-packages (from ipython>=4.0.0; python_version >= \"3.3\"->ipywidgets>=7.5) (2.0.9)\n",
      "Requirement already satisfied: setuptools>=18.5 in c:\\users\\hp\\anaconda3\\lib\\site-packages (from ipython>=4.0.0; python_version >= \"3.3\"->ipywidgets>=7.5) (41.0.1)\n",
      "Requirement already satisfied: backcall in c:\\users\\hp\\anaconda3\\lib\\site-packages (from ipython>=4.0.0; python_version >= \"3.3\"->ipywidgets>=7.5) (0.1.0)\n",
      "Requirement already satisfied: attrs>=17.4.0 in c:\\users\\hp\\anaconda3\\lib\\site-packages (from jsonschema!=2.5.0,>=2.4->nbformat->notebook>=5.3) (19.1.0)\n",
      "Requirement already satisfied: pyrsistent>=0.14.0 in c:\\users\\hp\\anaconda3\\lib\\site-packages (from jsonschema!=2.5.0,>=2.4->nbformat->notebook>=5.3) (0.14.11)\n",
      "Requirement already satisfied: webencodings in c:\\users\\hp\\anaconda3\\lib\\site-packages (from bleach->nbconvert->notebook>=5.3) (0.5.1)\n",
      "Requirement already satisfied: parso>=0.3.0 in c:\\users\\hp\\anaconda3\\lib\\site-packages (from jedi>=0.10->ipython>=4.0.0; python_version >= \"3.3\"->ipywidgets>=7.5) (0.5.0)\n",
      "Requirement already satisfied: wcwidth in c:\\users\\hp\\anaconda3\\lib\\site-packages (from prompt-toolkit<2.1.0,>=2.0.0->ipython>=4.0.0; python_version >= \"3.3\"->ipywidgets>=7.5) (0.1.7)\n",
      "Note: you may need to restart the kernel to use updated packages.\n"
     ]
    }
   ],
   "source": [
    "pip install \"notebook>=5.3\" \"ipywidgets>=7.5\""
   ]
  },
  {
   "cell_type": "code",
   "execution_count": 67,
   "metadata": {},
   "outputs": [
    {
     "data": {
      "application/vnd.plotly.v1+json": {
       "config": {
        "linkText": "Export to plot.ly",
        "plotlyServerURL": "https://plot.ly",
        "showLink": false
       },
       "data": [
        {
         "marker": {
          "color": "rgba(255, 255, 125, 0.5)",
          "line": {
           "color": "rgb(0,0,0)",
           "width": 1.5
          }
         },
         "type": "bar",
         "x": [
          "MARUTI SUZUKI",
          "HYUNDAI",
          "MAHINDRA &  MAHINDRA",
          "TATA MOTORS",
          "GENERAL MOTORS",
          "HONDA",
          "FORD",
          "TOYOTA",
          "FIAT",
          "SKODA",
          "VOLKSWAGEN",
          "RENAULT",
          "NISSAN",
          "MITSUBISHI MOTORS",
          "DAEWOO",
          "MERCEDES BENZ",
          "BMW",
          "AUDI",
          "PREMIER AUTOMOBILES",
          "FORCE",
          "HINDUSTAN MOTORS",
          "LAND ROVER",
          "SONALIKA",
          "VOLVO",
          "SAN MOTORS",
          "PORCHE",
          "JEEP",
          "MORRIS"
         ],
         "y": [
          55758,
          30316,
          27665,
          16549,
          10988,
          5976,
          5678,
          4874,
          2447,
          2174,
          1698,
          907,
          797,
          280,
          123,
          117,
          99,
          73,
          71,
          51,
          27,
          11,
          9,
          5,
          2,
          2,
          1,
          1
         ]
        }
       ],
       "layout": {
        "template": {
         "data": {
          "bar": [
           {
            "error_x": {
             "color": "#2a3f5f"
            },
            "error_y": {
             "color": "#2a3f5f"
            },
            "marker": {
             "line": {
              "color": "#E5ECF6",
              "width": 0.5
             }
            },
            "type": "bar"
           }
          ],
          "barpolar": [
           {
            "marker": {
             "line": {
              "color": "#E5ECF6",
              "width": 0.5
             }
            },
            "type": "barpolar"
           }
          ],
          "carpet": [
           {
            "aaxis": {
             "endlinecolor": "#2a3f5f",
             "gridcolor": "white",
             "linecolor": "white",
             "minorgridcolor": "white",
             "startlinecolor": "#2a3f5f"
            },
            "baxis": {
             "endlinecolor": "#2a3f5f",
             "gridcolor": "white",
             "linecolor": "white",
             "minorgridcolor": "white",
             "startlinecolor": "#2a3f5f"
            },
            "type": "carpet"
           }
          ],
          "choropleth": [
           {
            "colorbar": {
             "outlinewidth": 0,
             "ticks": ""
            },
            "type": "choropleth"
           }
          ],
          "contour": [
           {
            "colorbar": {
             "outlinewidth": 0,
             "ticks": ""
            },
            "colorscale": [
             [
              0,
              "#0d0887"
             ],
             [
              0.1111111111111111,
              "#46039f"
             ],
             [
              0.2222222222222222,
              "#7201a8"
             ],
             [
              0.3333333333333333,
              "#9c179e"
             ],
             [
              0.4444444444444444,
              "#bd3786"
             ],
             [
              0.5555555555555556,
              "#d8576b"
             ],
             [
              0.6666666666666666,
              "#ed7953"
             ],
             [
              0.7777777777777778,
              "#fb9f3a"
             ],
             [
              0.8888888888888888,
              "#fdca26"
             ],
             [
              1,
              "#f0f921"
             ]
            ],
            "type": "contour"
           }
          ],
          "contourcarpet": [
           {
            "colorbar": {
             "outlinewidth": 0,
             "ticks": ""
            },
            "type": "contourcarpet"
           }
          ],
          "heatmap": [
           {
            "colorbar": {
             "outlinewidth": 0,
             "ticks": ""
            },
            "colorscale": [
             [
              0,
              "#0d0887"
             ],
             [
              0.1111111111111111,
              "#46039f"
             ],
             [
              0.2222222222222222,
              "#7201a8"
             ],
             [
              0.3333333333333333,
              "#9c179e"
             ],
             [
              0.4444444444444444,
              "#bd3786"
             ],
             [
              0.5555555555555556,
              "#d8576b"
             ],
             [
              0.6666666666666666,
              "#ed7953"
             ],
             [
              0.7777777777777778,
              "#fb9f3a"
             ],
             [
              0.8888888888888888,
              "#fdca26"
             ],
             [
              1,
              "#f0f921"
             ]
            ],
            "type": "heatmap"
           }
          ],
          "heatmapgl": [
           {
            "colorbar": {
             "outlinewidth": 0,
             "ticks": ""
            },
            "colorscale": [
             [
              0,
              "#0d0887"
             ],
             [
              0.1111111111111111,
              "#46039f"
             ],
             [
              0.2222222222222222,
              "#7201a8"
             ],
             [
              0.3333333333333333,
              "#9c179e"
             ],
             [
              0.4444444444444444,
              "#bd3786"
             ],
             [
              0.5555555555555556,
              "#d8576b"
             ],
             [
              0.6666666666666666,
              "#ed7953"
             ],
             [
              0.7777777777777778,
              "#fb9f3a"
             ],
             [
              0.8888888888888888,
              "#fdca26"
             ],
             [
              1,
              "#f0f921"
             ]
            ],
            "type": "heatmapgl"
           }
          ],
          "histogram": [
           {
            "marker": {
             "colorbar": {
              "outlinewidth": 0,
              "ticks": ""
             }
            },
            "type": "histogram"
           }
          ],
          "histogram2d": [
           {
            "colorbar": {
             "outlinewidth": 0,
             "ticks": ""
            },
            "colorscale": [
             [
              0,
              "#0d0887"
             ],
             [
              0.1111111111111111,
              "#46039f"
             ],
             [
              0.2222222222222222,
              "#7201a8"
             ],
             [
              0.3333333333333333,
              "#9c179e"
             ],
             [
              0.4444444444444444,
              "#bd3786"
             ],
             [
              0.5555555555555556,
              "#d8576b"
             ],
             [
              0.6666666666666666,
              "#ed7953"
             ],
             [
              0.7777777777777778,
              "#fb9f3a"
             ],
             [
              0.8888888888888888,
              "#fdca26"
             ],
             [
              1,
              "#f0f921"
             ]
            ],
            "type": "histogram2d"
           }
          ],
          "histogram2dcontour": [
           {
            "colorbar": {
             "outlinewidth": 0,
             "ticks": ""
            },
            "colorscale": [
             [
              0,
              "#0d0887"
             ],
             [
              0.1111111111111111,
              "#46039f"
             ],
             [
              0.2222222222222222,
              "#7201a8"
             ],
             [
              0.3333333333333333,
              "#9c179e"
             ],
             [
              0.4444444444444444,
              "#bd3786"
             ],
             [
              0.5555555555555556,
              "#d8576b"
             ],
             [
              0.6666666666666666,
              "#ed7953"
             ],
             [
              0.7777777777777778,
              "#fb9f3a"
             ],
             [
              0.8888888888888888,
              "#fdca26"
             ],
             [
              1,
              "#f0f921"
             ]
            ],
            "type": "histogram2dcontour"
           }
          ],
          "mesh3d": [
           {
            "colorbar": {
             "outlinewidth": 0,
             "ticks": ""
            },
            "type": "mesh3d"
           }
          ],
          "parcoords": [
           {
            "line": {
             "colorbar": {
              "outlinewidth": 0,
              "ticks": ""
             }
            },
            "type": "parcoords"
           }
          ],
          "pie": [
           {
            "automargin": true,
            "type": "pie"
           }
          ],
          "scatter": [
           {
            "marker": {
             "colorbar": {
              "outlinewidth": 0,
              "ticks": ""
             }
            },
            "type": "scatter"
           }
          ],
          "scatter3d": [
           {
            "line": {
             "colorbar": {
              "outlinewidth": 0,
              "ticks": ""
             }
            },
            "marker": {
             "colorbar": {
              "outlinewidth": 0,
              "ticks": ""
             }
            },
            "type": "scatter3d"
           }
          ],
          "scattercarpet": [
           {
            "marker": {
             "colorbar": {
              "outlinewidth": 0,
              "ticks": ""
             }
            },
            "type": "scattercarpet"
           }
          ],
          "scattergeo": [
           {
            "marker": {
             "colorbar": {
              "outlinewidth": 0,
              "ticks": ""
             }
            },
            "type": "scattergeo"
           }
          ],
          "scattergl": [
           {
            "marker": {
             "colorbar": {
              "outlinewidth": 0,
              "ticks": ""
             }
            },
            "type": "scattergl"
           }
          ],
          "scattermapbox": [
           {
            "marker": {
             "colorbar": {
              "outlinewidth": 0,
              "ticks": ""
             }
            },
            "type": "scattermapbox"
           }
          ],
          "scatterpolar": [
           {
            "marker": {
             "colorbar": {
              "outlinewidth": 0,
              "ticks": ""
             }
            },
            "type": "scatterpolar"
           }
          ],
          "scatterpolargl": [
           {
            "marker": {
             "colorbar": {
              "outlinewidth": 0,
              "ticks": ""
             }
            },
            "type": "scatterpolargl"
           }
          ],
          "scatterternary": [
           {
            "marker": {
             "colorbar": {
              "outlinewidth": 0,
              "ticks": ""
             }
            },
            "type": "scatterternary"
           }
          ],
          "surface": [
           {
            "colorbar": {
             "outlinewidth": 0,
             "ticks": ""
            },
            "colorscale": [
             [
              0,
              "#0d0887"
             ],
             [
              0.1111111111111111,
              "#46039f"
             ],
             [
              0.2222222222222222,
              "#7201a8"
             ],
             [
              0.3333333333333333,
              "#9c179e"
             ],
             [
              0.4444444444444444,
              "#bd3786"
             ],
             [
              0.5555555555555556,
              "#d8576b"
             ],
             [
              0.6666666666666666,
              "#ed7953"
             ],
             [
              0.7777777777777778,
              "#fb9f3a"
             ],
             [
              0.8888888888888888,
              "#fdca26"
             ],
             [
              1,
              "#f0f921"
             ]
            ],
            "type": "surface"
           }
          ],
          "table": [
           {
            "cells": {
             "fill": {
              "color": "#EBF0F8"
             },
             "line": {
              "color": "white"
             }
            },
            "header": {
             "fill": {
              "color": "#C8D4E3"
             },
             "line": {
              "color": "white"
             }
            },
            "type": "table"
           }
          ]
         },
         "layout": {
          "annotationdefaults": {
           "arrowcolor": "#2a3f5f",
           "arrowhead": 0,
           "arrowwidth": 1
          },
          "autotypenumbers": "strict",
          "coloraxis": {
           "colorbar": {
            "outlinewidth": 0,
            "ticks": ""
           }
          },
          "colorscale": {
           "diverging": [
            [
             0,
             "#8e0152"
            ],
            [
             0.1,
             "#c51b7d"
            ],
            [
             0.2,
             "#de77ae"
            ],
            [
             0.3,
             "#f1b6da"
            ],
            [
             0.4,
             "#fde0ef"
            ],
            [
             0.5,
             "#f7f7f7"
            ],
            [
             0.6,
             "#e6f5d0"
            ],
            [
             0.7,
             "#b8e186"
            ],
            [
             0.8,
             "#7fbc41"
            ],
            [
             0.9,
             "#4d9221"
            ],
            [
             1,
             "#276419"
            ]
           ],
           "sequential": [
            [
             0,
             "#0d0887"
            ],
            [
             0.1111111111111111,
             "#46039f"
            ],
            [
             0.2222222222222222,
             "#7201a8"
            ],
            [
             0.3333333333333333,
             "#9c179e"
            ],
            [
             0.4444444444444444,
             "#bd3786"
            ],
            [
             0.5555555555555556,
             "#d8576b"
            ],
            [
             0.6666666666666666,
             "#ed7953"
            ],
            [
             0.7777777777777778,
             "#fb9f3a"
            ],
            [
             0.8888888888888888,
             "#fdca26"
            ],
            [
             1,
             "#f0f921"
            ]
           ],
           "sequentialminus": [
            [
             0,
             "#0d0887"
            ],
            [
             0.1111111111111111,
             "#46039f"
            ],
            [
             0.2222222222222222,
             "#7201a8"
            ],
            [
             0.3333333333333333,
             "#9c179e"
            ],
            [
             0.4444444444444444,
             "#bd3786"
            ],
            [
             0.5555555555555556,
             "#d8576b"
            ],
            [
             0.6666666666666666,
             "#ed7953"
            ],
            [
             0.7777777777777778,
             "#fb9f3a"
            ],
            [
             0.8888888888888888,
             "#fdca26"
            ],
            [
             1,
             "#f0f921"
            ]
           ]
          },
          "colorway": [
           "#636efa",
           "#EF553B",
           "#00cc96",
           "#ab63fa",
           "#FFA15A",
           "#19d3f3",
           "#FF6692",
           "#B6E880",
           "#FF97FF",
           "#FECB52"
          ],
          "font": {
           "color": "#2a3f5f"
          },
          "geo": {
           "bgcolor": "white",
           "lakecolor": "white",
           "landcolor": "#E5ECF6",
           "showlakes": true,
           "showland": true,
           "subunitcolor": "white"
          },
          "hoverlabel": {
           "align": "left"
          },
          "hovermode": "closest",
          "mapbox": {
           "style": "light"
          },
          "paper_bgcolor": "white",
          "plot_bgcolor": "#E5ECF6",
          "polar": {
           "angularaxis": {
            "gridcolor": "white",
            "linecolor": "white",
            "ticks": ""
           },
           "bgcolor": "#E5ECF6",
           "radialaxis": {
            "gridcolor": "white",
            "linecolor": "white",
            "ticks": ""
           }
          },
          "scene": {
           "xaxis": {
            "backgroundcolor": "#E5ECF6",
            "gridcolor": "white",
            "gridwidth": 2,
            "linecolor": "white",
            "showbackground": true,
            "ticks": "",
            "zerolinecolor": "white"
           },
           "yaxis": {
            "backgroundcolor": "#E5ECF6",
            "gridcolor": "white",
            "gridwidth": 2,
            "linecolor": "white",
            "showbackground": true,
            "ticks": "",
            "zerolinecolor": "white"
           },
           "zaxis": {
            "backgroundcolor": "#E5ECF6",
            "gridcolor": "white",
            "gridwidth": 2,
            "linecolor": "white",
            "showbackground": true,
            "ticks": "",
            "zerolinecolor": "white"
           }
          },
          "shapedefaults": {
           "line": {
            "color": "#2a3f5f"
           }
          },
          "ternary": {
           "aaxis": {
            "gridcolor": "white",
            "linecolor": "white",
            "ticks": ""
           },
           "baxis": {
            "gridcolor": "white",
            "linecolor": "white",
            "ticks": ""
           },
           "bgcolor": "#E5ECF6",
           "caxis": {
            "gridcolor": "white",
            "linecolor": "white",
            "ticks": ""
           }
          },
          "title": {
           "x": 0.05
          },
          "xaxis": {
           "automargin": true,
           "gridcolor": "white",
           "linecolor": "white",
           "ticks": "",
           "title": {
            "standoff": 15
           },
           "zerolinecolor": "white",
           "zerolinewidth": 2
          },
          "yaxis": {
           "automargin": true,
           "gridcolor": "white",
           "linecolor": "white",
           "ticks": "",
           "title": {
            "standoff": 15
           },
           "zerolinecolor": "white",
           "zerolinewidth": 2
          }
         }
        },
        "title": {
         "text": "Car Names in west zone"
        },
        "xaxis": {
         "title": {
          "text": "Car Names"
         }
        },
        "yaxis": {
         "title": {
          "text": "Count"
         }
        }
       }
      },
      "text/html": [
       "<div>                            <div id=\"5b51c5fb-7d03-4d43-81c4-659349cae5aa\" class=\"plotly-graph-div\" style=\"height:525px; width:100%;\"></div>            <script type=\"text/javascript\">                require([\"plotly\"], function(Plotly) {                    window.PLOTLYENV=window.PLOTLYENV || {};                                    if (document.getElementById(\"5b51c5fb-7d03-4d43-81c4-659349cae5aa\")) {                    Plotly.newPlot(                        \"5b51c5fb-7d03-4d43-81c4-659349cae5aa\",                        [{\"marker\": {\"color\": \"rgba(255, 255, 125, 0.5)\", \"line\": {\"color\": \"rgb(0,0,0)\", \"width\": 1.5}}, \"type\": \"bar\", \"x\": [\"MARUTI SUZUKI\", \"HYUNDAI\", \"MAHINDRA &  MAHINDRA\", \"TATA MOTORS\", \"GENERAL MOTORS\", \"HONDA\", \"FORD\", \"TOYOTA\", \"FIAT\", \"SKODA\", \"VOLKSWAGEN\", \"RENAULT\", \"NISSAN\", \"MITSUBISHI MOTORS\", \"DAEWOO\", \"MERCEDES BENZ\", \"BMW\", \"AUDI\", \"PREMIER\\u00a0AUTOMOBILES\", \"FORCE\", \"HINDUSTAN MOTORS\", \"LAND ROVER\", \"SONALIKA\", \"VOLVO\", \"SAN MOTORS\", \"PORCHE\", \"JEEP\", \"MORRIS\"], \"y\": [55758, 30316, 27665, 16549, 10988, 5976, 5678, 4874, 2447, 2174, 1698, 907, 797, 280, 123, 117, 99, 73, 71, 51, 27, 11, 9, 5, 2, 2, 1, 1]}],                        {\"template\": {\"data\": {\"bar\": [{\"error_x\": {\"color\": \"#2a3f5f\"}, \"error_y\": {\"color\": \"#2a3f5f\"}, \"marker\": {\"line\": {\"color\": \"#E5ECF6\", \"width\": 0.5}}, \"type\": \"bar\"}], \"barpolar\": [{\"marker\": {\"line\": {\"color\": \"#E5ECF6\", \"width\": 0.5}}, \"type\": \"barpolar\"}], \"carpet\": [{\"aaxis\": {\"endlinecolor\": \"#2a3f5f\", \"gridcolor\": \"white\", \"linecolor\": \"white\", \"minorgridcolor\": \"white\", \"startlinecolor\": \"#2a3f5f\"}, \"baxis\": {\"endlinecolor\": \"#2a3f5f\", \"gridcolor\": \"white\", \"linecolor\": \"white\", \"minorgridcolor\": \"white\", \"startlinecolor\": \"#2a3f5f\"}, \"type\": \"carpet\"}], \"choropleth\": [{\"colorbar\": {\"outlinewidth\": 0, \"ticks\": \"\"}, \"type\": \"choropleth\"}], \"contour\": [{\"colorbar\": {\"outlinewidth\": 0, \"ticks\": \"\"}, \"colorscale\": [[0.0, \"#0d0887\"], [0.1111111111111111, \"#46039f\"], [0.2222222222222222, \"#7201a8\"], [0.3333333333333333, \"#9c179e\"], [0.4444444444444444, \"#bd3786\"], [0.5555555555555556, \"#d8576b\"], [0.6666666666666666, \"#ed7953\"], [0.7777777777777778, \"#fb9f3a\"], [0.8888888888888888, \"#fdca26\"], [1.0, \"#f0f921\"]], \"type\": \"contour\"}], \"contourcarpet\": [{\"colorbar\": {\"outlinewidth\": 0, \"ticks\": \"\"}, \"type\": \"contourcarpet\"}], \"heatmap\": [{\"colorbar\": {\"outlinewidth\": 0, \"ticks\": \"\"}, \"colorscale\": [[0.0, \"#0d0887\"], [0.1111111111111111, \"#46039f\"], [0.2222222222222222, \"#7201a8\"], [0.3333333333333333, \"#9c179e\"], [0.4444444444444444, \"#bd3786\"], [0.5555555555555556, \"#d8576b\"], [0.6666666666666666, \"#ed7953\"], [0.7777777777777778, \"#fb9f3a\"], [0.8888888888888888, \"#fdca26\"], [1.0, \"#f0f921\"]], \"type\": \"heatmap\"}], \"heatmapgl\": [{\"colorbar\": {\"outlinewidth\": 0, \"ticks\": \"\"}, \"colorscale\": [[0.0, \"#0d0887\"], [0.1111111111111111, \"#46039f\"], [0.2222222222222222, \"#7201a8\"], [0.3333333333333333, \"#9c179e\"], [0.4444444444444444, \"#bd3786\"], [0.5555555555555556, \"#d8576b\"], [0.6666666666666666, \"#ed7953\"], [0.7777777777777778, \"#fb9f3a\"], [0.8888888888888888, \"#fdca26\"], [1.0, \"#f0f921\"]], \"type\": \"heatmapgl\"}], \"histogram\": [{\"marker\": {\"colorbar\": {\"outlinewidth\": 0, \"ticks\": \"\"}}, \"type\": \"histogram\"}], \"histogram2d\": [{\"colorbar\": {\"outlinewidth\": 0, \"ticks\": \"\"}, \"colorscale\": [[0.0, \"#0d0887\"], [0.1111111111111111, \"#46039f\"], [0.2222222222222222, \"#7201a8\"], [0.3333333333333333, \"#9c179e\"], [0.4444444444444444, \"#bd3786\"], [0.5555555555555556, \"#d8576b\"], [0.6666666666666666, \"#ed7953\"], [0.7777777777777778, \"#fb9f3a\"], [0.8888888888888888, \"#fdca26\"], [1.0, \"#f0f921\"]], \"type\": \"histogram2d\"}], \"histogram2dcontour\": [{\"colorbar\": {\"outlinewidth\": 0, \"ticks\": \"\"}, \"colorscale\": [[0.0, \"#0d0887\"], [0.1111111111111111, \"#46039f\"], [0.2222222222222222, \"#7201a8\"], [0.3333333333333333, \"#9c179e\"], [0.4444444444444444, \"#bd3786\"], [0.5555555555555556, \"#d8576b\"], [0.6666666666666666, \"#ed7953\"], [0.7777777777777778, \"#fb9f3a\"], [0.8888888888888888, \"#fdca26\"], [1.0, \"#f0f921\"]], \"type\": \"histogram2dcontour\"}], \"mesh3d\": [{\"colorbar\": {\"outlinewidth\": 0, \"ticks\": \"\"}, \"type\": \"mesh3d\"}], \"parcoords\": [{\"line\": {\"colorbar\": {\"outlinewidth\": 0, \"ticks\": \"\"}}, \"type\": \"parcoords\"}], \"pie\": [{\"automargin\": true, \"type\": \"pie\"}], \"scatter\": [{\"marker\": {\"colorbar\": {\"outlinewidth\": 0, \"ticks\": \"\"}}, \"type\": \"scatter\"}], \"scatter3d\": [{\"line\": {\"colorbar\": {\"outlinewidth\": 0, \"ticks\": \"\"}}, \"marker\": {\"colorbar\": {\"outlinewidth\": 0, \"ticks\": \"\"}}, \"type\": \"scatter3d\"}], \"scattercarpet\": [{\"marker\": {\"colorbar\": {\"outlinewidth\": 0, \"ticks\": \"\"}}, \"type\": \"scattercarpet\"}], \"scattergeo\": [{\"marker\": {\"colorbar\": {\"outlinewidth\": 0, \"ticks\": \"\"}}, \"type\": \"scattergeo\"}], \"scattergl\": [{\"marker\": {\"colorbar\": {\"outlinewidth\": 0, \"ticks\": \"\"}}, \"type\": \"scattergl\"}], \"scattermapbox\": [{\"marker\": {\"colorbar\": {\"outlinewidth\": 0, \"ticks\": \"\"}}, \"type\": \"scattermapbox\"}], \"scatterpolar\": [{\"marker\": {\"colorbar\": {\"outlinewidth\": 0, \"ticks\": \"\"}}, \"type\": \"scatterpolar\"}], \"scatterpolargl\": [{\"marker\": {\"colorbar\": {\"outlinewidth\": 0, \"ticks\": \"\"}}, \"type\": \"scatterpolargl\"}], \"scatterternary\": [{\"marker\": {\"colorbar\": {\"outlinewidth\": 0, \"ticks\": \"\"}}, \"type\": \"scatterternary\"}], \"surface\": [{\"colorbar\": {\"outlinewidth\": 0, \"ticks\": \"\"}, \"colorscale\": [[0.0, \"#0d0887\"], [0.1111111111111111, \"#46039f\"], [0.2222222222222222, \"#7201a8\"], [0.3333333333333333, \"#9c179e\"], [0.4444444444444444, \"#bd3786\"], [0.5555555555555556, \"#d8576b\"], [0.6666666666666666, \"#ed7953\"], [0.7777777777777778, \"#fb9f3a\"], [0.8888888888888888, \"#fdca26\"], [1.0, \"#f0f921\"]], \"type\": \"surface\"}], \"table\": [{\"cells\": {\"fill\": {\"color\": \"#EBF0F8\"}, \"line\": {\"color\": \"white\"}}, \"header\": {\"fill\": {\"color\": \"#C8D4E3\"}, \"line\": {\"color\": \"white\"}}, \"type\": \"table\"}]}, \"layout\": {\"annotationdefaults\": {\"arrowcolor\": \"#2a3f5f\", \"arrowhead\": 0, \"arrowwidth\": 1}, \"autotypenumbers\": \"strict\", \"coloraxis\": {\"colorbar\": {\"outlinewidth\": 0, \"ticks\": \"\"}}, \"colorscale\": {\"diverging\": [[0, \"#8e0152\"], [0.1, \"#c51b7d\"], [0.2, \"#de77ae\"], [0.3, \"#f1b6da\"], [0.4, \"#fde0ef\"], [0.5, \"#f7f7f7\"], [0.6, \"#e6f5d0\"], [0.7, \"#b8e186\"], [0.8, \"#7fbc41\"], [0.9, \"#4d9221\"], [1, \"#276419\"]], \"sequential\": [[0.0, \"#0d0887\"], [0.1111111111111111, \"#46039f\"], [0.2222222222222222, \"#7201a8\"], [0.3333333333333333, \"#9c179e\"], [0.4444444444444444, \"#bd3786\"], [0.5555555555555556, \"#d8576b\"], [0.6666666666666666, \"#ed7953\"], [0.7777777777777778, \"#fb9f3a\"], [0.8888888888888888, \"#fdca26\"], [1.0, \"#f0f921\"]], \"sequentialminus\": [[0.0, \"#0d0887\"], [0.1111111111111111, \"#46039f\"], [0.2222222222222222, \"#7201a8\"], [0.3333333333333333, \"#9c179e\"], [0.4444444444444444, \"#bd3786\"], [0.5555555555555556, \"#d8576b\"], [0.6666666666666666, \"#ed7953\"], [0.7777777777777778, \"#fb9f3a\"], [0.8888888888888888, \"#fdca26\"], [1.0, \"#f0f921\"]]}, \"colorway\": [\"#636efa\", \"#EF553B\", \"#00cc96\", \"#ab63fa\", \"#FFA15A\", \"#19d3f3\", \"#FF6692\", \"#B6E880\", \"#FF97FF\", \"#FECB52\"], \"font\": {\"color\": \"#2a3f5f\"}, \"geo\": {\"bgcolor\": \"white\", \"lakecolor\": \"white\", \"landcolor\": \"#E5ECF6\", \"showlakes\": true, \"showland\": true, \"subunitcolor\": \"white\"}, \"hoverlabel\": {\"align\": \"left\"}, \"hovermode\": \"closest\", \"mapbox\": {\"style\": \"light\"}, \"paper_bgcolor\": \"white\", \"plot_bgcolor\": \"#E5ECF6\", \"polar\": {\"angularaxis\": {\"gridcolor\": \"white\", \"linecolor\": \"white\", \"ticks\": \"\"}, \"bgcolor\": \"#E5ECF6\", \"radialaxis\": {\"gridcolor\": \"white\", \"linecolor\": \"white\", \"ticks\": \"\"}}, \"scene\": {\"xaxis\": {\"backgroundcolor\": \"#E5ECF6\", \"gridcolor\": \"white\", \"gridwidth\": 2, \"linecolor\": \"white\", \"showbackground\": true, \"ticks\": \"\", \"zerolinecolor\": \"white\"}, \"yaxis\": {\"backgroundcolor\": \"#E5ECF6\", \"gridcolor\": \"white\", \"gridwidth\": 2, \"linecolor\": \"white\", \"showbackground\": true, \"ticks\": \"\", \"zerolinecolor\": \"white\"}, \"zaxis\": {\"backgroundcolor\": \"#E5ECF6\", \"gridcolor\": \"white\", \"gridwidth\": 2, \"linecolor\": \"white\", \"showbackground\": true, \"ticks\": \"\", \"zerolinecolor\": \"white\"}}, \"shapedefaults\": {\"line\": {\"color\": \"#2a3f5f\"}}, \"ternary\": {\"aaxis\": {\"gridcolor\": \"white\", \"linecolor\": \"white\", \"ticks\": \"\"}, \"baxis\": {\"gridcolor\": \"white\", \"linecolor\": \"white\", \"ticks\": \"\"}, \"bgcolor\": \"#E5ECF6\", \"caxis\": {\"gridcolor\": \"white\", \"linecolor\": \"white\", \"ticks\": \"\"}}, \"title\": {\"x\": 0.05}, \"xaxis\": {\"automargin\": true, \"gridcolor\": \"white\", \"linecolor\": \"white\", \"ticks\": \"\", \"title\": {\"standoff\": 15}, \"zerolinecolor\": \"white\", \"zerolinewidth\": 2}, \"yaxis\": {\"automargin\": true, \"gridcolor\": \"white\", \"linecolor\": \"white\", \"ticks\": \"\", \"title\": {\"standoff\": 15}, \"zerolinecolor\": \"white\", \"zerolinewidth\": 2}}}, \"title\": {\"text\": \"Car Names in west zone\"}, \"xaxis\": {\"title\": {\"text\": \"Car Names\"}}, \"yaxis\": {\"title\": {\"text\": \"Count\"}}},                        {\"responsive\": true}                    ).then(function(){\n",
       "                            \n",
       "var gd = document.getElementById('5b51c5fb-7d03-4d43-81c4-659349cae5aa');\n",
       "var x = new MutationObserver(function (mutations, observer) {{\n",
       "        var display = window.getComputedStyle(gd).display;\n",
       "        if (!display || display === 'none') {{\n",
       "            console.log([gd, 'removed!']);\n",
       "            Plotly.purge(gd);\n",
       "            observer.disconnect();\n",
       "        }}\n",
       "}});\n",
       "\n",
       "// Listen for the removal of the full notebook cells\n",
       "var notebookContainer = gd.closest('#notebook-container');\n",
       "if (notebookContainer) {{\n",
       "    x.observe(notebookContainer, {childList: true});\n",
       "}}\n",
       "\n",
       "// Listen for the clearing of the current output cell\n",
       "var outputEl = gd.closest('.output');\n",
       "if (outputEl) {{\n",
       "    x.observe(outputEl, {childList: true});\n",
       "}}\n",
       "\n",
       "                        })                };                });            </script>        </div>"
      ]
     },
     "metadata": {},
     "output_type": "display_data"
    }
   ],
   "source": [
    "import plotly\n",
    "import plotly.graph_objs as go\n",
    "from plotly.offline import iplot\n",
    "\n",
    "#creating trace1\n",
    "trace1 = go.Bar(\n",
    "                x = z1['Car Name'],\n",
    "                y = z1['count'],\n",
    "                marker = dict(color = 'rgba(255, 255, 125, 0.5)',\n",
    "                              line=dict(color='rgb(0,0,0)',width=1.5)))\n",
    "\n",
    "layout = go.Layout(title = 'Car Names in west zone', xaxis = dict(title = 'Car Names'), yaxis = dict(title = 'Count'))\n",
    "\n",
    "fig = go.Figure(data = trace1, layout = layout)\n",
    "iplot(fig)"
   ]
  },
  {
   "cell_type": "markdown",
   "metadata": {},
   "source": [
    "# South Zone"
   ]
  },
  {
   "cell_type": "code",
   "execution_count": 69,
   "metadata": {},
   "outputs": [
    {
     "data": {
      "text/html": [
       "<div>\n",
       "<style scoped>\n",
       "    .dataframe tbody tr th:only-of-type {\n",
       "        vertical-align: middle;\n",
       "    }\n",
       "\n",
       "    .dataframe tbody tr th {\n",
       "        vertical-align: top;\n",
       "    }\n",
       "\n",
       "    .dataframe thead th {\n",
       "        text-align: right;\n",
       "    }\n",
       "</style>\n",
       "<table border=\"1\" class=\"dataframe\">\n",
       "  <thead>\n",
       "    <tr style=\"text-align: right;\">\n",
       "      <th></th>\n",
       "      <th>Car Name</th>\n",
       "      <th>count</th>\n",
       "    </tr>\n",
       "  </thead>\n",
       "  <tbody>\n",
       "    <tr>\n",
       "      <th>0</th>\n",
       "      <td>MARUTI SUZUKI</td>\n",
       "      <td>53165</td>\n",
       "    </tr>\n",
       "    <tr>\n",
       "      <th>1</th>\n",
       "      <td>MAHINDRA &amp;  MAHINDRA</td>\n",
       "      <td>42795</td>\n",
       "    </tr>\n",
       "    <tr>\n",
       "      <th>2</th>\n",
       "      <td>HYUNDAI</td>\n",
       "      <td>33819</td>\n",
       "    </tr>\n",
       "    <tr>\n",
       "      <th>3</th>\n",
       "      <td>TATA MOTORS</td>\n",
       "      <td>31127</td>\n",
       "    </tr>\n",
       "    <tr>\n",
       "      <th>4</th>\n",
       "      <td>FORD</td>\n",
       "      <td>12754</td>\n",
       "    </tr>\n",
       "  </tbody>\n",
       "</table>\n",
       "</div>"
      ],
      "text/plain": [
       "               Car Name  count\n",
       "0         MARUTI SUZUKI  53165\n",
       "1  MAHINDRA &  MAHINDRA  42795\n",
       "2               HYUNDAI  33819\n",
       "3           TATA MOTORS  31127\n",
       "4                  FORD  12754"
      ]
     },
     "execution_count": 69,
     "metadata": {},
     "output_type": "execute_result"
    }
   ],
   "source": [
    "z2 = pd.DataFrame(south_zone['Make'].value_counts(ascending=False))\n",
    "z2\n",
    "z2 = z2.rename(columns={'Make':'count'})\n",
    "z2 = z2.reset_index()\n",
    "z2 = z2.rename(columns={'index':'Car Name'})\n",
    "z2.head(5)"
   ]
  },
  {
   "cell_type": "code",
   "execution_count": 70,
   "metadata": {},
   "outputs": [
    {
     "data": {
      "application/vnd.plotly.v1+json": {
       "config": {
        "linkText": "Export to plot.ly",
        "plotlyServerURL": "https://plot.ly",
        "showLink": false
       },
       "data": [
        {
         "marker": {
          "color": "rgba(255, 255, 125, 0.5)",
          "line": {
           "color": "rgb(0,0,0)",
           "width": 1.5
          }
         },
         "type": "bar",
         "x": [
          "MARUTI SUZUKI",
          "MAHINDRA &  MAHINDRA",
          "HYUNDAI",
          "TATA MOTORS",
          "FORD",
          "GENERAL MOTORS",
          "TOYOTA",
          "HONDA",
          "SKODA",
          "FIAT",
          "VOLKSWAGEN",
          "RENAULT",
          "NISSAN",
          "MITSUBISHI MOTORS",
          "DAEWOO",
          "HINDUSTAN MOTORS",
          "FORCE",
          "MERCEDES BENZ",
          "BMW",
          "AUDI",
          "SONALIKA",
          "PREMIER AUTOMOBILES",
          "VOLVO",
          "SAN MOTORS",
          "JEEP",
          "LAND ROVER",
          "PORCHE"
         ],
         "y": [
          53165,
          42795,
          33819,
          31127,
          12754,
          11733,
          10718,
          6035,
          2988,
          2982,
          2973,
          1647,
          1514,
          837,
          199,
          157,
          116,
          95,
          75,
          61,
          34,
          14,
          10,
          5,
          4,
          4,
          3
         ]
        }
       ],
       "layout": {
        "template": {
         "data": {
          "bar": [
           {
            "error_x": {
             "color": "#2a3f5f"
            },
            "error_y": {
             "color": "#2a3f5f"
            },
            "marker": {
             "line": {
              "color": "#E5ECF6",
              "width": 0.5
             }
            },
            "type": "bar"
           }
          ],
          "barpolar": [
           {
            "marker": {
             "line": {
              "color": "#E5ECF6",
              "width": 0.5
             }
            },
            "type": "barpolar"
           }
          ],
          "carpet": [
           {
            "aaxis": {
             "endlinecolor": "#2a3f5f",
             "gridcolor": "white",
             "linecolor": "white",
             "minorgridcolor": "white",
             "startlinecolor": "#2a3f5f"
            },
            "baxis": {
             "endlinecolor": "#2a3f5f",
             "gridcolor": "white",
             "linecolor": "white",
             "minorgridcolor": "white",
             "startlinecolor": "#2a3f5f"
            },
            "type": "carpet"
           }
          ],
          "choropleth": [
           {
            "colorbar": {
             "outlinewidth": 0,
             "ticks": ""
            },
            "type": "choropleth"
           }
          ],
          "contour": [
           {
            "colorbar": {
             "outlinewidth": 0,
             "ticks": ""
            },
            "colorscale": [
             [
              0,
              "#0d0887"
             ],
             [
              0.1111111111111111,
              "#46039f"
             ],
             [
              0.2222222222222222,
              "#7201a8"
             ],
             [
              0.3333333333333333,
              "#9c179e"
             ],
             [
              0.4444444444444444,
              "#bd3786"
             ],
             [
              0.5555555555555556,
              "#d8576b"
             ],
             [
              0.6666666666666666,
              "#ed7953"
             ],
             [
              0.7777777777777778,
              "#fb9f3a"
             ],
             [
              0.8888888888888888,
              "#fdca26"
             ],
             [
              1,
              "#f0f921"
             ]
            ],
            "type": "contour"
           }
          ],
          "contourcarpet": [
           {
            "colorbar": {
             "outlinewidth": 0,
             "ticks": ""
            },
            "type": "contourcarpet"
           }
          ],
          "heatmap": [
           {
            "colorbar": {
             "outlinewidth": 0,
             "ticks": ""
            },
            "colorscale": [
             [
              0,
              "#0d0887"
             ],
             [
              0.1111111111111111,
              "#46039f"
             ],
             [
              0.2222222222222222,
              "#7201a8"
             ],
             [
              0.3333333333333333,
              "#9c179e"
             ],
             [
              0.4444444444444444,
              "#bd3786"
             ],
             [
              0.5555555555555556,
              "#d8576b"
             ],
             [
              0.6666666666666666,
              "#ed7953"
             ],
             [
              0.7777777777777778,
              "#fb9f3a"
             ],
             [
              0.8888888888888888,
              "#fdca26"
             ],
             [
              1,
              "#f0f921"
             ]
            ],
            "type": "heatmap"
           }
          ],
          "heatmapgl": [
           {
            "colorbar": {
             "outlinewidth": 0,
             "ticks": ""
            },
            "colorscale": [
             [
              0,
              "#0d0887"
             ],
             [
              0.1111111111111111,
              "#46039f"
             ],
             [
              0.2222222222222222,
              "#7201a8"
             ],
             [
              0.3333333333333333,
              "#9c179e"
             ],
             [
              0.4444444444444444,
              "#bd3786"
             ],
             [
              0.5555555555555556,
              "#d8576b"
             ],
             [
              0.6666666666666666,
              "#ed7953"
             ],
             [
              0.7777777777777778,
              "#fb9f3a"
             ],
             [
              0.8888888888888888,
              "#fdca26"
             ],
             [
              1,
              "#f0f921"
             ]
            ],
            "type": "heatmapgl"
           }
          ],
          "histogram": [
           {
            "marker": {
             "colorbar": {
              "outlinewidth": 0,
              "ticks": ""
             }
            },
            "type": "histogram"
           }
          ],
          "histogram2d": [
           {
            "colorbar": {
             "outlinewidth": 0,
             "ticks": ""
            },
            "colorscale": [
             [
              0,
              "#0d0887"
             ],
             [
              0.1111111111111111,
              "#46039f"
             ],
             [
              0.2222222222222222,
              "#7201a8"
             ],
             [
              0.3333333333333333,
              "#9c179e"
             ],
             [
              0.4444444444444444,
              "#bd3786"
             ],
             [
              0.5555555555555556,
              "#d8576b"
             ],
             [
              0.6666666666666666,
              "#ed7953"
             ],
             [
              0.7777777777777778,
              "#fb9f3a"
             ],
             [
              0.8888888888888888,
              "#fdca26"
             ],
             [
              1,
              "#f0f921"
             ]
            ],
            "type": "histogram2d"
           }
          ],
          "histogram2dcontour": [
           {
            "colorbar": {
             "outlinewidth": 0,
             "ticks": ""
            },
            "colorscale": [
             [
              0,
              "#0d0887"
             ],
             [
              0.1111111111111111,
              "#46039f"
             ],
             [
              0.2222222222222222,
              "#7201a8"
             ],
             [
              0.3333333333333333,
              "#9c179e"
             ],
             [
              0.4444444444444444,
              "#bd3786"
             ],
             [
              0.5555555555555556,
              "#d8576b"
             ],
             [
              0.6666666666666666,
              "#ed7953"
             ],
             [
              0.7777777777777778,
              "#fb9f3a"
             ],
             [
              0.8888888888888888,
              "#fdca26"
             ],
             [
              1,
              "#f0f921"
             ]
            ],
            "type": "histogram2dcontour"
           }
          ],
          "mesh3d": [
           {
            "colorbar": {
             "outlinewidth": 0,
             "ticks": ""
            },
            "type": "mesh3d"
           }
          ],
          "parcoords": [
           {
            "line": {
             "colorbar": {
              "outlinewidth": 0,
              "ticks": ""
             }
            },
            "type": "parcoords"
           }
          ],
          "pie": [
           {
            "automargin": true,
            "type": "pie"
           }
          ],
          "scatter": [
           {
            "marker": {
             "colorbar": {
              "outlinewidth": 0,
              "ticks": ""
             }
            },
            "type": "scatter"
           }
          ],
          "scatter3d": [
           {
            "line": {
             "colorbar": {
              "outlinewidth": 0,
              "ticks": ""
             }
            },
            "marker": {
             "colorbar": {
              "outlinewidth": 0,
              "ticks": ""
             }
            },
            "type": "scatter3d"
           }
          ],
          "scattercarpet": [
           {
            "marker": {
             "colorbar": {
              "outlinewidth": 0,
              "ticks": ""
             }
            },
            "type": "scattercarpet"
           }
          ],
          "scattergeo": [
           {
            "marker": {
             "colorbar": {
              "outlinewidth": 0,
              "ticks": ""
             }
            },
            "type": "scattergeo"
           }
          ],
          "scattergl": [
           {
            "marker": {
             "colorbar": {
              "outlinewidth": 0,
              "ticks": ""
             }
            },
            "type": "scattergl"
           }
          ],
          "scattermapbox": [
           {
            "marker": {
             "colorbar": {
              "outlinewidth": 0,
              "ticks": ""
             }
            },
            "type": "scattermapbox"
           }
          ],
          "scatterpolar": [
           {
            "marker": {
             "colorbar": {
              "outlinewidth": 0,
              "ticks": ""
             }
            },
            "type": "scatterpolar"
           }
          ],
          "scatterpolargl": [
           {
            "marker": {
             "colorbar": {
              "outlinewidth": 0,
              "ticks": ""
             }
            },
            "type": "scatterpolargl"
           }
          ],
          "scatterternary": [
           {
            "marker": {
             "colorbar": {
              "outlinewidth": 0,
              "ticks": ""
             }
            },
            "type": "scatterternary"
           }
          ],
          "surface": [
           {
            "colorbar": {
             "outlinewidth": 0,
             "ticks": ""
            },
            "colorscale": [
             [
              0,
              "#0d0887"
             ],
             [
              0.1111111111111111,
              "#46039f"
             ],
             [
              0.2222222222222222,
              "#7201a8"
             ],
             [
              0.3333333333333333,
              "#9c179e"
             ],
             [
              0.4444444444444444,
              "#bd3786"
             ],
             [
              0.5555555555555556,
              "#d8576b"
             ],
             [
              0.6666666666666666,
              "#ed7953"
             ],
             [
              0.7777777777777778,
              "#fb9f3a"
             ],
             [
              0.8888888888888888,
              "#fdca26"
             ],
             [
              1,
              "#f0f921"
             ]
            ],
            "type": "surface"
           }
          ],
          "table": [
           {
            "cells": {
             "fill": {
              "color": "#EBF0F8"
             },
             "line": {
              "color": "white"
             }
            },
            "header": {
             "fill": {
              "color": "#C8D4E3"
             },
             "line": {
              "color": "white"
             }
            },
            "type": "table"
           }
          ]
         },
         "layout": {
          "annotationdefaults": {
           "arrowcolor": "#2a3f5f",
           "arrowhead": 0,
           "arrowwidth": 1
          },
          "autotypenumbers": "strict",
          "coloraxis": {
           "colorbar": {
            "outlinewidth": 0,
            "ticks": ""
           }
          },
          "colorscale": {
           "diverging": [
            [
             0,
             "#8e0152"
            ],
            [
             0.1,
             "#c51b7d"
            ],
            [
             0.2,
             "#de77ae"
            ],
            [
             0.3,
             "#f1b6da"
            ],
            [
             0.4,
             "#fde0ef"
            ],
            [
             0.5,
             "#f7f7f7"
            ],
            [
             0.6,
             "#e6f5d0"
            ],
            [
             0.7,
             "#b8e186"
            ],
            [
             0.8,
             "#7fbc41"
            ],
            [
             0.9,
             "#4d9221"
            ],
            [
             1,
             "#276419"
            ]
           ],
           "sequential": [
            [
             0,
             "#0d0887"
            ],
            [
             0.1111111111111111,
             "#46039f"
            ],
            [
             0.2222222222222222,
             "#7201a8"
            ],
            [
             0.3333333333333333,
             "#9c179e"
            ],
            [
             0.4444444444444444,
             "#bd3786"
            ],
            [
             0.5555555555555556,
             "#d8576b"
            ],
            [
             0.6666666666666666,
             "#ed7953"
            ],
            [
             0.7777777777777778,
             "#fb9f3a"
            ],
            [
             0.8888888888888888,
             "#fdca26"
            ],
            [
             1,
             "#f0f921"
            ]
           ],
           "sequentialminus": [
            [
             0,
             "#0d0887"
            ],
            [
             0.1111111111111111,
             "#46039f"
            ],
            [
             0.2222222222222222,
             "#7201a8"
            ],
            [
             0.3333333333333333,
             "#9c179e"
            ],
            [
             0.4444444444444444,
             "#bd3786"
            ],
            [
             0.5555555555555556,
             "#d8576b"
            ],
            [
             0.6666666666666666,
             "#ed7953"
            ],
            [
             0.7777777777777778,
             "#fb9f3a"
            ],
            [
             0.8888888888888888,
             "#fdca26"
            ],
            [
             1,
             "#f0f921"
            ]
           ]
          },
          "colorway": [
           "#636efa",
           "#EF553B",
           "#00cc96",
           "#ab63fa",
           "#FFA15A",
           "#19d3f3",
           "#FF6692",
           "#B6E880",
           "#FF97FF",
           "#FECB52"
          ],
          "font": {
           "color": "#2a3f5f"
          },
          "geo": {
           "bgcolor": "white",
           "lakecolor": "white",
           "landcolor": "#E5ECF6",
           "showlakes": true,
           "showland": true,
           "subunitcolor": "white"
          },
          "hoverlabel": {
           "align": "left"
          },
          "hovermode": "closest",
          "mapbox": {
           "style": "light"
          },
          "paper_bgcolor": "white",
          "plot_bgcolor": "#E5ECF6",
          "polar": {
           "angularaxis": {
            "gridcolor": "white",
            "linecolor": "white",
            "ticks": ""
           },
           "bgcolor": "#E5ECF6",
           "radialaxis": {
            "gridcolor": "white",
            "linecolor": "white",
            "ticks": ""
           }
          },
          "scene": {
           "xaxis": {
            "backgroundcolor": "#E5ECF6",
            "gridcolor": "white",
            "gridwidth": 2,
            "linecolor": "white",
            "showbackground": true,
            "ticks": "",
            "zerolinecolor": "white"
           },
           "yaxis": {
            "backgroundcolor": "#E5ECF6",
            "gridcolor": "white",
            "gridwidth": 2,
            "linecolor": "white",
            "showbackground": true,
            "ticks": "",
            "zerolinecolor": "white"
           },
           "zaxis": {
            "backgroundcolor": "#E5ECF6",
            "gridcolor": "white",
            "gridwidth": 2,
            "linecolor": "white",
            "showbackground": true,
            "ticks": "",
            "zerolinecolor": "white"
           }
          },
          "shapedefaults": {
           "line": {
            "color": "#2a3f5f"
           }
          },
          "ternary": {
           "aaxis": {
            "gridcolor": "white",
            "linecolor": "white",
            "ticks": ""
           },
           "baxis": {
            "gridcolor": "white",
            "linecolor": "white",
            "ticks": ""
           },
           "bgcolor": "#E5ECF6",
           "caxis": {
            "gridcolor": "white",
            "linecolor": "white",
            "ticks": ""
           }
          },
          "title": {
           "x": 0.05
          },
          "xaxis": {
           "automargin": true,
           "gridcolor": "white",
           "linecolor": "white",
           "ticks": "",
           "title": {
            "standoff": 15
           },
           "zerolinecolor": "white",
           "zerolinewidth": 2
          },
          "yaxis": {
           "automargin": true,
           "gridcolor": "white",
           "linecolor": "white",
           "ticks": "",
           "title": {
            "standoff": 15
           },
           "zerolinecolor": "white",
           "zerolinewidth": 2
          }
         }
        },
        "title": {
         "text": "Car Names in south zone"
        },
        "xaxis": {
         "title": {
          "text": "Car Names"
         }
        },
        "yaxis": {
         "title": {
          "text": "Count"
         }
        }
       }
      },
      "text/html": [
       "<div>                            <div id=\"c916e3f6-f992-4491-8484-9c6f6478c168\" class=\"plotly-graph-div\" style=\"height:525px; width:100%;\"></div>            <script type=\"text/javascript\">                require([\"plotly\"], function(Plotly) {                    window.PLOTLYENV=window.PLOTLYENV || {};                                    if (document.getElementById(\"c916e3f6-f992-4491-8484-9c6f6478c168\")) {                    Plotly.newPlot(                        \"c916e3f6-f992-4491-8484-9c6f6478c168\",                        [{\"marker\": {\"color\": \"rgba(255, 255, 125, 0.5)\", \"line\": {\"color\": \"rgb(0,0,0)\", \"width\": 1.5}}, \"type\": \"bar\", \"x\": [\"MARUTI SUZUKI\", \"MAHINDRA &  MAHINDRA\", \"HYUNDAI\", \"TATA MOTORS\", \"FORD\", \"GENERAL MOTORS\", \"TOYOTA\", \"HONDA\", \"SKODA\", \"FIAT\", \"VOLKSWAGEN\", \"RENAULT\", \"NISSAN\", \"MITSUBISHI MOTORS\", \"DAEWOO\", \"HINDUSTAN MOTORS\", \"FORCE\", \"MERCEDES BENZ\", \"BMW\", \"AUDI\", \"SONALIKA\", \"PREMIER\\u00a0AUTOMOBILES\", \"VOLVO\", \"SAN MOTORS\", \"JEEP\", \"LAND ROVER\", \"PORCHE\"], \"y\": [53165, 42795, 33819, 31127, 12754, 11733, 10718, 6035, 2988, 2982, 2973, 1647, 1514, 837, 199, 157, 116, 95, 75, 61, 34, 14, 10, 5, 4, 4, 3]}],                        {\"template\": {\"data\": {\"bar\": [{\"error_x\": {\"color\": \"#2a3f5f\"}, \"error_y\": {\"color\": \"#2a3f5f\"}, \"marker\": {\"line\": {\"color\": \"#E5ECF6\", \"width\": 0.5}}, \"type\": \"bar\"}], \"barpolar\": [{\"marker\": {\"line\": {\"color\": \"#E5ECF6\", \"width\": 0.5}}, \"type\": \"barpolar\"}], \"carpet\": [{\"aaxis\": {\"endlinecolor\": \"#2a3f5f\", \"gridcolor\": \"white\", \"linecolor\": \"white\", \"minorgridcolor\": \"white\", \"startlinecolor\": \"#2a3f5f\"}, \"baxis\": {\"endlinecolor\": \"#2a3f5f\", \"gridcolor\": \"white\", \"linecolor\": \"white\", \"minorgridcolor\": \"white\", \"startlinecolor\": \"#2a3f5f\"}, \"type\": \"carpet\"}], \"choropleth\": [{\"colorbar\": {\"outlinewidth\": 0, \"ticks\": \"\"}, \"type\": \"choropleth\"}], \"contour\": [{\"colorbar\": {\"outlinewidth\": 0, \"ticks\": \"\"}, \"colorscale\": [[0.0, \"#0d0887\"], [0.1111111111111111, \"#46039f\"], [0.2222222222222222, \"#7201a8\"], [0.3333333333333333, \"#9c179e\"], [0.4444444444444444, \"#bd3786\"], [0.5555555555555556, \"#d8576b\"], [0.6666666666666666, \"#ed7953\"], [0.7777777777777778, \"#fb9f3a\"], [0.8888888888888888, \"#fdca26\"], [1.0, \"#f0f921\"]], \"type\": \"contour\"}], \"contourcarpet\": [{\"colorbar\": {\"outlinewidth\": 0, \"ticks\": \"\"}, \"type\": \"contourcarpet\"}], \"heatmap\": [{\"colorbar\": {\"outlinewidth\": 0, \"ticks\": \"\"}, \"colorscale\": [[0.0, \"#0d0887\"], [0.1111111111111111, \"#46039f\"], [0.2222222222222222, \"#7201a8\"], [0.3333333333333333, \"#9c179e\"], [0.4444444444444444, \"#bd3786\"], [0.5555555555555556, \"#d8576b\"], [0.6666666666666666, \"#ed7953\"], [0.7777777777777778, \"#fb9f3a\"], [0.8888888888888888, \"#fdca26\"], [1.0, \"#f0f921\"]], \"type\": \"heatmap\"}], \"heatmapgl\": [{\"colorbar\": {\"outlinewidth\": 0, \"ticks\": \"\"}, \"colorscale\": [[0.0, \"#0d0887\"], [0.1111111111111111, \"#46039f\"], [0.2222222222222222, \"#7201a8\"], [0.3333333333333333, \"#9c179e\"], [0.4444444444444444, \"#bd3786\"], [0.5555555555555556, \"#d8576b\"], [0.6666666666666666, \"#ed7953\"], [0.7777777777777778, \"#fb9f3a\"], [0.8888888888888888, \"#fdca26\"], [1.0, \"#f0f921\"]], \"type\": \"heatmapgl\"}], \"histogram\": [{\"marker\": {\"colorbar\": {\"outlinewidth\": 0, \"ticks\": \"\"}}, \"type\": \"histogram\"}], \"histogram2d\": [{\"colorbar\": {\"outlinewidth\": 0, \"ticks\": \"\"}, \"colorscale\": [[0.0, \"#0d0887\"], [0.1111111111111111, \"#46039f\"], [0.2222222222222222, \"#7201a8\"], [0.3333333333333333, \"#9c179e\"], [0.4444444444444444, \"#bd3786\"], [0.5555555555555556, \"#d8576b\"], [0.6666666666666666, \"#ed7953\"], [0.7777777777777778, \"#fb9f3a\"], [0.8888888888888888, \"#fdca26\"], [1.0, \"#f0f921\"]], \"type\": \"histogram2d\"}], \"histogram2dcontour\": [{\"colorbar\": {\"outlinewidth\": 0, \"ticks\": \"\"}, \"colorscale\": [[0.0, \"#0d0887\"], [0.1111111111111111, \"#46039f\"], [0.2222222222222222, \"#7201a8\"], [0.3333333333333333, \"#9c179e\"], [0.4444444444444444, \"#bd3786\"], [0.5555555555555556, \"#d8576b\"], [0.6666666666666666, \"#ed7953\"], [0.7777777777777778, \"#fb9f3a\"], [0.8888888888888888, \"#fdca26\"], [1.0, \"#f0f921\"]], \"type\": \"histogram2dcontour\"}], \"mesh3d\": [{\"colorbar\": {\"outlinewidth\": 0, \"ticks\": \"\"}, \"type\": \"mesh3d\"}], \"parcoords\": [{\"line\": {\"colorbar\": {\"outlinewidth\": 0, \"ticks\": \"\"}}, \"type\": \"parcoords\"}], \"pie\": [{\"automargin\": true, \"type\": \"pie\"}], \"scatter\": [{\"marker\": {\"colorbar\": {\"outlinewidth\": 0, \"ticks\": \"\"}}, \"type\": \"scatter\"}], \"scatter3d\": [{\"line\": {\"colorbar\": {\"outlinewidth\": 0, \"ticks\": \"\"}}, \"marker\": {\"colorbar\": {\"outlinewidth\": 0, \"ticks\": \"\"}}, \"type\": \"scatter3d\"}], \"scattercarpet\": [{\"marker\": {\"colorbar\": {\"outlinewidth\": 0, \"ticks\": \"\"}}, \"type\": \"scattercarpet\"}], \"scattergeo\": [{\"marker\": {\"colorbar\": {\"outlinewidth\": 0, \"ticks\": \"\"}}, \"type\": \"scattergeo\"}], \"scattergl\": [{\"marker\": {\"colorbar\": {\"outlinewidth\": 0, \"ticks\": \"\"}}, \"type\": \"scattergl\"}], \"scattermapbox\": [{\"marker\": {\"colorbar\": {\"outlinewidth\": 0, \"ticks\": \"\"}}, \"type\": \"scattermapbox\"}], \"scatterpolar\": [{\"marker\": {\"colorbar\": {\"outlinewidth\": 0, \"ticks\": \"\"}}, \"type\": \"scatterpolar\"}], \"scatterpolargl\": [{\"marker\": {\"colorbar\": {\"outlinewidth\": 0, \"ticks\": \"\"}}, \"type\": \"scatterpolargl\"}], \"scatterternary\": [{\"marker\": {\"colorbar\": {\"outlinewidth\": 0, \"ticks\": \"\"}}, \"type\": \"scatterternary\"}], \"surface\": [{\"colorbar\": {\"outlinewidth\": 0, \"ticks\": \"\"}, \"colorscale\": [[0.0, \"#0d0887\"], [0.1111111111111111, \"#46039f\"], [0.2222222222222222, \"#7201a8\"], [0.3333333333333333, \"#9c179e\"], [0.4444444444444444, \"#bd3786\"], [0.5555555555555556, \"#d8576b\"], [0.6666666666666666, \"#ed7953\"], [0.7777777777777778, \"#fb9f3a\"], [0.8888888888888888, \"#fdca26\"], [1.0, \"#f0f921\"]], \"type\": \"surface\"}], \"table\": [{\"cells\": {\"fill\": {\"color\": \"#EBF0F8\"}, \"line\": {\"color\": \"white\"}}, \"header\": {\"fill\": {\"color\": \"#C8D4E3\"}, \"line\": {\"color\": \"white\"}}, \"type\": \"table\"}]}, \"layout\": {\"annotationdefaults\": {\"arrowcolor\": \"#2a3f5f\", \"arrowhead\": 0, \"arrowwidth\": 1}, \"autotypenumbers\": \"strict\", \"coloraxis\": {\"colorbar\": {\"outlinewidth\": 0, \"ticks\": \"\"}}, \"colorscale\": {\"diverging\": [[0, \"#8e0152\"], [0.1, \"#c51b7d\"], [0.2, \"#de77ae\"], [0.3, \"#f1b6da\"], [0.4, \"#fde0ef\"], [0.5, \"#f7f7f7\"], [0.6, \"#e6f5d0\"], [0.7, \"#b8e186\"], [0.8, \"#7fbc41\"], [0.9, \"#4d9221\"], [1, \"#276419\"]], \"sequential\": [[0.0, \"#0d0887\"], [0.1111111111111111, \"#46039f\"], [0.2222222222222222, \"#7201a8\"], [0.3333333333333333, \"#9c179e\"], [0.4444444444444444, \"#bd3786\"], [0.5555555555555556, \"#d8576b\"], [0.6666666666666666, \"#ed7953\"], [0.7777777777777778, \"#fb9f3a\"], [0.8888888888888888, \"#fdca26\"], [1.0, \"#f0f921\"]], \"sequentialminus\": [[0.0, \"#0d0887\"], [0.1111111111111111, \"#46039f\"], [0.2222222222222222, \"#7201a8\"], [0.3333333333333333, \"#9c179e\"], [0.4444444444444444, \"#bd3786\"], [0.5555555555555556, \"#d8576b\"], [0.6666666666666666, \"#ed7953\"], [0.7777777777777778, \"#fb9f3a\"], [0.8888888888888888, \"#fdca26\"], [1.0, \"#f0f921\"]]}, \"colorway\": [\"#636efa\", \"#EF553B\", \"#00cc96\", \"#ab63fa\", \"#FFA15A\", \"#19d3f3\", \"#FF6692\", \"#B6E880\", \"#FF97FF\", \"#FECB52\"], \"font\": {\"color\": \"#2a3f5f\"}, \"geo\": {\"bgcolor\": \"white\", \"lakecolor\": \"white\", \"landcolor\": \"#E5ECF6\", \"showlakes\": true, \"showland\": true, \"subunitcolor\": \"white\"}, \"hoverlabel\": {\"align\": \"left\"}, \"hovermode\": \"closest\", \"mapbox\": {\"style\": \"light\"}, \"paper_bgcolor\": \"white\", \"plot_bgcolor\": \"#E5ECF6\", \"polar\": {\"angularaxis\": {\"gridcolor\": \"white\", \"linecolor\": \"white\", \"ticks\": \"\"}, \"bgcolor\": \"#E5ECF6\", \"radialaxis\": {\"gridcolor\": \"white\", \"linecolor\": \"white\", \"ticks\": \"\"}}, \"scene\": {\"xaxis\": {\"backgroundcolor\": \"#E5ECF6\", \"gridcolor\": \"white\", \"gridwidth\": 2, \"linecolor\": \"white\", \"showbackground\": true, \"ticks\": \"\", \"zerolinecolor\": \"white\"}, \"yaxis\": {\"backgroundcolor\": \"#E5ECF6\", \"gridcolor\": \"white\", \"gridwidth\": 2, \"linecolor\": \"white\", \"showbackground\": true, \"ticks\": \"\", \"zerolinecolor\": \"white\"}, \"zaxis\": {\"backgroundcolor\": \"#E5ECF6\", \"gridcolor\": \"white\", \"gridwidth\": 2, \"linecolor\": \"white\", \"showbackground\": true, \"ticks\": \"\", \"zerolinecolor\": \"white\"}}, \"shapedefaults\": {\"line\": {\"color\": \"#2a3f5f\"}}, \"ternary\": {\"aaxis\": {\"gridcolor\": \"white\", \"linecolor\": \"white\", \"ticks\": \"\"}, \"baxis\": {\"gridcolor\": \"white\", \"linecolor\": \"white\", \"ticks\": \"\"}, \"bgcolor\": \"#E5ECF6\", \"caxis\": {\"gridcolor\": \"white\", \"linecolor\": \"white\", \"ticks\": \"\"}}, \"title\": {\"x\": 0.05}, \"xaxis\": {\"automargin\": true, \"gridcolor\": \"white\", \"linecolor\": \"white\", \"ticks\": \"\", \"title\": {\"standoff\": 15}, \"zerolinecolor\": \"white\", \"zerolinewidth\": 2}, \"yaxis\": {\"automargin\": true, \"gridcolor\": \"white\", \"linecolor\": \"white\", \"ticks\": \"\", \"title\": {\"standoff\": 15}, \"zerolinecolor\": \"white\", \"zerolinewidth\": 2}}}, \"title\": {\"text\": \"Car Names in south zone\"}, \"xaxis\": {\"title\": {\"text\": \"Car Names\"}}, \"yaxis\": {\"title\": {\"text\": \"Count\"}}},                        {\"responsive\": true}                    ).then(function(){\n",
       "                            \n",
       "var gd = document.getElementById('c916e3f6-f992-4491-8484-9c6f6478c168');\n",
       "var x = new MutationObserver(function (mutations, observer) {{\n",
       "        var display = window.getComputedStyle(gd).display;\n",
       "        if (!display || display === 'none') {{\n",
       "            console.log([gd, 'removed!']);\n",
       "            Plotly.purge(gd);\n",
       "            observer.disconnect();\n",
       "        }}\n",
       "}});\n",
       "\n",
       "// Listen for the removal of the full notebook cells\n",
       "var notebookContainer = gd.closest('#notebook-container');\n",
       "if (notebookContainer) {{\n",
       "    x.observe(notebookContainer, {childList: true});\n",
       "}}\n",
       "\n",
       "// Listen for the clearing of the current output cell\n",
       "var outputEl = gd.closest('.output');\n",
       "if (outputEl) {{\n",
       "    x.observe(outputEl, {childList: true});\n",
       "}}\n",
       "\n",
       "                        })                };                });            </script>        </div>"
      ]
     },
     "metadata": {},
     "output_type": "display_data"
    }
   ],
   "source": [
    "#creating trace1\n",
    "trace1 = go.Bar(\n",
    "                x = z2['Car Name'],\n",
    "                y = z2['count'],\n",
    "                marker = dict(color = 'rgba(255, 255, 125, 0.5)',\n",
    "                              line=dict(color='rgb(0,0,0)',width=1.5)))\n",
    "\n",
    "layout = go.Layout(title = 'Car Names in south zone', xaxis = dict(title = 'Car Names'), yaxis = dict(title = 'Count'))\n",
    "\n",
    "fig = go.Figure(data = trace1, layout = layout)\n",
    "iplot(fig)"
   ]
  },
  {
   "cell_type": "markdown",
   "metadata": {},
   "source": [
    "# North Zone"
   ]
  },
  {
   "cell_type": "code",
   "execution_count": 72,
   "metadata": {},
   "outputs": [
    {
     "data": {
      "text/html": [
       "<div>\n",
       "<style scoped>\n",
       "    .dataframe tbody tr th:only-of-type {\n",
       "        vertical-align: middle;\n",
       "    }\n",
       "\n",
       "    .dataframe tbody tr th {\n",
       "        vertical-align: top;\n",
       "    }\n",
       "\n",
       "    .dataframe thead th {\n",
       "        text-align: right;\n",
       "    }\n",
       "</style>\n",
       "<table border=\"1\" class=\"dataframe\">\n",
       "  <thead>\n",
       "    <tr style=\"text-align: right;\">\n",
       "      <th></th>\n",
       "      <th>Car Name</th>\n",
       "      <th>count</th>\n",
       "    </tr>\n",
       "  </thead>\n",
       "  <tbody>\n",
       "    <tr>\n",
       "      <th>0</th>\n",
       "      <td>MARUTI SUZUKI</td>\n",
       "      <td>30731</td>\n",
       "    </tr>\n",
       "    <tr>\n",
       "      <th>1</th>\n",
       "      <td>HYUNDAI</td>\n",
       "      <td>17545</td>\n",
       "    </tr>\n",
       "    <tr>\n",
       "      <th>2</th>\n",
       "      <td>MAHINDRA &amp;  MAHINDRA</td>\n",
       "      <td>11192</td>\n",
       "    </tr>\n",
       "    <tr>\n",
       "      <th>3</th>\n",
       "      <td>TATA MOTORS</td>\n",
       "      <td>5968</td>\n",
       "    </tr>\n",
       "    <tr>\n",
       "      <th>4</th>\n",
       "      <td>GENERAL MOTORS</td>\n",
       "      <td>5001</td>\n",
       "    </tr>\n",
       "  </tbody>\n",
       "</table>\n",
       "</div>"
      ],
      "text/plain": [
       "               Car Name  count\n",
       "0         MARUTI SUZUKI  30731\n",
       "1               HYUNDAI  17545\n",
       "2  MAHINDRA &  MAHINDRA  11192\n",
       "3           TATA MOTORS   5968\n",
       "4        GENERAL MOTORS   5001"
      ]
     },
     "execution_count": 72,
     "metadata": {},
     "output_type": "execute_result"
    }
   ],
   "source": [
    "z3 = pd.DataFrame(north_zone[\"Make\"].value_counts(ascending=False))\n",
    "z3 = z3.rename(columns={'Make':'count'})\n",
    "z3 = z3.reset_index()\n",
    "z3 = z3.rename(columns={'index':'Car Name'})\n",
    "z3.head(5)"
   ]
  },
  {
   "cell_type": "code",
   "execution_count": 73,
   "metadata": {},
   "outputs": [
    {
     "data": {
      "application/vnd.plotly.v1+json": {
       "config": {
        "linkText": "Export to plot.ly",
        "plotlyServerURL": "https://plot.ly",
        "showLink": false
       },
       "data": [
        {
         "marker": {
          "color": "rgba(255, 255, 125, 0.5)",
          "line": {
           "color": "rgb(0,0,0)",
           "width": 1.5
          }
         },
         "type": "bar",
         "x": [
          "MARUTI SUZUKI",
          "HYUNDAI",
          "MAHINDRA &  MAHINDRA",
          "TATA MOTORS",
          "GENERAL MOTORS",
          "TOYOTA",
          "HONDA",
          "FORD",
          "VOLKSWAGEN",
          "SKODA",
          "FIAT",
          "NISSAN",
          "RENAULT",
          "MITSUBISHI MOTORS",
          "BMW",
          "AUDI",
          "DAEWOO",
          "SONALIKA",
          "MERCEDES BENZ",
          "HINDUSTAN MOTORS",
          "FORCE",
          "LAND ROVER",
          "PREMIER AUTOMOBILES",
          "VOLVO",
          "MORRIS",
          "SAN MOTORS"
         ],
         "y": [
          30731,
          17545,
          11192,
          5968,
          5001,
          3013,
          2788,
          2331,
          1111,
          1076,
          808,
          651,
          558,
          249,
          68,
          62,
          49,
          39,
          31,
          25,
          21,
          4,
          2,
          2,
          1,
          1
         ]
        }
       ],
       "layout": {
        "template": {
         "data": {
          "bar": [
           {
            "error_x": {
             "color": "#2a3f5f"
            },
            "error_y": {
             "color": "#2a3f5f"
            },
            "marker": {
             "line": {
              "color": "#E5ECF6",
              "width": 0.5
             }
            },
            "type": "bar"
           }
          ],
          "barpolar": [
           {
            "marker": {
             "line": {
              "color": "#E5ECF6",
              "width": 0.5
             }
            },
            "type": "barpolar"
           }
          ],
          "carpet": [
           {
            "aaxis": {
             "endlinecolor": "#2a3f5f",
             "gridcolor": "white",
             "linecolor": "white",
             "minorgridcolor": "white",
             "startlinecolor": "#2a3f5f"
            },
            "baxis": {
             "endlinecolor": "#2a3f5f",
             "gridcolor": "white",
             "linecolor": "white",
             "minorgridcolor": "white",
             "startlinecolor": "#2a3f5f"
            },
            "type": "carpet"
           }
          ],
          "choropleth": [
           {
            "colorbar": {
             "outlinewidth": 0,
             "ticks": ""
            },
            "type": "choropleth"
           }
          ],
          "contour": [
           {
            "colorbar": {
             "outlinewidth": 0,
             "ticks": ""
            },
            "colorscale": [
             [
              0,
              "#0d0887"
             ],
             [
              0.1111111111111111,
              "#46039f"
             ],
             [
              0.2222222222222222,
              "#7201a8"
             ],
             [
              0.3333333333333333,
              "#9c179e"
             ],
             [
              0.4444444444444444,
              "#bd3786"
             ],
             [
              0.5555555555555556,
              "#d8576b"
             ],
             [
              0.6666666666666666,
              "#ed7953"
             ],
             [
              0.7777777777777778,
              "#fb9f3a"
             ],
             [
              0.8888888888888888,
              "#fdca26"
             ],
             [
              1,
              "#f0f921"
             ]
            ],
            "type": "contour"
           }
          ],
          "contourcarpet": [
           {
            "colorbar": {
             "outlinewidth": 0,
             "ticks": ""
            },
            "type": "contourcarpet"
           }
          ],
          "heatmap": [
           {
            "colorbar": {
             "outlinewidth": 0,
             "ticks": ""
            },
            "colorscale": [
             [
              0,
              "#0d0887"
             ],
             [
              0.1111111111111111,
              "#46039f"
             ],
             [
              0.2222222222222222,
              "#7201a8"
             ],
             [
              0.3333333333333333,
              "#9c179e"
             ],
             [
              0.4444444444444444,
              "#bd3786"
             ],
             [
              0.5555555555555556,
              "#d8576b"
             ],
             [
              0.6666666666666666,
              "#ed7953"
             ],
             [
              0.7777777777777778,
              "#fb9f3a"
             ],
             [
              0.8888888888888888,
              "#fdca26"
             ],
             [
              1,
              "#f0f921"
             ]
            ],
            "type": "heatmap"
           }
          ],
          "heatmapgl": [
           {
            "colorbar": {
             "outlinewidth": 0,
             "ticks": ""
            },
            "colorscale": [
             [
              0,
              "#0d0887"
             ],
             [
              0.1111111111111111,
              "#46039f"
             ],
             [
              0.2222222222222222,
              "#7201a8"
             ],
             [
              0.3333333333333333,
              "#9c179e"
             ],
             [
              0.4444444444444444,
              "#bd3786"
             ],
             [
              0.5555555555555556,
              "#d8576b"
             ],
             [
              0.6666666666666666,
              "#ed7953"
             ],
             [
              0.7777777777777778,
              "#fb9f3a"
             ],
             [
              0.8888888888888888,
              "#fdca26"
             ],
             [
              1,
              "#f0f921"
             ]
            ],
            "type": "heatmapgl"
           }
          ],
          "histogram": [
           {
            "marker": {
             "colorbar": {
              "outlinewidth": 0,
              "ticks": ""
             }
            },
            "type": "histogram"
           }
          ],
          "histogram2d": [
           {
            "colorbar": {
             "outlinewidth": 0,
             "ticks": ""
            },
            "colorscale": [
             [
              0,
              "#0d0887"
             ],
             [
              0.1111111111111111,
              "#46039f"
             ],
             [
              0.2222222222222222,
              "#7201a8"
             ],
             [
              0.3333333333333333,
              "#9c179e"
             ],
             [
              0.4444444444444444,
              "#bd3786"
             ],
             [
              0.5555555555555556,
              "#d8576b"
             ],
             [
              0.6666666666666666,
              "#ed7953"
             ],
             [
              0.7777777777777778,
              "#fb9f3a"
             ],
             [
              0.8888888888888888,
              "#fdca26"
             ],
             [
              1,
              "#f0f921"
             ]
            ],
            "type": "histogram2d"
           }
          ],
          "histogram2dcontour": [
           {
            "colorbar": {
             "outlinewidth": 0,
             "ticks": ""
            },
            "colorscale": [
             [
              0,
              "#0d0887"
             ],
             [
              0.1111111111111111,
              "#46039f"
             ],
             [
              0.2222222222222222,
              "#7201a8"
             ],
             [
              0.3333333333333333,
              "#9c179e"
             ],
             [
              0.4444444444444444,
              "#bd3786"
             ],
             [
              0.5555555555555556,
              "#d8576b"
             ],
             [
              0.6666666666666666,
              "#ed7953"
             ],
             [
              0.7777777777777778,
              "#fb9f3a"
             ],
             [
              0.8888888888888888,
              "#fdca26"
             ],
             [
              1,
              "#f0f921"
             ]
            ],
            "type": "histogram2dcontour"
           }
          ],
          "mesh3d": [
           {
            "colorbar": {
             "outlinewidth": 0,
             "ticks": ""
            },
            "type": "mesh3d"
           }
          ],
          "parcoords": [
           {
            "line": {
             "colorbar": {
              "outlinewidth": 0,
              "ticks": ""
             }
            },
            "type": "parcoords"
           }
          ],
          "pie": [
           {
            "automargin": true,
            "type": "pie"
           }
          ],
          "scatter": [
           {
            "marker": {
             "colorbar": {
              "outlinewidth": 0,
              "ticks": ""
             }
            },
            "type": "scatter"
           }
          ],
          "scatter3d": [
           {
            "line": {
             "colorbar": {
              "outlinewidth": 0,
              "ticks": ""
             }
            },
            "marker": {
             "colorbar": {
              "outlinewidth": 0,
              "ticks": ""
             }
            },
            "type": "scatter3d"
           }
          ],
          "scattercarpet": [
           {
            "marker": {
             "colorbar": {
              "outlinewidth": 0,
              "ticks": ""
             }
            },
            "type": "scattercarpet"
           }
          ],
          "scattergeo": [
           {
            "marker": {
             "colorbar": {
              "outlinewidth": 0,
              "ticks": ""
             }
            },
            "type": "scattergeo"
           }
          ],
          "scattergl": [
           {
            "marker": {
             "colorbar": {
              "outlinewidth": 0,
              "ticks": ""
             }
            },
            "type": "scattergl"
           }
          ],
          "scattermapbox": [
           {
            "marker": {
             "colorbar": {
              "outlinewidth": 0,
              "ticks": ""
             }
            },
            "type": "scattermapbox"
           }
          ],
          "scatterpolar": [
           {
            "marker": {
             "colorbar": {
              "outlinewidth": 0,
              "ticks": ""
             }
            },
            "type": "scatterpolar"
           }
          ],
          "scatterpolargl": [
           {
            "marker": {
             "colorbar": {
              "outlinewidth": 0,
              "ticks": ""
             }
            },
            "type": "scatterpolargl"
           }
          ],
          "scatterternary": [
           {
            "marker": {
             "colorbar": {
              "outlinewidth": 0,
              "ticks": ""
             }
            },
            "type": "scatterternary"
           }
          ],
          "surface": [
           {
            "colorbar": {
             "outlinewidth": 0,
             "ticks": ""
            },
            "colorscale": [
             [
              0,
              "#0d0887"
             ],
             [
              0.1111111111111111,
              "#46039f"
             ],
             [
              0.2222222222222222,
              "#7201a8"
             ],
             [
              0.3333333333333333,
              "#9c179e"
             ],
             [
              0.4444444444444444,
              "#bd3786"
             ],
             [
              0.5555555555555556,
              "#d8576b"
             ],
             [
              0.6666666666666666,
              "#ed7953"
             ],
             [
              0.7777777777777778,
              "#fb9f3a"
             ],
             [
              0.8888888888888888,
              "#fdca26"
             ],
             [
              1,
              "#f0f921"
             ]
            ],
            "type": "surface"
           }
          ],
          "table": [
           {
            "cells": {
             "fill": {
              "color": "#EBF0F8"
             },
             "line": {
              "color": "white"
             }
            },
            "header": {
             "fill": {
              "color": "#C8D4E3"
             },
             "line": {
              "color": "white"
             }
            },
            "type": "table"
           }
          ]
         },
         "layout": {
          "annotationdefaults": {
           "arrowcolor": "#2a3f5f",
           "arrowhead": 0,
           "arrowwidth": 1
          },
          "autotypenumbers": "strict",
          "coloraxis": {
           "colorbar": {
            "outlinewidth": 0,
            "ticks": ""
           }
          },
          "colorscale": {
           "diverging": [
            [
             0,
             "#8e0152"
            ],
            [
             0.1,
             "#c51b7d"
            ],
            [
             0.2,
             "#de77ae"
            ],
            [
             0.3,
             "#f1b6da"
            ],
            [
             0.4,
             "#fde0ef"
            ],
            [
             0.5,
             "#f7f7f7"
            ],
            [
             0.6,
             "#e6f5d0"
            ],
            [
             0.7,
             "#b8e186"
            ],
            [
             0.8,
             "#7fbc41"
            ],
            [
             0.9,
             "#4d9221"
            ],
            [
             1,
             "#276419"
            ]
           ],
           "sequential": [
            [
             0,
             "#0d0887"
            ],
            [
             0.1111111111111111,
             "#46039f"
            ],
            [
             0.2222222222222222,
             "#7201a8"
            ],
            [
             0.3333333333333333,
             "#9c179e"
            ],
            [
             0.4444444444444444,
             "#bd3786"
            ],
            [
             0.5555555555555556,
             "#d8576b"
            ],
            [
             0.6666666666666666,
             "#ed7953"
            ],
            [
             0.7777777777777778,
             "#fb9f3a"
            ],
            [
             0.8888888888888888,
             "#fdca26"
            ],
            [
             1,
             "#f0f921"
            ]
           ],
           "sequentialminus": [
            [
             0,
             "#0d0887"
            ],
            [
             0.1111111111111111,
             "#46039f"
            ],
            [
             0.2222222222222222,
             "#7201a8"
            ],
            [
             0.3333333333333333,
             "#9c179e"
            ],
            [
             0.4444444444444444,
             "#bd3786"
            ],
            [
             0.5555555555555556,
             "#d8576b"
            ],
            [
             0.6666666666666666,
             "#ed7953"
            ],
            [
             0.7777777777777778,
             "#fb9f3a"
            ],
            [
             0.8888888888888888,
             "#fdca26"
            ],
            [
             1,
             "#f0f921"
            ]
           ]
          },
          "colorway": [
           "#636efa",
           "#EF553B",
           "#00cc96",
           "#ab63fa",
           "#FFA15A",
           "#19d3f3",
           "#FF6692",
           "#B6E880",
           "#FF97FF",
           "#FECB52"
          ],
          "font": {
           "color": "#2a3f5f"
          },
          "geo": {
           "bgcolor": "white",
           "lakecolor": "white",
           "landcolor": "#E5ECF6",
           "showlakes": true,
           "showland": true,
           "subunitcolor": "white"
          },
          "hoverlabel": {
           "align": "left"
          },
          "hovermode": "closest",
          "mapbox": {
           "style": "light"
          },
          "paper_bgcolor": "white",
          "plot_bgcolor": "#E5ECF6",
          "polar": {
           "angularaxis": {
            "gridcolor": "white",
            "linecolor": "white",
            "ticks": ""
           },
           "bgcolor": "#E5ECF6",
           "radialaxis": {
            "gridcolor": "white",
            "linecolor": "white",
            "ticks": ""
           }
          },
          "scene": {
           "xaxis": {
            "backgroundcolor": "#E5ECF6",
            "gridcolor": "white",
            "gridwidth": 2,
            "linecolor": "white",
            "showbackground": true,
            "ticks": "",
            "zerolinecolor": "white"
           },
           "yaxis": {
            "backgroundcolor": "#E5ECF6",
            "gridcolor": "white",
            "gridwidth": 2,
            "linecolor": "white",
            "showbackground": true,
            "ticks": "",
            "zerolinecolor": "white"
           },
           "zaxis": {
            "backgroundcolor": "#E5ECF6",
            "gridcolor": "white",
            "gridwidth": 2,
            "linecolor": "white",
            "showbackground": true,
            "ticks": "",
            "zerolinecolor": "white"
           }
          },
          "shapedefaults": {
           "line": {
            "color": "#2a3f5f"
           }
          },
          "ternary": {
           "aaxis": {
            "gridcolor": "white",
            "linecolor": "white",
            "ticks": ""
           },
           "baxis": {
            "gridcolor": "white",
            "linecolor": "white",
            "ticks": ""
           },
           "bgcolor": "#E5ECF6",
           "caxis": {
            "gridcolor": "white",
            "linecolor": "white",
            "ticks": ""
           }
          },
          "title": {
           "x": 0.05
          },
          "xaxis": {
           "automargin": true,
           "gridcolor": "white",
           "linecolor": "white",
           "ticks": "",
           "title": {
            "standoff": 15
           },
           "zerolinecolor": "white",
           "zerolinewidth": 2
          },
          "yaxis": {
           "automargin": true,
           "gridcolor": "white",
           "linecolor": "white",
           "ticks": "",
           "title": {
            "standoff": 15
           },
           "zerolinecolor": "white",
           "zerolinewidth": 2
          }
         }
        },
        "title": {
         "text": "Car Names in north zone"
        },
        "xaxis": {
         "title": {
          "text": "Car Names"
         }
        },
        "yaxis": {
         "title": {
          "text": "Count"
         }
        }
       }
      },
      "text/html": [
       "<div>                            <div id=\"8320904f-2129-41b8-abed-3e2c5ae340ee\" class=\"plotly-graph-div\" style=\"height:525px; width:100%;\"></div>            <script type=\"text/javascript\">                require([\"plotly\"], function(Plotly) {                    window.PLOTLYENV=window.PLOTLYENV || {};                                    if (document.getElementById(\"8320904f-2129-41b8-abed-3e2c5ae340ee\")) {                    Plotly.newPlot(                        \"8320904f-2129-41b8-abed-3e2c5ae340ee\",                        [{\"marker\": {\"color\": \"rgba(255, 255, 125, 0.5)\", \"line\": {\"color\": \"rgb(0,0,0)\", \"width\": 1.5}}, \"type\": \"bar\", \"x\": [\"MARUTI SUZUKI\", \"HYUNDAI\", \"MAHINDRA &  MAHINDRA\", \"TATA MOTORS\", \"GENERAL MOTORS\", \"TOYOTA\", \"HONDA\", \"FORD\", \"VOLKSWAGEN\", \"SKODA\", \"FIAT\", \"NISSAN\", \"RENAULT\", \"MITSUBISHI MOTORS\", \"BMW\", \"AUDI\", \"DAEWOO\", \"SONALIKA\", \"MERCEDES BENZ\", \"HINDUSTAN MOTORS\", \"FORCE\", \"LAND ROVER\", \"PREMIER\\u00a0AUTOMOBILES\", \"VOLVO\", \"MORRIS\", \"SAN MOTORS\"], \"y\": [30731, 17545, 11192, 5968, 5001, 3013, 2788, 2331, 1111, 1076, 808, 651, 558, 249, 68, 62, 49, 39, 31, 25, 21, 4, 2, 2, 1, 1]}],                        {\"template\": {\"data\": {\"bar\": [{\"error_x\": {\"color\": \"#2a3f5f\"}, \"error_y\": {\"color\": \"#2a3f5f\"}, \"marker\": {\"line\": {\"color\": \"#E5ECF6\", \"width\": 0.5}}, \"type\": \"bar\"}], \"barpolar\": [{\"marker\": {\"line\": {\"color\": \"#E5ECF6\", \"width\": 0.5}}, \"type\": \"barpolar\"}], \"carpet\": [{\"aaxis\": {\"endlinecolor\": \"#2a3f5f\", \"gridcolor\": \"white\", \"linecolor\": \"white\", \"minorgridcolor\": \"white\", \"startlinecolor\": \"#2a3f5f\"}, \"baxis\": {\"endlinecolor\": \"#2a3f5f\", \"gridcolor\": \"white\", \"linecolor\": \"white\", \"minorgridcolor\": \"white\", \"startlinecolor\": \"#2a3f5f\"}, \"type\": \"carpet\"}], \"choropleth\": [{\"colorbar\": {\"outlinewidth\": 0, \"ticks\": \"\"}, \"type\": \"choropleth\"}], \"contour\": [{\"colorbar\": {\"outlinewidth\": 0, \"ticks\": \"\"}, \"colorscale\": [[0.0, \"#0d0887\"], [0.1111111111111111, \"#46039f\"], [0.2222222222222222, \"#7201a8\"], [0.3333333333333333, \"#9c179e\"], [0.4444444444444444, \"#bd3786\"], [0.5555555555555556, \"#d8576b\"], [0.6666666666666666, \"#ed7953\"], [0.7777777777777778, \"#fb9f3a\"], [0.8888888888888888, \"#fdca26\"], [1.0, \"#f0f921\"]], \"type\": \"contour\"}], \"contourcarpet\": [{\"colorbar\": {\"outlinewidth\": 0, \"ticks\": \"\"}, \"type\": \"contourcarpet\"}], \"heatmap\": [{\"colorbar\": {\"outlinewidth\": 0, \"ticks\": \"\"}, \"colorscale\": [[0.0, \"#0d0887\"], [0.1111111111111111, \"#46039f\"], [0.2222222222222222, \"#7201a8\"], [0.3333333333333333, \"#9c179e\"], [0.4444444444444444, \"#bd3786\"], [0.5555555555555556, \"#d8576b\"], [0.6666666666666666, \"#ed7953\"], [0.7777777777777778, \"#fb9f3a\"], [0.8888888888888888, \"#fdca26\"], [1.0, \"#f0f921\"]], \"type\": \"heatmap\"}], \"heatmapgl\": [{\"colorbar\": {\"outlinewidth\": 0, \"ticks\": \"\"}, \"colorscale\": [[0.0, \"#0d0887\"], [0.1111111111111111, \"#46039f\"], [0.2222222222222222, \"#7201a8\"], [0.3333333333333333, \"#9c179e\"], [0.4444444444444444, \"#bd3786\"], [0.5555555555555556, \"#d8576b\"], [0.6666666666666666, \"#ed7953\"], [0.7777777777777778, \"#fb9f3a\"], [0.8888888888888888, \"#fdca26\"], [1.0, \"#f0f921\"]], \"type\": \"heatmapgl\"}], \"histogram\": [{\"marker\": {\"colorbar\": {\"outlinewidth\": 0, \"ticks\": \"\"}}, \"type\": \"histogram\"}], \"histogram2d\": [{\"colorbar\": {\"outlinewidth\": 0, \"ticks\": \"\"}, \"colorscale\": [[0.0, \"#0d0887\"], [0.1111111111111111, \"#46039f\"], [0.2222222222222222, \"#7201a8\"], [0.3333333333333333, \"#9c179e\"], [0.4444444444444444, \"#bd3786\"], [0.5555555555555556, \"#d8576b\"], [0.6666666666666666, \"#ed7953\"], [0.7777777777777778, \"#fb9f3a\"], [0.8888888888888888, \"#fdca26\"], [1.0, \"#f0f921\"]], \"type\": \"histogram2d\"}], \"histogram2dcontour\": [{\"colorbar\": {\"outlinewidth\": 0, \"ticks\": \"\"}, \"colorscale\": [[0.0, \"#0d0887\"], [0.1111111111111111, \"#46039f\"], [0.2222222222222222, \"#7201a8\"], [0.3333333333333333, \"#9c179e\"], [0.4444444444444444, \"#bd3786\"], [0.5555555555555556, \"#d8576b\"], [0.6666666666666666, \"#ed7953\"], [0.7777777777777778, \"#fb9f3a\"], [0.8888888888888888, \"#fdca26\"], [1.0, \"#f0f921\"]], \"type\": \"histogram2dcontour\"}], \"mesh3d\": [{\"colorbar\": {\"outlinewidth\": 0, \"ticks\": \"\"}, \"type\": \"mesh3d\"}], \"parcoords\": [{\"line\": {\"colorbar\": {\"outlinewidth\": 0, \"ticks\": \"\"}}, \"type\": \"parcoords\"}], \"pie\": [{\"automargin\": true, \"type\": \"pie\"}], \"scatter\": [{\"marker\": {\"colorbar\": {\"outlinewidth\": 0, \"ticks\": \"\"}}, \"type\": \"scatter\"}], \"scatter3d\": [{\"line\": {\"colorbar\": {\"outlinewidth\": 0, \"ticks\": \"\"}}, \"marker\": {\"colorbar\": {\"outlinewidth\": 0, \"ticks\": \"\"}}, \"type\": \"scatter3d\"}], \"scattercarpet\": [{\"marker\": {\"colorbar\": {\"outlinewidth\": 0, \"ticks\": \"\"}}, \"type\": \"scattercarpet\"}], \"scattergeo\": [{\"marker\": {\"colorbar\": {\"outlinewidth\": 0, \"ticks\": \"\"}}, \"type\": \"scattergeo\"}], \"scattergl\": [{\"marker\": {\"colorbar\": {\"outlinewidth\": 0, \"ticks\": \"\"}}, \"type\": \"scattergl\"}], \"scattermapbox\": [{\"marker\": {\"colorbar\": {\"outlinewidth\": 0, \"ticks\": \"\"}}, \"type\": \"scattermapbox\"}], \"scatterpolar\": [{\"marker\": {\"colorbar\": {\"outlinewidth\": 0, \"ticks\": \"\"}}, \"type\": \"scatterpolar\"}], \"scatterpolargl\": [{\"marker\": {\"colorbar\": {\"outlinewidth\": 0, \"ticks\": \"\"}}, \"type\": \"scatterpolargl\"}], \"scatterternary\": [{\"marker\": {\"colorbar\": {\"outlinewidth\": 0, \"ticks\": \"\"}}, \"type\": \"scatterternary\"}], \"surface\": [{\"colorbar\": {\"outlinewidth\": 0, \"ticks\": \"\"}, \"colorscale\": [[0.0, \"#0d0887\"], [0.1111111111111111, \"#46039f\"], [0.2222222222222222, \"#7201a8\"], [0.3333333333333333, \"#9c179e\"], [0.4444444444444444, \"#bd3786\"], [0.5555555555555556, \"#d8576b\"], [0.6666666666666666, \"#ed7953\"], [0.7777777777777778, \"#fb9f3a\"], [0.8888888888888888, \"#fdca26\"], [1.0, \"#f0f921\"]], \"type\": \"surface\"}], \"table\": [{\"cells\": {\"fill\": {\"color\": \"#EBF0F8\"}, \"line\": {\"color\": \"white\"}}, \"header\": {\"fill\": {\"color\": \"#C8D4E3\"}, \"line\": {\"color\": \"white\"}}, \"type\": \"table\"}]}, \"layout\": {\"annotationdefaults\": {\"arrowcolor\": \"#2a3f5f\", \"arrowhead\": 0, \"arrowwidth\": 1}, \"autotypenumbers\": \"strict\", \"coloraxis\": {\"colorbar\": {\"outlinewidth\": 0, \"ticks\": \"\"}}, \"colorscale\": {\"diverging\": [[0, \"#8e0152\"], [0.1, \"#c51b7d\"], [0.2, \"#de77ae\"], [0.3, \"#f1b6da\"], [0.4, \"#fde0ef\"], [0.5, \"#f7f7f7\"], [0.6, \"#e6f5d0\"], [0.7, \"#b8e186\"], [0.8, \"#7fbc41\"], [0.9, \"#4d9221\"], [1, \"#276419\"]], \"sequential\": [[0.0, \"#0d0887\"], [0.1111111111111111, \"#46039f\"], [0.2222222222222222, \"#7201a8\"], [0.3333333333333333, \"#9c179e\"], [0.4444444444444444, \"#bd3786\"], [0.5555555555555556, \"#d8576b\"], [0.6666666666666666, \"#ed7953\"], [0.7777777777777778, \"#fb9f3a\"], [0.8888888888888888, \"#fdca26\"], [1.0, \"#f0f921\"]], \"sequentialminus\": [[0.0, \"#0d0887\"], [0.1111111111111111, \"#46039f\"], [0.2222222222222222, \"#7201a8\"], [0.3333333333333333, \"#9c179e\"], [0.4444444444444444, \"#bd3786\"], [0.5555555555555556, \"#d8576b\"], [0.6666666666666666, \"#ed7953\"], [0.7777777777777778, \"#fb9f3a\"], [0.8888888888888888, \"#fdca26\"], [1.0, \"#f0f921\"]]}, \"colorway\": [\"#636efa\", \"#EF553B\", \"#00cc96\", \"#ab63fa\", \"#FFA15A\", \"#19d3f3\", \"#FF6692\", \"#B6E880\", \"#FF97FF\", \"#FECB52\"], \"font\": {\"color\": \"#2a3f5f\"}, \"geo\": {\"bgcolor\": \"white\", \"lakecolor\": \"white\", \"landcolor\": \"#E5ECF6\", \"showlakes\": true, \"showland\": true, \"subunitcolor\": \"white\"}, \"hoverlabel\": {\"align\": \"left\"}, \"hovermode\": \"closest\", \"mapbox\": {\"style\": \"light\"}, \"paper_bgcolor\": \"white\", \"plot_bgcolor\": \"#E5ECF6\", \"polar\": {\"angularaxis\": {\"gridcolor\": \"white\", \"linecolor\": \"white\", \"ticks\": \"\"}, \"bgcolor\": \"#E5ECF6\", \"radialaxis\": {\"gridcolor\": \"white\", \"linecolor\": \"white\", \"ticks\": \"\"}}, \"scene\": {\"xaxis\": {\"backgroundcolor\": \"#E5ECF6\", \"gridcolor\": \"white\", \"gridwidth\": 2, \"linecolor\": \"white\", \"showbackground\": true, \"ticks\": \"\", \"zerolinecolor\": \"white\"}, \"yaxis\": {\"backgroundcolor\": \"#E5ECF6\", \"gridcolor\": \"white\", \"gridwidth\": 2, \"linecolor\": \"white\", \"showbackground\": true, \"ticks\": \"\", \"zerolinecolor\": \"white\"}, \"zaxis\": {\"backgroundcolor\": \"#E5ECF6\", \"gridcolor\": \"white\", \"gridwidth\": 2, \"linecolor\": \"white\", \"showbackground\": true, \"ticks\": \"\", \"zerolinecolor\": \"white\"}}, \"shapedefaults\": {\"line\": {\"color\": \"#2a3f5f\"}}, \"ternary\": {\"aaxis\": {\"gridcolor\": \"white\", \"linecolor\": \"white\", \"ticks\": \"\"}, \"baxis\": {\"gridcolor\": \"white\", \"linecolor\": \"white\", \"ticks\": \"\"}, \"bgcolor\": \"#E5ECF6\", \"caxis\": {\"gridcolor\": \"white\", \"linecolor\": \"white\", \"ticks\": \"\"}}, \"title\": {\"x\": 0.05}, \"xaxis\": {\"automargin\": true, \"gridcolor\": \"white\", \"linecolor\": \"white\", \"ticks\": \"\", \"title\": {\"standoff\": 15}, \"zerolinecolor\": \"white\", \"zerolinewidth\": 2}, \"yaxis\": {\"automargin\": true, \"gridcolor\": \"white\", \"linecolor\": \"white\", \"ticks\": \"\", \"title\": {\"standoff\": 15}, \"zerolinecolor\": \"white\", \"zerolinewidth\": 2}}}, \"title\": {\"text\": \"Car Names in north zone\"}, \"xaxis\": {\"title\": {\"text\": \"Car Names\"}}, \"yaxis\": {\"title\": {\"text\": \"Count\"}}},                        {\"responsive\": true}                    ).then(function(){\n",
       "                            \n",
       "var gd = document.getElementById('8320904f-2129-41b8-abed-3e2c5ae340ee');\n",
       "var x = new MutationObserver(function (mutations, observer) {{\n",
       "        var display = window.getComputedStyle(gd).display;\n",
       "        if (!display || display === 'none') {{\n",
       "            console.log([gd, 'removed!']);\n",
       "            Plotly.purge(gd);\n",
       "            observer.disconnect();\n",
       "        }}\n",
       "}});\n",
       "\n",
       "// Listen for the removal of the full notebook cells\n",
       "var notebookContainer = gd.closest('#notebook-container');\n",
       "if (notebookContainer) {{\n",
       "    x.observe(notebookContainer, {childList: true});\n",
       "}}\n",
       "\n",
       "// Listen for the clearing of the current output cell\n",
       "var outputEl = gd.closest('.output');\n",
       "if (outputEl) {{\n",
       "    x.observe(outputEl, {childList: true});\n",
       "}}\n",
       "\n",
       "                        })                };                });            </script>        </div>"
      ]
     },
     "metadata": {},
     "output_type": "display_data"
    }
   ],
   "source": [
    "#creating trace1\n",
    "trace1 = go.Bar(\n",
    "                x = z3['Car Name'],\n",
    "                y = z3['count'],\n",
    "                marker = dict(color = 'rgba(255, 255, 125, 0.5)',\n",
    "                              line=dict(color='rgb(0,0,0)',width=1.5)))\n",
    "\n",
    "layout = go.Layout(title = 'Car Names in north zone', xaxis = dict(title = 'Car Names'), yaxis = dict(title = 'Count'))\n",
    "\n",
    "fig = go.Figure(data = trace1, layout = layout)\n",
    "iplot(fig)"
   ]
  },
  {
   "cell_type": "markdown",
   "metadata": {},
   "source": [
    "# East Zone"
   ]
  },
  {
   "cell_type": "code",
   "execution_count": 74,
   "metadata": {},
   "outputs": [
    {
     "data": {
      "text/html": [
       "<div>\n",
       "<style scoped>\n",
       "    .dataframe tbody tr th:only-of-type {\n",
       "        vertical-align: middle;\n",
       "    }\n",
       "\n",
       "    .dataframe tbody tr th {\n",
       "        vertical-align: top;\n",
       "    }\n",
       "\n",
       "    .dataframe thead th {\n",
       "        text-align: right;\n",
       "    }\n",
       "</style>\n",
       "<table border=\"1\" class=\"dataframe\">\n",
       "  <thead>\n",
       "    <tr style=\"text-align: right;\">\n",
       "      <th></th>\n",
       "      <th>Car Name</th>\n",
       "      <th>count</th>\n",
       "    </tr>\n",
       "  </thead>\n",
       "  <tbody>\n",
       "    <tr>\n",
       "      <th>0</th>\n",
       "      <td>MAHINDRA &amp;  MAHINDRA</td>\n",
       "      <td>2715</td>\n",
       "    </tr>\n",
       "    <tr>\n",
       "      <th>1</th>\n",
       "      <td>MARUTI SUZUKI</td>\n",
       "      <td>1724</td>\n",
       "    </tr>\n",
       "    <tr>\n",
       "      <th>2</th>\n",
       "      <td>TATA MOTORS</td>\n",
       "      <td>1194</td>\n",
       "    </tr>\n",
       "    <tr>\n",
       "      <th>3</th>\n",
       "      <td>HYUNDAI</td>\n",
       "      <td>695</td>\n",
       "    </tr>\n",
       "    <tr>\n",
       "      <th>4</th>\n",
       "      <td>GENERAL MOTORS</td>\n",
       "      <td>474</td>\n",
       "    </tr>\n",
       "  </tbody>\n",
       "</table>\n",
       "</div>"
      ],
      "text/plain": [
       "               Car Name  count\n",
       "0  MAHINDRA &  MAHINDRA   2715\n",
       "1         MARUTI SUZUKI   1724\n",
       "2           TATA MOTORS   1194\n",
       "3               HYUNDAI    695\n",
       "4        GENERAL MOTORS    474"
      ]
     },
     "execution_count": 74,
     "metadata": {},
     "output_type": "execute_result"
    }
   ],
   "source": [
    "z4 = pd.DataFrame(east_zone[\"Make\"].value_counts(ascending=False))\n",
    "z4 = z4.rename(columns={'Make':'count'})\n",
    "z4 = z4.reset_index()\n",
    "z4 = z4.rename(columns={'index':'Car Name'})\n",
    "z4.head(5)"
   ]
  },
  {
   "cell_type": "code",
   "execution_count": 75,
   "metadata": {},
   "outputs": [
    {
     "data": {
      "application/vnd.plotly.v1+json": {
       "config": {
        "linkText": "Export to plot.ly",
        "plotlyServerURL": "https://plot.ly",
        "showLink": false
       },
       "data": [
        {
         "marker": {
          "color": "rgba(255, 255, 125, 0.5)",
          "line": {
           "color": "rgb(0,0,0)",
           "width": 1.5
          }
         },
         "type": "bar",
         "x": [
          "MAHINDRA &  MAHINDRA",
          "MARUTI SUZUKI",
          "TATA MOTORS",
          "HYUNDAI",
          "GENERAL MOTORS",
          "FORD",
          "TOYOTA",
          "HONDA",
          "RENAULT",
          "SKODA",
          "FIAT",
          "NISSAN",
          "VOLKSWAGEN",
          "MITSUBISHI MOTORS",
          "HINDUSTAN MOTORS",
          "SONALIKA",
          "FORCE",
          "JEEP",
          "BMW",
          "AUDI",
          "PORCHE",
          "DAEWOO"
         ],
         "y": [
          2715,
          1724,
          1194,
          695,
          474,
          168,
          136,
          105,
          29,
          26,
          26,
          25,
          14,
          8,
          5,
          5,
          4,
          2,
          2,
          1,
          1,
          1
         ]
        }
       ],
       "layout": {
        "template": {
         "data": {
          "bar": [
           {
            "error_x": {
             "color": "#2a3f5f"
            },
            "error_y": {
             "color": "#2a3f5f"
            },
            "marker": {
             "line": {
              "color": "#E5ECF6",
              "width": 0.5
             }
            },
            "type": "bar"
           }
          ],
          "barpolar": [
           {
            "marker": {
             "line": {
              "color": "#E5ECF6",
              "width": 0.5
             }
            },
            "type": "barpolar"
           }
          ],
          "carpet": [
           {
            "aaxis": {
             "endlinecolor": "#2a3f5f",
             "gridcolor": "white",
             "linecolor": "white",
             "minorgridcolor": "white",
             "startlinecolor": "#2a3f5f"
            },
            "baxis": {
             "endlinecolor": "#2a3f5f",
             "gridcolor": "white",
             "linecolor": "white",
             "minorgridcolor": "white",
             "startlinecolor": "#2a3f5f"
            },
            "type": "carpet"
           }
          ],
          "choropleth": [
           {
            "colorbar": {
             "outlinewidth": 0,
             "ticks": ""
            },
            "type": "choropleth"
           }
          ],
          "contour": [
           {
            "colorbar": {
             "outlinewidth": 0,
             "ticks": ""
            },
            "colorscale": [
             [
              0,
              "#0d0887"
             ],
             [
              0.1111111111111111,
              "#46039f"
             ],
             [
              0.2222222222222222,
              "#7201a8"
             ],
             [
              0.3333333333333333,
              "#9c179e"
             ],
             [
              0.4444444444444444,
              "#bd3786"
             ],
             [
              0.5555555555555556,
              "#d8576b"
             ],
             [
              0.6666666666666666,
              "#ed7953"
             ],
             [
              0.7777777777777778,
              "#fb9f3a"
             ],
             [
              0.8888888888888888,
              "#fdca26"
             ],
             [
              1,
              "#f0f921"
             ]
            ],
            "type": "contour"
           }
          ],
          "contourcarpet": [
           {
            "colorbar": {
             "outlinewidth": 0,
             "ticks": ""
            },
            "type": "contourcarpet"
           }
          ],
          "heatmap": [
           {
            "colorbar": {
             "outlinewidth": 0,
             "ticks": ""
            },
            "colorscale": [
             [
              0,
              "#0d0887"
             ],
             [
              0.1111111111111111,
              "#46039f"
             ],
             [
              0.2222222222222222,
              "#7201a8"
             ],
             [
              0.3333333333333333,
              "#9c179e"
             ],
             [
              0.4444444444444444,
              "#bd3786"
             ],
             [
              0.5555555555555556,
              "#d8576b"
             ],
             [
              0.6666666666666666,
              "#ed7953"
             ],
             [
              0.7777777777777778,
              "#fb9f3a"
             ],
             [
              0.8888888888888888,
              "#fdca26"
             ],
             [
              1,
              "#f0f921"
             ]
            ],
            "type": "heatmap"
           }
          ],
          "heatmapgl": [
           {
            "colorbar": {
             "outlinewidth": 0,
             "ticks": ""
            },
            "colorscale": [
             [
              0,
              "#0d0887"
             ],
             [
              0.1111111111111111,
              "#46039f"
             ],
             [
              0.2222222222222222,
              "#7201a8"
             ],
             [
              0.3333333333333333,
              "#9c179e"
             ],
             [
              0.4444444444444444,
              "#bd3786"
             ],
             [
              0.5555555555555556,
              "#d8576b"
             ],
             [
              0.6666666666666666,
              "#ed7953"
             ],
             [
              0.7777777777777778,
              "#fb9f3a"
             ],
             [
              0.8888888888888888,
              "#fdca26"
             ],
             [
              1,
              "#f0f921"
             ]
            ],
            "type": "heatmapgl"
           }
          ],
          "histogram": [
           {
            "marker": {
             "colorbar": {
              "outlinewidth": 0,
              "ticks": ""
             }
            },
            "type": "histogram"
           }
          ],
          "histogram2d": [
           {
            "colorbar": {
             "outlinewidth": 0,
             "ticks": ""
            },
            "colorscale": [
             [
              0,
              "#0d0887"
             ],
             [
              0.1111111111111111,
              "#46039f"
             ],
             [
              0.2222222222222222,
              "#7201a8"
             ],
             [
              0.3333333333333333,
              "#9c179e"
             ],
             [
              0.4444444444444444,
              "#bd3786"
             ],
             [
              0.5555555555555556,
              "#d8576b"
             ],
             [
              0.6666666666666666,
              "#ed7953"
             ],
             [
              0.7777777777777778,
              "#fb9f3a"
             ],
             [
              0.8888888888888888,
              "#fdca26"
             ],
             [
              1,
              "#f0f921"
             ]
            ],
            "type": "histogram2d"
           }
          ],
          "histogram2dcontour": [
           {
            "colorbar": {
             "outlinewidth": 0,
             "ticks": ""
            },
            "colorscale": [
             [
              0,
              "#0d0887"
             ],
             [
              0.1111111111111111,
              "#46039f"
             ],
             [
              0.2222222222222222,
              "#7201a8"
             ],
             [
              0.3333333333333333,
              "#9c179e"
             ],
             [
              0.4444444444444444,
              "#bd3786"
             ],
             [
              0.5555555555555556,
              "#d8576b"
             ],
             [
              0.6666666666666666,
              "#ed7953"
             ],
             [
              0.7777777777777778,
              "#fb9f3a"
             ],
             [
              0.8888888888888888,
              "#fdca26"
             ],
             [
              1,
              "#f0f921"
             ]
            ],
            "type": "histogram2dcontour"
           }
          ],
          "mesh3d": [
           {
            "colorbar": {
             "outlinewidth": 0,
             "ticks": ""
            },
            "type": "mesh3d"
           }
          ],
          "parcoords": [
           {
            "line": {
             "colorbar": {
              "outlinewidth": 0,
              "ticks": ""
             }
            },
            "type": "parcoords"
           }
          ],
          "pie": [
           {
            "automargin": true,
            "type": "pie"
           }
          ],
          "scatter": [
           {
            "marker": {
             "colorbar": {
              "outlinewidth": 0,
              "ticks": ""
             }
            },
            "type": "scatter"
           }
          ],
          "scatter3d": [
           {
            "line": {
             "colorbar": {
              "outlinewidth": 0,
              "ticks": ""
             }
            },
            "marker": {
             "colorbar": {
              "outlinewidth": 0,
              "ticks": ""
             }
            },
            "type": "scatter3d"
           }
          ],
          "scattercarpet": [
           {
            "marker": {
             "colorbar": {
              "outlinewidth": 0,
              "ticks": ""
             }
            },
            "type": "scattercarpet"
           }
          ],
          "scattergeo": [
           {
            "marker": {
             "colorbar": {
              "outlinewidth": 0,
              "ticks": ""
             }
            },
            "type": "scattergeo"
           }
          ],
          "scattergl": [
           {
            "marker": {
             "colorbar": {
              "outlinewidth": 0,
              "ticks": ""
             }
            },
            "type": "scattergl"
           }
          ],
          "scattermapbox": [
           {
            "marker": {
             "colorbar": {
              "outlinewidth": 0,
              "ticks": ""
             }
            },
            "type": "scattermapbox"
           }
          ],
          "scatterpolar": [
           {
            "marker": {
             "colorbar": {
              "outlinewidth": 0,
              "ticks": ""
             }
            },
            "type": "scatterpolar"
           }
          ],
          "scatterpolargl": [
           {
            "marker": {
             "colorbar": {
              "outlinewidth": 0,
              "ticks": ""
             }
            },
            "type": "scatterpolargl"
           }
          ],
          "scatterternary": [
           {
            "marker": {
             "colorbar": {
              "outlinewidth": 0,
              "ticks": ""
             }
            },
            "type": "scatterternary"
           }
          ],
          "surface": [
           {
            "colorbar": {
             "outlinewidth": 0,
             "ticks": ""
            },
            "colorscale": [
             [
              0,
              "#0d0887"
             ],
             [
              0.1111111111111111,
              "#46039f"
             ],
             [
              0.2222222222222222,
              "#7201a8"
             ],
             [
              0.3333333333333333,
              "#9c179e"
             ],
             [
              0.4444444444444444,
              "#bd3786"
             ],
             [
              0.5555555555555556,
              "#d8576b"
             ],
             [
              0.6666666666666666,
              "#ed7953"
             ],
             [
              0.7777777777777778,
              "#fb9f3a"
             ],
             [
              0.8888888888888888,
              "#fdca26"
             ],
             [
              1,
              "#f0f921"
             ]
            ],
            "type": "surface"
           }
          ],
          "table": [
           {
            "cells": {
             "fill": {
              "color": "#EBF0F8"
             },
             "line": {
              "color": "white"
             }
            },
            "header": {
             "fill": {
              "color": "#C8D4E3"
             },
             "line": {
              "color": "white"
             }
            },
            "type": "table"
           }
          ]
         },
         "layout": {
          "annotationdefaults": {
           "arrowcolor": "#2a3f5f",
           "arrowhead": 0,
           "arrowwidth": 1
          },
          "autotypenumbers": "strict",
          "coloraxis": {
           "colorbar": {
            "outlinewidth": 0,
            "ticks": ""
           }
          },
          "colorscale": {
           "diverging": [
            [
             0,
             "#8e0152"
            ],
            [
             0.1,
             "#c51b7d"
            ],
            [
             0.2,
             "#de77ae"
            ],
            [
             0.3,
             "#f1b6da"
            ],
            [
             0.4,
             "#fde0ef"
            ],
            [
             0.5,
             "#f7f7f7"
            ],
            [
             0.6,
             "#e6f5d0"
            ],
            [
             0.7,
             "#b8e186"
            ],
            [
             0.8,
             "#7fbc41"
            ],
            [
             0.9,
             "#4d9221"
            ],
            [
             1,
             "#276419"
            ]
           ],
           "sequential": [
            [
             0,
             "#0d0887"
            ],
            [
             0.1111111111111111,
             "#46039f"
            ],
            [
             0.2222222222222222,
             "#7201a8"
            ],
            [
             0.3333333333333333,
             "#9c179e"
            ],
            [
             0.4444444444444444,
             "#bd3786"
            ],
            [
             0.5555555555555556,
             "#d8576b"
            ],
            [
             0.6666666666666666,
             "#ed7953"
            ],
            [
             0.7777777777777778,
             "#fb9f3a"
            ],
            [
             0.8888888888888888,
             "#fdca26"
            ],
            [
             1,
             "#f0f921"
            ]
           ],
           "sequentialminus": [
            [
             0,
             "#0d0887"
            ],
            [
             0.1111111111111111,
             "#46039f"
            ],
            [
             0.2222222222222222,
             "#7201a8"
            ],
            [
             0.3333333333333333,
             "#9c179e"
            ],
            [
             0.4444444444444444,
             "#bd3786"
            ],
            [
             0.5555555555555556,
             "#d8576b"
            ],
            [
             0.6666666666666666,
             "#ed7953"
            ],
            [
             0.7777777777777778,
             "#fb9f3a"
            ],
            [
             0.8888888888888888,
             "#fdca26"
            ],
            [
             1,
             "#f0f921"
            ]
           ]
          },
          "colorway": [
           "#636efa",
           "#EF553B",
           "#00cc96",
           "#ab63fa",
           "#FFA15A",
           "#19d3f3",
           "#FF6692",
           "#B6E880",
           "#FF97FF",
           "#FECB52"
          ],
          "font": {
           "color": "#2a3f5f"
          },
          "geo": {
           "bgcolor": "white",
           "lakecolor": "white",
           "landcolor": "#E5ECF6",
           "showlakes": true,
           "showland": true,
           "subunitcolor": "white"
          },
          "hoverlabel": {
           "align": "left"
          },
          "hovermode": "closest",
          "mapbox": {
           "style": "light"
          },
          "paper_bgcolor": "white",
          "plot_bgcolor": "#E5ECF6",
          "polar": {
           "angularaxis": {
            "gridcolor": "white",
            "linecolor": "white",
            "ticks": ""
           },
           "bgcolor": "#E5ECF6",
           "radialaxis": {
            "gridcolor": "white",
            "linecolor": "white",
            "ticks": ""
           }
          },
          "scene": {
           "xaxis": {
            "backgroundcolor": "#E5ECF6",
            "gridcolor": "white",
            "gridwidth": 2,
            "linecolor": "white",
            "showbackground": true,
            "ticks": "",
            "zerolinecolor": "white"
           },
           "yaxis": {
            "backgroundcolor": "#E5ECF6",
            "gridcolor": "white",
            "gridwidth": 2,
            "linecolor": "white",
            "showbackground": true,
            "ticks": "",
            "zerolinecolor": "white"
           },
           "zaxis": {
            "backgroundcolor": "#E5ECF6",
            "gridcolor": "white",
            "gridwidth": 2,
            "linecolor": "white",
            "showbackground": true,
            "ticks": "",
            "zerolinecolor": "white"
           }
          },
          "shapedefaults": {
           "line": {
            "color": "#2a3f5f"
           }
          },
          "ternary": {
           "aaxis": {
            "gridcolor": "white",
            "linecolor": "white",
            "ticks": ""
           },
           "baxis": {
            "gridcolor": "white",
            "linecolor": "white",
            "ticks": ""
           },
           "bgcolor": "#E5ECF6",
           "caxis": {
            "gridcolor": "white",
            "linecolor": "white",
            "ticks": ""
           }
          },
          "title": {
           "x": 0.05
          },
          "xaxis": {
           "automargin": true,
           "gridcolor": "white",
           "linecolor": "white",
           "ticks": "",
           "title": {
            "standoff": 15
           },
           "zerolinecolor": "white",
           "zerolinewidth": 2
          },
          "yaxis": {
           "automargin": true,
           "gridcolor": "white",
           "linecolor": "white",
           "ticks": "",
           "title": {
            "standoff": 15
           },
           "zerolinecolor": "white",
           "zerolinewidth": 2
          }
         }
        },
        "title": {
         "text": "Car Names in east zone"
        },
        "xaxis": {
         "title": {
          "text": "Car Names"
         }
        },
        "yaxis": {
         "title": {
          "text": "Count"
         }
        }
       }
      },
      "text/html": [
       "<div>                            <div id=\"01069708-2e71-41ba-9f10-e7490fc84e07\" class=\"plotly-graph-div\" style=\"height:525px; width:100%;\"></div>            <script type=\"text/javascript\">                require([\"plotly\"], function(Plotly) {                    window.PLOTLYENV=window.PLOTLYENV || {};                                    if (document.getElementById(\"01069708-2e71-41ba-9f10-e7490fc84e07\")) {                    Plotly.newPlot(                        \"01069708-2e71-41ba-9f10-e7490fc84e07\",                        [{\"marker\": {\"color\": \"rgba(255, 255, 125, 0.5)\", \"line\": {\"color\": \"rgb(0,0,0)\", \"width\": 1.5}}, \"type\": \"bar\", \"x\": [\"MAHINDRA &  MAHINDRA\", \"MARUTI SUZUKI\", \"TATA MOTORS\", \"HYUNDAI\", \"GENERAL MOTORS\", \"FORD\", \"TOYOTA\", \"HONDA\", \"RENAULT\", \"SKODA\", \"FIAT\", \"NISSAN\", \"VOLKSWAGEN\", \"MITSUBISHI MOTORS\", \"HINDUSTAN MOTORS\", \"SONALIKA\", \"FORCE\", \"JEEP\", \"BMW\", \"AUDI\", \"PORCHE\", \"DAEWOO\"], \"y\": [2715, 1724, 1194, 695, 474, 168, 136, 105, 29, 26, 26, 25, 14, 8, 5, 5, 4, 2, 2, 1, 1, 1]}],                        {\"template\": {\"data\": {\"bar\": [{\"error_x\": {\"color\": \"#2a3f5f\"}, \"error_y\": {\"color\": \"#2a3f5f\"}, \"marker\": {\"line\": {\"color\": \"#E5ECF6\", \"width\": 0.5}}, \"type\": \"bar\"}], \"barpolar\": [{\"marker\": {\"line\": {\"color\": \"#E5ECF6\", \"width\": 0.5}}, \"type\": \"barpolar\"}], \"carpet\": [{\"aaxis\": {\"endlinecolor\": \"#2a3f5f\", \"gridcolor\": \"white\", \"linecolor\": \"white\", \"minorgridcolor\": \"white\", \"startlinecolor\": \"#2a3f5f\"}, \"baxis\": {\"endlinecolor\": \"#2a3f5f\", \"gridcolor\": \"white\", \"linecolor\": \"white\", \"minorgridcolor\": \"white\", \"startlinecolor\": \"#2a3f5f\"}, \"type\": \"carpet\"}], \"choropleth\": [{\"colorbar\": {\"outlinewidth\": 0, \"ticks\": \"\"}, \"type\": \"choropleth\"}], \"contour\": [{\"colorbar\": {\"outlinewidth\": 0, \"ticks\": \"\"}, \"colorscale\": [[0.0, \"#0d0887\"], [0.1111111111111111, \"#46039f\"], [0.2222222222222222, \"#7201a8\"], [0.3333333333333333, \"#9c179e\"], [0.4444444444444444, \"#bd3786\"], [0.5555555555555556, \"#d8576b\"], [0.6666666666666666, \"#ed7953\"], [0.7777777777777778, \"#fb9f3a\"], [0.8888888888888888, \"#fdca26\"], [1.0, \"#f0f921\"]], \"type\": \"contour\"}], \"contourcarpet\": [{\"colorbar\": {\"outlinewidth\": 0, \"ticks\": \"\"}, \"type\": \"contourcarpet\"}], \"heatmap\": [{\"colorbar\": {\"outlinewidth\": 0, \"ticks\": \"\"}, \"colorscale\": [[0.0, \"#0d0887\"], [0.1111111111111111, \"#46039f\"], [0.2222222222222222, \"#7201a8\"], [0.3333333333333333, \"#9c179e\"], [0.4444444444444444, \"#bd3786\"], [0.5555555555555556, \"#d8576b\"], [0.6666666666666666, \"#ed7953\"], [0.7777777777777778, \"#fb9f3a\"], [0.8888888888888888, \"#fdca26\"], [1.0, \"#f0f921\"]], \"type\": \"heatmap\"}], \"heatmapgl\": [{\"colorbar\": {\"outlinewidth\": 0, \"ticks\": \"\"}, \"colorscale\": [[0.0, \"#0d0887\"], [0.1111111111111111, \"#46039f\"], [0.2222222222222222, \"#7201a8\"], [0.3333333333333333, \"#9c179e\"], [0.4444444444444444, \"#bd3786\"], [0.5555555555555556, \"#d8576b\"], [0.6666666666666666, \"#ed7953\"], [0.7777777777777778, \"#fb9f3a\"], [0.8888888888888888, \"#fdca26\"], [1.0, \"#f0f921\"]], \"type\": \"heatmapgl\"}], \"histogram\": [{\"marker\": {\"colorbar\": {\"outlinewidth\": 0, \"ticks\": \"\"}}, \"type\": \"histogram\"}], \"histogram2d\": [{\"colorbar\": {\"outlinewidth\": 0, \"ticks\": \"\"}, \"colorscale\": [[0.0, \"#0d0887\"], [0.1111111111111111, \"#46039f\"], [0.2222222222222222, \"#7201a8\"], [0.3333333333333333, \"#9c179e\"], [0.4444444444444444, \"#bd3786\"], [0.5555555555555556, \"#d8576b\"], [0.6666666666666666, \"#ed7953\"], [0.7777777777777778, \"#fb9f3a\"], [0.8888888888888888, \"#fdca26\"], [1.0, \"#f0f921\"]], \"type\": \"histogram2d\"}], \"histogram2dcontour\": [{\"colorbar\": {\"outlinewidth\": 0, \"ticks\": \"\"}, \"colorscale\": [[0.0, \"#0d0887\"], [0.1111111111111111, \"#46039f\"], [0.2222222222222222, \"#7201a8\"], [0.3333333333333333, \"#9c179e\"], [0.4444444444444444, \"#bd3786\"], [0.5555555555555556, \"#d8576b\"], [0.6666666666666666, \"#ed7953\"], [0.7777777777777778, \"#fb9f3a\"], [0.8888888888888888, \"#fdca26\"], [1.0, \"#f0f921\"]], \"type\": \"histogram2dcontour\"}], \"mesh3d\": [{\"colorbar\": {\"outlinewidth\": 0, \"ticks\": \"\"}, \"type\": \"mesh3d\"}], \"parcoords\": [{\"line\": {\"colorbar\": {\"outlinewidth\": 0, \"ticks\": \"\"}}, \"type\": \"parcoords\"}], \"pie\": [{\"automargin\": true, \"type\": \"pie\"}], \"scatter\": [{\"marker\": {\"colorbar\": {\"outlinewidth\": 0, \"ticks\": \"\"}}, \"type\": \"scatter\"}], \"scatter3d\": [{\"line\": {\"colorbar\": {\"outlinewidth\": 0, \"ticks\": \"\"}}, \"marker\": {\"colorbar\": {\"outlinewidth\": 0, \"ticks\": \"\"}}, \"type\": \"scatter3d\"}], \"scattercarpet\": [{\"marker\": {\"colorbar\": {\"outlinewidth\": 0, \"ticks\": \"\"}}, \"type\": \"scattercarpet\"}], \"scattergeo\": [{\"marker\": {\"colorbar\": {\"outlinewidth\": 0, \"ticks\": \"\"}}, \"type\": \"scattergeo\"}], \"scattergl\": [{\"marker\": {\"colorbar\": {\"outlinewidth\": 0, \"ticks\": \"\"}}, \"type\": \"scattergl\"}], \"scattermapbox\": [{\"marker\": {\"colorbar\": {\"outlinewidth\": 0, \"ticks\": \"\"}}, \"type\": \"scattermapbox\"}], \"scatterpolar\": [{\"marker\": {\"colorbar\": {\"outlinewidth\": 0, \"ticks\": \"\"}}, \"type\": \"scatterpolar\"}], \"scatterpolargl\": [{\"marker\": {\"colorbar\": {\"outlinewidth\": 0, \"ticks\": \"\"}}, \"type\": \"scatterpolargl\"}], \"scatterternary\": [{\"marker\": {\"colorbar\": {\"outlinewidth\": 0, \"ticks\": \"\"}}, \"type\": \"scatterternary\"}], \"surface\": [{\"colorbar\": {\"outlinewidth\": 0, \"ticks\": \"\"}, \"colorscale\": [[0.0, \"#0d0887\"], [0.1111111111111111, \"#46039f\"], [0.2222222222222222, \"#7201a8\"], [0.3333333333333333, \"#9c179e\"], [0.4444444444444444, \"#bd3786\"], [0.5555555555555556, \"#d8576b\"], [0.6666666666666666, \"#ed7953\"], [0.7777777777777778, \"#fb9f3a\"], [0.8888888888888888, \"#fdca26\"], [1.0, \"#f0f921\"]], \"type\": \"surface\"}], \"table\": [{\"cells\": {\"fill\": {\"color\": \"#EBF0F8\"}, \"line\": {\"color\": \"white\"}}, \"header\": {\"fill\": {\"color\": \"#C8D4E3\"}, \"line\": {\"color\": \"white\"}}, \"type\": \"table\"}]}, \"layout\": {\"annotationdefaults\": {\"arrowcolor\": \"#2a3f5f\", \"arrowhead\": 0, \"arrowwidth\": 1}, \"autotypenumbers\": \"strict\", \"coloraxis\": {\"colorbar\": {\"outlinewidth\": 0, \"ticks\": \"\"}}, \"colorscale\": {\"diverging\": [[0, \"#8e0152\"], [0.1, \"#c51b7d\"], [0.2, \"#de77ae\"], [0.3, \"#f1b6da\"], [0.4, \"#fde0ef\"], [0.5, \"#f7f7f7\"], [0.6, \"#e6f5d0\"], [0.7, \"#b8e186\"], [0.8, \"#7fbc41\"], [0.9, \"#4d9221\"], [1, \"#276419\"]], \"sequential\": [[0.0, \"#0d0887\"], [0.1111111111111111, \"#46039f\"], [0.2222222222222222, \"#7201a8\"], [0.3333333333333333, \"#9c179e\"], [0.4444444444444444, \"#bd3786\"], [0.5555555555555556, \"#d8576b\"], [0.6666666666666666, \"#ed7953\"], [0.7777777777777778, \"#fb9f3a\"], [0.8888888888888888, \"#fdca26\"], [1.0, \"#f0f921\"]], \"sequentialminus\": [[0.0, \"#0d0887\"], [0.1111111111111111, \"#46039f\"], [0.2222222222222222, \"#7201a8\"], [0.3333333333333333, \"#9c179e\"], [0.4444444444444444, \"#bd3786\"], [0.5555555555555556, \"#d8576b\"], [0.6666666666666666, \"#ed7953\"], [0.7777777777777778, \"#fb9f3a\"], [0.8888888888888888, \"#fdca26\"], [1.0, \"#f0f921\"]]}, \"colorway\": [\"#636efa\", \"#EF553B\", \"#00cc96\", \"#ab63fa\", \"#FFA15A\", \"#19d3f3\", \"#FF6692\", \"#B6E880\", \"#FF97FF\", \"#FECB52\"], \"font\": {\"color\": \"#2a3f5f\"}, \"geo\": {\"bgcolor\": \"white\", \"lakecolor\": \"white\", \"landcolor\": \"#E5ECF6\", \"showlakes\": true, \"showland\": true, \"subunitcolor\": \"white\"}, \"hoverlabel\": {\"align\": \"left\"}, \"hovermode\": \"closest\", \"mapbox\": {\"style\": \"light\"}, \"paper_bgcolor\": \"white\", \"plot_bgcolor\": \"#E5ECF6\", \"polar\": {\"angularaxis\": {\"gridcolor\": \"white\", \"linecolor\": \"white\", \"ticks\": \"\"}, \"bgcolor\": \"#E5ECF6\", \"radialaxis\": {\"gridcolor\": \"white\", \"linecolor\": \"white\", \"ticks\": \"\"}}, \"scene\": {\"xaxis\": {\"backgroundcolor\": \"#E5ECF6\", \"gridcolor\": \"white\", \"gridwidth\": 2, \"linecolor\": \"white\", \"showbackground\": true, \"ticks\": \"\", \"zerolinecolor\": \"white\"}, \"yaxis\": {\"backgroundcolor\": \"#E5ECF6\", \"gridcolor\": \"white\", \"gridwidth\": 2, \"linecolor\": \"white\", \"showbackground\": true, \"ticks\": \"\", \"zerolinecolor\": \"white\"}, \"zaxis\": {\"backgroundcolor\": \"#E5ECF6\", \"gridcolor\": \"white\", \"gridwidth\": 2, \"linecolor\": \"white\", \"showbackground\": true, \"ticks\": \"\", \"zerolinecolor\": \"white\"}}, \"shapedefaults\": {\"line\": {\"color\": \"#2a3f5f\"}}, \"ternary\": {\"aaxis\": {\"gridcolor\": \"white\", \"linecolor\": \"white\", \"ticks\": \"\"}, \"baxis\": {\"gridcolor\": \"white\", \"linecolor\": \"white\", \"ticks\": \"\"}, \"bgcolor\": \"#E5ECF6\", \"caxis\": {\"gridcolor\": \"white\", \"linecolor\": \"white\", \"ticks\": \"\"}}, \"title\": {\"x\": 0.05}, \"xaxis\": {\"automargin\": true, \"gridcolor\": \"white\", \"linecolor\": \"white\", \"ticks\": \"\", \"title\": {\"standoff\": 15}, \"zerolinecolor\": \"white\", \"zerolinewidth\": 2}, \"yaxis\": {\"automargin\": true, \"gridcolor\": \"white\", \"linecolor\": \"white\", \"ticks\": \"\", \"title\": {\"standoff\": 15}, \"zerolinecolor\": \"white\", \"zerolinewidth\": 2}}}, \"title\": {\"text\": \"Car Names in east zone\"}, \"xaxis\": {\"title\": {\"text\": \"Car Names\"}}, \"yaxis\": {\"title\": {\"text\": \"Count\"}}},                        {\"responsive\": true}                    ).then(function(){\n",
       "                            \n",
       "var gd = document.getElementById('01069708-2e71-41ba-9f10-e7490fc84e07');\n",
       "var x = new MutationObserver(function (mutations, observer) {{\n",
       "        var display = window.getComputedStyle(gd).display;\n",
       "        if (!display || display === 'none') {{\n",
       "            console.log([gd, 'removed!']);\n",
       "            Plotly.purge(gd);\n",
       "            observer.disconnect();\n",
       "        }}\n",
       "}});\n",
       "\n",
       "// Listen for the removal of the full notebook cells\n",
       "var notebookContainer = gd.closest('#notebook-container');\n",
       "if (notebookContainer) {{\n",
       "    x.observe(notebookContainer, {childList: true});\n",
       "}}\n",
       "\n",
       "// Listen for the clearing of the current output cell\n",
       "var outputEl = gd.closest('.output');\n",
       "if (outputEl) {{\n",
       "    x.observe(outputEl, {childList: true});\n",
       "}}\n",
       "\n",
       "                        })                };                });            </script>        </div>"
      ]
     },
     "metadata": {},
     "output_type": "display_data"
    }
   ],
   "source": [
    "#creating trace1\n",
    "trace1 = go.Bar(\n",
    "                x = z4['Car Name'],\n",
    "                y = z4['count'],\n",
    "                marker = dict(color = 'rgba(255, 255, 125, 0.5)',\n",
    "                              line=dict(color='rgb(0,0,0)',width=1.5)))\n",
    "\n",
    "layout = go.Layout(title = 'Car Names in east zone', xaxis = dict(title = 'Car Names'), yaxis = dict(title = 'Count'))\n",
    "\n",
    "fig = go.Figure(data = trace1, layout = layout)\n",
    "iplot(fig)"
   ]
  },
  {
   "cell_type": "markdown",
   "metadata": {},
   "source": [
    "# Central Zone"
   ]
  },
  {
   "cell_type": "code",
   "execution_count": 76,
   "metadata": {},
   "outputs": [
    {
     "data": {
      "text/html": [
       "<div>\n",
       "<style scoped>\n",
       "    .dataframe tbody tr th:only-of-type {\n",
       "        vertical-align: middle;\n",
       "    }\n",
       "\n",
       "    .dataframe tbody tr th {\n",
       "        vertical-align: top;\n",
       "    }\n",
       "\n",
       "    .dataframe thead th {\n",
       "        text-align: right;\n",
       "    }\n",
       "</style>\n",
       "<table border=\"1\" class=\"dataframe\">\n",
       "  <thead>\n",
       "    <tr style=\"text-align: right;\">\n",
       "      <th></th>\n",
       "      <th>Car Name</th>\n",
       "      <th>count</th>\n",
       "    </tr>\n",
       "  </thead>\n",
       "  <tbody>\n",
       "    <tr>\n",
       "      <th>0</th>\n",
       "      <td>MARUTI SUZUKI</td>\n",
       "      <td>4360</td>\n",
       "    </tr>\n",
       "    <tr>\n",
       "      <th>1</th>\n",
       "      <td>TATA MOTORS</td>\n",
       "      <td>2736</td>\n",
       "    </tr>\n",
       "    <tr>\n",
       "      <th>2</th>\n",
       "      <td>MAHINDRA &amp;  MAHINDRA</td>\n",
       "      <td>2274</td>\n",
       "    </tr>\n",
       "    <tr>\n",
       "      <th>3</th>\n",
       "      <td>HYUNDAI</td>\n",
       "      <td>2000</td>\n",
       "    </tr>\n",
       "    <tr>\n",
       "      <th>4</th>\n",
       "      <td>GENERAL MOTORS</td>\n",
       "      <td>594</td>\n",
       "    </tr>\n",
       "  </tbody>\n",
       "</table>\n",
       "</div>"
      ],
      "text/plain": [
       "               Car Name  count\n",
       "0         MARUTI SUZUKI   4360\n",
       "1           TATA MOTORS   2736\n",
       "2  MAHINDRA &  MAHINDRA   2274\n",
       "3               HYUNDAI   2000\n",
       "4        GENERAL MOTORS    594"
      ]
     },
     "execution_count": 76,
     "metadata": {},
     "output_type": "execute_result"
    }
   ],
   "source": [
    "z5 = pd.DataFrame(central_zone[\"Make\"].value_counts(ascending=False))\n",
    "z5 = z5.rename(columns={'Make':'count'})\n",
    "z5 = z5.reset_index()\n",
    "z5 = z5.rename(columns={'index':'Car Name'})\n",
    "z5.head(5)"
   ]
  },
  {
   "cell_type": "code",
   "execution_count": 77,
   "metadata": {},
   "outputs": [
    {
     "data": {
      "application/vnd.plotly.v1+json": {
       "config": {
        "linkText": "Export to plot.ly",
        "plotlyServerURL": "https://plot.ly",
        "showLink": false
       },
       "data": [
        {
         "marker": {
          "color": "rgba(280, 280, 155, 0.5)",
          "line": {
           "color": "rgb(0,0,0)",
           "width": 1.5
          }
         },
         "type": "bar",
         "x": [
          "MARUTI SUZUKI",
          "TATA MOTORS",
          "MAHINDRA &  MAHINDRA",
          "HYUNDAI",
          "GENERAL MOTORS",
          "FORD",
          "TOYOTA",
          "HONDA",
          "RENAULT",
          "VOLKSWAGEN",
          "SKODA",
          "FIAT",
          "NISSAN",
          "MITSUBISHI MOTORS",
          "AUDI",
          "FORCE",
          "DAEWOO",
          "MERCEDES BENZ",
          "BMW",
          "PREMIER AUTOMOBILES",
          "HINDUSTAN MOTORS",
          "LAND ROVER",
          "VOLVO"
         ],
         "y": [
          4360,
          2736,
          2274,
          2000,
          594,
          471,
          430,
          391,
          254,
          248,
          185,
          84,
          72,
          38,
          22,
          14,
          11,
          11,
          10,
          6,
          5,
          2,
          2
         ]
        }
       ],
       "layout": {
        "template": {
         "data": {
          "bar": [
           {
            "error_x": {
             "color": "#2a3f5f"
            },
            "error_y": {
             "color": "#2a3f5f"
            },
            "marker": {
             "line": {
              "color": "#E5ECF6",
              "width": 0.5
             }
            },
            "type": "bar"
           }
          ],
          "barpolar": [
           {
            "marker": {
             "line": {
              "color": "#E5ECF6",
              "width": 0.5
             }
            },
            "type": "barpolar"
           }
          ],
          "carpet": [
           {
            "aaxis": {
             "endlinecolor": "#2a3f5f",
             "gridcolor": "white",
             "linecolor": "white",
             "minorgridcolor": "white",
             "startlinecolor": "#2a3f5f"
            },
            "baxis": {
             "endlinecolor": "#2a3f5f",
             "gridcolor": "white",
             "linecolor": "white",
             "minorgridcolor": "white",
             "startlinecolor": "#2a3f5f"
            },
            "type": "carpet"
           }
          ],
          "choropleth": [
           {
            "colorbar": {
             "outlinewidth": 0,
             "ticks": ""
            },
            "type": "choropleth"
           }
          ],
          "contour": [
           {
            "colorbar": {
             "outlinewidth": 0,
             "ticks": ""
            },
            "colorscale": [
             [
              0,
              "#0d0887"
             ],
             [
              0.1111111111111111,
              "#46039f"
             ],
             [
              0.2222222222222222,
              "#7201a8"
             ],
             [
              0.3333333333333333,
              "#9c179e"
             ],
             [
              0.4444444444444444,
              "#bd3786"
             ],
             [
              0.5555555555555556,
              "#d8576b"
             ],
             [
              0.6666666666666666,
              "#ed7953"
             ],
             [
              0.7777777777777778,
              "#fb9f3a"
             ],
             [
              0.8888888888888888,
              "#fdca26"
             ],
             [
              1,
              "#f0f921"
             ]
            ],
            "type": "contour"
           }
          ],
          "contourcarpet": [
           {
            "colorbar": {
             "outlinewidth": 0,
             "ticks": ""
            },
            "type": "contourcarpet"
           }
          ],
          "heatmap": [
           {
            "colorbar": {
             "outlinewidth": 0,
             "ticks": ""
            },
            "colorscale": [
             [
              0,
              "#0d0887"
             ],
             [
              0.1111111111111111,
              "#46039f"
             ],
             [
              0.2222222222222222,
              "#7201a8"
             ],
             [
              0.3333333333333333,
              "#9c179e"
             ],
             [
              0.4444444444444444,
              "#bd3786"
             ],
             [
              0.5555555555555556,
              "#d8576b"
             ],
             [
              0.6666666666666666,
              "#ed7953"
             ],
             [
              0.7777777777777778,
              "#fb9f3a"
             ],
             [
              0.8888888888888888,
              "#fdca26"
             ],
             [
              1,
              "#f0f921"
             ]
            ],
            "type": "heatmap"
           }
          ],
          "heatmapgl": [
           {
            "colorbar": {
             "outlinewidth": 0,
             "ticks": ""
            },
            "colorscale": [
             [
              0,
              "#0d0887"
             ],
             [
              0.1111111111111111,
              "#46039f"
             ],
             [
              0.2222222222222222,
              "#7201a8"
             ],
             [
              0.3333333333333333,
              "#9c179e"
             ],
             [
              0.4444444444444444,
              "#bd3786"
             ],
             [
              0.5555555555555556,
              "#d8576b"
             ],
             [
              0.6666666666666666,
              "#ed7953"
             ],
             [
              0.7777777777777778,
              "#fb9f3a"
             ],
             [
              0.8888888888888888,
              "#fdca26"
             ],
             [
              1,
              "#f0f921"
             ]
            ],
            "type": "heatmapgl"
           }
          ],
          "histogram": [
           {
            "marker": {
             "colorbar": {
              "outlinewidth": 0,
              "ticks": ""
             }
            },
            "type": "histogram"
           }
          ],
          "histogram2d": [
           {
            "colorbar": {
             "outlinewidth": 0,
             "ticks": ""
            },
            "colorscale": [
             [
              0,
              "#0d0887"
             ],
             [
              0.1111111111111111,
              "#46039f"
             ],
             [
              0.2222222222222222,
              "#7201a8"
             ],
             [
              0.3333333333333333,
              "#9c179e"
             ],
             [
              0.4444444444444444,
              "#bd3786"
             ],
             [
              0.5555555555555556,
              "#d8576b"
             ],
             [
              0.6666666666666666,
              "#ed7953"
             ],
             [
              0.7777777777777778,
              "#fb9f3a"
             ],
             [
              0.8888888888888888,
              "#fdca26"
             ],
             [
              1,
              "#f0f921"
             ]
            ],
            "type": "histogram2d"
           }
          ],
          "histogram2dcontour": [
           {
            "colorbar": {
             "outlinewidth": 0,
             "ticks": ""
            },
            "colorscale": [
             [
              0,
              "#0d0887"
             ],
             [
              0.1111111111111111,
              "#46039f"
             ],
             [
              0.2222222222222222,
              "#7201a8"
             ],
             [
              0.3333333333333333,
              "#9c179e"
             ],
             [
              0.4444444444444444,
              "#bd3786"
             ],
             [
              0.5555555555555556,
              "#d8576b"
             ],
             [
              0.6666666666666666,
              "#ed7953"
             ],
             [
              0.7777777777777778,
              "#fb9f3a"
             ],
             [
              0.8888888888888888,
              "#fdca26"
             ],
             [
              1,
              "#f0f921"
             ]
            ],
            "type": "histogram2dcontour"
           }
          ],
          "mesh3d": [
           {
            "colorbar": {
             "outlinewidth": 0,
             "ticks": ""
            },
            "type": "mesh3d"
           }
          ],
          "parcoords": [
           {
            "line": {
             "colorbar": {
              "outlinewidth": 0,
              "ticks": ""
             }
            },
            "type": "parcoords"
           }
          ],
          "pie": [
           {
            "automargin": true,
            "type": "pie"
           }
          ],
          "scatter": [
           {
            "marker": {
             "colorbar": {
              "outlinewidth": 0,
              "ticks": ""
             }
            },
            "type": "scatter"
           }
          ],
          "scatter3d": [
           {
            "line": {
             "colorbar": {
              "outlinewidth": 0,
              "ticks": ""
             }
            },
            "marker": {
             "colorbar": {
              "outlinewidth": 0,
              "ticks": ""
             }
            },
            "type": "scatter3d"
           }
          ],
          "scattercarpet": [
           {
            "marker": {
             "colorbar": {
              "outlinewidth": 0,
              "ticks": ""
             }
            },
            "type": "scattercarpet"
           }
          ],
          "scattergeo": [
           {
            "marker": {
             "colorbar": {
              "outlinewidth": 0,
              "ticks": ""
             }
            },
            "type": "scattergeo"
           }
          ],
          "scattergl": [
           {
            "marker": {
             "colorbar": {
              "outlinewidth": 0,
              "ticks": ""
             }
            },
            "type": "scattergl"
           }
          ],
          "scattermapbox": [
           {
            "marker": {
             "colorbar": {
              "outlinewidth": 0,
              "ticks": ""
             }
            },
            "type": "scattermapbox"
           }
          ],
          "scatterpolar": [
           {
            "marker": {
             "colorbar": {
              "outlinewidth": 0,
              "ticks": ""
             }
            },
            "type": "scatterpolar"
           }
          ],
          "scatterpolargl": [
           {
            "marker": {
             "colorbar": {
              "outlinewidth": 0,
              "ticks": ""
             }
            },
            "type": "scatterpolargl"
           }
          ],
          "scatterternary": [
           {
            "marker": {
             "colorbar": {
              "outlinewidth": 0,
              "ticks": ""
             }
            },
            "type": "scatterternary"
           }
          ],
          "surface": [
           {
            "colorbar": {
             "outlinewidth": 0,
             "ticks": ""
            },
            "colorscale": [
             [
              0,
              "#0d0887"
             ],
             [
              0.1111111111111111,
              "#46039f"
             ],
             [
              0.2222222222222222,
              "#7201a8"
             ],
             [
              0.3333333333333333,
              "#9c179e"
             ],
             [
              0.4444444444444444,
              "#bd3786"
             ],
             [
              0.5555555555555556,
              "#d8576b"
             ],
             [
              0.6666666666666666,
              "#ed7953"
             ],
             [
              0.7777777777777778,
              "#fb9f3a"
             ],
             [
              0.8888888888888888,
              "#fdca26"
             ],
             [
              1,
              "#f0f921"
             ]
            ],
            "type": "surface"
           }
          ],
          "table": [
           {
            "cells": {
             "fill": {
              "color": "#EBF0F8"
             },
             "line": {
              "color": "white"
             }
            },
            "header": {
             "fill": {
              "color": "#C8D4E3"
             },
             "line": {
              "color": "white"
             }
            },
            "type": "table"
           }
          ]
         },
         "layout": {
          "annotationdefaults": {
           "arrowcolor": "#2a3f5f",
           "arrowhead": 0,
           "arrowwidth": 1
          },
          "autotypenumbers": "strict",
          "coloraxis": {
           "colorbar": {
            "outlinewidth": 0,
            "ticks": ""
           }
          },
          "colorscale": {
           "diverging": [
            [
             0,
             "#8e0152"
            ],
            [
             0.1,
             "#c51b7d"
            ],
            [
             0.2,
             "#de77ae"
            ],
            [
             0.3,
             "#f1b6da"
            ],
            [
             0.4,
             "#fde0ef"
            ],
            [
             0.5,
             "#f7f7f7"
            ],
            [
             0.6,
             "#e6f5d0"
            ],
            [
             0.7,
             "#b8e186"
            ],
            [
             0.8,
             "#7fbc41"
            ],
            [
             0.9,
             "#4d9221"
            ],
            [
             1,
             "#276419"
            ]
           ],
           "sequential": [
            [
             0,
             "#0d0887"
            ],
            [
             0.1111111111111111,
             "#46039f"
            ],
            [
             0.2222222222222222,
             "#7201a8"
            ],
            [
             0.3333333333333333,
             "#9c179e"
            ],
            [
             0.4444444444444444,
             "#bd3786"
            ],
            [
             0.5555555555555556,
             "#d8576b"
            ],
            [
             0.6666666666666666,
             "#ed7953"
            ],
            [
             0.7777777777777778,
             "#fb9f3a"
            ],
            [
             0.8888888888888888,
             "#fdca26"
            ],
            [
             1,
             "#f0f921"
            ]
           ],
           "sequentialminus": [
            [
             0,
             "#0d0887"
            ],
            [
             0.1111111111111111,
             "#46039f"
            ],
            [
             0.2222222222222222,
             "#7201a8"
            ],
            [
             0.3333333333333333,
             "#9c179e"
            ],
            [
             0.4444444444444444,
             "#bd3786"
            ],
            [
             0.5555555555555556,
             "#d8576b"
            ],
            [
             0.6666666666666666,
             "#ed7953"
            ],
            [
             0.7777777777777778,
             "#fb9f3a"
            ],
            [
             0.8888888888888888,
             "#fdca26"
            ],
            [
             1,
             "#f0f921"
            ]
           ]
          },
          "colorway": [
           "#636efa",
           "#EF553B",
           "#00cc96",
           "#ab63fa",
           "#FFA15A",
           "#19d3f3",
           "#FF6692",
           "#B6E880",
           "#FF97FF",
           "#FECB52"
          ],
          "font": {
           "color": "#2a3f5f"
          },
          "geo": {
           "bgcolor": "white",
           "lakecolor": "white",
           "landcolor": "#E5ECF6",
           "showlakes": true,
           "showland": true,
           "subunitcolor": "white"
          },
          "hoverlabel": {
           "align": "left"
          },
          "hovermode": "closest",
          "mapbox": {
           "style": "light"
          },
          "paper_bgcolor": "white",
          "plot_bgcolor": "#E5ECF6",
          "polar": {
           "angularaxis": {
            "gridcolor": "white",
            "linecolor": "white",
            "ticks": ""
           },
           "bgcolor": "#E5ECF6",
           "radialaxis": {
            "gridcolor": "white",
            "linecolor": "white",
            "ticks": ""
           }
          },
          "scene": {
           "xaxis": {
            "backgroundcolor": "#E5ECF6",
            "gridcolor": "white",
            "gridwidth": 2,
            "linecolor": "white",
            "showbackground": true,
            "ticks": "",
            "zerolinecolor": "white"
           },
           "yaxis": {
            "backgroundcolor": "#E5ECF6",
            "gridcolor": "white",
            "gridwidth": 2,
            "linecolor": "white",
            "showbackground": true,
            "ticks": "",
            "zerolinecolor": "white"
           },
           "zaxis": {
            "backgroundcolor": "#E5ECF6",
            "gridcolor": "white",
            "gridwidth": 2,
            "linecolor": "white",
            "showbackground": true,
            "ticks": "",
            "zerolinecolor": "white"
           }
          },
          "shapedefaults": {
           "line": {
            "color": "#2a3f5f"
           }
          },
          "ternary": {
           "aaxis": {
            "gridcolor": "white",
            "linecolor": "white",
            "ticks": ""
           },
           "baxis": {
            "gridcolor": "white",
            "linecolor": "white",
            "ticks": ""
           },
           "bgcolor": "#E5ECF6",
           "caxis": {
            "gridcolor": "white",
            "linecolor": "white",
            "ticks": ""
           }
          },
          "title": {
           "x": 0.05
          },
          "xaxis": {
           "automargin": true,
           "gridcolor": "white",
           "linecolor": "white",
           "ticks": "",
           "title": {
            "standoff": 15
           },
           "zerolinecolor": "white",
           "zerolinewidth": 2
          },
          "yaxis": {
           "automargin": true,
           "gridcolor": "white",
           "linecolor": "white",
           "ticks": "",
           "title": {
            "standoff": 15
           },
           "zerolinecolor": "white",
           "zerolinewidth": 2
          }
         }
        },
        "title": {
         "text": "Car Names in central zone"
        },
        "xaxis": {
         "title": {
          "text": "Car Names"
         }
        },
        "yaxis": {
         "title": {
          "text": "Count"
         }
        }
       }
      },
      "text/html": [
       "<div>                            <div id=\"ff725c78-a53b-4db3-896d-84d72153a2fb\" class=\"plotly-graph-div\" style=\"height:525px; width:100%;\"></div>            <script type=\"text/javascript\">                require([\"plotly\"], function(Plotly) {                    window.PLOTLYENV=window.PLOTLYENV || {};                                    if (document.getElementById(\"ff725c78-a53b-4db3-896d-84d72153a2fb\")) {                    Plotly.newPlot(                        \"ff725c78-a53b-4db3-896d-84d72153a2fb\",                        [{\"marker\": {\"color\": \"rgba(280, 280, 155, 0.5)\", \"line\": {\"color\": \"rgb(0,0,0)\", \"width\": 1.5}}, \"type\": \"bar\", \"x\": [\"MARUTI SUZUKI\", \"TATA MOTORS\", \"MAHINDRA &  MAHINDRA\", \"HYUNDAI\", \"GENERAL MOTORS\", \"FORD\", \"TOYOTA\", \"HONDA\", \"RENAULT\", \"VOLKSWAGEN\", \"SKODA\", \"FIAT\", \"NISSAN\", \"MITSUBISHI MOTORS\", \"AUDI\", \"FORCE\", \"DAEWOO\", \"MERCEDES BENZ\", \"BMW\", \"PREMIER\\u00a0AUTOMOBILES\", \"HINDUSTAN MOTORS\", \"LAND ROVER\", \"VOLVO\"], \"y\": [4360, 2736, 2274, 2000, 594, 471, 430, 391, 254, 248, 185, 84, 72, 38, 22, 14, 11, 11, 10, 6, 5, 2, 2]}],                        {\"template\": {\"data\": {\"bar\": [{\"error_x\": {\"color\": \"#2a3f5f\"}, \"error_y\": {\"color\": \"#2a3f5f\"}, \"marker\": {\"line\": {\"color\": \"#E5ECF6\", \"width\": 0.5}}, \"type\": \"bar\"}], \"barpolar\": [{\"marker\": {\"line\": {\"color\": \"#E5ECF6\", \"width\": 0.5}}, \"type\": \"barpolar\"}], \"carpet\": [{\"aaxis\": {\"endlinecolor\": \"#2a3f5f\", \"gridcolor\": \"white\", \"linecolor\": \"white\", \"minorgridcolor\": \"white\", \"startlinecolor\": \"#2a3f5f\"}, \"baxis\": {\"endlinecolor\": \"#2a3f5f\", \"gridcolor\": \"white\", \"linecolor\": \"white\", \"minorgridcolor\": \"white\", \"startlinecolor\": \"#2a3f5f\"}, \"type\": \"carpet\"}], \"choropleth\": [{\"colorbar\": {\"outlinewidth\": 0, \"ticks\": \"\"}, \"type\": \"choropleth\"}], \"contour\": [{\"colorbar\": {\"outlinewidth\": 0, \"ticks\": \"\"}, \"colorscale\": [[0.0, \"#0d0887\"], [0.1111111111111111, \"#46039f\"], [0.2222222222222222, \"#7201a8\"], [0.3333333333333333, \"#9c179e\"], [0.4444444444444444, \"#bd3786\"], [0.5555555555555556, \"#d8576b\"], [0.6666666666666666, \"#ed7953\"], [0.7777777777777778, \"#fb9f3a\"], [0.8888888888888888, \"#fdca26\"], [1.0, \"#f0f921\"]], \"type\": \"contour\"}], \"contourcarpet\": [{\"colorbar\": {\"outlinewidth\": 0, \"ticks\": \"\"}, \"type\": \"contourcarpet\"}], \"heatmap\": [{\"colorbar\": {\"outlinewidth\": 0, \"ticks\": \"\"}, \"colorscale\": [[0.0, \"#0d0887\"], [0.1111111111111111, \"#46039f\"], [0.2222222222222222, \"#7201a8\"], [0.3333333333333333, \"#9c179e\"], [0.4444444444444444, \"#bd3786\"], [0.5555555555555556, \"#d8576b\"], [0.6666666666666666, \"#ed7953\"], [0.7777777777777778, \"#fb9f3a\"], [0.8888888888888888, \"#fdca26\"], [1.0, \"#f0f921\"]], \"type\": \"heatmap\"}], \"heatmapgl\": [{\"colorbar\": {\"outlinewidth\": 0, \"ticks\": \"\"}, \"colorscale\": [[0.0, \"#0d0887\"], [0.1111111111111111, \"#46039f\"], [0.2222222222222222, \"#7201a8\"], [0.3333333333333333, \"#9c179e\"], [0.4444444444444444, \"#bd3786\"], [0.5555555555555556, \"#d8576b\"], [0.6666666666666666, \"#ed7953\"], [0.7777777777777778, \"#fb9f3a\"], [0.8888888888888888, \"#fdca26\"], [1.0, \"#f0f921\"]], \"type\": \"heatmapgl\"}], \"histogram\": [{\"marker\": {\"colorbar\": {\"outlinewidth\": 0, \"ticks\": \"\"}}, \"type\": \"histogram\"}], \"histogram2d\": [{\"colorbar\": {\"outlinewidth\": 0, \"ticks\": \"\"}, \"colorscale\": [[0.0, \"#0d0887\"], [0.1111111111111111, \"#46039f\"], [0.2222222222222222, \"#7201a8\"], [0.3333333333333333, \"#9c179e\"], [0.4444444444444444, \"#bd3786\"], [0.5555555555555556, \"#d8576b\"], [0.6666666666666666, \"#ed7953\"], [0.7777777777777778, \"#fb9f3a\"], [0.8888888888888888, \"#fdca26\"], [1.0, \"#f0f921\"]], \"type\": \"histogram2d\"}], \"histogram2dcontour\": [{\"colorbar\": {\"outlinewidth\": 0, \"ticks\": \"\"}, \"colorscale\": [[0.0, \"#0d0887\"], [0.1111111111111111, \"#46039f\"], [0.2222222222222222, \"#7201a8\"], [0.3333333333333333, \"#9c179e\"], [0.4444444444444444, \"#bd3786\"], [0.5555555555555556, \"#d8576b\"], [0.6666666666666666, \"#ed7953\"], [0.7777777777777778, \"#fb9f3a\"], [0.8888888888888888, \"#fdca26\"], [1.0, \"#f0f921\"]], \"type\": \"histogram2dcontour\"}], \"mesh3d\": [{\"colorbar\": {\"outlinewidth\": 0, \"ticks\": \"\"}, \"type\": \"mesh3d\"}], \"parcoords\": [{\"line\": {\"colorbar\": {\"outlinewidth\": 0, \"ticks\": \"\"}}, \"type\": \"parcoords\"}], \"pie\": [{\"automargin\": true, \"type\": \"pie\"}], \"scatter\": [{\"marker\": {\"colorbar\": {\"outlinewidth\": 0, \"ticks\": \"\"}}, \"type\": \"scatter\"}], \"scatter3d\": [{\"line\": {\"colorbar\": {\"outlinewidth\": 0, \"ticks\": \"\"}}, \"marker\": {\"colorbar\": {\"outlinewidth\": 0, \"ticks\": \"\"}}, \"type\": \"scatter3d\"}], \"scattercarpet\": [{\"marker\": {\"colorbar\": {\"outlinewidth\": 0, \"ticks\": \"\"}}, \"type\": \"scattercarpet\"}], \"scattergeo\": [{\"marker\": {\"colorbar\": {\"outlinewidth\": 0, \"ticks\": \"\"}}, \"type\": \"scattergeo\"}], \"scattergl\": [{\"marker\": {\"colorbar\": {\"outlinewidth\": 0, \"ticks\": \"\"}}, \"type\": \"scattergl\"}], \"scattermapbox\": [{\"marker\": {\"colorbar\": {\"outlinewidth\": 0, \"ticks\": \"\"}}, \"type\": \"scattermapbox\"}], \"scatterpolar\": [{\"marker\": {\"colorbar\": {\"outlinewidth\": 0, \"ticks\": \"\"}}, \"type\": \"scatterpolar\"}], \"scatterpolargl\": [{\"marker\": {\"colorbar\": {\"outlinewidth\": 0, \"ticks\": \"\"}}, \"type\": \"scatterpolargl\"}], \"scatterternary\": [{\"marker\": {\"colorbar\": {\"outlinewidth\": 0, \"ticks\": \"\"}}, \"type\": \"scatterternary\"}], \"surface\": [{\"colorbar\": {\"outlinewidth\": 0, \"ticks\": \"\"}, \"colorscale\": [[0.0, \"#0d0887\"], [0.1111111111111111, \"#46039f\"], [0.2222222222222222, \"#7201a8\"], [0.3333333333333333, \"#9c179e\"], [0.4444444444444444, \"#bd3786\"], [0.5555555555555556, \"#d8576b\"], [0.6666666666666666, \"#ed7953\"], [0.7777777777777778, \"#fb9f3a\"], [0.8888888888888888, \"#fdca26\"], [1.0, \"#f0f921\"]], \"type\": \"surface\"}], \"table\": [{\"cells\": {\"fill\": {\"color\": \"#EBF0F8\"}, \"line\": {\"color\": \"white\"}}, \"header\": {\"fill\": {\"color\": \"#C8D4E3\"}, \"line\": {\"color\": \"white\"}}, \"type\": \"table\"}]}, \"layout\": {\"annotationdefaults\": {\"arrowcolor\": \"#2a3f5f\", \"arrowhead\": 0, \"arrowwidth\": 1}, \"autotypenumbers\": \"strict\", \"coloraxis\": {\"colorbar\": {\"outlinewidth\": 0, \"ticks\": \"\"}}, \"colorscale\": {\"diverging\": [[0, \"#8e0152\"], [0.1, \"#c51b7d\"], [0.2, \"#de77ae\"], [0.3, \"#f1b6da\"], [0.4, \"#fde0ef\"], [0.5, \"#f7f7f7\"], [0.6, \"#e6f5d0\"], [0.7, \"#b8e186\"], [0.8, \"#7fbc41\"], [0.9, \"#4d9221\"], [1, \"#276419\"]], \"sequential\": [[0.0, \"#0d0887\"], [0.1111111111111111, \"#46039f\"], [0.2222222222222222, \"#7201a8\"], [0.3333333333333333, \"#9c179e\"], [0.4444444444444444, \"#bd3786\"], [0.5555555555555556, \"#d8576b\"], [0.6666666666666666, \"#ed7953\"], [0.7777777777777778, \"#fb9f3a\"], [0.8888888888888888, \"#fdca26\"], [1.0, \"#f0f921\"]], \"sequentialminus\": [[0.0, \"#0d0887\"], [0.1111111111111111, \"#46039f\"], [0.2222222222222222, \"#7201a8\"], [0.3333333333333333, \"#9c179e\"], [0.4444444444444444, \"#bd3786\"], [0.5555555555555556, \"#d8576b\"], [0.6666666666666666, \"#ed7953\"], [0.7777777777777778, \"#fb9f3a\"], [0.8888888888888888, \"#fdca26\"], [1.0, \"#f0f921\"]]}, \"colorway\": [\"#636efa\", \"#EF553B\", \"#00cc96\", \"#ab63fa\", \"#FFA15A\", \"#19d3f3\", \"#FF6692\", \"#B6E880\", \"#FF97FF\", \"#FECB52\"], \"font\": {\"color\": \"#2a3f5f\"}, \"geo\": {\"bgcolor\": \"white\", \"lakecolor\": \"white\", \"landcolor\": \"#E5ECF6\", \"showlakes\": true, \"showland\": true, \"subunitcolor\": \"white\"}, \"hoverlabel\": {\"align\": \"left\"}, \"hovermode\": \"closest\", \"mapbox\": {\"style\": \"light\"}, \"paper_bgcolor\": \"white\", \"plot_bgcolor\": \"#E5ECF6\", \"polar\": {\"angularaxis\": {\"gridcolor\": \"white\", \"linecolor\": \"white\", \"ticks\": \"\"}, \"bgcolor\": \"#E5ECF6\", \"radialaxis\": {\"gridcolor\": \"white\", \"linecolor\": \"white\", \"ticks\": \"\"}}, \"scene\": {\"xaxis\": {\"backgroundcolor\": \"#E5ECF6\", \"gridcolor\": \"white\", \"gridwidth\": 2, \"linecolor\": \"white\", \"showbackground\": true, \"ticks\": \"\", \"zerolinecolor\": \"white\"}, \"yaxis\": {\"backgroundcolor\": \"#E5ECF6\", \"gridcolor\": \"white\", \"gridwidth\": 2, \"linecolor\": \"white\", \"showbackground\": true, \"ticks\": \"\", \"zerolinecolor\": \"white\"}, \"zaxis\": {\"backgroundcolor\": \"#E5ECF6\", \"gridcolor\": \"white\", \"gridwidth\": 2, \"linecolor\": \"white\", \"showbackground\": true, \"ticks\": \"\", \"zerolinecolor\": \"white\"}}, \"shapedefaults\": {\"line\": {\"color\": \"#2a3f5f\"}}, \"ternary\": {\"aaxis\": {\"gridcolor\": \"white\", \"linecolor\": \"white\", \"ticks\": \"\"}, \"baxis\": {\"gridcolor\": \"white\", \"linecolor\": \"white\", \"ticks\": \"\"}, \"bgcolor\": \"#E5ECF6\", \"caxis\": {\"gridcolor\": \"white\", \"linecolor\": \"white\", \"ticks\": \"\"}}, \"title\": {\"x\": 0.05}, \"xaxis\": {\"automargin\": true, \"gridcolor\": \"white\", \"linecolor\": \"white\", \"ticks\": \"\", \"title\": {\"standoff\": 15}, \"zerolinecolor\": \"white\", \"zerolinewidth\": 2}, \"yaxis\": {\"automargin\": true, \"gridcolor\": \"white\", \"linecolor\": \"white\", \"ticks\": \"\", \"title\": {\"standoff\": 15}, \"zerolinecolor\": \"white\", \"zerolinewidth\": 2}}}, \"title\": {\"text\": \"Car Names in central zone\"}, \"xaxis\": {\"title\": {\"text\": \"Car Names\"}}, \"yaxis\": {\"title\": {\"text\": \"Count\"}}},                        {\"responsive\": true}                    ).then(function(){\n",
       "                            \n",
       "var gd = document.getElementById('ff725c78-a53b-4db3-896d-84d72153a2fb');\n",
       "var x = new MutationObserver(function (mutations, observer) {{\n",
       "        var display = window.getComputedStyle(gd).display;\n",
       "        if (!display || display === 'none') {{\n",
       "            console.log([gd, 'removed!']);\n",
       "            Plotly.purge(gd);\n",
       "            observer.disconnect();\n",
       "        }}\n",
       "}});\n",
       "\n",
       "// Listen for the removal of the full notebook cells\n",
       "var notebookContainer = gd.closest('#notebook-container');\n",
       "if (notebookContainer) {{\n",
       "    x.observe(notebookContainer, {childList: true});\n",
       "}}\n",
       "\n",
       "// Listen for the clearing of the current output cell\n",
       "var outputEl = gd.closest('.output');\n",
       "if (outputEl) {{\n",
       "    x.observe(outputEl, {childList: true});\n",
       "}}\n",
       "\n",
       "                        })                };                });            </script>        </div>"
      ]
     },
     "metadata": {},
     "output_type": "display_data"
    }
   ],
   "source": [
    "#creating trace1\n",
    "trace1 = go.Bar(\n",
    "                x = z5['Car Name'],\n",
    "                y = z5['count'],\n",
    "                marker = dict(color = 'rgba(280, 280, 155, 0.5)',\n",
    "                              line=dict(color='rgb(0,0,0)',width=1.5)))\n",
    "\n",
    "layout = go.Layout(title = 'Car Names in central zone', xaxis = dict(title = 'Car Names'), yaxis = dict(title = 'Count'))\n",
    "\n",
    "fig = go.Figure(data = trace1, layout = layout)\n",
    "iplot(fig)"
   ]
  },
  {
   "cell_type": "markdown",
   "metadata": {},
   "source": [
    "# Car Visits across all zones\n"
   ]
  },
  {
   "cell_type": "code",
   "execution_count": 82,
   "metadata": {},
   "outputs": [
    {
     "data": {
      "text/html": [
       "<div>\n",
       "<style scoped>\n",
       "    .dataframe tbody tr th:only-of-type {\n",
       "        vertical-align: middle;\n",
       "    }\n",
       "\n",
       "    .dataframe tbody tr th {\n",
       "        vertical-align: top;\n",
       "    }\n",
       "\n",
       "    .dataframe thead th {\n",
       "        text-align: right;\n",
       "    }\n",
       "</style>\n",
       "<table border=\"1\" class=\"dataframe\">\n",
       "  <thead>\n",
       "    <tr style=\"text-align: right;\">\n",
       "      <th></th>\n",
       "      <th>Zones</th>\n",
       "      <th>Car Visits Count</th>\n",
       "    </tr>\n",
       "  </thead>\n",
       "  <tbody>\n",
       "    <tr>\n",
       "      <th>0</th>\n",
       "      <td>West Zone</td>\n",
       "      <td>166699</td>\n",
       "    </tr>\n",
       "    <tr>\n",
       "      <th>1</th>\n",
       "      <td>South Zone</td>\n",
       "      <td>215864</td>\n",
       "    </tr>\n",
       "    <tr>\n",
       "      <th>2</th>\n",
       "      <td>North Zone</td>\n",
       "      <td>83327</td>\n",
       "    </tr>\n",
       "    <tr>\n",
       "      <th>3</th>\n",
       "      <td>East Zone</td>\n",
       "      <td>7360</td>\n",
       "    </tr>\n",
       "    <tr>\n",
       "      <th>4</th>\n",
       "      <td>Central Zone</td>\n",
       "      <td>14220</td>\n",
       "    </tr>\n",
       "  </tbody>\n",
       "</table>\n",
       "</div>"
      ],
      "text/plain": [
       "          Zones  Car Visits Count\n",
       "0     West Zone            166699\n",
       "1    South Zone            215864\n",
       "2    North Zone             83327\n",
       "3     East Zone              7360\n",
       "4  Central Zone             14220"
      ]
     },
     "execution_count": 82,
     "metadata": {},
     "output_type": "execute_result"
    }
   ],
   "source": [
    "CarVisit = [['West Zone',west_zone[\"Make\"].count()],\n",
    "            ['South Zone',south_zone[\"Make\"].count()],\n",
    "            ['North Zone',north_zone[\"Make\"].count()],\n",
    "            ['East Zone',east_zone[\"Make\"].count()],\n",
    "            ['Central Zone',central_zone[\"Make\"].count()]]\n",
    "\n",
    "Car_Visits_df = pd.DataFrame(CarVisit, columns = ['Zones','Car Visits Count'])\n",
    "Car_Visits_df"
   ]
  },
  {
   "cell_type": "code",
   "execution_count": 85,
   "metadata": {},
   "outputs": [
    {
     "data": {
      "application/vnd.plotly.v1+json": {
       "config": {
        "plotlyServerURL": "https://plot.ly"
       },
       "data": [
        {
         "hoverinfo": "label+percent",
         "labels": [
          "West Zone",
          "South Zone",
          "North Zone",
          "East Zone",
          "Central Zone"
         ],
         "marker": {
          "colors": [
           "Green",
           "lightorange",
           "darkorange",
           "lightgreen"
          ],
          "line": {
           "color": "#000000",
           "width": 2
          }
         },
         "textfont": {
          "size": 20
         },
         "textinfo": "value",
         "type": "pie",
         "values": [
          166699,
          215864,
          83327,
          7360,
          14220
         ]
        }
       ],
       "layout": {
        "template": {
         "data": {
          "bar": [
           {
            "error_x": {
             "color": "#2a3f5f"
            },
            "error_y": {
             "color": "#2a3f5f"
            },
            "marker": {
             "line": {
              "color": "#E5ECF6",
              "width": 0.5
             }
            },
            "type": "bar"
           }
          ],
          "barpolar": [
           {
            "marker": {
             "line": {
              "color": "#E5ECF6",
              "width": 0.5
             }
            },
            "type": "barpolar"
           }
          ],
          "carpet": [
           {
            "aaxis": {
             "endlinecolor": "#2a3f5f",
             "gridcolor": "white",
             "linecolor": "white",
             "minorgridcolor": "white",
             "startlinecolor": "#2a3f5f"
            },
            "baxis": {
             "endlinecolor": "#2a3f5f",
             "gridcolor": "white",
             "linecolor": "white",
             "minorgridcolor": "white",
             "startlinecolor": "#2a3f5f"
            },
            "type": "carpet"
           }
          ],
          "choropleth": [
           {
            "colorbar": {
             "outlinewidth": 0,
             "ticks": ""
            },
            "type": "choropleth"
           }
          ],
          "contour": [
           {
            "colorbar": {
             "outlinewidth": 0,
             "ticks": ""
            },
            "colorscale": [
             [
              0,
              "#0d0887"
             ],
             [
              0.1111111111111111,
              "#46039f"
             ],
             [
              0.2222222222222222,
              "#7201a8"
             ],
             [
              0.3333333333333333,
              "#9c179e"
             ],
             [
              0.4444444444444444,
              "#bd3786"
             ],
             [
              0.5555555555555556,
              "#d8576b"
             ],
             [
              0.6666666666666666,
              "#ed7953"
             ],
             [
              0.7777777777777778,
              "#fb9f3a"
             ],
             [
              0.8888888888888888,
              "#fdca26"
             ],
             [
              1,
              "#f0f921"
             ]
            ],
            "type": "contour"
           }
          ],
          "contourcarpet": [
           {
            "colorbar": {
             "outlinewidth": 0,
             "ticks": ""
            },
            "type": "contourcarpet"
           }
          ],
          "heatmap": [
           {
            "colorbar": {
             "outlinewidth": 0,
             "ticks": ""
            },
            "colorscale": [
             [
              0,
              "#0d0887"
             ],
             [
              0.1111111111111111,
              "#46039f"
             ],
             [
              0.2222222222222222,
              "#7201a8"
             ],
             [
              0.3333333333333333,
              "#9c179e"
             ],
             [
              0.4444444444444444,
              "#bd3786"
             ],
             [
              0.5555555555555556,
              "#d8576b"
             ],
             [
              0.6666666666666666,
              "#ed7953"
             ],
             [
              0.7777777777777778,
              "#fb9f3a"
             ],
             [
              0.8888888888888888,
              "#fdca26"
             ],
             [
              1,
              "#f0f921"
             ]
            ],
            "type": "heatmap"
           }
          ],
          "heatmapgl": [
           {
            "colorbar": {
             "outlinewidth": 0,
             "ticks": ""
            },
            "colorscale": [
             [
              0,
              "#0d0887"
             ],
             [
              0.1111111111111111,
              "#46039f"
             ],
             [
              0.2222222222222222,
              "#7201a8"
             ],
             [
              0.3333333333333333,
              "#9c179e"
             ],
             [
              0.4444444444444444,
              "#bd3786"
             ],
             [
              0.5555555555555556,
              "#d8576b"
             ],
             [
              0.6666666666666666,
              "#ed7953"
             ],
             [
              0.7777777777777778,
              "#fb9f3a"
             ],
             [
              0.8888888888888888,
              "#fdca26"
             ],
             [
              1,
              "#f0f921"
             ]
            ],
            "type": "heatmapgl"
           }
          ],
          "histogram": [
           {
            "marker": {
             "colorbar": {
              "outlinewidth": 0,
              "ticks": ""
             }
            },
            "type": "histogram"
           }
          ],
          "histogram2d": [
           {
            "colorbar": {
             "outlinewidth": 0,
             "ticks": ""
            },
            "colorscale": [
             [
              0,
              "#0d0887"
             ],
             [
              0.1111111111111111,
              "#46039f"
             ],
             [
              0.2222222222222222,
              "#7201a8"
             ],
             [
              0.3333333333333333,
              "#9c179e"
             ],
             [
              0.4444444444444444,
              "#bd3786"
             ],
             [
              0.5555555555555556,
              "#d8576b"
             ],
             [
              0.6666666666666666,
              "#ed7953"
             ],
             [
              0.7777777777777778,
              "#fb9f3a"
             ],
             [
              0.8888888888888888,
              "#fdca26"
             ],
             [
              1,
              "#f0f921"
             ]
            ],
            "type": "histogram2d"
           }
          ],
          "histogram2dcontour": [
           {
            "colorbar": {
             "outlinewidth": 0,
             "ticks": ""
            },
            "colorscale": [
             [
              0,
              "#0d0887"
             ],
             [
              0.1111111111111111,
              "#46039f"
             ],
             [
              0.2222222222222222,
              "#7201a8"
             ],
             [
              0.3333333333333333,
              "#9c179e"
             ],
             [
              0.4444444444444444,
              "#bd3786"
             ],
             [
              0.5555555555555556,
              "#d8576b"
             ],
             [
              0.6666666666666666,
              "#ed7953"
             ],
             [
              0.7777777777777778,
              "#fb9f3a"
             ],
             [
              0.8888888888888888,
              "#fdca26"
             ],
             [
              1,
              "#f0f921"
             ]
            ],
            "type": "histogram2dcontour"
           }
          ],
          "mesh3d": [
           {
            "colorbar": {
             "outlinewidth": 0,
             "ticks": ""
            },
            "type": "mesh3d"
           }
          ],
          "parcoords": [
           {
            "line": {
             "colorbar": {
              "outlinewidth": 0,
              "ticks": ""
             }
            },
            "type": "parcoords"
           }
          ],
          "pie": [
           {
            "automargin": true,
            "type": "pie"
           }
          ],
          "scatter": [
           {
            "marker": {
             "colorbar": {
              "outlinewidth": 0,
              "ticks": ""
             }
            },
            "type": "scatter"
           }
          ],
          "scatter3d": [
           {
            "line": {
             "colorbar": {
              "outlinewidth": 0,
              "ticks": ""
             }
            },
            "marker": {
             "colorbar": {
              "outlinewidth": 0,
              "ticks": ""
             }
            },
            "type": "scatter3d"
           }
          ],
          "scattercarpet": [
           {
            "marker": {
             "colorbar": {
              "outlinewidth": 0,
              "ticks": ""
             }
            },
            "type": "scattercarpet"
           }
          ],
          "scattergeo": [
           {
            "marker": {
             "colorbar": {
              "outlinewidth": 0,
              "ticks": ""
             }
            },
            "type": "scattergeo"
           }
          ],
          "scattergl": [
           {
            "marker": {
             "colorbar": {
              "outlinewidth": 0,
              "ticks": ""
             }
            },
            "type": "scattergl"
           }
          ],
          "scattermapbox": [
           {
            "marker": {
             "colorbar": {
              "outlinewidth": 0,
              "ticks": ""
             }
            },
            "type": "scattermapbox"
           }
          ],
          "scatterpolar": [
           {
            "marker": {
             "colorbar": {
              "outlinewidth": 0,
              "ticks": ""
             }
            },
            "type": "scatterpolar"
           }
          ],
          "scatterpolargl": [
           {
            "marker": {
             "colorbar": {
              "outlinewidth": 0,
              "ticks": ""
             }
            },
            "type": "scatterpolargl"
           }
          ],
          "scatterternary": [
           {
            "marker": {
             "colorbar": {
              "outlinewidth": 0,
              "ticks": ""
             }
            },
            "type": "scatterternary"
           }
          ],
          "surface": [
           {
            "colorbar": {
             "outlinewidth": 0,
             "ticks": ""
            },
            "colorscale": [
             [
              0,
              "#0d0887"
             ],
             [
              0.1111111111111111,
              "#46039f"
             ],
             [
              0.2222222222222222,
              "#7201a8"
             ],
             [
              0.3333333333333333,
              "#9c179e"
             ],
             [
              0.4444444444444444,
              "#bd3786"
             ],
             [
              0.5555555555555556,
              "#d8576b"
             ],
             [
              0.6666666666666666,
              "#ed7953"
             ],
             [
              0.7777777777777778,
              "#fb9f3a"
             ],
             [
              0.8888888888888888,
              "#fdca26"
             ],
             [
              1,
              "#f0f921"
             ]
            ],
            "type": "surface"
           }
          ],
          "table": [
           {
            "cells": {
             "fill": {
              "color": "#EBF0F8"
             },
             "line": {
              "color": "white"
             }
            },
            "header": {
             "fill": {
              "color": "#C8D4E3"
             },
             "line": {
              "color": "white"
             }
            },
            "type": "table"
           }
          ]
         },
         "layout": {
          "annotationdefaults": {
           "arrowcolor": "#2a3f5f",
           "arrowhead": 0,
           "arrowwidth": 1
          },
          "autotypenumbers": "strict",
          "coloraxis": {
           "colorbar": {
            "outlinewidth": 0,
            "ticks": ""
           }
          },
          "colorscale": {
           "diverging": [
            [
             0,
             "#8e0152"
            ],
            [
             0.1,
             "#c51b7d"
            ],
            [
             0.2,
             "#de77ae"
            ],
            [
             0.3,
             "#f1b6da"
            ],
            [
             0.4,
             "#fde0ef"
            ],
            [
             0.5,
             "#f7f7f7"
            ],
            [
             0.6,
             "#e6f5d0"
            ],
            [
             0.7,
             "#b8e186"
            ],
            [
             0.8,
             "#7fbc41"
            ],
            [
             0.9,
             "#4d9221"
            ],
            [
             1,
             "#276419"
            ]
           ],
           "sequential": [
            [
             0,
             "#0d0887"
            ],
            [
             0.1111111111111111,
             "#46039f"
            ],
            [
             0.2222222222222222,
             "#7201a8"
            ],
            [
             0.3333333333333333,
             "#9c179e"
            ],
            [
             0.4444444444444444,
             "#bd3786"
            ],
            [
             0.5555555555555556,
             "#d8576b"
            ],
            [
             0.6666666666666666,
             "#ed7953"
            ],
            [
             0.7777777777777778,
             "#fb9f3a"
            ],
            [
             0.8888888888888888,
             "#fdca26"
            ],
            [
             1,
             "#f0f921"
            ]
           ],
           "sequentialminus": [
            [
             0,
             "#0d0887"
            ],
            [
             0.1111111111111111,
             "#46039f"
            ],
            [
             0.2222222222222222,
             "#7201a8"
            ],
            [
             0.3333333333333333,
             "#9c179e"
            ],
            [
             0.4444444444444444,
             "#bd3786"
            ],
            [
             0.5555555555555556,
             "#d8576b"
            ],
            [
             0.6666666666666666,
             "#ed7953"
            ],
            [
             0.7777777777777778,
             "#fb9f3a"
            ],
            [
             0.8888888888888888,
             "#fdca26"
            ],
            [
             1,
             "#f0f921"
            ]
           ]
          },
          "colorway": [
           "#636efa",
           "#EF553B",
           "#00cc96",
           "#ab63fa",
           "#FFA15A",
           "#19d3f3",
           "#FF6692",
           "#B6E880",
           "#FF97FF",
           "#FECB52"
          ],
          "font": {
           "color": "#2a3f5f"
          },
          "geo": {
           "bgcolor": "white",
           "lakecolor": "white",
           "landcolor": "#E5ECF6",
           "showlakes": true,
           "showland": true,
           "subunitcolor": "white"
          },
          "hoverlabel": {
           "align": "left"
          },
          "hovermode": "closest",
          "mapbox": {
           "style": "light"
          },
          "paper_bgcolor": "white",
          "plot_bgcolor": "#E5ECF6",
          "polar": {
           "angularaxis": {
            "gridcolor": "white",
            "linecolor": "white",
            "ticks": ""
           },
           "bgcolor": "#E5ECF6",
           "radialaxis": {
            "gridcolor": "white",
            "linecolor": "white",
            "ticks": ""
           }
          },
          "scene": {
           "xaxis": {
            "backgroundcolor": "#E5ECF6",
            "gridcolor": "white",
            "gridwidth": 2,
            "linecolor": "white",
            "showbackground": true,
            "ticks": "",
            "zerolinecolor": "white"
           },
           "yaxis": {
            "backgroundcolor": "#E5ECF6",
            "gridcolor": "white",
            "gridwidth": 2,
            "linecolor": "white",
            "showbackground": true,
            "ticks": "",
            "zerolinecolor": "white"
           },
           "zaxis": {
            "backgroundcolor": "#E5ECF6",
            "gridcolor": "white",
            "gridwidth": 2,
            "linecolor": "white",
            "showbackground": true,
            "ticks": "",
            "zerolinecolor": "white"
           }
          },
          "shapedefaults": {
           "line": {
            "color": "#2a3f5f"
           }
          },
          "ternary": {
           "aaxis": {
            "gridcolor": "white",
            "linecolor": "white",
            "ticks": ""
           },
           "baxis": {
            "gridcolor": "white",
            "linecolor": "white",
            "ticks": ""
           },
           "bgcolor": "#E5ECF6",
           "caxis": {
            "gridcolor": "white",
            "linecolor": "white",
            "ticks": ""
           }
          },
          "title": {
           "x": 0.05
          },
          "xaxis": {
           "automargin": true,
           "gridcolor": "white",
           "linecolor": "white",
           "ticks": "",
           "title": {
            "standoff": 15
           },
           "zerolinecolor": "white",
           "zerolinewidth": 2
          },
          "yaxis": {
           "automargin": true,
           "gridcolor": "white",
           "linecolor": "white",
           "ticks": "",
           "title": {
            "standoff": 15
           },
           "zerolinecolor": "white",
           "zerolinewidth": 2
          }
         }
        }
       }
      },
      "text/html": [
       "<div>                            <div id=\"caa72ef7-5056-4128-a77c-27826c8ab6c7\" class=\"plotly-graph-div\" style=\"height:525px; width:100%;\"></div>            <script type=\"text/javascript\">                require([\"plotly\"], function(Plotly) {                    window.PLOTLYENV=window.PLOTLYENV || {};                                    if (document.getElementById(\"caa72ef7-5056-4128-a77c-27826c8ab6c7\")) {                    Plotly.newPlot(                        \"caa72ef7-5056-4128-a77c-27826c8ab6c7\",                        [{\"hoverinfo\": \"label+percent\", \"labels\": [\"West Zone\", \"South Zone\", \"North Zone\", \"East Zone\", \"Central Zone\"], \"marker\": {\"colors\": [\"Green\", \"lightorange\", \"darkorange\", \"lightgreen\"], \"line\": {\"color\": \"#000000\", \"width\": 2}}, \"textfont\": {\"size\": 20}, \"textinfo\": \"value\", \"type\": \"pie\", \"values\": [166699, 215864, 83327, 7360, 14220]}],                        {\"template\": {\"data\": {\"bar\": [{\"error_x\": {\"color\": \"#2a3f5f\"}, \"error_y\": {\"color\": \"#2a3f5f\"}, \"marker\": {\"line\": {\"color\": \"#E5ECF6\", \"width\": 0.5}}, \"type\": \"bar\"}], \"barpolar\": [{\"marker\": {\"line\": {\"color\": \"#E5ECF6\", \"width\": 0.5}}, \"type\": \"barpolar\"}], \"carpet\": [{\"aaxis\": {\"endlinecolor\": \"#2a3f5f\", \"gridcolor\": \"white\", \"linecolor\": \"white\", \"minorgridcolor\": \"white\", \"startlinecolor\": \"#2a3f5f\"}, \"baxis\": {\"endlinecolor\": \"#2a3f5f\", \"gridcolor\": \"white\", \"linecolor\": \"white\", \"minorgridcolor\": \"white\", \"startlinecolor\": \"#2a3f5f\"}, \"type\": \"carpet\"}], \"choropleth\": [{\"colorbar\": {\"outlinewidth\": 0, \"ticks\": \"\"}, \"type\": \"choropleth\"}], \"contour\": [{\"colorbar\": {\"outlinewidth\": 0, \"ticks\": \"\"}, \"colorscale\": [[0.0, \"#0d0887\"], [0.1111111111111111, \"#46039f\"], [0.2222222222222222, \"#7201a8\"], [0.3333333333333333, \"#9c179e\"], [0.4444444444444444, \"#bd3786\"], [0.5555555555555556, \"#d8576b\"], [0.6666666666666666, \"#ed7953\"], [0.7777777777777778, \"#fb9f3a\"], [0.8888888888888888, \"#fdca26\"], [1.0, \"#f0f921\"]], \"type\": \"contour\"}], \"contourcarpet\": [{\"colorbar\": {\"outlinewidth\": 0, \"ticks\": \"\"}, \"type\": \"contourcarpet\"}], \"heatmap\": [{\"colorbar\": {\"outlinewidth\": 0, \"ticks\": \"\"}, \"colorscale\": [[0.0, \"#0d0887\"], [0.1111111111111111, \"#46039f\"], [0.2222222222222222, \"#7201a8\"], [0.3333333333333333, \"#9c179e\"], [0.4444444444444444, \"#bd3786\"], [0.5555555555555556, \"#d8576b\"], [0.6666666666666666, \"#ed7953\"], [0.7777777777777778, \"#fb9f3a\"], [0.8888888888888888, \"#fdca26\"], [1.0, \"#f0f921\"]], \"type\": \"heatmap\"}], \"heatmapgl\": [{\"colorbar\": {\"outlinewidth\": 0, \"ticks\": \"\"}, \"colorscale\": [[0.0, \"#0d0887\"], [0.1111111111111111, \"#46039f\"], [0.2222222222222222, \"#7201a8\"], [0.3333333333333333, \"#9c179e\"], [0.4444444444444444, \"#bd3786\"], [0.5555555555555556, \"#d8576b\"], [0.6666666666666666, \"#ed7953\"], [0.7777777777777778, \"#fb9f3a\"], [0.8888888888888888, \"#fdca26\"], [1.0, \"#f0f921\"]], \"type\": \"heatmapgl\"}], \"histogram\": [{\"marker\": {\"colorbar\": {\"outlinewidth\": 0, \"ticks\": \"\"}}, \"type\": \"histogram\"}], \"histogram2d\": [{\"colorbar\": {\"outlinewidth\": 0, \"ticks\": \"\"}, \"colorscale\": [[0.0, \"#0d0887\"], [0.1111111111111111, \"#46039f\"], [0.2222222222222222, \"#7201a8\"], [0.3333333333333333, \"#9c179e\"], [0.4444444444444444, \"#bd3786\"], [0.5555555555555556, \"#d8576b\"], [0.6666666666666666, \"#ed7953\"], [0.7777777777777778, \"#fb9f3a\"], [0.8888888888888888, \"#fdca26\"], [1.0, \"#f0f921\"]], \"type\": \"histogram2d\"}], \"histogram2dcontour\": [{\"colorbar\": {\"outlinewidth\": 0, \"ticks\": \"\"}, \"colorscale\": [[0.0, \"#0d0887\"], [0.1111111111111111, \"#46039f\"], [0.2222222222222222, \"#7201a8\"], [0.3333333333333333, \"#9c179e\"], [0.4444444444444444, \"#bd3786\"], [0.5555555555555556, \"#d8576b\"], [0.6666666666666666, \"#ed7953\"], [0.7777777777777778, \"#fb9f3a\"], [0.8888888888888888, \"#fdca26\"], [1.0, \"#f0f921\"]], \"type\": \"histogram2dcontour\"}], \"mesh3d\": [{\"colorbar\": {\"outlinewidth\": 0, \"ticks\": \"\"}, \"type\": \"mesh3d\"}], \"parcoords\": [{\"line\": {\"colorbar\": {\"outlinewidth\": 0, \"ticks\": \"\"}}, \"type\": \"parcoords\"}], \"pie\": [{\"automargin\": true, \"type\": \"pie\"}], \"scatter\": [{\"marker\": {\"colorbar\": {\"outlinewidth\": 0, \"ticks\": \"\"}}, \"type\": \"scatter\"}], \"scatter3d\": [{\"line\": {\"colorbar\": {\"outlinewidth\": 0, \"ticks\": \"\"}}, \"marker\": {\"colorbar\": {\"outlinewidth\": 0, \"ticks\": \"\"}}, \"type\": \"scatter3d\"}], \"scattercarpet\": [{\"marker\": {\"colorbar\": {\"outlinewidth\": 0, \"ticks\": \"\"}}, \"type\": \"scattercarpet\"}], \"scattergeo\": [{\"marker\": {\"colorbar\": {\"outlinewidth\": 0, \"ticks\": \"\"}}, \"type\": \"scattergeo\"}], \"scattergl\": [{\"marker\": {\"colorbar\": {\"outlinewidth\": 0, \"ticks\": \"\"}}, \"type\": \"scattergl\"}], \"scattermapbox\": [{\"marker\": {\"colorbar\": {\"outlinewidth\": 0, \"ticks\": \"\"}}, \"type\": \"scattermapbox\"}], \"scatterpolar\": [{\"marker\": {\"colorbar\": {\"outlinewidth\": 0, \"ticks\": \"\"}}, \"type\": \"scatterpolar\"}], \"scatterpolargl\": [{\"marker\": {\"colorbar\": {\"outlinewidth\": 0, \"ticks\": \"\"}}, \"type\": \"scatterpolargl\"}], \"scatterternary\": [{\"marker\": {\"colorbar\": {\"outlinewidth\": 0, \"ticks\": \"\"}}, \"type\": \"scatterternary\"}], \"surface\": [{\"colorbar\": {\"outlinewidth\": 0, \"ticks\": \"\"}, \"colorscale\": [[0.0, \"#0d0887\"], [0.1111111111111111, \"#46039f\"], [0.2222222222222222, \"#7201a8\"], [0.3333333333333333, \"#9c179e\"], [0.4444444444444444, \"#bd3786\"], [0.5555555555555556, \"#d8576b\"], [0.6666666666666666, \"#ed7953\"], [0.7777777777777778, \"#fb9f3a\"], [0.8888888888888888, \"#fdca26\"], [1.0, \"#f0f921\"]], \"type\": \"surface\"}], \"table\": [{\"cells\": {\"fill\": {\"color\": \"#EBF0F8\"}, \"line\": {\"color\": \"white\"}}, \"header\": {\"fill\": {\"color\": \"#C8D4E3\"}, \"line\": {\"color\": \"white\"}}, \"type\": \"table\"}]}, \"layout\": {\"annotationdefaults\": {\"arrowcolor\": \"#2a3f5f\", \"arrowhead\": 0, \"arrowwidth\": 1}, \"autotypenumbers\": \"strict\", \"coloraxis\": {\"colorbar\": {\"outlinewidth\": 0, \"ticks\": \"\"}}, \"colorscale\": {\"diverging\": [[0, \"#8e0152\"], [0.1, \"#c51b7d\"], [0.2, \"#de77ae\"], [0.3, \"#f1b6da\"], [0.4, \"#fde0ef\"], [0.5, \"#f7f7f7\"], [0.6, \"#e6f5d0\"], [0.7, \"#b8e186\"], [0.8, \"#7fbc41\"], [0.9, \"#4d9221\"], [1, \"#276419\"]], \"sequential\": [[0.0, \"#0d0887\"], [0.1111111111111111, \"#46039f\"], [0.2222222222222222, \"#7201a8\"], [0.3333333333333333, \"#9c179e\"], [0.4444444444444444, \"#bd3786\"], [0.5555555555555556, \"#d8576b\"], [0.6666666666666666, \"#ed7953\"], [0.7777777777777778, \"#fb9f3a\"], [0.8888888888888888, \"#fdca26\"], [1.0, \"#f0f921\"]], \"sequentialminus\": [[0.0, \"#0d0887\"], [0.1111111111111111, \"#46039f\"], [0.2222222222222222, \"#7201a8\"], [0.3333333333333333, \"#9c179e\"], [0.4444444444444444, \"#bd3786\"], [0.5555555555555556, \"#d8576b\"], [0.6666666666666666, \"#ed7953\"], [0.7777777777777778, \"#fb9f3a\"], [0.8888888888888888, \"#fdca26\"], [1.0, \"#f0f921\"]]}, \"colorway\": [\"#636efa\", \"#EF553B\", \"#00cc96\", \"#ab63fa\", \"#FFA15A\", \"#19d3f3\", \"#FF6692\", \"#B6E880\", \"#FF97FF\", \"#FECB52\"], \"font\": {\"color\": \"#2a3f5f\"}, \"geo\": {\"bgcolor\": \"white\", \"lakecolor\": \"white\", \"landcolor\": \"#E5ECF6\", \"showlakes\": true, \"showland\": true, \"subunitcolor\": \"white\"}, \"hoverlabel\": {\"align\": \"left\"}, \"hovermode\": \"closest\", \"mapbox\": {\"style\": \"light\"}, \"paper_bgcolor\": \"white\", \"plot_bgcolor\": \"#E5ECF6\", \"polar\": {\"angularaxis\": {\"gridcolor\": \"white\", \"linecolor\": \"white\", \"ticks\": \"\"}, \"bgcolor\": \"#E5ECF6\", \"radialaxis\": {\"gridcolor\": \"white\", \"linecolor\": \"white\", \"ticks\": \"\"}}, \"scene\": {\"xaxis\": {\"backgroundcolor\": \"#E5ECF6\", \"gridcolor\": \"white\", \"gridwidth\": 2, \"linecolor\": \"white\", \"showbackground\": true, \"ticks\": \"\", \"zerolinecolor\": \"white\"}, \"yaxis\": {\"backgroundcolor\": \"#E5ECF6\", \"gridcolor\": \"white\", \"gridwidth\": 2, \"linecolor\": \"white\", \"showbackground\": true, \"ticks\": \"\", \"zerolinecolor\": \"white\"}, \"zaxis\": {\"backgroundcolor\": \"#E5ECF6\", \"gridcolor\": \"white\", \"gridwidth\": 2, \"linecolor\": \"white\", \"showbackground\": true, \"ticks\": \"\", \"zerolinecolor\": \"white\"}}, \"shapedefaults\": {\"line\": {\"color\": \"#2a3f5f\"}}, \"ternary\": {\"aaxis\": {\"gridcolor\": \"white\", \"linecolor\": \"white\", \"ticks\": \"\"}, \"baxis\": {\"gridcolor\": \"white\", \"linecolor\": \"white\", \"ticks\": \"\"}, \"bgcolor\": \"#E5ECF6\", \"caxis\": {\"gridcolor\": \"white\", \"linecolor\": \"white\", \"ticks\": \"\"}}, \"title\": {\"x\": 0.05}, \"xaxis\": {\"automargin\": true, \"gridcolor\": \"white\", \"linecolor\": \"white\", \"ticks\": \"\", \"title\": {\"standoff\": 15}, \"zerolinecolor\": \"white\", \"zerolinewidth\": 2}, \"yaxis\": {\"automargin\": true, \"gridcolor\": \"white\", \"linecolor\": \"white\", \"ticks\": \"\", \"title\": {\"standoff\": 15}, \"zerolinecolor\": \"white\", \"zerolinewidth\": 2}}}},                        {\"responsive\": true}                    ).then(function(){\n",
       "                            \n",
       "var gd = document.getElementById('caa72ef7-5056-4128-a77c-27826c8ab6c7');\n",
       "var x = new MutationObserver(function (mutations, observer) {{\n",
       "        var display = window.getComputedStyle(gd).display;\n",
       "        if (!display || display === 'none') {{\n",
       "            console.log([gd, 'removed!']);\n",
       "            Plotly.purge(gd);\n",
       "            observer.disconnect();\n",
       "        }}\n",
       "}});\n",
       "\n",
       "// Listen for the removal of the full notebook cells\n",
       "var notebookContainer = gd.closest('#notebook-container');\n",
       "if (notebookContainer) {{\n",
       "    x.observe(notebookContainer, {childList: true});\n",
       "}}\n",
       "\n",
       "// Listen for the clearing of the current output cell\n",
       "var outputEl = gd.closest('.output');\n",
       "if (outputEl) {{\n",
       "    x.observe(outputEl, {childList: true});\n",
       "}}\n",
       "\n",
       "                        })                };                });            </script>        </div>"
      ]
     },
     "metadata": {},
     "output_type": "display_data"
    }
   ],
   "source": [
    "colors = ['Green','lightorange','darkorange','lightgreen']\n",
    "\n",
    "fig = go.Figure(data = [go.Pie(labels = Car_Visits_df['Zones'], values = Car_Visits_df['Car Visits Count'])])\n",
    "\n",
    "fig.update_traces(hoverinfo='label+percent', textinfo='value', textfont_size=20,\n",
    "                  marker = dict(colors=colors, line = dict(color = '#000000', width=2)))\n",
    "\n",
    "fig.show()"
   ]
  },
  {
   "cell_type": "markdown",
   "metadata": {},
   "source": [
    "# Spending Patterns"
   ]
  },
  {
   "cell_type": "code",
   "execution_count": 86,
   "metadata": {},
   "outputs": [
    {
     "data": {
      "text/html": [
       "<div>\n",
       "<style scoped>\n",
       "    .dataframe tbody tr th:only-of-type {\n",
       "        vertical-align: middle;\n",
       "    }\n",
       "\n",
       "    .dataframe tbody tr th {\n",
       "        vertical-align: top;\n",
       "    }\n",
       "\n",
       "    .dataframe thead th {\n",
       "        text-align: right;\n",
       "    }\n",
       "</style>\n",
       "<table border=\"1\" class=\"dataframe\">\n",
       "  <thead>\n",
       "    <tr style=\"text-align: right;\">\n",
       "      <th></th>\n",
       "      <th>CITY</th>\n",
       "      <th>State</th>\n",
       "      <th>Make</th>\n",
       "      <th>Model</th>\n",
       "      <th>Order Type</th>\n",
       "    </tr>\n",
       "  </thead>\n",
       "  <tbody>\n",
       "    <tr>\n",
       "      <th>0</th>\n",
       "      <td>Thane</td>\n",
       "      <td>Maharashtra</td>\n",
       "      <td>GENERAL MOTORS</td>\n",
       "      <td>SPARK</td>\n",
       "      <td>Paid Service</td>\n",
       "    </tr>\n",
       "    <tr>\n",
       "      <th>1</th>\n",
       "      <td>THNAE</td>\n",
       "      <td>Maharashtra</td>\n",
       "      <td>TATA MOTORS</td>\n",
       "      <td>INDICA</td>\n",
       "      <td>SMC Value Package</td>\n",
       "    </tr>\n",
       "    <tr>\n",
       "      <th>2</th>\n",
       "      <td>THANE[W]</td>\n",
       "      <td>Maharashtra</td>\n",
       "      <td>MARUTI SUZUKI</td>\n",
       "      <td>ZEN</td>\n",
       "      <td>Running Repairs</td>\n",
       "    </tr>\n",
       "    <tr>\n",
       "      <th>3</th>\n",
       "      <td>THNAE</td>\n",
       "      <td>Maharashtra</td>\n",
       "      <td>TATA MOTORS</td>\n",
       "      <td>INDICA</td>\n",
       "      <td>SMC Redemption</td>\n",
       "    </tr>\n",
       "    <tr>\n",
       "      <th>4</th>\n",
       "      <td>THANE</td>\n",
       "      <td>Maharashtra</td>\n",
       "      <td>HYUNDAI</td>\n",
       "      <td>SANTRO XING</td>\n",
       "      <td>Paid Service</td>\n",
       "    </tr>\n",
       "    <tr>\n",
       "      <th>5</th>\n",
       "      <td>THANE</td>\n",
       "      <td>Maharashtra</td>\n",
       "      <td>TOYOTA</td>\n",
       "      <td>INNOVA</td>\n",
       "      <td>Running Repairs</td>\n",
       "    </tr>\n",
       "    <tr>\n",
       "      <th>6</th>\n",
       "      <td>THANE</td>\n",
       "      <td>Maharashtra</td>\n",
       "      <td>HONDA</td>\n",
       "      <td>CITY</td>\n",
       "      <td>Running Repairs</td>\n",
       "    </tr>\n",
       "    <tr>\n",
       "      <th>7</th>\n",
       "      <td>THANE</td>\n",
       "      <td>Maharashtra</td>\n",
       "      <td>MARUTI SUZUKI</td>\n",
       "      <td>SWIFT DZIRE</td>\n",
       "      <td>Running Repairs</td>\n",
       "    </tr>\n",
       "    <tr>\n",
       "      <th>8</th>\n",
       "      <td>THANE[W]</td>\n",
       "      <td>Maharashtra</td>\n",
       "      <td>TATA MOTORS</td>\n",
       "      <td>INDIGO</td>\n",
       "      <td>Running Repairs</td>\n",
       "    </tr>\n",
       "    <tr>\n",
       "      <th>9</th>\n",
       "      <td>THANE</td>\n",
       "      <td>Maharashtra</td>\n",
       "      <td>MARUTI SUZUKI</td>\n",
       "      <td>ALTO</td>\n",
       "      <td>Paid Service</td>\n",
       "    </tr>\n",
       "  </tbody>\n",
       "</table>\n",
       "</div>"
      ],
      "text/plain": [
       "       CITY        State            Make        Model         Order Type\n",
       "0     Thane  Maharashtra  GENERAL MOTORS        SPARK       Paid Service\n",
       "1     THNAE  Maharashtra     TATA MOTORS       INDICA  SMC Value Package\n",
       "2  THANE[W]  Maharashtra   MARUTI SUZUKI          ZEN    Running Repairs\n",
       "3     THNAE  Maharashtra     TATA MOTORS       INDICA     SMC Redemption\n",
       "4     THANE  Maharashtra         HYUNDAI  SANTRO XING       Paid Service\n",
       "5     THANE  Maharashtra          TOYOTA       INNOVA    Running Repairs\n",
       "6     THANE  Maharashtra           HONDA         CITY    Running Repairs\n",
       "7     THANE  Maharashtra   MARUTI SUZUKI  SWIFT DZIRE    Running Repairs\n",
       "8  THANE[W]  Maharashtra     TATA MOTORS       INDIGO    Running Repairs\n",
       "9     THANE  Maharashtra   MARUTI SUZUKI         ALTO       Paid Service"
      ]
     },
     "execution_count": 86,
     "metadata": {},
     "output_type": "execute_result"
    }
   ],
   "source": [
    "df.head(10)"
   ]
  },
  {
   "cell_type": "code",
   "execution_count": 88,
   "metadata": {},
   "outputs": [
    {
     "data": {
      "text/html": [
       "<div>\n",
       "<style scoped>\n",
       "    .dataframe tbody tr th:only-of-type {\n",
       "        vertical-align: middle;\n",
       "    }\n",
       "\n",
       "    .dataframe tbody tr th {\n",
       "        vertical-align: top;\n",
       "    }\n",
       "\n",
       "    .dataframe thead th {\n",
       "        text-align: right;\n",
       "    }\n",
       "</style>\n",
       "<table border=\"1\" class=\"dataframe\">\n",
       "  <thead>\n",
       "    <tr style=\"text-align: right;\">\n",
       "      <th></th>\n",
       "      <th>CITY</th>\n",
       "      <th>State</th>\n",
       "      <th>Make</th>\n",
       "      <th>Model</th>\n",
       "      <th>Order Type</th>\n",
       "      <th>Total Value</th>\n",
       "    </tr>\n",
       "  </thead>\n",
       "  <tbody>\n",
       "    <tr>\n",
       "      <th>0</th>\n",
       "      <td>Thane</td>\n",
       "      <td>Maharashtra</td>\n",
       "      <td>GENERAL MOTORS</td>\n",
       "      <td>SPARK</td>\n",
       "      <td>Paid Service</td>\n",
       "      <td>4051.95</td>\n",
       "    </tr>\n",
       "    <tr>\n",
       "      <th>1</th>\n",
       "      <td>THNAE</td>\n",
       "      <td>Maharashtra</td>\n",
       "      <td>TATA MOTORS</td>\n",
       "      <td>INDICA</td>\n",
       "      <td>SMC Value Package</td>\n",
       "      <td>1001.29</td>\n",
       "    </tr>\n",
       "    <tr>\n",
       "      <th>2</th>\n",
       "      <td>THANE[W]</td>\n",
       "      <td>Maharashtra</td>\n",
       "      <td>MARUTI SUZUKI</td>\n",
       "      <td>ZEN</td>\n",
       "      <td>Running Repairs</td>\n",
       "      <td>233.14</td>\n",
       "    </tr>\n",
       "    <tr>\n",
       "      <th>3</th>\n",
       "      <td>THNAE</td>\n",
       "      <td>Maharashtra</td>\n",
       "      <td>TATA MOTORS</td>\n",
       "      <td>INDICA</td>\n",
       "      <td>SMC Redemption</td>\n",
       "      <td>0.00</td>\n",
       "    </tr>\n",
       "    <tr>\n",
       "      <th>4</th>\n",
       "      <td>THANE</td>\n",
       "      <td>Maharashtra</td>\n",
       "      <td>HYUNDAI</td>\n",
       "      <td>SANTRO XING</td>\n",
       "      <td>Paid Service</td>\n",
       "      <td>2747.12</td>\n",
       "    </tr>\n",
       "    <tr>\n",
       "      <th>5</th>\n",
       "      <td>THANE</td>\n",
       "      <td>Maharashtra</td>\n",
       "      <td>TOYOTA</td>\n",
       "      <td>INNOVA</td>\n",
       "      <td>Running Repairs</td>\n",
       "      <td>865.92</td>\n",
       "    </tr>\n",
       "    <tr>\n",
       "      <th>6</th>\n",
       "      <td>THANE</td>\n",
       "      <td>Maharashtra</td>\n",
       "      <td>HONDA</td>\n",
       "      <td>CITY</td>\n",
       "      <td>Running Repairs</td>\n",
       "      <td>749.42</td>\n",
       "    </tr>\n",
       "    <tr>\n",
       "      <th>7</th>\n",
       "      <td>THANE</td>\n",
       "      <td>Maharashtra</td>\n",
       "      <td>MARUTI SUZUKI</td>\n",
       "      <td>SWIFT DZIRE</td>\n",
       "      <td>Running Repairs</td>\n",
       "      <td>0.00</td>\n",
       "    </tr>\n",
       "    <tr>\n",
       "      <th>8</th>\n",
       "      <td>THANE[W]</td>\n",
       "      <td>Maharashtra</td>\n",
       "      <td>TATA MOTORS</td>\n",
       "      <td>INDIGO</td>\n",
       "      <td>Running Repairs</td>\n",
       "      <td>0.00</td>\n",
       "    </tr>\n",
       "    <tr>\n",
       "      <th>9</th>\n",
       "      <td>THANE</td>\n",
       "      <td>Maharashtra</td>\n",
       "      <td>MARUTI SUZUKI</td>\n",
       "      <td>ALTO</td>\n",
       "      <td>Paid Service</td>\n",
       "      <td>3912.61</td>\n",
       "    </tr>\n",
       "  </tbody>\n",
       "</table>\n",
       "</div>"
      ],
      "text/plain": [
       "       CITY        State            Make        Model         Order Type  \\\n",
       "0     Thane  Maharashtra  GENERAL MOTORS        SPARK       Paid Service   \n",
       "1     THNAE  Maharashtra     TATA MOTORS       INDICA  SMC Value Package   \n",
       "2  THANE[W]  Maharashtra   MARUTI SUZUKI          ZEN    Running Repairs   \n",
       "3     THNAE  Maharashtra     TATA MOTORS       INDICA     SMC Redemption   \n",
       "4     THANE  Maharashtra         HYUNDAI  SANTRO XING       Paid Service   \n",
       "5     THANE  Maharashtra          TOYOTA       INNOVA    Running Repairs   \n",
       "6     THANE  Maharashtra           HONDA         CITY    Running Repairs   \n",
       "7     THANE  Maharashtra   MARUTI SUZUKI  SWIFT DZIRE    Running Repairs   \n",
       "8  THANE[W]  Maharashtra     TATA MOTORS       INDIGO    Running Repairs   \n",
       "9     THANE  Maharashtra   MARUTI SUZUKI         ALTO       Paid Service   \n",
       "\n",
       "   Total Value  \n",
       "0      4051.95  \n",
       "1      1001.29  \n",
       "2       233.14  \n",
       "3         0.00  \n",
       "4      2747.12  \n",
       "5       865.92  \n",
       "6       749.42  \n",
       "7         0.00  \n",
       "8         0.00  \n",
       "9      3912.61  "
      ]
     },
     "execution_count": 88,
     "metadata": {},
     "output_type": "execute_result"
    }
   ],
   "source": [
    "#adding Total Value column \n",
    "df['Total Value'] = Final_invoice['Total Value']\n",
    "df.head(10)"
   ]
  },
  {
   "cell_type": "code",
   "execution_count": 90,
   "metadata": {},
   "outputs": [
    {
     "data": {
      "text/plain": [
       "(490788, 6)"
      ]
     },
     "execution_count": 90,
     "metadata": {},
     "output_type": "execute_result"
    }
   ],
   "source": [
    "df.shape"
   ]
  },
  {
   "cell_type": "code",
   "execution_count": 97,
   "metadata": {},
   "outputs": [
    {
     "data": {
      "text/html": [
       "<div>\n",
       "<style scoped>\n",
       "    .dataframe tbody tr th:only-of-type {\n",
       "        vertical-align: middle;\n",
       "    }\n",
       "\n",
       "    .dataframe tbody tr th {\n",
       "        vertical-align: top;\n",
       "    }\n",
       "\n",
       "    .dataframe thead th {\n",
       "        text-align: right;\n",
       "    }\n",
       "</style>\n",
       "<table border=\"1\" class=\"dataframe\">\n",
       "  <thead>\n",
       "    <tr style=\"text-align: right;\">\n",
       "      <th></th>\n",
       "      <th>Make</th>\n",
       "      <th>Total Value</th>\n",
       "    </tr>\n",
       "  </thead>\n",
       "  <tbody>\n",
       "    <tr>\n",
       "      <th>0</th>\n",
       "      <td>MAHINDRA &amp;  MAHINDRA</td>\n",
       "      <td>3.441921e+08</td>\n",
       "    </tr>\n",
       "    <tr>\n",
       "      <th>1</th>\n",
       "      <td>MARUTI SUZUKI</td>\n",
       "      <td>2.858433e+08</td>\n",
       "    </tr>\n",
       "    <tr>\n",
       "      <th>2</th>\n",
       "      <td>HYUNDAI</td>\n",
       "      <td>2.034663e+08</td>\n",
       "    </tr>\n",
       "    <tr>\n",
       "      <th>3</th>\n",
       "      <td>TATA MOTORS</td>\n",
       "      <td>1.563914e+08</td>\n",
       "    </tr>\n",
       "    <tr>\n",
       "      <th>4</th>\n",
       "      <td>GENERAL MOTORS</td>\n",
       "      <td>7.399736e+07</td>\n",
       "    </tr>\n",
       "  </tbody>\n",
       "</table>\n",
       "</div>"
      ],
      "text/plain": [
       "                   Make   Total Value\n",
       "0  MAHINDRA &  MAHINDRA  3.441921e+08\n",
       "1         MARUTI SUZUKI  2.858433e+08\n",
       "2               HYUNDAI  2.034663e+08\n",
       "3           TATA MOTORS  1.563914e+08\n",
       "4        GENERAL MOTORS  7.399736e+07"
      ]
     },
     "execution_count": 97,
     "metadata": {},
     "output_type": "execute_result"
    }
   ],
   "source": [
    "#Grouping the data with Car brand\n",
    "Car_make_grouped = df.groupby('Make')\n",
    "\n",
    "Car_Rev = pd.DataFrame(Car_make_grouped[\"Total Value\"].sum().sort_values(ascending=False))\n",
    "\n",
    "Car_Rev = Car_Rev.reset_index()\n",
    "\n",
    "Car_Rev.head(5)"
   ]
  },
  {
   "cell_type": "code",
   "execution_count": 103,
   "metadata": {},
   "outputs": [
    {
     "data": {
      "application/vnd.plotly.v1+json": {
       "config": {
        "plotlyServerURL": "https://plot.ly"
       },
       "data": [
        {
         "marker": {
          "color": "rgb(255,165,0)",
          "line": {
           "color": "rgb(0,0,0)",
           "width": 1.5
          }
         },
         "type": "bar",
         "x": [
          "MAHINDRA &  MAHINDRA",
          "MARUTI SUZUKI",
          "HYUNDAI",
          "TATA MOTORS",
          "GENERAL MOTORS",
          "TOYOTA",
          "FORD",
          "HONDA",
          "SKODA",
          "FIAT",
          "VOLKSWAGEN",
          "NISSAN",
          "RENAULT",
          "MITSUBISHI MOTORS",
          "DAEWOO",
          "BMW",
          "MERCEDES BENZ",
          "AUDI",
          "FORCE",
          "HINDUSTAN MOTORS",
          "PREMIER AUTOMOBILES",
          "LAND ROVER",
          "SONALIKA",
          "VOLVO",
          "PORCHE",
          "SAN MOTORS",
          "JEEP",
          "MORRIS"
         ],
         "y": [
          344192107.5800034,
          285843308.50000536,
          203466344.110004,
          156391416.55000117,
          73997357.13000086,
          60114056.89999993,
          59086498.45000031,
          43587836.800000004,
          22078091.31000006,
          17924068.550000004,
          13210069.590000018,
          5023313.680000005,
          4330048.2800000105,
          3975841.0800000005,
          974701.9799999995,
          828631.39,
          790413.2200000004,
          368236.51,
          363804.8599999999,
          253174.12999999995,
          171481.99000000002,
          64668.44,
          53439.19999999999,
          24382.149999999998,
          11543.91,
          450.38,
          357.32,
          353.16
         ]
        }
       ],
       "layout": {
        "template": {
         "data": {
          "bar": [
           {
            "error_x": {
             "color": "#f2f5fa"
            },
            "error_y": {
             "color": "#f2f5fa"
            },
            "marker": {
             "line": {
              "color": "rgb(17,17,17)",
              "width": 0.5
             }
            },
            "type": "bar"
           }
          ],
          "barpolar": [
           {
            "marker": {
             "line": {
              "color": "rgb(17,17,17)",
              "width": 0.5
             }
            },
            "type": "barpolar"
           }
          ],
          "carpet": [
           {
            "aaxis": {
             "endlinecolor": "#A2B1C6",
             "gridcolor": "#506784",
             "linecolor": "#506784",
             "minorgridcolor": "#506784",
             "startlinecolor": "#A2B1C6"
            },
            "baxis": {
             "endlinecolor": "#A2B1C6",
             "gridcolor": "#506784",
             "linecolor": "#506784",
             "minorgridcolor": "#506784",
             "startlinecolor": "#A2B1C6"
            },
            "type": "carpet"
           }
          ],
          "choropleth": [
           {
            "colorbar": {
             "outlinewidth": 0,
             "ticks": ""
            },
            "type": "choropleth"
           }
          ],
          "contour": [
           {
            "colorbar": {
             "outlinewidth": 0,
             "ticks": ""
            },
            "colorscale": [
             [
              0,
              "#0d0887"
             ],
             [
              0.1111111111111111,
              "#46039f"
             ],
             [
              0.2222222222222222,
              "#7201a8"
             ],
             [
              0.3333333333333333,
              "#9c179e"
             ],
             [
              0.4444444444444444,
              "#bd3786"
             ],
             [
              0.5555555555555556,
              "#d8576b"
             ],
             [
              0.6666666666666666,
              "#ed7953"
             ],
             [
              0.7777777777777778,
              "#fb9f3a"
             ],
             [
              0.8888888888888888,
              "#fdca26"
             ],
             [
              1,
              "#f0f921"
             ]
            ],
            "type": "contour"
           }
          ],
          "contourcarpet": [
           {
            "colorbar": {
             "outlinewidth": 0,
             "ticks": ""
            },
            "type": "contourcarpet"
           }
          ],
          "heatmap": [
           {
            "colorbar": {
             "outlinewidth": 0,
             "ticks": ""
            },
            "colorscale": [
             [
              0,
              "#0d0887"
             ],
             [
              0.1111111111111111,
              "#46039f"
             ],
             [
              0.2222222222222222,
              "#7201a8"
             ],
             [
              0.3333333333333333,
              "#9c179e"
             ],
             [
              0.4444444444444444,
              "#bd3786"
             ],
             [
              0.5555555555555556,
              "#d8576b"
             ],
             [
              0.6666666666666666,
              "#ed7953"
             ],
             [
              0.7777777777777778,
              "#fb9f3a"
             ],
             [
              0.8888888888888888,
              "#fdca26"
             ],
             [
              1,
              "#f0f921"
             ]
            ],
            "type": "heatmap"
           }
          ],
          "heatmapgl": [
           {
            "colorbar": {
             "outlinewidth": 0,
             "ticks": ""
            },
            "colorscale": [
             [
              0,
              "#0d0887"
             ],
             [
              0.1111111111111111,
              "#46039f"
             ],
             [
              0.2222222222222222,
              "#7201a8"
             ],
             [
              0.3333333333333333,
              "#9c179e"
             ],
             [
              0.4444444444444444,
              "#bd3786"
             ],
             [
              0.5555555555555556,
              "#d8576b"
             ],
             [
              0.6666666666666666,
              "#ed7953"
             ],
             [
              0.7777777777777778,
              "#fb9f3a"
             ],
             [
              0.8888888888888888,
              "#fdca26"
             ],
             [
              1,
              "#f0f921"
             ]
            ],
            "type": "heatmapgl"
           }
          ],
          "histogram": [
           {
            "marker": {
             "colorbar": {
              "outlinewidth": 0,
              "ticks": ""
             }
            },
            "type": "histogram"
           }
          ],
          "histogram2d": [
           {
            "colorbar": {
             "outlinewidth": 0,
             "ticks": ""
            },
            "colorscale": [
             [
              0,
              "#0d0887"
             ],
             [
              0.1111111111111111,
              "#46039f"
             ],
             [
              0.2222222222222222,
              "#7201a8"
             ],
             [
              0.3333333333333333,
              "#9c179e"
             ],
             [
              0.4444444444444444,
              "#bd3786"
             ],
             [
              0.5555555555555556,
              "#d8576b"
             ],
             [
              0.6666666666666666,
              "#ed7953"
             ],
             [
              0.7777777777777778,
              "#fb9f3a"
             ],
             [
              0.8888888888888888,
              "#fdca26"
             ],
             [
              1,
              "#f0f921"
             ]
            ],
            "type": "histogram2d"
           }
          ],
          "histogram2dcontour": [
           {
            "colorbar": {
             "outlinewidth": 0,
             "ticks": ""
            },
            "colorscale": [
             [
              0,
              "#0d0887"
             ],
             [
              0.1111111111111111,
              "#46039f"
             ],
             [
              0.2222222222222222,
              "#7201a8"
             ],
             [
              0.3333333333333333,
              "#9c179e"
             ],
             [
              0.4444444444444444,
              "#bd3786"
             ],
             [
              0.5555555555555556,
              "#d8576b"
             ],
             [
              0.6666666666666666,
              "#ed7953"
             ],
             [
              0.7777777777777778,
              "#fb9f3a"
             ],
             [
              0.8888888888888888,
              "#fdca26"
             ],
             [
              1,
              "#f0f921"
             ]
            ],
            "type": "histogram2dcontour"
           }
          ],
          "mesh3d": [
           {
            "colorbar": {
             "outlinewidth": 0,
             "ticks": ""
            },
            "type": "mesh3d"
           }
          ],
          "parcoords": [
           {
            "line": {
             "colorbar": {
              "outlinewidth": 0,
              "ticks": ""
             }
            },
            "type": "parcoords"
           }
          ],
          "pie": [
           {
            "automargin": true,
            "type": "pie"
           }
          ],
          "scatter": [
           {
            "marker": {
             "line": {
              "color": "#283442"
             }
            },
            "type": "scatter"
           }
          ],
          "scatter3d": [
           {
            "line": {
             "colorbar": {
              "outlinewidth": 0,
              "ticks": ""
             }
            },
            "marker": {
             "colorbar": {
              "outlinewidth": 0,
              "ticks": ""
             }
            },
            "type": "scatter3d"
           }
          ],
          "scattercarpet": [
           {
            "marker": {
             "colorbar": {
              "outlinewidth": 0,
              "ticks": ""
             }
            },
            "type": "scattercarpet"
           }
          ],
          "scattergeo": [
           {
            "marker": {
             "colorbar": {
              "outlinewidth": 0,
              "ticks": ""
             }
            },
            "type": "scattergeo"
           }
          ],
          "scattergl": [
           {
            "marker": {
             "line": {
              "color": "#283442"
             }
            },
            "type": "scattergl"
           }
          ],
          "scattermapbox": [
           {
            "marker": {
             "colorbar": {
              "outlinewidth": 0,
              "ticks": ""
             }
            },
            "type": "scattermapbox"
           }
          ],
          "scatterpolar": [
           {
            "marker": {
             "colorbar": {
              "outlinewidth": 0,
              "ticks": ""
             }
            },
            "type": "scatterpolar"
           }
          ],
          "scatterpolargl": [
           {
            "marker": {
             "colorbar": {
              "outlinewidth": 0,
              "ticks": ""
             }
            },
            "type": "scatterpolargl"
           }
          ],
          "scatterternary": [
           {
            "marker": {
             "colorbar": {
              "outlinewidth": 0,
              "ticks": ""
             }
            },
            "type": "scatterternary"
           }
          ],
          "surface": [
           {
            "colorbar": {
             "outlinewidth": 0,
             "ticks": ""
            },
            "colorscale": [
             [
              0,
              "#0d0887"
             ],
             [
              0.1111111111111111,
              "#46039f"
             ],
             [
              0.2222222222222222,
              "#7201a8"
             ],
             [
              0.3333333333333333,
              "#9c179e"
             ],
             [
              0.4444444444444444,
              "#bd3786"
             ],
             [
              0.5555555555555556,
              "#d8576b"
             ],
             [
              0.6666666666666666,
              "#ed7953"
             ],
             [
              0.7777777777777778,
              "#fb9f3a"
             ],
             [
              0.8888888888888888,
              "#fdca26"
             ],
             [
              1,
              "#f0f921"
             ]
            ],
            "type": "surface"
           }
          ],
          "table": [
           {
            "cells": {
             "fill": {
              "color": "#506784"
             },
             "line": {
              "color": "rgb(17,17,17)"
             }
            },
            "header": {
             "fill": {
              "color": "#2a3f5f"
             },
             "line": {
              "color": "rgb(17,17,17)"
             }
            },
            "type": "table"
           }
          ]
         },
         "layout": {
          "annotationdefaults": {
           "arrowcolor": "#f2f5fa",
           "arrowhead": 0,
           "arrowwidth": 1
          },
          "autotypenumbers": "strict",
          "coloraxis": {
           "colorbar": {
            "outlinewidth": 0,
            "ticks": ""
           }
          },
          "colorscale": {
           "diverging": [
            [
             0,
             "#8e0152"
            ],
            [
             0.1,
             "#c51b7d"
            ],
            [
             0.2,
             "#de77ae"
            ],
            [
             0.3,
             "#f1b6da"
            ],
            [
             0.4,
             "#fde0ef"
            ],
            [
             0.5,
             "#f7f7f7"
            ],
            [
             0.6,
             "#e6f5d0"
            ],
            [
             0.7,
             "#b8e186"
            ],
            [
             0.8,
             "#7fbc41"
            ],
            [
             0.9,
             "#4d9221"
            ],
            [
             1,
             "#276419"
            ]
           ],
           "sequential": [
            [
             0,
             "#0d0887"
            ],
            [
             0.1111111111111111,
             "#46039f"
            ],
            [
             0.2222222222222222,
             "#7201a8"
            ],
            [
             0.3333333333333333,
             "#9c179e"
            ],
            [
             0.4444444444444444,
             "#bd3786"
            ],
            [
             0.5555555555555556,
             "#d8576b"
            ],
            [
             0.6666666666666666,
             "#ed7953"
            ],
            [
             0.7777777777777778,
             "#fb9f3a"
            ],
            [
             0.8888888888888888,
             "#fdca26"
            ],
            [
             1,
             "#f0f921"
            ]
           ],
           "sequentialminus": [
            [
             0,
             "#0d0887"
            ],
            [
             0.1111111111111111,
             "#46039f"
            ],
            [
             0.2222222222222222,
             "#7201a8"
            ],
            [
             0.3333333333333333,
             "#9c179e"
            ],
            [
             0.4444444444444444,
             "#bd3786"
            ],
            [
             0.5555555555555556,
             "#d8576b"
            ],
            [
             0.6666666666666666,
             "#ed7953"
            ],
            [
             0.7777777777777778,
             "#fb9f3a"
            ],
            [
             0.8888888888888888,
             "#fdca26"
            ],
            [
             1,
             "#f0f921"
            ]
           ]
          },
          "colorway": [
           "#636efa",
           "#EF553B",
           "#00cc96",
           "#ab63fa",
           "#FFA15A",
           "#19d3f3",
           "#FF6692",
           "#B6E880",
           "#FF97FF",
           "#FECB52"
          ],
          "font": {
           "color": "#f2f5fa"
          },
          "geo": {
           "bgcolor": "rgb(17,17,17)",
           "lakecolor": "rgb(17,17,17)",
           "landcolor": "rgb(17,17,17)",
           "showlakes": true,
           "showland": true,
           "subunitcolor": "#506784"
          },
          "hoverlabel": {
           "align": "left"
          },
          "hovermode": "closest",
          "mapbox": {
           "style": "dark"
          },
          "paper_bgcolor": "rgb(17,17,17)",
          "plot_bgcolor": "rgb(17,17,17)",
          "polar": {
           "angularaxis": {
            "gridcolor": "#506784",
            "linecolor": "#506784",
            "ticks": ""
           },
           "bgcolor": "rgb(17,17,17)",
           "radialaxis": {
            "gridcolor": "#506784",
            "linecolor": "#506784",
            "ticks": ""
           }
          },
          "scene": {
           "xaxis": {
            "backgroundcolor": "rgb(17,17,17)",
            "gridcolor": "#506784",
            "gridwidth": 2,
            "linecolor": "#506784",
            "showbackground": true,
            "ticks": "",
            "zerolinecolor": "#C8D4E3"
           },
           "yaxis": {
            "backgroundcolor": "rgb(17,17,17)",
            "gridcolor": "#506784",
            "gridwidth": 2,
            "linecolor": "#506784",
            "showbackground": true,
            "ticks": "",
            "zerolinecolor": "#C8D4E3"
           },
           "zaxis": {
            "backgroundcolor": "rgb(17,17,17)",
            "gridcolor": "#506784",
            "gridwidth": 2,
            "linecolor": "#506784",
            "showbackground": true,
            "ticks": "",
            "zerolinecolor": "#C8D4E3"
           }
          },
          "shapedefaults": {
           "line": {
            "color": "#f2f5fa"
           }
          },
          "sliderdefaults": {
           "bgcolor": "#C8D4E3",
           "bordercolor": "rgb(17,17,17)",
           "borderwidth": 1,
           "tickwidth": 0
          },
          "ternary": {
           "aaxis": {
            "gridcolor": "#506784",
            "linecolor": "#506784",
            "ticks": ""
           },
           "baxis": {
            "gridcolor": "#506784",
            "linecolor": "#506784",
            "ticks": ""
           },
           "bgcolor": "rgb(17,17,17)",
           "caxis": {
            "gridcolor": "#506784",
            "linecolor": "#506784",
            "ticks": ""
           }
          },
          "title": {
           "x": 0.05
          },
          "updatemenudefaults": {
           "bgcolor": "#506784",
           "borderwidth": 0
          },
          "xaxis": {
           "automargin": true,
           "gridcolor": "#283442",
           "linecolor": "#506784",
           "ticks": "",
           "title": {
            "standoff": 15
           },
           "zerolinecolor": "#283442",
           "zerolinewidth": 2
          },
          "yaxis": {
           "automargin": true,
           "gridcolor": "#283442",
           "linecolor": "#506784",
           "ticks": "",
           "title": {
            "standoff": 15
           },
           "zerolinecolor": "#283442",
           "zerolinewidth": 2
          }
         }
        },
        "title": {
         "text": "Total revenue made on the basis of Car Brand"
        },
        "xaxis": {
         "title": {
          "text": "Car Brand"
         }
        },
        "yaxis": {
         "title": {
          "text": "Total Value"
         }
        }
       }
      },
      "text/html": [
       "<div>                            <div id=\"16f2a675-9f2c-4d08-9d1b-620f2b4b6f53\" class=\"plotly-graph-div\" style=\"height:525px; width:100%;\"></div>            <script type=\"text/javascript\">                require([\"plotly\"], function(Plotly) {                    window.PLOTLYENV=window.PLOTLYENV || {};                                    if (document.getElementById(\"16f2a675-9f2c-4d08-9d1b-620f2b4b6f53\")) {                    Plotly.newPlot(                        \"16f2a675-9f2c-4d08-9d1b-620f2b4b6f53\",                        [{\"marker\": {\"color\": \"rgb(255,165,0)\", \"line\": {\"color\": \"rgb(0,0,0)\", \"width\": 1.5}}, \"type\": \"bar\", \"x\": [\"MAHINDRA &  MAHINDRA\", \"MARUTI SUZUKI\", \"HYUNDAI\", \"TATA MOTORS\", \"GENERAL MOTORS\", \"TOYOTA\", \"FORD\", \"HONDA\", \"SKODA\", \"FIAT\", \"VOLKSWAGEN\", \"NISSAN\", \"RENAULT\", \"MITSUBISHI MOTORS\", \"DAEWOO\", \"BMW\", \"MERCEDES BENZ\", \"AUDI\", \"FORCE\", \"HINDUSTAN MOTORS\", \"PREMIER\\u00a0AUTOMOBILES\", \"LAND ROVER\", \"SONALIKA\", \"VOLVO\", \"PORCHE\", \"SAN MOTORS\", \"JEEP\", \"MORRIS\"], \"y\": [344192107.5800034, 285843308.50000536, 203466344.110004, 156391416.55000117, 73997357.13000086, 60114056.89999993, 59086498.45000031, 43587836.800000004, 22078091.31000006, 17924068.550000004, 13210069.590000018, 5023313.680000005, 4330048.2800000105, 3975841.0800000005, 974701.9799999995, 828631.39, 790413.2200000004, 368236.51, 363804.8599999999, 253174.12999999995, 171481.99000000002, 64668.44, 53439.19999999999, 24382.149999999998, 11543.91, 450.38, 357.32, 353.16]}],                        {\"template\": {\"data\": {\"bar\": [{\"error_x\": {\"color\": \"#f2f5fa\"}, \"error_y\": {\"color\": \"#f2f5fa\"}, \"marker\": {\"line\": {\"color\": \"rgb(17,17,17)\", \"width\": 0.5}}, \"type\": \"bar\"}], \"barpolar\": [{\"marker\": {\"line\": {\"color\": \"rgb(17,17,17)\", \"width\": 0.5}}, \"type\": \"barpolar\"}], \"carpet\": [{\"aaxis\": {\"endlinecolor\": \"#A2B1C6\", \"gridcolor\": \"#506784\", \"linecolor\": \"#506784\", \"minorgridcolor\": \"#506784\", \"startlinecolor\": \"#A2B1C6\"}, \"baxis\": {\"endlinecolor\": \"#A2B1C6\", \"gridcolor\": \"#506784\", \"linecolor\": \"#506784\", \"minorgridcolor\": \"#506784\", \"startlinecolor\": \"#A2B1C6\"}, \"type\": \"carpet\"}], \"choropleth\": [{\"colorbar\": {\"outlinewidth\": 0, \"ticks\": \"\"}, \"type\": \"choropleth\"}], \"contour\": [{\"colorbar\": {\"outlinewidth\": 0, \"ticks\": \"\"}, \"colorscale\": [[0.0, \"#0d0887\"], [0.1111111111111111, \"#46039f\"], [0.2222222222222222, \"#7201a8\"], [0.3333333333333333, \"#9c179e\"], [0.4444444444444444, \"#bd3786\"], [0.5555555555555556, \"#d8576b\"], [0.6666666666666666, \"#ed7953\"], [0.7777777777777778, \"#fb9f3a\"], [0.8888888888888888, \"#fdca26\"], [1.0, \"#f0f921\"]], \"type\": \"contour\"}], \"contourcarpet\": [{\"colorbar\": {\"outlinewidth\": 0, \"ticks\": \"\"}, \"type\": \"contourcarpet\"}], \"heatmap\": [{\"colorbar\": {\"outlinewidth\": 0, \"ticks\": \"\"}, \"colorscale\": [[0.0, \"#0d0887\"], [0.1111111111111111, \"#46039f\"], [0.2222222222222222, \"#7201a8\"], [0.3333333333333333, \"#9c179e\"], [0.4444444444444444, \"#bd3786\"], [0.5555555555555556, \"#d8576b\"], [0.6666666666666666, \"#ed7953\"], [0.7777777777777778, \"#fb9f3a\"], [0.8888888888888888, \"#fdca26\"], [1.0, \"#f0f921\"]], \"type\": \"heatmap\"}], \"heatmapgl\": [{\"colorbar\": {\"outlinewidth\": 0, \"ticks\": \"\"}, \"colorscale\": [[0.0, \"#0d0887\"], [0.1111111111111111, \"#46039f\"], [0.2222222222222222, \"#7201a8\"], [0.3333333333333333, \"#9c179e\"], [0.4444444444444444, \"#bd3786\"], [0.5555555555555556, \"#d8576b\"], [0.6666666666666666, \"#ed7953\"], [0.7777777777777778, \"#fb9f3a\"], [0.8888888888888888, \"#fdca26\"], [1.0, \"#f0f921\"]], \"type\": \"heatmapgl\"}], \"histogram\": [{\"marker\": {\"colorbar\": {\"outlinewidth\": 0, \"ticks\": \"\"}}, \"type\": \"histogram\"}], \"histogram2d\": [{\"colorbar\": {\"outlinewidth\": 0, \"ticks\": \"\"}, \"colorscale\": [[0.0, \"#0d0887\"], [0.1111111111111111, \"#46039f\"], [0.2222222222222222, \"#7201a8\"], [0.3333333333333333, \"#9c179e\"], [0.4444444444444444, \"#bd3786\"], [0.5555555555555556, \"#d8576b\"], [0.6666666666666666, \"#ed7953\"], [0.7777777777777778, \"#fb9f3a\"], [0.8888888888888888, \"#fdca26\"], [1.0, \"#f0f921\"]], \"type\": \"histogram2d\"}], \"histogram2dcontour\": [{\"colorbar\": {\"outlinewidth\": 0, \"ticks\": \"\"}, \"colorscale\": [[0.0, \"#0d0887\"], [0.1111111111111111, \"#46039f\"], [0.2222222222222222, \"#7201a8\"], [0.3333333333333333, \"#9c179e\"], [0.4444444444444444, \"#bd3786\"], [0.5555555555555556, \"#d8576b\"], [0.6666666666666666, \"#ed7953\"], [0.7777777777777778, \"#fb9f3a\"], [0.8888888888888888, \"#fdca26\"], [1.0, \"#f0f921\"]], \"type\": \"histogram2dcontour\"}], \"mesh3d\": [{\"colorbar\": {\"outlinewidth\": 0, \"ticks\": \"\"}, \"type\": \"mesh3d\"}], \"parcoords\": [{\"line\": {\"colorbar\": {\"outlinewidth\": 0, \"ticks\": \"\"}}, \"type\": \"parcoords\"}], \"pie\": [{\"automargin\": true, \"type\": \"pie\"}], \"scatter\": [{\"marker\": {\"line\": {\"color\": \"#283442\"}}, \"type\": \"scatter\"}], \"scatter3d\": [{\"line\": {\"colorbar\": {\"outlinewidth\": 0, \"ticks\": \"\"}}, \"marker\": {\"colorbar\": {\"outlinewidth\": 0, \"ticks\": \"\"}}, \"type\": \"scatter3d\"}], \"scattercarpet\": [{\"marker\": {\"colorbar\": {\"outlinewidth\": 0, \"ticks\": \"\"}}, \"type\": \"scattercarpet\"}], \"scattergeo\": [{\"marker\": {\"colorbar\": {\"outlinewidth\": 0, \"ticks\": \"\"}}, \"type\": \"scattergeo\"}], \"scattergl\": [{\"marker\": {\"line\": {\"color\": \"#283442\"}}, \"type\": \"scattergl\"}], \"scattermapbox\": [{\"marker\": {\"colorbar\": {\"outlinewidth\": 0, \"ticks\": \"\"}}, \"type\": \"scattermapbox\"}], \"scatterpolar\": [{\"marker\": {\"colorbar\": {\"outlinewidth\": 0, \"ticks\": \"\"}}, \"type\": \"scatterpolar\"}], \"scatterpolargl\": [{\"marker\": {\"colorbar\": {\"outlinewidth\": 0, \"ticks\": \"\"}}, \"type\": \"scatterpolargl\"}], \"scatterternary\": [{\"marker\": {\"colorbar\": {\"outlinewidth\": 0, \"ticks\": \"\"}}, \"type\": \"scatterternary\"}], \"surface\": [{\"colorbar\": {\"outlinewidth\": 0, \"ticks\": \"\"}, \"colorscale\": [[0.0, \"#0d0887\"], [0.1111111111111111, \"#46039f\"], [0.2222222222222222, \"#7201a8\"], [0.3333333333333333, \"#9c179e\"], [0.4444444444444444, \"#bd3786\"], [0.5555555555555556, \"#d8576b\"], [0.6666666666666666, \"#ed7953\"], [0.7777777777777778, \"#fb9f3a\"], [0.8888888888888888, \"#fdca26\"], [1.0, \"#f0f921\"]], \"type\": \"surface\"}], \"table\": [{\"cells\": {\"fill\": {\"color\": \"#506784\"}, \"line\": {\"color\": \"rgb(17,17,17)\"}}, \"header\": {\"fill\": {\"color\": \"#2a3f5f\"}, \"line\": {\"color\": \"rgb(17,17,17)\"}}, \"type\": \"table\"}]}, \"layout\": {\"annotationdefaults\": {\"arrowcolor\": \"#f2f5fa\", \"arrowhead\": 0, \"arrowwidth\": 1}, \"autotypenumbers\": \"strict\", \"coloraxis\": {\"colorbar\": {\"outlinewidth\": 0, \"ticks\": \"\"}}, \"colorscale\": {\"diverging\": [[0, \"#8e0152\"], [0.1, \"#c51b7d\"], [0.2, \"#de77ae\"], [0.3, \"#f1b6da\"], [0.4, \"#fde0ef\"], [0.5, \"#f7f7f7\"], [0.6, \"#e6f5d0\"], [0.7, \"#b8e186\"], [0.8, \"#7fbc41\"], [0.9, \"#4d9221\"], [1, \"#276419\"]], \"sequential\": [[0.0, \"#0d0887\"], [0.1111111111111111, \"#46039f\"], [0.2222222222222222, \"#7201a8\"], [0.3333333333333333, \"#9c179e\"], [0.4444444444444444, \"#bd3786\"], [0.5555555555555556, \"#d8576b\"], [0.6666666666666666, \"#ed7953\"], [0.7777777777777778, \"#fb9f3a\"], [0.8888888888888888, \"#fdca26\"], [1.0, \"#f0f921\"]], \"sequentialminus\": [[0.0, \"#0d0887\"], [0.1111111111111111, \"#46039f\"], [0.2222222222222222, \"#7201a8\"], [0.3333333333333333, \"#9c179e\"], [0.4444444444444444, \"#bd3786\"], [0.5555555555555556, \"#d8576b\"], [0.6666666666666666, \"#ed7953\"], [0.7777777777777778, \"#fb9f3a\"], [0.8888888888888888, \"#fdca26\"], [1.0, \"#f0f921\"]]}, \"colorway\": [\"#636efa\", \"#EF553B\", \"#00cc96\", \"#ab63fa\", \"#FFA15A\", \"#19d3f3\", \"#FF6692\", \"#B6E880\", \"#FF97FF\", \"#FECB52\"], \"font\": {\"color\": \"#f2f5fa\"}, \"geo\": {\"bgcolor\": \"rgb(17,17,17)\", \"lakecolor\": \"rgb(17,17,17)\", \"landcolor\": \"rgb(17,17,17)\", \"showlakes\": true, \"showland\": true, \"subunitcolor\": \"#506784\"}, \"hoverlabel\": {\"align\": \"left\"}, \"hovermode\": \"closest\", \"mapbox\": {\"style\": \"dark\"}, \"paper_bgcolor\": \"rgb(17,17,17)\", \"plot_bgcolor\": \"rgb(17,17,17)\", \"polar\": {\"angularaxis\": {\"gridcolor\": \"#506784\", \"linecolor\": \"#506784\", \"ticks\": \"\"}, \"bgcolor\": \"rgb(17,17,17)\", \"radialaxis\": {\"gridcolor\": \"#506784\", \"linecolor\": \"#506784\", \"ticks\": \"\"}}, \"scene\": {\"xaxis\": {\"backgroundcolor\": \"rgb(17,17,17)\", \"gridcolor\": \"#506784\", \"gridwidth\": 2, \"linecolor\": \"#506784\", \"showbackground\": true, \"ticks\": \"\", \"zerolinecolor\": \"#C8D4E3\"}, \"yaxis\": {\"backgroundcolor\": \"rgb(17,17,17)\", \"gridcolor\": \"#506784\", \"gridwidth\": 2, \"linecolor\": \"#506784\", \"showbackground\": true, \"ticks\": \"\", \"zerolinecolor\": \"#C8D4E3\"}, \"zaxis\": {\"backgroundcolor\": \"rgb(17,17,17)\", \"gridcolor\": \"#506784\", \"gridwidth\": 2, \"linecolor\": \"#506784\", \"showbackground\": true, \"ticks\": \"\", \"zerolinecolor\": \"#C8D4E3\"}}, \"shapedefaults\": {\"line\": {\"color\": \"#f2f5fa\"}}, \"sliderdefaults\": {\"bgcolor\": \"#C8D4E3\", \"bordercolor\": \"rgb(17,17,17)\", \"borderwidth\": 1, \"tickwidth\": 0}, \"ternary\": {\"aaxis\": {\"gridcolor\": \"#506784\", \"linecolor\": \"#506784\", \"ticks\": \"\"}, \"baxis\": {\"gridcolor\": \"#506784\", \"linecolor\": \"#506784\", \"ticks\": \"\"}, \"bgcolor\": \"rgb(17,17,17)\", \"caxis\": {\"gridcolor\": \"#506784\", \"linecolor\": \"#506784\", \"ticks\": \"\"}}, \"title\": {\"x\": 0.05}, \"updatemenudefaults\": {\"bgcolor\": \"#506784\", \"borderwidth\": 0}, \"xaxis\": {\"automargin\": true, \"gridcolor\": \"#283442\", \"linecolor\": \"#506784\", \"ticks\": \"\", \"title\": {\"standoff\": 15}, \"zerolinecolor\": \"#283442\", \"zerolinewidth\": 2}, \"yaxis\": {\"automargin\": true, \"gridcolor\": \"#283442\", \"linecolor\": \"#506784\", \"ticks\": \"\", \"title\": {\"standoff\": 15}, \"zerolinecolor\": \"#283442\", \"zerolinewidth\": 2}}}, \"title\": {\"text\": \"Total revenue made on the basis of Car Brand\"}, \"xaxis\": {\"title\": {\"text\": \"Car Brand\"}}, \"yaxis\": {\"title\": {\"text\": \"Total Value\"}}},                        {\"responsive\": true}                    ).then(function(){\n",
       "                            \n",
       "var gd = document.getElementById('16f2a675-9f2c-4d08-9d1b-620f2b4b6f53');\n",
       "var x = new MutationObserver(function (mutations, observer) {{\n",
       "        var display = window.getComputedStyle(gd).display;\n",
       "        if (!display || display === 'none') {{\n",
       "            console.log([gd, 'removed!']);\n",
       "            Plotly.purge(gd);\n",
       "            observer.disconnect();\n",
       "        }}\n",
       "}});\n",
       "\n",
       "// Listen for the removal of the full notebook cells\n",
       "var notebookContainer = gd.closest('#notebook-container');\n",
       "if (notebookContainer) {{\n",
       "    x.observe(notebookContainer, {childList: true});\n",
       "}}\n",
       "\n",
       "// Listen for the clearing of the current output cell\n",
       "var outputEl = gd.closest('.output');\n",
       "if (outputEl) {{\n",
       "    x.observe(outputEl, {childList: true});\n",
       "}}\n",
       "\n",
       "                        })                };                });            </script>        </div>"
      ]
     },
     "metadata": {},
     "output_type": "display_data"
    }
   ],
   "source": [
    "trace1 = go.Bar(\n",
    "                x = Car_Rev['Make'],\n",
    "                y = Car_Rev['Total Value'],\n",
    "                marker = dict(color = 'rgb(255,165,0)',\n",
    "                              line=dict(color='rgb(0,0,0)',width=1.5)))\n",
    "layout = go.Layout(template= \"plotly_dark\",title = 'Total revenue made on the basis of Car Brand' , xaxis = dict(title = 'Car Brand'), yaxis = dict(title = 'Total Value'))\n",
    "fig = go.Figure(data = [trace1], layout = layout)\n",
    "fig.show()"
   ]
  },
  {
   "cell_type": "code",
   "execution_count": 109,
   "metadata": {},
   "outputs": [
    {
     "data": {
      "text/html": [
       "<div>\n",
       "<style scoped>\n",
       "    .dataframe tbody tr th:only-of-type {\n",
       "        vertical-align: middle;\n",
       "    }\n",
       "\n",
       "    .dataframe tbody tr th {\n",
       "        vertical-align: top;\n",
       "    }\n",
       "\n",
       "    .dataframe thead th {\n",
       "        text-align: right;\n",
       "    }\n",
       "</style>\n",
       "<table border=\"1\" class=\"dataframe\">\n",
       "  <thead>\n",
       "    <tr style=\"text-align: right;\">\n",
       "      <th></th>\n",
       "      <th>Model</th>\n",
       "      <th>Total Value</th>\n",
       "    </tr>\n",
       "  </thead>\n",
       "  <tbody>\n",
       "    <tr>\n",
       "      <th>0</th>\n",
       "      <td>SCORPIO CRDE</td>\n",
       "      <td>1.064364e+08</td>\n",
       "    </tr>\n",
       "    <tr>\n",
       "      <th>1</th>\n",
       "      <td>SWIFT</td>\n",
       "      <td>7.249379e+07</td>\n",
       "    </tr>\n",
       "    <tr>\n",
       "      <th>2</th>\n",
       "      <td>SANTRO</td>\n",
       "      <td>6.023017e+07</td>\n",
       "    </tr>\n",
       "    <tr>\n",
       "      <th>3</th>\n",
       "      <td>XYLO</td>\n",
       "      <td>5.958821e+07</td>\n",
       "    </tr>\n",
       "    <tr>\n",
       "      <th>4</th>\n",
       "      <td>INDICA</td>\n",
       "      <td>5.336296e+07</td>\n",
       "    </tr>\n",
       "    <tr>\n",
       "      <th>5</th>\n",
       "      <td>ALTO</td>\n",
       "      <td>5.160841e+07</td>\n",
       "    </tr>\n",
       "    <tr>\n",
       "      <th>6</th>\n",
       "      <td>BOLERO</td>\n",
       "      <td>4.824869e+07</td>\n",
       "    </tr>\n",
       "    <tr>\n",
       "      <th>7</th>\n",
       "      <td>I10</td>\n",
       "      <td>4.679167e+07</td>\n",
       "    </tr>\n",
       "    <tr>\n",
       "      <th>8</th>\n",
       "      <td>WAGONR</td>\n",
       "      <td>4.596748e+07</td>\n",
       "    </tr>\n",
       "    <tr>\n",
       "      <th>9</th>\n",
       "      <td>INNOVA</td>\n",
       "      <td>3.841913e+07</td>\n",
       "    </tr>\n",
       "  </tbody>\n",
       "</table>\n",
       "</div>"
      ],
      "text/plain": [
       "          Model   Total Value\n",
       "0  SCORPIO CRDE  1.064364e+08\n",
       "1         SWIFT  7.249379e+07\n",
       "2        SANTRO  6.023017e+07\n",
       "3          XYLO  5.958821e+07\n",
       "4        INDICA  5.336296e+07\n",
       "5          ALTO  5.160841e+07\n",
       "6        BOLERO  4.824869e+07\n",
       "7           I10  4.679167e+07\n",
       "8        WAGONR  4.596748e+07\n",
       "9        INNOVA  3.841913e+07"
      ]
     },
     "execution_count": 109,
     "metadata": {},
     "output_type": "execute_result"
    }
   ],
   "source": [
    "#Spendinf Pattern with Car Name\n",
    "\n",
    "Car_name_grouped = df.groupby('Model')\n",
    "\n",
    "Car_name_Rev = pd.DataFrame(Car_name_grouped['Total Value'].sum().sort_values(ascending=False))\n",
    "\n",
    "Car_name_Rev = Car_name_Rev.reset_index()\n",
    "\n",
    "Car_name_Rev.head(10)"
   ]
  },
  {
   "cell_type": "code",
   "execution_count": 110,
   "metadata": {},
   "outputs": [
    {
     "data": {
      "application/vnd.plotly.v1+json": {
       "config": {
        "plotlyServerURL": "https://plot.ly"
       },
       "data": [
        {
         "cells": {
          "align": "left",
          "fill": {
           "color": "lavender"
          },
          "values": [
           [
            "SCORPIO CRDE",
            "SWIFT",
            "SANTRO",
            "XYLO",
            "INDICA",
            "ALTO",
            "BOLERO",
            "I10",
            "WAGONR",
            "INNOVA",
            "LOGAN D",
            "CITY",
            "SWIFT DZIRE",
            "INDIGO",
            "I20",
            "VISTA",
            "VERNA",
            "FIESTA",
            "LOGAN P",
            "VERITO",
            "SCORPIO NEF",
            "ACCENT",
            "SPARK",
            "FIGO",
            "INDIGO MANZA",
            "800",
            "IKON",
            "RITZ",
            "BEAT",
            "SAFARI",
            "ZEN",
            "TAVERA",
            "XUV 500",
            "GETZ",
            "BOLERO PIK UP",
            "ZEN ESTILO",
            "LINEA",
            "OMNI",
            "SX4",
            "ETIOS",
            "SUMO",
            "AVEO",
            "OPTRA",
            "POLO",
            "SANTRO XING",
            "LAURA",
            "OCTAVIA",
            "CIVIC",
            "VENTO",
            "FABIA",
            "COROLLA",
            "GRAND PUNTO",
            "CHEVROLET CRUZE",
            "ERTIGA",
            "QUALIS",
            "EON",
            "RAPID",
            "EECO",
            "AVEO UV-A",
            "PALIO",
            "A STAR",
            "DUSTER",
            "NANO",
            "QUANTO",
            "INDIGO MARINA",
            "LANCER",
            "MICRA",
            "SUPER SUNNY",
            "ESTEEM 1000",
            "FORTUNER",
            "TAVERA NEO",
            "CAPTIVA",
            "SUMO GRANDE",
            "ESTEEM 1300",
            "ARMADA",
            "OPTRA MAGNUM",
            "COROLLA ALTIS",
            "OPEL CORSA",
            "BALENO",
            "SAIL",
            "MAXX",
            "MAHINDRA PIK UP",
            "ELANTRA",
            "ACCORD",
            "SUPERB",
            "AMAZE",
            "ENJOY",
            "MAHINDRA MM",
            "MATIZ",
            "THAR",
            "FUSION",
            "JAZZ",
            "JETTA",
            "PAJERO",
            "ENDEAVOUR",
            "CR-V",
            "BRIO",
            "PULSE",
            "OPEL",
            "RENAULT 1.9",
            "XCENT",
            "ARIA",
            "X1",
            "VERSA",
            "SONATA",
            "PALIO STILE",
            "OPEL ASTRA",
            "ADVENTURE",
            "CAMRY",
            "X-TRAIL",
            "ECOSPORT",
            "MARSHAL",
            "SONATA V-6",
            "207",
            "SSANYONG REXTON",
            "UNO",
            "FLUENCE",
            "PASSAT",
            "MONTERO",
            "CEDIA",
            "C-CLASS",
            "WINGER",
            "VENTURE",
            "CLASSIC",
            "AMBASSADOR",
            "TRAX",
            "YETI",
            "CELERIO",
            "SIENA",
            "S 350 L",
            "MAHINDRA CNG",
            "A4",
            "ESCORT",
            "FORCE ONE",
            "TEANA",
            "RIO",
            "CIAZ",
            "ACE",
            "GYPSY 1300",
            "S 320 CDI L",
            "PETRA",
            "BMW-M5",
            "GRAND VITARA",
            "XENON XT",
            "TERRANO",
            "E-CLASS",
            "ZEST",
            "GYPSY 1000",
            "Q7",
            "G CLASS",
            "COMMANDER",
            "5 SERIES",
            "TUCSON",
            "SSANYONG KORANDO",
            "MOBILIO",
            "ROVER",
            "KOLEOS",
            "Q5",
            "SCALA",
            "OUTLANDER",
            "SRV",
            "SANTA FE",
            "MAGIC",
            "LAND CRUISER PRADO",
            "RHINO RX",
            "SIERRA",
            "7 SERIES",
            "X3",
            "A6",
            "X5",
            "GRAND",
            "LAUREL",
            "3 SERIES",
            "ML 350",
            "TERRACAN",
            "JAGUAR XJ",
            "REVA",
            "CIELO",
            "MONDEO",
            "DATSUN GO",
            "VOLVO XC90",
            "SL-CLASS",
            "TOUAREG",
            "BOLT",
            "TL",
            "FORESTER",
            "BMW-M3",
            "PADMINI",
            "KIZASHI",
            "MINIS",
            "CLS-CLASS",
            "CONTESSA",
            "JAGUAR XF",
            "SWIFT D,ZIRE",
            "ROOMSTER",
            "FOCUS",
            "CAYMAN S",
            "CL-CLASS",
            "JAGUAR XL",
            "500",
            "SLK-CLASS",
            "CAYENNE",
            "VECTRA",
            "LODGY",
            "ML-CLASS",
            "LIMOUSINE",
            "BMW-M6",
            "LAND ROVER DISCOVERY",
            "LAND ROVER RANGE ROVER",
            "A8",
            "S-CLASS",
            "A7",
            "VOLVO S80",
            "TT",
            "6 SERIES",
            "BMW X6",
            "SAN STORM 1.2",
            "TATA-NANO",
            "CHEROKEE",
            "AUSTIN",
            "VELOSTER",
            "ESTILO",
            "Z4",
            "AMEO",
            "MAXXIMO",
            "ASTAR",
            "AVIGO",
            "LAND ROVER FREELANDER",
            "NEXIA",
            "KWID",
            "KUV100",
            "PUSHPAK",
            "GL-CLASS",
            "GENIO",
            "EVALIA",
            "SUPRO",
            "CRETA",
            "CLK-CLASS",
            "TIAGO",
            "TRAILBLAZER",
            "BRV",
            "TREKKER",
            "BREZZA",
            "TUV300",
            "ECO SPORT"
           ],
           [
            106436433.39000116,
            72493786.19999972,
            60230170.62000031,
            59588206.53000024,
            53362958.83000009,
            51608409.80000045,
            48248691.110000074,
            46791672.24999987,
            45967477.11999981,
            38419134.669999756,
            37469776.760000154,
            33399848.32000002,
            32078680.059999786,
            30312743.520000014,
            30117146.879999742,
            27149321.290000025,
            26367671.799999934,
            24916625.96000001,
            24330386.600000035,
            20927684.699999996,
            17856476.910000026,
            17693375.04,
            17336231.45999994,
            17326656.98000003,
            16298787.120000036,
            15386829.960000059,
            14708692.500000052,
            14296168.680000035,
            12764286.34000004,
            12457942.139999956,
            10969168.639999997,
            10469353.589999985,
            10247265.739999985,
            9175009.260000007,
            8852818.749999993,
            8635782.420000026,
            8332275.150000004,
            8085582.620000014,
            7861874.340000022,
            7744832.219999985,
            7587620.270000005,
            7023601.41,
            6996619.610000006,
            6726578.010000002,
            6381622.820000008,
            5749249.600000006,
            5544749.260000001,
            5418744.340000001,
            5395256.719999997,
            5273231.250000002,
            5208909.680000004,
            4815412.349999997,
            4776817.839999999,
            4656609.390000005,
            4587607.820000002,
            4180402.8500000173,
            4109647.909999998,
            3772045.5199999926,
            3677285.550000004,
            3472868.32,
            3237769.800000001,
            2887425.3000000045,
            2828699.52,
            2770276.3300000005,
            2699916.5100000026,
            2660523.75,
            2206583.4799999986,
            2196619.5099999984,
            2196078.540000001,
            2148358.4699999993,
            2124750.319999999,
            2119314.0100000002,
            2029607.010000001,
            2008477.1900000004,
            1688429.31,
            1667188.7500000005,
            1647771.4499999995,
            1509375.1099999992,
            1461296.6700000004,
            1435809.2699999982,
            1411546,
            1376483.9600000007,
            1225976,
            1217676.95,
            1196120.3700000003,
            1171589.1000000006,
            1112086.38,
            985960.1199999999,
            950583.3999999996,
            924369.2100000003,
            899601.29,
            887986.3400000008,
            844020.0500000002,
            821021.9799999996,
            751463.1900000006,
            735318.5199999999,
            687420.2399999999,
            576523.4099999999,
            530781.7799999998,
            509576.73999999993,
            465262.06,
            450953.17000000004,
            434654.08999999997,
            417017.58999999997,
            415928.73000000004,
            410832.6899999998,
            380265.6100000001,
            306614.06000000006,
            301437.64999999997,
            295172.7800000001,
            277337.21000000014,
            270995.09,
            266789.09,
            263169.55000000005,
            259902.3,
            256336.41,
            229133.61999999994,
            226399.65000000002,
            217661.90999999997,
            216426.58,
            215282.70999999996,
            208809.7,
            207831.15999999995,
            205114.15000000002,
            202568.37999999998,
            201895.82,
            195841.54,
            187174.23,
            184763.16000000003,
            182952.44,
            179212.30999999994,
            175434.93,
            171191.10000000003,
            161909.03999999998,
            159422.67999999996,
            158135.66,
            148460.92999999996,
            144637.02000000002,
            142807.97,
            141623.56,
            141179.31999999998,
            123957.03,
            123039.85999999999,
            111749.24000000002,
            103829,
            101360.66,
            92723.8,
            86266.76999999999,
            82760.41,
            71133.15999999999,
            70122.84,
            69534.37,
            68653.68,
            66435.68,
            65839.05,
            64668.44,
            63061.67999999999,
            61704.850000000006,
            61670.44,
            60206.86000000001,
            58646.73,
            56638.13999999998,
            56451.490000000005,
            55572.3,
            53439.19999999999,
            48384.69,
            47239.49,
            46737.700000000004,
            45268.68,
            39871.48,
            39293.49,
            38148.78,
            37863.259999999995,
            30950.88,
            28640.15,
            26448.189999999995,
            25519.79,
            24118.58,
            23713.940000000002,
            23537.449999999997,
            23482.149999999998,
            22478.69,
            17815.16,
            16886.25,
            15784.77,
            15456.760000000002,
            13550.52,
            13346.330000000002,
            12676.37,
            12098.6,
            11617.68,
            11312.26,
            11190.64,
            10764.2,
            9251.38,
            9036.83,
            8599.69,
            6670.76,
            5000,
            3787.09,
            2949.76,
            2944.2200000000003,
            2900.55,
            2657.09,
            2319.37,
            2179.45,
            2124.47,
            2058.33,
            1742.34,
            1118.74,
            1073.55,
            1050.02,
            900,
            898.88,
            550,
            450.38,
            450.38,
            432.64,
            357.32,
            353.16,
            349.61,
            98.76,
            0,
            0,
            0,
            0,
            0,
            0,
            0,
            0,
            0,
            0,
            0,
            0,
            0,
            0,
            0,
            0,
            0,
            0,
            0,
            0,
            0,
            0,
            0
           ]
          ]
         },
         "header": {
          "align": "left",
          "fill": {
           "color": "paleturquoise"
          },
          "values": [
           "Model",
           "Total Value"
          ]
         },
         "type": "table"
        }
       ],
       "layout": {
        "template": {
         "data": {
          "bar": [
           {
            "error_x": {
             "color": "#2a3f5f"
            },
            "error_y": {
             "color": "#2a3f5f"
            },
            "marker": {
             "line": {
              "color": "#E5ECF6",
              "width": 0.5
             }
            },
            "type": "bar"
           }
          ],
          "barpolar": [
           {
            "marker": {
             "line": {
              "color": "#E5ECF6",
              "width": 0.5
             }
            },
            "type": "barpolar"
           }
          ],
          "carpet": [
           {
            "aaxis": {
             "endlinecolor": "#2a3f5f",
             "gridcolor": "white",
             "linecolor": "white",
             "minorgridcolor": "white",
             "startlinecolor": "#2a3f5f"
            },
            "baxis": {
             "endlinecolor": "#2a3f5f",
             "gridcolor": "white",
             "linecolor": "white",
             "minorgridcolor": "white",
             "startlinecolor": "#2a3f5f"
            },
            "type": "carpet"
           }
          ],
          "choropleth": [
           {
            "colorbar": {
             "outlinewidth": 0,
             "ticks": ""
            },
            "type": "choropleth"
           }
          ],
          "contour": [
           {
            "colorbar": {
             "outlinewidth": 0,
             "ticks": ""
            },
            "colorscale": [
             [
              0,
              "#0d0887"
             ],
             [
              0.1111111111111111,
              "#46039f"
             ],
             [
              0.2222222222222222,
              "#7201a8"
             ],
             [
              0.3333333333333333,
              "#9c179e"
             ],
             [
              0.4444444444444444,
              "#bd3786"
             ],
             [
              0.5555555555555556,
              "#d8576b"
             ],
             [
              0.6666666666666666,
              "#ed7953"
             ],
             [
              0.7777777777777778,
              "#fb9f3a"
             ],
             [
              0.8888888888888888,
              "#fdca26"
             ],
             [
              1,
              "#f0f921"
             ]
            ],
            "type": "contour"
           }
          ],
          "contourcarpet": [
           {
            "colorbar": {
             "outlinewidth": 0,
             "ticks": ""
            },
            "type": "contourcarpet"
           }
          ],
          "heatmap": [
           {
            "colorbar": {
             "outlinewidth": 0,
             "ticks": ""
            },
            "colorscale": [
             [
              0,
              "#0d0887"
             ],
             [
              0.1111111111111111,
              "#46039f"
             ],
             [
              0.2222222222222222,
              "#7201a8"
             ],
             [
              0.3333333333333333,
              "#9c179e"
             ],
             [
              0.4444444444444444,
              "#bd3786"
             ],
             [
              0.5555555555555556,
              "#d8576b"
             ],
             [
              0.6666666666666666,
              "#ed7953"
             ],
             [
              0.7777777777777778,
              "#fb9f3a"
             ],
             [
              0.8888888888888888,
              "#fdca26"
             ],
             [
              1,
              "#f0f921"
             ]
            ],
            "type": "heatmap"
           }
          ],
          "heatmapgl": [
           {
            "colorbar": {
             "outlinewidth": 0,
             "ticks": ""
            },
            "colorscale": [
             [
              0,
              "#0d0887"
             ],
             [
              0.1111111111111111,
              "#46039f"
             ],
             [
              0.2222222222222222,
              "#7201a8"
             ],
             [
              0.3333333333333333,
              "#9c179e"
             ],
             [
              0.4444444444444444,
              "#bd3786"
             ],
             [
              0.5555555555555556,
              "#d8576b"
             ],
             [
              0.6666666666666666,
              "#ed7953"
             ],
             [
              0.7777777777777778,
              "#fb9f3a"
             ],
             [
              0.8888888888888888,
              "#fdca26"
             ],
             [
              1,
              "#f0f921"
             ]
            ],
            "type": "heatmapgl"
           }
          ],
          "histogram": [
           {
            "marker": {
             "colorbar": {
              "outlinewidth": 0,
              "ticks": ""
             }
            },
            "type": "histogram"
           }
          ],
          "histogram2d": [
           {
            "colorbar": {
             "outlinewidth": 0,
             "ticks": ""
            },
            "colorscale": [
             [
              0,
              "#0d0887"
             ],
             [
              0.1111111111111111,
              "#46039f"
             ],
             [
              0.2222222222222222,
              "#7201a8"
             ],
             [
              0.3333333333333333,
              "#9c179e"
             ],
             [
              0.4444444444444444,
              "#bd3786"
             ],
             [
              0.5555555555555556,
              "#d8576b"
             ],
             [
              0.6666666666666666,
              "#ed7953"
             ],
             [
              0.7777777777777778,
              "#fb9f3a"
             ],
             [
              0.8888888888888888,
              "#fdca26"
             ],
             [
              1,
              "#f0f921"
             ]
            ],
            "type": "histogram2d"
           }
          ],
          "histogram2dcontour": [
           {
            "colorbar": {
             "outlinewidth": 0,
             "ticks": ""
            },
            "colorscale": [
             [
              0,
              "#0d0887"
             ],
             [
              0.1111111111111111,
              "#46039f"
             ],
             [
              0.2222222222222222,
              "#7201a8"
             ],
             [
              0.3333333333333333,
              "#9c179e"
             ],
             [
              0.4444444444444444,
              "#bd3786"
             ],
             [
              0.5555555555555556,
              "#d8576b"
             ],
             [
              0.6666666666666666,
              "#ed7953"
             ],
             [
              0.7777777777777778,
              "#fb9f3a"
             ],
             [
              0.8888888888888888,
              "#fdca26"
             ],
             [
              1,
              "#f0f921"
             ]
            ],
            "type": "histogram2dcontour"
           }
          ],
          "mesh3d": [
           {
            "colorbar": {
             "outlinewidth": 0,
             "ticks": ""
            },
            "type": "mesh3d"
           }
          ],
          "parcoords": [
           {
            "line": {
             "colorbar": {
              "outlinewidth": 0,
              "ticks": ""
             }
            },
            "type": "parcoords"
           }
          ],
          "pie": [
           {
            "automargin": true,
            "type": "pie"
           }
          ],
          "scatter": [
           {
            "marker": {
             "colorbar": {
              "outlinewidth": 0,
              "ticks": ""
             }
            },
            "type": "scatter"
           }
          ],
          "scatter3d": [
           {
            "line": {
             "colorbar": {
              "outlinewidth": 0,
              "ticks": ""
             }
            },
            "marker": {
             "colorbar": {
              "outlinewidth": 0,
              "ticks": ""
             }
            },
            "type": "scatter3d"
           }
          ],
          "scattercarpet": [
           {
            "marker": {
             "colorbar": {
              "outlinewidth": 0,
              "ticks": ""
             }
            },
            "type": "scattercarpet"
           }
          ],
          "scattergeo": [
           {
            "marker": {
             "colorbar": {
              "outlinewidth": 0,
              "ticks": ""
             }
            },
            "type": "scattergeo"
           }
          ],
          "scattergl": [
           {
            "marker": {
             "colorbar": {
              "outlinewidth": 0,
              "ticks": ""
             }
            },
            "type": "scattergl"
           }
          ],
          "scattermapbox": [
           {
            "marker": {
             "colorbar": {
              "outlinewidth": 0,
              "ticks": ""
             }
            },
            "type": "scattermapbox"
           }
          ],
          "scatterpolar": [
           {
            "marker": {
             "colorbar": {
              "outlinewidth": 0,
              "ticks": ""
             }
            },
            "type": "scatterpolar"
           }
          ],
          "scatterpolargl": [
           {
            "marker": {
             "colorbar": {
              "outlinewidth": 0,
              "ticks": ""
             }
            },
            "type": "scatterpolargl"
           }
          ],
          "scatterternary": [
           {
            "marker": {
             "colorbar": {
              "outlinewidth": 0,
              "ticks": ""
             }
            },
            "type": "scatterternary"
           }
          ],
          "surface": [
           {
            "colorbar": {
             "outlinewidth": 0,
             "ticks": ""
            },
            "colorscale": [
             [
              0,
              "#0d0887"
             ],
             [
              0.1111111111111111,
              "#46039f"
             ],
             [
              0.2222222222222222,
              "#7201a8"
             ],
             [
              0.3333333333333333,
              "#9c179e"
             ],
             [
              0.4444444444444444,
              "#bd3786"
             ],
             [
              0.5555555555555556,
              "#d8576b"
             ],
             [
              0.6666666666666666,
              "#ed7953"
             ],
             [
              0.7777777777777778,
              "#fb9f3a"
             ],
             [
              0.8888888888888888,
              "#fdca26"
             ],
             [
              1,
              "#f0f921"
             ]
            ],
            "type": "surface"
           }
          ],
          "table": [
           {
            "cells": {
             "fill": {
              "color": "#EBF0F8"
             },
             "line": {
              "color": "white"
             }
            },
            "header": {
             "fill": {
              "color": "#C8D4E3"
             },
             "line": {
              "color": "white"
             }
            },
            "type": "table"
           }
          ]
         },
         "layout": {
          "annotationdefaults": {
           "arrowcolor": "#2a3f5f",
           "arrowhead": 0,
           "arrowwidth": 1
          },
          "autotypenumbers": "strict",
          "coloraxis": {
           "colorbar": {
            "outlinewidth": 0,
            "ticks": ""
           }
          },
          "colorscale": {
           "diverging": [
            [
             0,
             "#8e0152"
            ],
            [
             0.1,
             "#c51b7d"
            ],
            [
             0.2,
             "#de77ae"
            ],
            [
             0.3,
             "#f1b6da"
            ],
            [
             0.4,
             "#fde0ef"
            ],
            [
             0.5,
             "#f7f7f7"
            ],
            [
             0.6,
             "#e6f5d0"
            ],
            [
             0.7,
             "#b8e186"
            ],
            [
             0.8,
             "#7fbc41"
            ],
            [
             0.9,
             "#4d9221"
            ],
            [
             1,
             "#276419"
            ]
           ],
           "sequential": [
            [
             0,
             "#0d0887"
            ],
            [
             0.1111111111111111,
             "#46039f"
            ],
            [
             0.2222222222222222,
             "#7201a8"
            ],
            [
             0.3333333333333333,
             "#9c179e"
            ],
            [
             0.4444444444444444,
             "#bd3786"
            ],
            [
             0.5555555555555556,
             "#d8576b"
            ],
            [
             0.6666666666666666,
             "#ed7953"
            ],
            [
             0.7777777777777778,
             "#fb9f3a"
            ],
            [
             0.8888888888888888,
             "#fdca26"
            ],
            [
             1,
             "#f0f921"
            ]
           ],
           "sequentialminus": [
            [
             0,
             "#0d0887"
            ],
            [
             0.1111111111111111,
             "#46039f"
            ],
            [
             0.2222222222222222,
             "#7201a8"
            ],
            [
             0.3333333333333333,
             "#9c179e"
            ],
            [
             0.4444444444444444,
             "#bd3786"
            ],
            [
             0.5555555555555556,
             "#d8576b"
            ],
            [
             0.6666666666666666,
             "#ed7953"
            ],
            [
             0.7777777777777778,
             "#fb9f3a"
            ],
            [
             0.8888888888888888,
             "#fdca26"
            ],
            [
             1,
             "#f0f921"
            ]
           ]
          },
          "colorway": [
           "#636efa",
           "#EF553B",
           "#00cc96",
           "#ab63fa",
           "#FFA15A",
           "#19d3f3",
           "#FF6692",
           "#B6E880",
           "#FF97FF",
           "#FECB52"
          ],
          "font": {
           "color": "#2a3f5f"
          },
          "geo": {
           "bgcolor": "white",
           "lakecolor": "white",
           "landcolor": "#E5ECF6",
           "showlakes": true,
           "showland": true,
           "subunitcolor": "white"
          },
          "hoverlabel": {
           "align": "left"
          },
          "hovermode": "closest",
          "mapbox": {
           "style": "light"
          },
          "paper_bgcolor": "white",
          "plot_bgcolor": "#E5ECF6",
          "polar": {
           "angularaxis": {
            "gridcolor": "white",
            "linecolor": "white",
            "ticks": ""
           },
           "bgcolor": "#E5ECF6",
           "radialaxis": {
            "gridcolor": "white",
            "linecolor": "white",
            "ticks": ""
           }
          },
          "scene": {
           "xaxis": {
            "backgroundcolor": "#E5ECF6",
            "gridcolor": "white",
            "gridwidth": 2,
            "linecolor": "white",
            "showbackground": true,
            "ticks": "",
            "zerolinecolor": "white"
           },
           "yaxis": {
            "backgroundcolor": "#E5ECF6",
            "gridcolor": "white",
            "gridwidth": 2,
            "linecolor": "white",
            "showbackground": true,
            "ticks": "",
            "zerolinecolor": "white"
           },
           "zaxis": {
            "backgroundcolor": "#E5ECF6",
            "gridcolor": "white",
            "gridwidth": 2,
            "linecolor": "white",
            "showbackground": true,
            "ticks": "",
            "zerolinecolor": "white"
           }
          },
          "shapedefaults": {
           "line": {
            "color": "#2a3f5f"
           }
          },
          "ternary": {
           "aaxis": {
            "gridcolor": "white",
            "linecolor": "white",
            "ticks": ""
           },
           "baxis": {
            "gridcolor": "white",
            "linecolor": "white",
            "ticks": ""
           },
           "bgcolor": "#E5ECF6",
           "caxis": {
            "gridcolor": "white",
            "linecolor": "white",
            "ticks": ""
           }
          },
          "title": {
           "x": 0.05
          },
          "xaxis": {
           "automargin": true,
           "gridcolor": "white",
           "linecolor": "white",
           "ticks": "",
           "title": {
            "standoff": 15
           },
           "zerolinecolor": "white",
           "zerolinewidth": 2
          },
          "yaxis": {
           "automargin": true,
           "gridcolor": "white",
           "linecolor": "white",
           "ticks": "",
           "title": {
            "standoff": 15
           },
           "zerolinecolor": "white",
           "zerolinewidth": 2
          }
         }
        }
       }
      },
      "text/html": [
       "<div>                            <div id=\"3e5ba5f2-ebdd-4931-b13a-808a9429a1d2\" class=\"plotly-graph-div\" style=\"height:525px; width:100%;\"></div>            <script type=\"text/javascript\">                require([\"plotly\"], function(Plotly) {                    window.PLOTLYENV=window.PLOTLYENV || {};                                    if (document.getElementById(\"3e5ba5f2-ebdd-4931-b13a-808a9429a1d2\")) {                    Plotly.newPlot(                        \"3e5ba5f2-ebdd-4931-b13a-808a9429a1d2\",                        [{\"cells\": {\"align\": \"left\", \"fill\": {\"color\": \"lavender\"}, \"values\": [[\"SCORPIO CRDE\", \"SWIFT\", \"SANTRO\", \"XYLO\", \"INDICA\", \"ALTO\", \"BOLERO\", \"I10\", \"WAGONR\", \"INNOVA\", \"LOGAN D\", \"CITY\", \"SWIFT DZIRE\", \"INDIGO\", \"I20\", \"VISTA\", \"VERNA\", \"FIESTA\", \"LOGAN P\", \"VERITO\", \"SCORPIO NEF\", \"ACCENT\", \"SPARK\", \"FIGO\", \"INDIGO MANZA\", \"800\", \"IKON\", \"RITZ\", \"BEAT\", \"SAFARI\", \"ZEN\", \"TAVERA\", \"XUV 500\", \"GETZ\", \"BOLERO PIK UP\", \"ZEN ESTILO\", \"LINEA\", \"OMNI\", \"SX4\", \"ETIOS\", \"SUMO\", \"AVEO\", \"OPTRA\", \"POLO\", \"SANTRO XING\", \"LAURA\", \"OCTAVIA\", \"CIVIC\", \"VENTO\", \"FABIA\", \"COROLLA\", \"GRAND PUNTO\", \"CHEVROLET CRUZE\", \"ERTIGA\", \"QUALIS\", \"EON\", \"RAPID\", \"EECO\", \"AVEO UV-A\", \"PALIO\", \"A STAR\", \"DUSTER\", \"NANO\", \"QUANTO\", \"INDIGO MARINA\", \"LANCER\", \"MICRA\", \"SUPER SUNNY\", \"ESTEEM 1000\", \"FORTUNER\", \"TAVERA NEO\", \"CAPTIVA\", \"SUMO GRANDE\", \"ESTEEM 1300\", \"ARMADA\", \"OPTRA MAGNUM\", \"COROLLA ALTIS\", \"OPEL CORSA\", \"BALENO\", \"SAIL\", \"MAXX\", \"MAHINDRA PIK UP\", \"ELANTRA\", \"ACCORD\", \"SUPERB\", \"AMAZE\", \"ENJOY\", \"MAHINDRA MM\", \"MATIZ\", \"THAR\", \"FUSION\", \"JAZZ\", \"JETTA\", \"PAJERO\", \"ENDEAVOUR\", \"CR-V\", \"BRIO\", \"PULSE\", \"OPEL\", \"RENAULT 1.9\", \"XCENT\", \"ARIA\", \"X1\", \"VERSA\", \"SONATA\", \"PALIO STILE\", \"OPEL ASTRA\", \"ADVENTURE\", \"CAMRY\", \"X-TRAIL\", \"ECOSPORT\", \"MARSHAL\", \"SONATA V-6\", \"207\", \"SSANYONG REXTON\", \"UNO\", \"FLUENCE\", \"PASSAT\", \"MONTERO\", \"CEDIA\", \"C-CLASS\", \"WINGER\", \"VENTURE\", \"CLASSIC\", \"AMBASSADOR\", \"TRAX\", \"YETI\", \"CELERIO\", \"SIENA\", \"S 350 L\", \"MAHINDRA CNG\", \"A4\", \"ESCORT\", \"FORCE ONE\", \"TEANA\", \"RIO\", \"CIAZ\", \"ACE\", \"GYPSY 1300\", \"S 320 CDI L\", \"PETRA\", \"BMW-M5\", \"GRAND VITARA\", \"XENON XT\", \"TERRANO\", \"E-CLASS\", \"ZEST\", \"GYPSY 1000\", \"Q7\", \"G CLASS\", \"COMMANDER\", \"5 SERIES\", \"TUCSON\", \"SSANYONG KORANDO\", \"MOBILIO\", \"ROVER\", \"KOLEOS\", \"Q5\", \"SCALA\", \"OUTLANDER\", \"SRV\", \"SANTA FE\", \"MAGIC\", \"LAND CRUISER PRADO\", \"RHINO RX\", \"SIERRA\", \"7 SERIES\", \"X3\", \"A6\", \"X5\", \"GRAND\", \"LAUREL\", \"3 SERIES\", \"ML 350\", \"TERRACAN\", \"JAGUAR XJ\", \"REVA\", \"CIELO\", \"MONDEO\", \"DATSUN GO\", \"VOLVO XC90\", \"SL-CLASS\", \"TOUAREG\", \"BOLT\", \"TL\", \"FORESTER\", \"BMW-M3\", \"PADMINI\", \"KIZASHI\", \"MINIS\", \"CLS-CLASS\", \"CONTESSA\", \"JAGUAR XF\", \"SWIFT D,ZIRE\", \"ROOMSTER\", \"FOCUS\", \"CAYMAN S\", \"CL-CLASS\", \"JAGUAR XL\", \"500\", \"SLK-CLASS\", \"CAYENNE\", \"VECTRA\", \"LODGY\", \"ML-CLASS\", \"LIMOUSINE\", \"BMW-M6\", \"LAND ROVER DISCOVERY\", \"LAND ROVER RANGE ROVER\", \"A8\", \"S-CLASS\", \"A7\", \"VOLVO S80\", \"TT\", \"6 SERIES\", \"BMW X6\", \"SAN STORM 1.2\", \"TATA-NANO\", \"CHEROKEE\", \"AUSTIN\", \"VELOSTER\", \"ESTILO\", \"Z4\", \"AMEO\", \"MAXXIMO\", \"ASTAR\", \"AVIGO\", \"LAND ROVER FREELANDER\", \"NEXIA\", \"KWID\", \"KUV100\", \"PUSHPAK\", \"GL-CLASS\", \"GENIO\", \"EVALIA\", \"SUPRO\", \"CRETA\", \"CLK-CLASS\", \"TIAGO\", \"TRAILBLAZER\", \"BRV\", \"TREKKER\", \"BREZZA\", \"TUV300\", \"ECO SPORT\"], [106436433.39000116, 72493786.19999972, 60230170.62000031, 59588206.53000024, 53362958.83000009, 51608409.80000045, 48248691.110000074, 46791672.24999987, 45967477.11999981, 38419134.669999756, 37469776.760000154, 33399848.32000002, 32078680.059999786, 30312743.520000014, 30117146.879999742, 27149321.290000025, 26367671.799999934, 24916625.96000001, 24330386.600000035, 20927684.699999996, 17856476.910000026, 17693375.04, 17336231.45999994, 17326656.98000003, 16298787.120000036, 15386829.960000059, 14708692.500000052, 14296168.680000035, 12764286.34000004, 12457942.139999956, 10969168.639999997, 10469353.589999985, 10247265.739999985, 9175009.260000007, 8852818.749999993, 8635782.420000026, 8332275.150000004, 8085582.620000014, 7861874.340000022, 7744832.219999985, 7587620.270000005, 7023601.41, 6996619.610000006, 6726578.010000002, 6381622.820000008, 5749249.600000006, 5544749.260000001, 5418744.340000001, 5395256.719999997, 5273231.250000002, 5208909.680000004, 4815412.349999997, 4776817.839999999, 4656609.390000005, 4587607.820000002, 4180402.8500000173, 4109647.909999998, 3772045.5199999926, 3677285.550000004, 3472868.32, 3237769.800000001, 2887425.3000000045, 2828699.52, 2770276.3300000005, 2699916.5100000026, 2660523.75, 2206583.4799999986, 2196619.5099999984, 2196078.540000001, 2148358.4699999993, 2124750.319999999, 2119314.0100000002, 2029607.010000001, 2008477.1900000004, 1688429.31, 1667188.7500000005, 1647771.4499999995, 1509375.1099999992, 1461296.6700000004, 1435809.2699999982, 1411546.0, 1376483.9600000007, 1225976.0, 1217676.95, 1196120.3700000003, 1171589.1000000006, 1112086.38, 985960.1199999999, 950583.3999999996, 924369.2100000003, 899601.29, 887986.3400000008, 844020.0500000002, 821021.9799999996, 751463.1900000006, 735318.5199999999, 687420.2399999999, 576523.4099999999, 530781.7799999998, 509576.73999999993, 465262.06, 450953.17000000004, 434654.08999999997, 417017.58999999997, 415928.73000000004, 410832.6899999998, 380265.6100000001, 306614.06000000006, 301437.64999999997, 295172.7800000001, 277337.21000000014, 270995.09, 266789.09, 263169.55000000005, 259902.3, 256336.41, 229133.61999999994, 226399.65000000002, 217661.90999999997, 216426.58, 215282.70999999996, 208809.7, 207831.15999999995, 205114.15000000002, 202568.37999999998, 201895.82, 195841.54, 187174.23, 184763.16000000003, 182952.44, 179212.30999999994, 175434.93, 171191.10000000003, 161909.03999999998, 159422.67999999996, 158135.66, 148460.92999999996, 144637.02000000002, 142807.97, 141623.56, 141179.31999999998, 123957.03, 123039.85999999999, 111749.24000000002, 103829.0, 101360.66, 92723.8, 86266.76999999999, 82760.41, 71133.15999999999, 70122.84, 69534.37, 68653.68, 66435.68, 65839.05, 64668.44, 63061.67999999999, 61704.850000000006, 61670.44, 60206.86000000001, 58646.73, 56638.13999999998, 56451.490000000005, 55572.3, 53439.19999999999, 48384.69, 47239.49, 46737.700000000004, 45268.68, 39871.48, 39293.49, 38148.78, 37863.259999999995, 30950.88, 28640.15, 26448.189999999995, 25519.79, 24118.58, 23713.940000000002, 23537.449999999997, 23482.149999999998, 22478.69, 17815.16, 16886.25, 15784.77, 15456.760000000002, 13550.52, 13346.330000000002, 12676.37, 12098.6, 11617.68, 11312.26, 11190.64, 10764.2, 9251.38, 9036.83, 8599.69, 6670.76, 5000.0, 3787.09, 2949.76, 2944.2200000000003, 2900.55, 2657.09, 2319.37, 2179.45, 2124.47, 2058.33, 1742.34, 1118.74, 1073.55, 1050.02, 900.0, 898.88, 550.0, 450.38, 450.38, 432.64, 357.32, 353.16, 349.61, 98.76, 0.0, 0.0, 0.0, 0.0, 0.0, 0.0, 0.0, 0.0, 0.0, 0.0, 0.0, 0.0, 0.0, 0.0, 0.0, 0.0, 0.0, 0.0, 0.0, 0.0, 0.0, 0.0, 0.0]]}, \"header\": {\"align\": \"left\", \"fill\": {\"color\": \"paleturquoise\"}, \"values\": [\"Model\", \"Total Value\"]}, \"type\": \"table\"}],                        {\"template\": {\"data\": {\"bar\": [{\"error_x\": {\"color\": \"#2a3f5f\"}, \"error_y\": {\"color\": \"#2a3f5f\"}, \"marker\": {\"line\": {\"color\": \"#E5ECF6\", \"width\": 0.5}}, \"type\": \"bar\"}], \"barpolar\": [{\"marker\": {\"line\": {\"color\": \"#E5ECF6\", \"width\": 0.5}}, \"type\": \"barpolar\"}], \"carpet\": [{\"aaxis\": {\"endlinecolor\": \"#2a3f5f\", \"gridcolor\": \"white\", \"linecolor\": \"white\", \"minorgridcolor\": \"white\", \"startlinecolor\": \"#2a3f5f\"}, \"baxis\": {\"endlinecolor\": \"#2a3f5f\", \"gridcolor\": \"white\", \"linecolor\": \"white\", \"minorgridcolor\": \"white\", \"startlinecolor\": \"#2a3f5f\"}, \"type\": \"carpet\"}], \"choropleth\": [{\"colorbar\": {\"outlinewidth\": 0, \"ticks\": \"\"}, \"type\": \"choropleth\"}], \"contour\": [{\"colorbar\": {\"outlinewidth\": 0, \"ticks\": \"\"}, \"colorscale\": [[0.0, \"#0d0887\"], [0.1111111111111111, \"#46039f\"], [0.2222222222222222, \"#7201a8\"], [0.3333333333333333, \"#9c179e\"], [0.4444444444444444, \"#bd3786\"], [0.5555555555555556, \"#d8576b\"], [0.6666666666666666, \"#ed7953\"], [0.7777777777777778, \"#fb9f3a\"], [0.8888888888888888, \"#fdca26\"], [1.0, \"#f0f921\"]], \"type\": \"contour\"}], \"contourcarpet\": [{\"colorbar\": {\"outlinewidth\": 0, \"ticks\": \"\"}, \"type\": \"contourcarpet\"}], \"heatmap\": [{\"colorbar\": {\"outlinewidth\": 0, \"ticks\": \"\"}, \"colorscale\": [[0.0, \"#0d0887\"], [0.1111111111111111, \"#46039f\"], [0.2222222222222222, \"#7201a8\"], [0.3333333333333333, \"#9c179e\"], [0.4444444444444444, \"#bd3786\"], [0.5555555555555556, \"#d8576b\"], [0.6666666666666666, \"#ed7953\"], [0.7777777777777778, \"#fb9f3a\"], [0.8888888888888888, \"#fdca26\"], [1.0, \"#f0f921\"]], \"type\": \"heatmap\"}], \"heatmapgl\": [{\"colorbar\": {\"outlinewidth\": 0, \"ticks\": \"\"}, \"colorscale\": [[0.0, \"#0d0887\"], [0.1111111111111111, \"#46039f\"], [0.2222222222222222, \"#7201a8\"], [0.3333333333333333, \"#9c179e\"], [0.4444444444444444, \"#bd3786\"], [0.5555555555555556, \"#d8576b\"], [0.6666666666666666, \"#ed7953\"], [0.7777777777777778, \"#fb9f3a\"], [0.8888888888888888, \"#fdca26\"], [1.0, \"#f0f921\"]], \"type\": \"heatmapgl\"}], \"histogram\": [{\"marker\": {\"colorbar\": {\"outlinewidth\": 0, \"ticks\": \"\"}}, \"type\": \"histogram\"}], \"histogram2d\": [{\"colorbar\": {\"outlinewidth\": 0, \"ticks\": \"\"}, \"colorscale\": [[0.0, \"#0d0887\"], [0.1111111111111111, \"#46039f\"], [0.2222222222222222, \"#7201a8\"], [0.3333333333333333, \"#9c179e\"], [0.4444444444444444, \"#bd3786\"], [0.5555555555555556, \"#d8576b\"], [0.6666666666666666, \"#ed7953\"], [0.7777777777777778, \"#fb9f3a\"], [0.8888888888888888, \"#fdca26\"], [1.0, \"#f0f921\"]], \"type\": \"histogram2d\"}], \"histogram2dcontour\": [{\"colorbar\": {\"outlinewidth\": 0, \"ticks\": \"\"}, \"colorscale\": [[0.0, \"#0d0887\"], [0.1111111111111111, \"#46039f\"], [0.2222222222222222, \"#7201a8\"], [0.3333333333333333, \"#9c179e\"], [0.4444444444444444, \"#bd3786\"], [0.5555555555555556, \"#d8576b\"], [0.6666666666666666, \"#ed7953\"], [0.7777777777777778, \"#fb9f3a\"], [0.8888888888888888, \"#fdca26\"], [1.0, \"#f0f921\"]], \"type\": \"histogram2dcontour\"}], \"mesh3d\": [{\"colorbar\": {\"outlinewidth\": 0, \"ticks\": \"\"}, \"type\": \"mesh3d\"}], \"parcoords\": [{\"line\": {\"colorbar\": {\"outlinewidth\": 0, \"ticks\": \"\"}}, \"type\": \"parcoords\"}], \"pie\": [{\"automargin\": true, \"type\": \"pie\"}], \"scatter\": [{\"marker\": {\"colorbar\": {\"outlinewidth\": 0, \"ticks\": \"\"}}, \"type\": \"scatter\"}], \"scatter3d\": [{\"line\": {\"colorbar\": {\"outlinewidth\": 0, \"ticks\": \"\"}}, \"marker\": {\"colorbar\": {\"outlinewidth\": 0, \"ticks\": \"\"}}, \"type\": \"scatter3d\"}], \"scattercarpet\": [{\"marker\": {\"colorbar\": {\"outlinewidth\": 0, \"ticks\": \"\"}}, \"type\": \"scattercarpet\"}], \"scattergeo\": [{\"marker\": {\"colorbar\": {\"outlinewidth\": 0, \"ticks\": \"\"}}, \"type\": \"scattergeo\"}], \"scattergl\": [{\"marker\": {\"colorbar\": {\"outlinewidth\": 0, \"ticks\": \"\"}}, \"type\": \"scattergl\"}], \"scattermapbox\": [{\"marker\": {\"colorbar\": {\"outlinewidth\": 0, \"ticks\": \"\"}}, \"type\": \"scattermapbox\"}], \"scatterpolar\": [{\"marker\": {\"colorbar\": {\"outlinewidth\": 0, \"ticks\": \"\"}}, \"type\": \"scatterpolar\"}], \"scatterpolargl\": [{\"marker\": {\"colorbar\": {\"outlinewidth\": 0, \"ticks\": \"\"}}, \"type\": \"scatterpolargl\"}], \"scatterternary\": [{\"marker\": {\"colorbar\": {\"outlinewidth\": 0, \"ticks\": \"\"}}, \"type\": \"scatterternary\"}], \"surface\": [{\"colorbar\": {\"outlinewidth\": 0, \"ticks\": \"\"}, \"colorscale\": [[0.0, \"#0d0887\"], [0.1111111111111111, \"#46039f\"], [0.2222222222222222, \"#7201a8\"], [0.3333333333333333, \"#9c179e\"], [0.4444444444444444, \"#bd3786\"], [0.5555555555555556, \"#d8576b\"], [0.6666666666666666, \"#ed7953\"], [0.7777777777777778, \"#fb9f3a\"], [0.8888888888888888, \"#fdca26\"], [1.0, \"#f0f921\"]], \"type\": \"surface\"}], \"table\": [{\"cells\": {\"fill\": {\"color\": \"#EBF0F8\"}, \"line\": {\"color\": \"white\"}}, \"header\": {\"fill\": {\"color\": \"#C8D4E3\"}, \"line\": {\"color\": \"white\"}}, \"type\": \"table\"}]}, \"layout\": {\"annotationdefaults\": {\"arrowcolor\": \"#2a3f5f\", \"arrowhead\": 0, \"arrowwidth\": 1}, \"autotypenumbers\": \"strict\", \"coloraxis\": {\"colorbar\": {\"outlinewidth\": 0, \"ticks\": \"\"}}, \"colorscale\": {\"diverging\": [[0, \"#8e0152\"], [0.1, \"#c51b7d\"], [0.2, \"#de77ae\"], [0.3, \"#f1b6da\"], [0.4, \"#fde0ef\"], [0.5, \"#f7f7f7\"], [0.6, \"#e6f5d0\"], [0.7, \"#b8e186\"], [0.8, \"#7fbc41\"], [0.9, \"#4d9221\"], [1, \"#276419\"]], \"sequential\": [[0.0, \"#0d0887\"], [0.1111111111111111, \"#46039f\"], [0.2222222222222222, \"#7201a8\"], [0.3333333333333333, \"#9c179e\"], [0.4444444444444444, \"#bd3786\"], [0.5555555555555556, \"#d8576b\"], [0.6666666666666666, \"#ed7953\"], [0.7777777777777778, \"#fb9f3a\"], [0.8888888888888888, \"#fdca26\"], [1.0, \"#f0f921\"]], \"sequentialminus\": [[0.0, \"#0d0887\"], [0.1111111111111111, \"#46039f\"], [0.2222222222222222, \"#7201a8\"], [0.3333333333333333, \"#9c179e\"], [0.4444444444444444, \"#bd3786\"], [0.5555555555555556, \"#d8576b\"], [0.6666666666666666, \"#ed7953\"], [0.7777777777777778, \"#fb9f3a\"], [0.8888888888888888, \"#fdca26\"], [1.0, \"#f0f921\"]]}, \"colorway\": [\"#636efa\", \"#EF553B\", \"#00cc96\", \"#ab63fa\", \"#FFA15A\", \"#19d3f3\", \"#FF6692\", \"#B6E880\", \"#FF97FF\", \"#FECB52\"], \"font\": {\"color\": \"#2a3f5f\"}, \"geo\": {\"bgcolor\": \"white\", \"lakecolor\": \"white\", \"landcolor\": \"#E5ECF6\", \"showlakes\": true, \"showland\": true, \"subunitcolor\": \"white\"}, \"hoverlabel\": {\"align\": \"left\"}, \"hovermode\": \"closest\", \"mapbox\": {\"style\": \"light\"}, \"paper_bgcolor\": \"white\", \"plot_bgcolor\": \"#E5ECF6\", \"polar\": {\"angularaxis\": {\"gridcolor\": \"white\", \"linecolor\": \"white\", \"ticks\": \"\"}, \"bgcolor\": \"#E5ECF6\", \"radialaxis\": {\"gridcolor\": \"white\", \"linecolor\": \"white\", \"ticks\": \"\"}}, \"scene\": {\"xaxis\": {\"backgroundcolor\": \"#E5ECF6\", \"gridcolor\": \"white\", \"gridwidth\": 2, \"linecolor\": \"white\", \"showbackground\": true, \"ticks\": \"\", \"zerolinecolor\": \"white\"}, \"yaxis\": {\"backgroundcolor\": \"#E5ECF6\", \"gridcolor\": \"white\", \"gridwidth\": 2, \"linecolor\": \"white\", \"showbackground\": true, \"ticks\": \"\", \"zerolinecolor\": \"white\"}, \"zaxis\": {\"backgroundcolor\": \"#E5ECF6\", \"gridcolor\": \"white\", \"gridwidth\": 2, \"linecolor\": \"white\", \"showbackground\": true, \"ticks\": \"\", \"zerolinecolor\": \"white\"}}, \"shapedefaults\": {\"line\": {\"color\": \"#2a3f5f\"}}, \"ternary\": {\"aaxis\": {\"gridcolor\": \"white\", \"linecolor\": \"white\", \"ticks\": \"\"}, \"baxis\": {\"gridcolor\": \"white\", \"linecolor\": \"white\", \"ticks\": \"\"}, \"bgcolor\": \"#E5ECF6\", \"caxis\": {\"gridcolor\": \"white\", \"linecolor\": \"white\", \"ticks\": \"\"}}, \"title\": {\"x\": 0.05}, \"xaxis\": {\"automargin\": true, \"gridcolor\": \"white\", \"linecolor\": \"white\", \"ticks\": \"\", \"title\": {\"standoff\": 15}, \"zerolinecolor\": \"white\", \"zerolinewidth\": 2}, \"yaxis\": {\"automargin\": true, \"gridcolor\": \"white\", \"linecolor\": \"white\", \"ticks\": \"\", \"title\": {\"standoff\": 15}, \"zerolinecolor\": \"white\", \"zerolinewidth\": 2}}}},                        {\"responsive\": true}                    ).then(function(){\n",
       "                            \n",
       "var gd = document.getElementById('3e5ba5f2-ebdd-4931-b13a-808a9429a1d2');\n",
       "var x = new MutationObserver(function (mutations, observer) {{\n",
       "        var display = window.getComputedStyle(gd).display;\n",
       "        if (!display || display === 'none') {{\n",
       "            console.log([gd, 'removed!']);\n",
       "            Plotly.purge(gd);\n",
       "            observer.disconnect();\n",
       "        }}\n",
       "}});\n",
       "\n",
       "// Listen for the removal of the full notebook cells\n",
       "var notebookContainer = gd.closest('#notebook-container');\n",
       "if (notebookContainer) {{\n",
       "    x.observe(notebookContainer, {childList: true});\n",
       "}}\n",
       "\n",
       "// Listen for the clearing of the current output cell\n",
       "var outputEl = gd.closest('.output');\n",
       "if (outputEl) {{\n",
       "    x.observe(outputEl, {childList: true});\n",
       "}}\n",
       "\n",
       "                        })                };                });            </script>        </div>"
      ]
     },
     "metadata": {},
     "output_type": "display_data"
    }
   ],
   "source": [
    "\n",
    "fig = go.Figure(data=[go.Table(\n",
    "    header=dict(values=list(Car_name_Rev.columns),\n",
    "                fill_color='paleturquoise',\n",
    "                align='left'),\n",
    "    cells=dict(values=[Car_name_Rev['Model'], Car_name_Rev['Total Value']],\n",
    "               fill_color='lavender',\n",
    "               #line_color='darkslategray',\n",
    "               align='left'))\n",
    "])\n",
    "#fig.update_layout(width=500, height=500)\n",
    "fig.show()"
   ]
  },
  {
   "cell_type": "code",
   "execution_count": 112,
   "metadata": {},
   "outputs": [
    {
     "data": {
      "application/vnd.plotly.v1+json": {
       "config": {
        "plotlyServerURL": "https://plot.ly"
       },
       "data": [
        {
         "marker": {
          "color": "rgb(255,165,0)",
          "line": {
           "color": "rgb(0,0,0)",
           "width": 1.5
          }
         },
         "type": "bar",
         "x": [
          "SCORPIO CRDE",
          "SWIFT",
          "SANTRO",
          "XYLO",
          "INDICA",
          "ALTO",
          "BOLERO",
          "I10",
          "WAGONR",
          "INNOVA",
          "LOGAN D",
          "CITY",
          "SWIFT DZIRE",
          "INDIGO",
          "I20",
          "VISTA",
          "VERNA",
          "FIESTA",
          "LOGAN P",
          "VERITO",
          "SCORPIO NEF",
          "ACCENT",
          "SPARK",
          "FIGO",
          "INDIGO MANZA",
          "800",
          "IKON",
          "RITZ",
          "BEAT",
          "SAFARI",
          "ZEN",
          "TAVERA",
          "XUV 500",
          "GETZ",
          "BOLERO PIK UP",
          "ZEN ESTILO",
          "LINEA",
          "OMNI",
          "SX4",
          "ETIOS",
          "SUMO",
          "AVEO",
          "OPTRA",
          "POLO",
          "SANTRO XING",
          "LAURA",
          "OCTAVIA",
          "CIVIC",
          "VENTO",
          "FABIA",
          "COROLLA",
          "GRAND PUNTO",
          "CHEVROLET CRUZE",
          "ERTIGA",
          "QUALIS",
          "EON",
          "RAPID",
          "EECO",
          "AVEO UV-A",
          "PALIO",
          "A STAR",
          "DUSTER",
          "NANO",
          "QUANTO",
          "INDIGO MARINA",
          "LANCER",
          "MICRA",
          "SUPER SUNNY",
          "ESTEEM 1000",
          "FORTUNER",
          "TAVERA NEO",
          "CAPTIVA",
          "SUMO GRANDE",
          "ESTEEM 1300",
          "ARMADA",
          "OPTRA MAGNUM",
          "COROLLA ALTIS",
          "OPEL CORSA",
          "BALENO",
          "SAIL",
          "MAXX",
          "MAHINDRA PIK UP",
          "ELANTRA",
          "ACCORD",
          "SUPERB",
          "AMAZE",
          "ENJOY",
          "MAHINDRA MM",
          "MATIZ",
          "THAR",
          "FUSION",
          "JAZZ",
          "JETTA",
          "PAJERO",
          "ENDEAVOUR",
          "CR-V",
          "BRIO",
          "PULSE",
          "OPEL",
          "RENAULT 1.9",
          "XCENT",
          "ARIA",
          "X1",
          "VERSA",
          "SONATA",
          "PALIO STILE",
          "OPEL ASTRA",
          "ADVENTURE",
          "CAMRY",
          "X-TRAIL",
          "ECOSPORT",
          "MARSHAL",
          "SONATA V-6",
          "207",
          "SSANYONG REXTON",
          "UNO",
          "FLUENCE",
          "PASSAT",
          "MONTERO",
          "CEDIA",
          "C-CLASS",
          "WINGER",
          "VENTURE",
          "CLASSIC",
          "AMBASSADOR",
          "TRAX",
          "YETI",
          "CELERIO",
          "SIENA",
          "S 350 L",
          "MAHINDRA CNG",
          "A4",
          "ESCORT",
          "FORCE ONE",
          "TEANA",
          "RIO",
          "CIAZ",
          "ACE",
          "GYPSY 1300",
          "S 320 CDI L",
          "PETRA",
          "BMW-M5",
          "GRAND VITARA",
          "XENON XT",
          "TERRANO",
          "E-CLASS",
          "ZEST",
          "GYPSY 1000",
          "Q7",
          "G CLASS",
          "COMMANDER",
          "5 SERIES",
          "TUCSON",
          "SSANYONG KORANDO",
          "MOBILIO",
          "ROVER",
          "KOLEOS",
          "Q5",
          "SCALA",
          "OUTLANDER",
          "SRV",
          "SANTA FE",
          "MAGIC",
          "LAND CRUISER PRADO",
          "RHINO RX",
          "SIERRA",
          "7 SERIES",
          "X3",
          "A6",
          "X5",
          "GRAND",
          "LAUREL",
          "3 SERIES",
          "ML 350",
          "TERRACAN",
          "JAGUAR XJ",
          "REVA",
          "CIELO",
          "MONDEO",
          "DATSUN GO",
          "VOLVO XC90",
          "SL-CLASS",
          "TOUAREG",
          "BOLT",
          "TL",
          "FORESTER",
          "BMW-M3",
          "PADMINI",
          "KIZASHI",
          "MINIS",
          "CLS-CLASS",
          "CONTESSA",
          "JAGUAR XF",
          "SWIFT D,ZIRE",
          "ROOMSTER",
          "FOCUS",
          "CAYMAN S",
          "CL-CLASS",
          "JAGUAR XL",
          "500",
          "SLK-CLASS",
          "CAYENNE",
          "VECTRA",
          "LODGY",
          "ML-CLASS",
          "LIMOUSINE",
          "BMW-M6",
          "LAND ROVER DISCOVERY",
          "LAND ROVER RANGE ROVER",
          "A8",
          "S-CLASS",
          "A7",
          "VOLVO S80",
          "TT",
          "6 SERIES",
          "BMW X6",
          "SAN STORM 1.2",
          "TATA-NANO",
          "CHEROKEE",
          "AUSTIN",
          "VELOSTER",
          "ESTILO",
          "Z4",
          "AMEO",
          "MAXXIMO",
          "ASTAR",
          "AVIGO",
          "LAND ROVER FREELANDER",
          "NEXIA",
          "KWID",
          "KUV100",
          "PUSHPAK",
          "GL-CLASS",
          "GENIO",
          "EVALIA",
          "SUPRO",
          "CRETA",
          "CLK-CLASS",
          "TIAGO",
          "TRAILBLAZER",
          "BRV",
          "TREKKER",
          "BREZZA",
          "TUV300",
          "ECO SPORT"
         ],
         "y": [
          106436433.39000116,
          72493786.19999972,
          60230170.62000031,
          59588206.53000024,
          53362958.83000009,
          51608409.80000045,
          48248691.110000074,
          46791672.24999987,
          45967477.11999981,
          38419134.669999756,
          37469776.760000154,
          33399848.32000002,
          32078680.059999786,
          30312743.520000014,
          30117146.879999742,
          27149321.290000025,
          26367671.799999934,
          24916625.96000001,
          24330386.600000035,
          20927684.699999996,
          17856476.910000026,
          17693375.04,
          17336231.45999994,
          17326656.98000003,
          16298787.120000036,
          15386829.960000059,
          14708692.500000052,
          14296168.680000035,
          12764286.34000004,
          12457942.139999956,
          10969168.639999997,
          10469353.589999985,
          10247265.739999985,
          9175009.260000007,
          8852818.749999993,
          8635782.420000026,
          8332275.150000004,
          8085582.620000014,
          7861874.340000022,
          7744832.219999985,
          7587620.270000005,
          7023601.41,
          6996619.610000006,
          6726578.010000002,
          6381622.820000008,
          5749249.600000006,
          5544749.260000001,
          5418744.340000001,
          5395256.719999997,
          5273231.250000002,
          5208909.680000004,
          4815412.349999997,
          4776817.839999999,
          4656609.390000005,
          4587607.820000002,
          4180402.8500000173,
          4109647.909999998,
          3772045.5199999926,
          3677285.550000004,
          3472868.32,
          3237769.800000001,
          2887425.3000000045,
          2828699.52,
          2770276.3300000005,
          2699916.5100000026,
          2660523.75,
          2206583.4799999986,
          2196619.5099999984,
          2196078.540000001,
          2148358.4699999993,
          2124750.319999999,
          2119314.0100000002,
          2029607.010000001,
          2008477.1900000004,
          1688429.31,
          1667188.7500000005,
          1647771.4499999995,
          1509375.1099999992,
          1461296.6700000004,
          1435809.2699999982,
          1411546,
          1376483.9600000007,
          1225976,
          1217676.95,
          1196120.3700000003,
          1171589.1000000006,
          1112086.38,
          985960.1199999999,
          950583.3999999996,
          924369.2100000003,
          899601.29,
          887986.3400000008,
          844020.0500000002,
          821021.9799999996,
          751463.1900000006,
          735318.5199999999,
          687420.2399999999,
          576523.4099999999,
          530781.7799999998,
          509576.73999999993,
          465262.06,
          450953.17000000004,
          434654.08999999997,
          417017.58999999997,
          415928.73000000004,
          410832.6899999998,
          380265.6100000001,
          306614.06000000006,
          301437.64999999997,
          295172.7800000001,
          277337.21000000014,
          270995.09,
          266789.09,
          263169.55000000005,
          259902.3,
          256336.41,
          229133.61999999994,
          226399.65000000002,
          217661.90999999997,
          216426.58,
          215282.70999999996,
          208809.7,
          207831.15999999995,
          205114.15000000002,
          202568.37999999998,
          201895.82,
          195841.54,
          187174.23,
          184763.16000000003,
          182952.44,
          179212.30999999994,
          175434.93,
          171191.10000000003,
          161909.03999999998,
          159422.67999999996,
          158135.66,
          148460.92999999996,
          144637.02000000002,
          142807.97,
          141623.56,
          141179.31999999998,
          123957.03,
          123039.85999999999,
          111749.24000000002,
          103829,
          101360.66,
          92723.8,
          86266.76999999999,
          82760.41,
          71133.15999999999,
          70122.84,
          69534.37,
          68653.68,
          66435.68,
          65839.05,
          64668.44,
          63061.67999999999,
          61704.850000000006,
          61670.44,
          60206.86000000001,
          58646.73,
          56638.13999999998,
          56451.490000000005,
          55572.3,
          53439.19999999999,
          48384.69,
          47239.49,
          46737.700000000004,
          45268.68,
          39871.48,
          39293.49,
          38148.78,
          37863.259999999995,
          30950.88,
          28640.15,
          26448.189999999995,
          25519.79,
          24118.58,
          23713.940000000002,
          23537.449999999997,
          23482.149999999998,
          22478.69,
          17815.16,
          16886.25,
          15784.77,
          15456.760000000002,
          13550.52,
          13346.330000000002,
          12676.37,
          12098.6,
          11617.68,
          11312.26,
          11190.64,
          10764.2,
          9251.38,
          9036.83,
          8599.69,
          6670.76,
          5000,
          3787.09,
          2949.76,
          2944.2200000000003,
          2900.55,
          2657.09,
          2319.37,
          2179.45,
          2124.47,
          2058.33,
          1742.34,
          1118.74,
          1073.55,
          1050.02,
          900,
          898.88,
          550,
          450.38,
          450.38,
          432.64,
          357.32,
          353.16,
          349.61,
          98.76,
          0,
          0,
          0,
          0,
          0,
          0,
          0,
          0,
          0,
          0,
          0,
          0,
          0,
          0,
          0,
          0,
          0,
          0,
          0,
          0,
          0,
          0,
          0
         ]
        }
       ],
       "layout": {
        "template": {
         "data": {
          "bar": [
           {
            "error_x": {
             "color": "#f2f5fa"
            },
            "error_y": {
             "color": "#f2f5fa"
            },
            "marker": {
             "line": {
              "color": "rgb(17,17,17)",
              "width": 0.5
             }
            },
            "type": "bar"
           }
          ],
          "barpolar": [
           {
            "marker": {
             "line": {
              "color": "rgb(17,17,17)",
              "width": 0.5
             }
            },
            "type": "barpolar"
           }
          ],
          "carpet": [
           {
            "aaxis": {
             "endlinecolor": "#A2B1C6",
             "gridcolor": "#506784",
             "linecolor": "#506784",
             "minorgridcolor": "#506784",
             "startlinecolor": "#A2B1C6"
            },
            "baxis": {
             "endlinecolor": "#A2B1C6",
             "gridcolor": "#506784",
             "linecolor": "#506784",
             "minorgridcolor": "#506784",
             "startlinecolor": "#A2B1C6"
            },
            "type": "carpet"
           }
          ],
          "choropleth": [
           {
            "colorbar": {
             "outlinewidth": 0,
             "ticks": ""
            },
            "type": "choropleth"
           }
          ],
          "contour": [
           {
            "colorbar": {
             "outlinewidth": 0,
             "ticks": ""
            },
            "colorscale": [
             [
              0,
              "#0d0887"
             ],
             [
              0.1111111111111111,
              "#46039f"
             ],
             [
              0.2222222222222222,
              "#7201a8"
             ],
             [
              0.3333333333333333,
              "#9c179e"
             ],
             [
              0.4444444444444444,
              "#bd3786"
             ],
             [
              0.5555555555555556,
              "#d8576b"
             ],
             [
              0.6666666666666666,
              "#ed7953"
             ],
             [
              0.7777777777777778,
              "#fb9f3a"
             ],
             [
              0.8888888888888888,
              "#fdca26"
             ],
             [
              1,
              "#f0f921"
             ]
            ],
            "type": "contour"
           }
          ],
          "contourcarpet": [
           {
            "colorbar": {
             "outlinewidth": 0,
             "ticks": ""
            },
            "type": "contourcarpet"
           }
          ],
          "heatmap": [
           {
            "colorbar": {
             "outlinewidth": 0,
             "ticks": ""
            },
            "colorscale": [
             [
              0,
              "#0d0887"
             ],
             [
              0.1111111111111111,
              "#46039f"
             ],
             [
              0.2222222222222222,
              "#7201a8"
             ],
             [
              0.3333333333333333,
              "#9c179e"
             ],
             [
              0.4444444444444444,
              "#bd3786"
             ],
             [
              0.5555555555555556,
              "#d8576b"
             ],
             [
              0.6666666666666666,
              "#ed7953"
             ],
             [
              0.7777777777777778,
              "#fb9f3a"
             ],
             [
              0.8888888888888888,
              "#fdca26"
             ],
             [
              1,
              "#f0f921"
             ]
            ],
            "type": "heatmap"
           }
          ],
          "heatmapgl": [
           {
            "colorbar": {
             "outlinewidth": 0,
             "ticks": ""
            },
            "colorscale": [
             [
              0,
              "#0d0887"
             ],
             [
              0.1111111111111111,
              "#46039f"
             ],
             [
              0.2222222222222222,
              "#7201a8"
             ],
             [
              0.3333333333333333,
              "#9c179e"
             ],
             [
              0.4444444444444444,
              "#bd3786"
             ],
             [
              0.5555555555555556,
              "#d8576b"
             ],
             [
              0.6666666666666666,
              "#ed7953"
             ],
             [
              0.7777777777777778,
              "#fb9f3a"
             ],
             [
              0.8888888888888888,
              "#fdca26"
             ],
             [
              1,
              "#f0f921"
             ]
            ],
            "type": "heatmapgl"
           }
          ],
          "histogram": [
           {
            "marker": {
             "colorbar": {
              "outlinewidth": 0,
              "ticks": ""
             }
            },
            "type": "histogram"
           }
          ],
          "histogram2d": [
           {
            "colorbar": {
             "outlinewidth": 0,
             "ticks": ""
            },
            "colorscale": [
             [
              0,
              "#0d0887"
             ],
             [
              0.1111111111111111,
              "#46039f"
             ],
             [
              0.2222222222222222,
              "#7201a8"
             ],
             [
              0.3333333333333333,
              "#9c179e"
             ],
             [
              0.4444444444444444,
              "#bd3786"
             ],
             [
              0.5555555555555556,
              "#d8576b"
             ],
             [
              0.6666666666666666,
              "#ed7953"
             ],
             [
              0.7777777777777778,
              "#fb9f3a"
             ],
             [
              0.8888888888888888,
              "#fdca26"
             ],
             [
              1,
              "#f0f921"
             ]
            ],
            "type": "histogram2d"
           }
          ],
          "histogram2dcontour": [
           {
            "colorbar": {
             "outlinewidth": 0,
             "ticks": ""
            },
            "colorscale": [
             [
              0,
              "#0d0887"
             ],
             [
              0.1111111111111111,
              "#46039f"
             ],
             [
              0.2222222222222222,
              "#7201a8"
             ],
             [
              0.3333333333333333,
              "#9c179e"
             ],
             [
              0.4444444444444444,
              "#bd3786"
             ],
             [
              0.5555555555555556,
              "#d8576b"
             ],
             [
              0.6666666666666666,
              "#ed7953"
             ],
             [
              0.7777777777777778,
              "#fb9f3a"
             ],
             [
              0.8888888888888888,
              "#fdca26"
             ],
             [
              1,
              "#f0f921"
             ]
            ],
            "type": "histogram2dcontour"
           }
          ],
          "mesh3d": [
           {
            "colorbar": {
             "outlinewidth": 0,
             "ticks": ""
            },
            "type": "mesh3d"
           }
          ],
          "parcoords": [
           {
            "line": {
             "colorbar": {
              "outlinewidth": 0,
              "ticks": ""
             }
            },
            "type": "parcoords"
           }
          ],
          "pie": [
           {
            "automargin": true,
            "type": "pie"
           }
          ],
          "scatter": [
           {
            "marker": {
             "line": {
              "color": "#283442"
             }
            },
            "type": "scatter"
           }
          ],
          "scatter3d": [
           {
            "line": {
             "colorbar": {
              "outlinewidth": 0,
              "ticks": ""
             }
            },
            "marker": {
             "colorbar": {
              "outlinewidth": 0,
              "ticks": ""
             }
            },
            "type": "scatter3d"
           }
          ],
          "scattercarpet": [
           {
            "marker": {
             "colorbar": {
              "outlinewidth": 0,
              "ticks": ""
             }
            },
            "type": "scattercarpet"
           }
          ],
          "scattergeo": [
           {
            "marker": {
             "colorbar": {
              "outlinewidth": 0,
              "ticks": ""
             }
            },
            "type": "scattergeo"
           }
          ],
          "scattergl": [
           {
            "marker": {
             "line": {
              "color": "#283442"
             }
            },
            "type": "scattergl"
           }
          ],
          "scattermapbox": [
           {
            "marker": {
             "colorbar": {
              "outlinewidth": 0,
              "ticks": ""
             }
            },
            "type": "scattermapbox"
           }
          ],
          "scatterpolar": [
           {
            "marker": {
             "colorbar": {
              "outlinewidth": 0,
              "ticks": ""
             }
            },
            "type": "scatterpolar"
           }
          ],
          "scatterpolargl": [
           {
            "marker": {
             "colorbar": {
              "outlinewidth": 0,
              "ticks": ""
             }
            },
            "type": "scatterpolargl"
           }
          ],
          "scatterternary": [
           {
            "marker": {
             "colorbar": {
              "outlinewidth": 0,
              "ticks": ""
             }
            },
            "type": "scatterternary"
           }
          ],
          "surface": [
           {
            "colorbar": {
             "outlinewidth": 0,
             "ticks": ""
            },
            "colorscale": [
             [
              0,
              "#0d0887"
             ],
             [
              0.1111111111111111,
              "#46039f"
             ],
             [
              0.2222222222222222,
              "#7201a8"
             ],
             [
              0.3333333333333333,
              "#9c179e"
             ],
             [
              0.4444444444444444,
              "#bd3786"
             ],
             [
              0.5555555555555556,
              "#d8576b"
             ],
             [
              0.6666666666666666,
              "#ed7953"
             ],
             [
              0.7777777777777778,
              "#fb9f3a"
             ],
             [
              0.8888888888888888,
              "#fdca26"
             ],
             [
              1,
              "#f0f921"
             ]
            ],
            "type": "surface"
           }
          ],
          "table": [
           {
            "cells": {
             "fill": {
              "color": "#506784"
             },
             "line": {
              "color": "rgb(17,17,17)"
             }
            },
            "header": {
             "fill": {
              "color": "#2a3f5f"
             },
             "line": {
              "color": "rgb(17,17,17)"
             }
            },
            "type": "table"
           }
          ]
         },
         "layout": {
          "annotationdefaults": {
           "arrowcolor": "#f2f5fa",
           "arrowhead": 0,
           "arrowwidth": 1
          },
          "autotypenumbers": "strict",
          "coloraxis": {
           "colorbar": {
            "outlinewidth": 0,
            "ticks": ""
           }
          },
          "colorscale": {
           "diverging": [
            [
             0,
             "#8e0152"
            ],
            [
             0.1,
             "#c51b7d"
            ],
            [
             0.2,
             "#de77ae"
            ],
            [
             0.3,
             "#f1b6da"
            ],
            [
             0.4,
             "#fde0ef"
            ],
            [
             0.5,
             "#f7f7f7"
            ],
            [
             0.6,
             "#e6f5d0"
            ],
            [
             0.7,
             "#b8e186"
            ],
            [
             0.8,
             "#7fbc41"
            ],
            [
             0.9,
             "#4d9221"
            ],
            [
             1,
             "#276419"
            ]
           ],
           "sequential": [
            [
             0,
             "#0d0887"
            ],
            [
             0.1111111111111111,
             "#46039f"
            ],
            [
             0.2222222222222222,
             "#7201a8"
            ],
            [
             0.3333333333333333,
             "#9c179e"
            ],
            [
             0.4444444444444444,
             "#bd3786"
            ],
            [
             0.5555555555555556,
             "#d8576b"
            ],
            [
             0.6666666666666666,
             "#ed7953"
            ],
            [
             0.7777777777777778,
             "#fb9f3a"
            ],
            [
             0.8888888888888888,
             "#fdca26"
            ],
            [
             1,
             "#f0f921"
            ]
           ],
           "sequentialminus": [
            [
             0,
             "#0d0887"
            ],
            [
             0.1111111111111111,
             "#46039f"
            ],
            [
             0.2222222222222222,
             "#7201a8"
            ],
            [
             0.3333333333333333,
             "#9c179e"
            ],
            [
             0.4444444444444444,
             "#bd3786"
            ],
            [
             0.5555555555555556,
             "#d8576b"
            ],
            [
             0.6666666666666666,
             "#ed7953"
            ],
            [
             0.7777777777777778,
             "#fb9f3a"
            ],
            [
             0.8888888888888888,
             "#fdca26"
            ],
            [
             1,
             "#f0f921"
            ]
           ]
          },
          "colorway": [
           "#636efa",
           "#EF553B",
           "#00cc96",
           "#ab63fa",
           "#FFA15A",
           "#19d3f3",
           "#FF6692",
           "#B6E880",
           "#FF97FF",
           "#FECB52"
          ],
          "font": {
           "color": "#f2f5fa"
          },
          "geo": {
           "bgcolor": "rgb(17,17,17)",
           "lakecolor": "rgb(17,17,17)",
           "landcolor": "rgb(17,17,17)",
           "showlakes": true,
           "showland": true,
           "subunitcolor": "#506784"
          },
          "hoverlabel": {
           "align": "left"
          },
          "hovermode": "closest",
          "mapbox": {
           "style": "dark"
          },
          "paper_bgcolor": "rgb(17,17,17)",
          "plot_bgcolor": "rgb(17,17,17)",
          "polar": {
           "angularaxis": {
            "gridcolor": "#506784",
            "linecolor": "#506784",
            "ticks": ""
           },
           "bgcolor": "rgb(17,17,17)",
           "radialaxis": {
            "gridcolor": "#506784",
            "linecolor": "#506784",
            "ticks": ""
           }
          },
          "scene": {
           "xaxis": {
            "backgroundcolor": "rgb(17,17,17)",
            "gridcolor": "#506784",
            "gridwidth": 2,
            "linecolor": "#506784",
            "showbackground": true,
            "ticks": "",
            "zerolinecolor": "#C8D4E3"
           },
           "yaxis": {
            "backgroundcolor": "rgb(17,17,17)",
            "gridcolor": "#506784",
            "gridwidth": 2,
            "linecolor": "#506784",
            "showbackground": true,
            "ticks": "",
            "zerolinecolor": "#C8D4E3"
           },
           "zaxis": {
            "backgroundcolor": "rgb(17,17,17)",
            "gridcolor": "#506784",
            "gridwidth": 2,
            "linecolor": "#506784",
            "showbackground": true,
            "ticks": "",
            "zerolinecolor": "#C8D4E3"
           }
          },
          "shapedefaults": {
           "line": {
            "color": "#f2f5fa"
           }
          },
          "sliderdefaults": {
           "bgcolor": "#C8D4E3",
           "bordercolor": "rgb(17,17,17)",
           "borderwidth": 1,
           "tickwidth": 0
          },
          "ternary": {
           "aaxis": {
            "gridcolor": "#506784",
            "linecolor": "#506784",
            "ticks": ""
           },
           "baxis": {
            "gridcolor": "#506784",
            "linecolor": "#506784",
            "ticks": ""
           },
           "bgcolor": "rgb(17,17,17)",
           "caxis": {
            "gridcolor": "#506784",
            "linecolor": "#506784",
            "ticks": ""
           }
          },
          "title": {
           "x": 0.05
          },
          "updatemenudefaults": {
           "bgcolor": "#506784",
           "borderwidth": 0
          },
          "xaxis": {
           "automargin": true,
           "gridcolor": "#283442",
           "linecolor": "#506784",
           "ticks": "",
           "title": {
            "standoff": 15
           },
           "zerolinecolor": "#283442",
           "zerolinewidth": 2
          },
          "yaxis": {
           "automargin": true,
           "gridcolor": "#283442",
           "linecolor": "#506784",
           "ticks": "",
           "title": {
            "standoff": 15
           },
           "zerolinecolor": "#283442",
           "zerolinewidth": 2
          }
         }
        },
        "title": {
         "text": "Total revenue made on the basis of Car Name"
        },
        "xaxis": {
         "title": {
          "text": "Car Name"
         }
        },
        "yaxis": {
         "title": {
          "text": "Total Value"
         }
        }
       }
      },
      "text/html": [
       "<div>                            <div id=\"2a0656a1-e2e5-4e4f-b176-386a621c8ad8\" class=\"plotly-graph-div\" style=\"height:525px; width:100%;\"></div>            <script type=\"text/javascript\">                require([\"plotly\"], function(Plotly) {                    window.PLOTLYENV=window.PLOTLYENV || {};                                    if (document.getElementById(\"2a0656a1-e2e5-4e4f-b176-386a621c8ad8\")) {                    Plotly.newPlot(                        \"2a0656a1-e2e5-4e4f-b176-386a621c8ad8\",                        [{\"marker\": {\"color\": \"rgb(255,165,0)\", \"line\": {\"color\": \"rgb(0,0,0)\", \"width\": 1.5}}, \"type\": \"bar\", \"x\": [\"SCORPIO CRDE\", \"SWIFT\", \"SANTRO\", \"XYLO\", \"INDICA\", \"ALTO\", \"BOLERO\", \"I10\", \"WAGONR\", \"INNOVA\", \"LOGAN D\", \"CITY\", \"SWIFT DZIRE\", \"INDIGO\", \"I20\", \"VISTA\", \"VERNA\", \"FIESTA\", \"LOGAN P\", \"VERITO\", \"SCORPIO NEF\", \"ACCENT\", \"SPARK\", \"FIGO\", \"INDIGO MANZA\", \"800\", \"IKON\", \"RITZ\", \"BEAT\", \"SAFARI\", \"ZEN\", \"TAVERA\", \"XUV 500\", \"GETZ\", \"BOLERO PIK UP\", \"ZEN ESTILO\", \"LINEA\", \"OMNI\", \"SX4\", \"ETIOS\", \"SUMO\", \"AVEO\", \"OPTRA\", \"POLO\", \"SANTRO XING\", \"LAURA\", \"OCTAVIA\", \"CIVIC\", \"VENTO\", \"FABIA\", \"COROLLA\", \"GRAND PUNTO\", \"CHEVROLET CRUZE\", \"ERTIGA\", \"QUALIS\", \"EON\", \"RAPID\", \"EECO\", \"AVEO UV-A\", \"PALIO\", \"A STAR\", \"DUSTER\", \"NANO\", \"QUANTO\", \"INDIGO MARINA\", \"LANCER\", \"MICRA\", \"SUPER SUNNY\", \"ESTEEM 1000\", \"FORTUNER\", \"TAVERA NEO\", \"CAPTIVA\", \"SUMO GRANDE\", \"ESTEEM 1300\", \"ARMADA\", \"OPTRA MAGNUM\", \"COROLLA ALTIS\", \"OPEL CORSA\", \"BALENO\", \"SAIL\", \"MAXX\", \"MAHINDRA PIK UP\", \"ELANTRA\", \"ACCORD\", \"SUPERB\", \"AMAZE\", \"ENJOY\", \"MAHINDRA MM\", \"MATIZ\", \"THAR\", \"FUSION\", \"JAZZ\", \"JETTA\", \"PAJERO\", \"ENDEAVOUR\", \"CR-V\", \"BRIO\", \"PULSE\", \"OPEL\", \"RENAULT 1.9\", \"XCENT\", \"ARIA\", \"X1\", \"VERSA\", \"SONATA\", \"PALIO STILE\", \"OPEL ASTRA\", \"ADVENTURE\", \"CAMRY\", \"X-TRAIL\", \"ECOSPORT\", \"MARSHAL\", \"SONATA V-6\", \"207\", \"SSANYONG REXTON\", \"UNO\", \"FLUENCE\", \"PASSAT\", \"MONTERO\", \"CEDIA\", \"C-CLASS\", \"WINGER\", \"VENTURE\", \"CLASSIC\", \"AMBASSADOR\", \"TRAX\", \"YETI\", \"CELERIO\", \"SIENA\", \"S 350 L\", \"MAHINDRA CNG\", \"A4\", \"ESCORT\", \"FORCE ONE\", \"TEANA\", \"RIO\", \"CIAZ\", \"ACE\", \"GYPSY 1300\", \"S 320 CDI L\", \"PETRA\", \"BMW-M5\", \"GRAND VITARA\", \"XENON XT\", \"TERRANO\", \"E-CLASS\", \"ZEST\", \"GYPSY 1000\", \"Q7\", \"G CLASS\", \"COMMANDER\", \"5 SERIES\", \"TUCSON\", \"SSANYONG KORANDO\", \"MOBILIO\", \"ROVER\", \"KOLEOS\", \"Q5\", \"SCALA\", \"OUTLANDER\", \"SRV\", \"SANTA FE\", \"MAGIC\", \"LAND CRUISER PRADO\", \"RHINO RX\", \"SIERRA\", \"7 SERIES\", \"X3\", \"A6\", \"X5\", \"GRAND\", \"LAUREL\", \"3 SERIES\", \"ML 350\", \"TERRACAN\", \"JAGUAR XJ\", \"REVA\", \"CIELO\", \"MONDEO\", \"DATSUN GO\", \"VOLVO XC90\", \"SL-CLASS\", \"TOUAREG\", \"BOLT\", \"TL\", \"FORESTER\", \"BMW-M3\", \"PADMINI\", \"KIZASHI\", \"MINIS\", \"CLS-CLASS\", \"CONTESSA\", \"JAGUAR XF\", \"SWIFT D,ZIRE\", \"ROOMSTER\", \"FOCUS\", \"CAYMAN S\", \"CL-CLASS\", \"JAGUAR XL\", \"500\", \"SLK-CLASS\", \"CAYENNE\", \"VECTRA\", \"LODGY\", \"ML-CLASS\", \"LIMOUSINE\", \"BMW-M6\", \"LAND ROVER DISCOVERY\", \"LAND ROVER RANGE ROVER\", \"A8\", \"S-CLASS\", \"A7\", \"VOLVO S80\", \"TT\", \"6 SERIES\", \"BMW X6\", \"SAN STORM 1.2\", \"TATA-NANO\", \"CHEROKEE\", \"AUSTIN\", \"VELOSTER\", \"ESTILO\", \"Z4\", \"AMEO\", \"MAXXIMO\", \"ASTAR\", \"AVIGO\", \"LAND ROVER FREELANDER\", \"NEXIA\", \"KWID\", \"KUV100\", \"PUSHPAK\", \"GL-CLASS\", \"GENIO\", \"EVALIA\", \"SUPRO\", \"CRETA\", \"CLK-CLASS\", \"TIAGO\", \"TRAILBLAZER\", \"BRV\", \"TREKKER\", \"BREZZA\", \"TUV300\", \"ECO SPORT\"], \"y\": [106436433.39000116, 72493786.19999972, 60230170.62000031, 59588206.53000024, 53362958.83000009, 51608409.80000045, 48248691.110000074, 46791672.24999987, 45967477.11999981, 38419134.669999756, 37469776.760000154, 33399848.32000002, 32078680.059999786, 30312743.520000014, 30117146.879999742, 27149321.290000025, 26367671.799999934, 24916625.96000001, 24330386.600000035, 20927684.699999996, 17856476.910000026, 17693375.04, 17336231.45999994, 17326656.98000003, 16298787.120000036, 15386829.960000059, 14708692.500000052, 14296168.680000035, 12764286.34000004, 12457942.139999956, 10969168.639999997, 10469353.589999985, 10247265.739999985, 9175009.260000007, 8852818.749999993, 8635782.420000026, 8332275.150000004, 8085582.620000014, 7861874.340000022, 7744832.219999985, 7587620.270000005, 7023601.41, 6996619.610000006, 6726578.010000002, 6381622.820000008, 5749249.600000006, 5544749.260000001, 5418744.340000001, 5395256.719999997, 5273231.250000002, 5208909.680000004, 4815412.349999997, 4776817.839999999, 4656609.390000005, 4587607.820000002, 4180402.8500000173, 4109647.909999998, 3772045.5199999926, 3677285.550000004, 3472868.32, 3237769.800000001, 2887425.3000000045, 2828699.52, 2770276.3300000005, 2699916.5100000026, 2660523.75, 2206583.4799999986, 2196619.5099999984, 2196078.540000001, 2148358.4699999993, 2124750.319999999, 2119314.0100000002, 2029607.010000001, 2008477.1900000004, 1688429.31, 1667188.7500000005, 1647771.4499999995, 1509375.1099999992, 1461296.6700000004, 1435809.2699999982, 1411546.0, 1376483.9600000007, 1225976.0, 1217676.95, 1196120.3700000003, 1171589.1000000006, 1112086.38, 985960.1199999999, 950583.3999999996, 924369.2100000003, 899601.29, 887986.3400000008, 844020.0500000002, 821021.9799999996, 751463.1900000006, 735318.5199999999, 687420.2399999999, 576523.4099999999, 530781.7799999998, 509576.73999999993, 465262.06, 450953.17000000004, 434654.08999999997, 417017.58999999997, 415928.73000000004, 410832.6899999998, 380265.6100000001, 306614.06000000006, 301437.64999999997, 295172.7800000001, 277337.21000000014, 270995.09, 266789.09, 263169.55000000005, 259902.3, 256336.41, 229133.61999999994, 226399.65000000002, 217661.90999999997, 216426.58, 215282.70999999996, 208809.7, 207831.15999999995, 205114.15000000002, 202568.37999999998, 201895.82, 195841.54, 187174.23, 184763.16000000003, 182952.44, 179212.30999999994, 175434.93, 171191.10000000003, 161909.03999999998, 159422.67999999996, 158135.66, 148460.92999999996, 144637.02000000002, 142807.97, 141623.56, 141179.31999999998, 123957.03, 123039.85999999999, 111749.24000000002, 103829.0, 101360.66, 92723.8, 86266.76999999999, 82760.41, 71133.15999999999, 70122.84, 69534.37, 68653.68, 66435.68, 65839.05, 64668.44, 63061.67999999999, 61704.850000000006, 61670.44, 60206.86000000001, 58646.73, 56638.13999999998, 56451.490000000005, 55572.3, 53439.19999999999, 48384.69, 47239.49, 46737.700000000004, 45268.68, 39871.48, 39293.49, 38148.78, 37863.259999999995, 30950.88, 28640.15, 26448.189999999995, 25519.79, 24118.58, 23713.940000000002, 23537.449999999997, 23482.149999999998, 22478.69, 17815.16, 16886.25, 15784.77, 15456.760000000002, 13550.52, 13346.330000000002, 12676.37, 12098.6, 11617.68, 11312.26, 11190.64, 10764.2, 9251.38, 9036.83, 8599.69, 6670.76, 5000.0, 3787.09, 2949.76, 2944.2200000000003, 2900.55, 2657.09, 2319.37, 2179.45, 2124.47, 2058.33, 1742.34, 1118.74, 1073.55, 1050.02, 900.0, 898.88, 550.0, 450.38, 450.38, 432.64, 357.32, 353.16, 349.61, 98.76, 0.0, 0.0, 0.0, 0.0, 0.0, 0.0, 0.0, 0.0, 0.0, 0.0, 0.0, 0.0, 0.0, 0.0, 0.0, 0.0, 0.0, 0.0, 0.0, 0.0, 0.0, 0.0, 0.0]}],                        {\"template\": {\"data\": {\"bar\": [{\"error_x\": {\"color\": \"#f2f5fa\"}, \"error_y\": {\"color\": \"#f2f5fa\"}, \"marker\": {\"line\": {\"color\": \"rgb(17,17,17)\", \"width\": 0.5}}, \"type\": \"bar\"}], \"barpolar\": [{\"marker\": {\"line\": {\"color\": \"rgb(17,17,17)\", \"width\": 0.5}}, \"type\": \"barpolar\"}], \"carpet\": [{\"aaxis\": {\"endlinecolor\": \"#A2B1C6\", \"gridcolor\": \"#506784\", \"linecolor\": \"#506784\", \"minorgridcolor\": \"#506784\", \"startlinecolor\": \"#A2B1C6\"}, \"baxis\": {\"endlinecolor\": \"#A2B1C6\", \"gridcolor\": \"#506784\", \"linecolor\": \"#506784\", \"minorgridcolor\": \"#506784\", \"startlinecolor\": \"#A2B1C6\"}, \"type\": \"carpet\"}], \"choropleth\": [{\"colorbar\": {\"outlinewidth\": 0, \"ticks\": \"\"}, \"type\": \"choropleth\"}], \"contour\": [{\"colorbar\": {\"outlinewidth\": 0, \"ticks\": \"\"}, \"colorscale\": [[0.0, \"#0d0887\"], [0.1111111111111111, \"#46039f\"], [0.2222222222222222, \"#7201a8\"], [0.3333333333333333, \"#9c179e\"], [0.4444444444444444, \"#bd3786\"], [0.5555555555555556, \"#d8576b\"], [0.6666666666666666, \"#ed7953\"], [0.7777777777777778, \"#fb9f3a\"], [0.8888888888888888, \"#fdca26\"], [1.0, \"#f0f921\"]], \"type\": \"contour\"}], \"contourcarpet\": [{\"colorbar\": {\"outlinewidth\": 0, \"ticks\": \"\"}, \"type\": \"contourcarpet\"}], \"heatmap\": [{\"colorbar\": {\"outlinewidth\": 0, \"ticks\": \"\"}, \"colorscale\": [[0.0, \"#0d0887\"], [0.1111111111111111, \"#46039f\"], [0.2222222222222222, \"#7201a8\"], [0.3333333333333333, \"#9c179e\"], [0.4444444444444444, \"#bd3786\"], [0.5555555555555556, \"#d8576b\"], [0.6666666666666666, \"#ed7953\"], [0.7777777777777778, \"#fb9f3a\"], [0.8888888888888888, \"#fdca26\"], [1.0, \"#f0f921\"]], \"type\": \"heatmap\"}], \"heatmapgl\": [{\"colorbar\": {\"outlinewidth\": 0, \"ticks\": \"\"}, \"colorscale\": [[0.0, \"#0d0887\"], [0.1111111111111111, \"#46039f\"], [0.2222222222222222, \"#7201a8\"], [0.3333333333333333, \"#9c179e\"], [0.4444444444444444, \"#bd3786\"], [0.5555555555555556, \"#d8576b\"], [0.6666666666666666, \"#ed7953\"], [0.7777777777777778, \"#fb9f3a\"], [0.8888888888888888, \"#fdca26\"], [1.0, \"#f0f921\"]], \"type\": \"heatmapgl\"}], \"histogram\": [{\"marker\": {\"colorbar\": {\"outlinewidth\": 0, \"ticks\": \"\"}}, \"type\": \"histogram\"}], \"histogram2d\": [{\"colorbar\": {\"outlinewidth\": 0, \"ticks\": \"\"}, \"colorscale\": [[0.0, \"#0d0887\"], [0.1111111111111111, \"#46039f\"], [0.2222222222222222, \"#7201a8\"], [0.3333333333333333, \"#9c179e\"], [0.4444444444444444, \"#bd3786\"], [0.5555555555555556, \"#d8576b\"], [0.6666666666666666, \"#ed7953\"], [0.7777777777777778, \"#fb9f3a\"], [0.8888888888888888, \"#fdca26\"], [1.0, \"#f0f921\"]], \"type\": \"histogram2d\"}], \"histogram2dcontour\": [{\"colorbar\": {\"outlinewidth\": 0, \"ticks\": \"\"}, \"colorscale\": [[0.0, \"#0d0887\"], [0.1111111111111111, \"#46039f\"], [0.2222222222222222, \"#7201a8\"], [0.3333333333333333, \"#9c179e\"], [0.4444444444444444, \"#bd3786\"], [0.5555555555555556, \"#d8576b\"], [0.6666666666666666, \"#ed7953\"], [0.7777777777777778, \"#fb9f3a\"], [0.8888888888888888, \"#fdca26\"], [1.0, \"#f0f921\"]], \"type\": \"histogram2dcontour\"}], \"mesh3d\": [{\"colorbar\": {\"outlinewidth\": 0, \"ticks\": \"\"}, \"type\": \"mesh3d\"}], \"parcoords\": [{\"line\": {\"colorbar\": {\"outlinewidth\": 0, \"ticks\": \"\"}}, \"type\": \"parcoords\"}], \"pie\": [{\"automargin\": true, \"type\": \"pie\"}], \"scatter\": [{\"marker\": {\"line\": {\"color\": \"#283442\"}}, \"type\": \"scatter\"}], \"scatter3d\": [{\"line\": {\"colorbar\": {\"outlinewidth\": 0, \"ticks\": \"\"}}, \"marker\": {\"colorbar\": {\"outlinewidth\": 0, \"ticks\": \"\"}}, \"type\": \"scatter3d\"}], \"scattercarpet\": [{\"marker\": {\"colorbar\": {\"outlinewidth\": 0, \"ticks\": \"\"}}, \"type\": \"scattercarpet\"}], \"scattergeo\": [{\"marker\": {\"colorbar\": {\"outlinewidth\": 0, \"ticks\": \"\"}}, \"type\": \"scattergeo\"}], \"scattergl\": [{\"marker\": {\"line\": {\"color\": \"#283442\"}}, \"type\": \"scattergl\"}], \"scattermapbox\": [{\"marker\": {\"colorbar\": {\"outlinewidth\": 0, \"ticks\": \"\"}}, \"type\": \"scattermapbox\"}], \"scatterpolar\": [{\"marker\": {\"colorbar\": {\"outlinewidth\": 0, \"ticks\": \"\"}}, \"type\": \"scatterpolar\"}], \"scatterpolargl\": [{\"marker\": {\"colorbar\": {\"outlinewidth\": 0, \"ticks\": \"\"}}, \"type\": \"scatterpolargl\"}], \"scatterternary\": [{\"marker\": {\"colorbar\": {\"outlinewidth\": 0, \"ticks\": \"\"}}, \"type\": \"scatterternary\"}], \"surface\": [{\"colorbar\": {\"outlinewidth\": 0, \"ticks\": \"\"}, \"colorscale\": [[0.0, \"#0d0887\"], [0.1111111111111111, \"#46039f\"], [0.2222222222222222, \"#7201a8\"], [0.3333333333333333, \"#9c179e\"], [0.4444444444444444, \"#bd3786\"], [0.5555555555555556, \"#d8576b\"], [0.6666666666666666, \"#ed7953\"], [0.7777777777777778, \"#fb9f3a\"], [0.8888888888888888, \"#fdca26\"], [1.0, \"#f0f921\"]], \"type\": \"surface\"}], \"table\": [{\"cells\": {\"fill\": {\"color\": \"#506784\"}, \"line\": {\"color\": \"rgb(17,17,17)\"}}, \"header\": {\"fill\": {\"color\": \"#2a3f5f\"}, \"line\": {\"color\": \"rgb(17,17,17)\"}}, \"type\": \"table\"}]}, \"layout\": {\"annotationdefaults\": {\"arrowcolor\": \"#f2f5fa\", \"arrowhead\": 0, \"arrowwidth\": 1}, \"autotypenumbers\": \"strict\", \"coloraxis\": {\"colorbar\": {\"outlinewidth\": 0, \"ticks\": \"\"}}, \"colorscale\": {\"diverging\": [[0, \"#8e0152\"], [0.1, \"#c51b7d\"], [0.2, \"#de77ae\"], [0.3, \"#f1b6da\"], [0.4, \"#fde0ef\"], [0.5, \"#f7f7f7\"], [0.6, \"#e6f5d0\"], [0.7, \"#b8e186\"], [0.8, \"#7fbc41\"], [0.9, \"#4d9221\"], [1, \"#276419\"]], \"sequential\": [[0.0, \"#0d0887\"], [0.1111111111111111, \"#46039f\"], [0.2222222222222222, \"#7201a8\"], [0.3333333333333333, \"#9c179e\"], [0.4444444444444444, \"#bd3786\"], [0.5555555555555556, \"#d8576b\"], [0.6666666666666666, \"#ed7953\"], [0.7777777777777778, \"#fb9f3a\"], [0.8888888888888888, \"#fdca26\"], [1.0, \"#f0f921\"]], \"sequentialminus\": [[0.0, \"#0d0887\"], [0.1111111111111111, \"#46039f\"], [0.2222222222222222, \"#7201a8\"], [0.3333333333333333, \"#9c179e\"], [0.4444444444444444, \"#bd3786\"], [0.5555555555555556, \"#d8576b\"], [0.6666666666666666, \"#ed7953\"], [0.7777777777777778, \"#fb9f3a\"], [0.8888888888888888, \"#fdca26\"], [1.0, \"#f0f921\"]]}, \"colorway\": [\"#636efa\", \"#EF553B\", \"#00cc96\", \"#ab63fa\", \"#FFA15A\", \"#19d3f3\", \"#FF6692\", \"#B6E880\", \"#FF97FF\", \"#FECB52\"], \"font\": {\"color\": \"#f2f5fa\"}, \"geo\": {\"bgcolor\": \"rgb(17,17,17)\", \"lakecolor\": \"rgb(17,17,17)\", \"landcolor\": \"rgb(17,17,17)\", \"showlakes\": true, \"showland\": true, \"subunitcolor\": \"#506784\"}, \"hoverlabel\": {\"align\": \"left\"}, \"hovermode\": \"closest\", \"mapbox\": {\"style\": \"dark\"}, \"paper_bgcolor\": \"rgb(17,17,17)\", \"plot_bgcolor\": \"rgb(17,17,17)\", \"polar\": {\"angularaxis\": {\"gridcolor\": \"#506784\", \"linecolor\": \"#506784\", \"ticks\": \"\"}, \"bgcolor\": \"rgb(17,17,17)\", \"radialaxis\": {\"gridcolor\": \"#506784\", \"linecolor\": \"#506784\", \"ticks\": \"\"}}, \"scene\": {\"xaxis\": {\"backgroundcolor\": \"rgb(17,17,17)\", \"gridcolor\": \"#506784\", \"gridwidth\": 2, \"linecolor\": \"#506784\", \"showbackground\": true, \"ticks\": \"\", \"zerolinecolor\": \"#C8D4E3\"}, \"yaxis\": {\"backgroundcolor\": \"rgb(17,17,17)\", \"gridcolor\": \"#506784\", \"gridwidth\": 2, \"linecolor\": \"#506784\", \"showbackground\": true, \"ticks\": \"\", \"zerolinecolor\": \"#C8D4E3\"}, \"zaxis\": {\"backgroundcolor\": \"rgb(17,17,17)\", \"gridcolor\": \"#506784\", \"gridwidth\": 2, \"linecolor\": \"#506784\", \"showbackground\": true, \"ticks\": \"\", \"zerolinecolor\": \"#C8D4E3\"}}, \"shapedefaults\": {\"line\": {\"color\": \"#f2f5fa\"}}, \"sliderdefaults\": {\"bgcolor\": \"#C8D4E3\", \"bordercolor\": \"rgb(17,17,17)\", \"borderwidth\": 1, \"tickwidth\": 0}, \"ternary\": {\"aaxis\": {\"gridcolor\": \"#506784\", \"linecolor\": \"#506784\", \"ticks\": \"\"}, \"baxis\": {\"gridcolor\": \"#506784\", \"linecolor\": \"#506784\", \"ticks\": \"\"}, \"bgcolor\": \"rgb(17,17,17)\", \"caxis\": {\"gridcolor\": \"#506784\", \"linecolor\": \"#506784\", \"ticks\": \"\"}}, \"title\": {\"x\": 0.05}, \"updatemenudefaults\": {\"bgcolor\": \"#506784\", \"borderwidth\": 0}, \"xaxis\": {\"automargin\": true, \"gridcolor\": \"#283442\", \"linecolor\": \"#506784\", \"ticks\": \"\", \"title\": {\"standoff\": 15}, \"zerolinecolor\": \"#283442\", \"zerolinewidth\": 2}, \"yaxis\": {\"automargin\": true, \"gridcolor\": \"#283442\", \"linecolor\": \"#506784\", \"ticks\": \"\", \"title\": {\"standoff\": 15}, \"zerolinecolor\": \"#283442\", \"zerolinewidth\": 2}}}, \"title\": {\"text\": \"Total revenue made on the basis of Car Name\"}, \"xaxis\": {\"title\": {\"text\": \"Car Name\"}}, \"yaxis\": {\"title\": {\"text\": \"Total Value\"}}},                        {\"responsive\": true}                    ).then(function(){\n",
       "                            \n",
       "var gd = document.getElementById('2a0656a1-e2e5-4e4f-b176-386a621c8ad8');\n",
       "var x = new MutationObserver(function (mutations, observer) {{\n",
       "        var display = window.getComputedStyle(gd).display;\n",
       "        if (!display || display === 'none') {{\n",
       "            console.log([gd, 'removed!']);\n",
       "            Plotly.purge(gd);\n",
       "            observer.disconnect();\n",
       "        }}\n",
       "}});\n",
       "\n",
       "// Listen for the removal of the full notebook cells\n",
       "var notebookContainer = gd.closest('#notebook-container');\n",
       "if (notebookContainer) {{\n",
       "    x.observe(notebookContainer, {childList: true});\n",
       "}}\n",
       "\n",
       "// Listen for the clearing of the current output cell\n",
       "var outputEl = gd.closest('.output');\n",
       "if (outputEl) {{\n",
       "    x.observe(outputEl, {childList: true});\n",
       "}}\n",
       "\n",
       "                        })                };                });            </script>        </div>"
      ]
     },
     "metadata": {},
     "output_type": "display_data"
    }
   ],
   "source": [
    "trace1 = go.Bar(\n",
    "                x = Car_name_Rev['Model'],\n",
    "                y = Car_name_Rev['Total Value'],\n",
    "                marker = dict(color = 'rgb(255,165,0)',\n",
    "                              line=dict(color='rgb(0,0,0)',width=1.5)))\n",
    "layout = go.Layout(template= \"plotly_dark\",title = 'Total revenue made on the basis of Car Name' , xaxis = dict(title = 'Car Name'), yaxis = dict(title = 'Total Value'))\n",
    "fig = go.Figure(data = [trace1], layout = layout)\n",
    "fig.show()"
   ]
  },
  {
   "cell_type": "code",
   "execution_count": null,
   "metadata": {},
   "outputs": [],
   "source": []
  }
 ],
 "metadata": {
  "kernelspec": {
   "display_name": "Python 3",
   "language": "python",
   "name": "python3"
  },
  "language_info": {
   "codemirror_mode": {
    "name": "ipython",
    "version": 3
   },
   "file_extension": ".py",
   "mimetype": "text/x-python",
   "name": "python",
   "nbconvert_exporter": "python",
   "pygments_lexer": "ipython3",
   "version": "3.7.3"
  }
 },
 "nbformat": 4,
 "nbformat_minor": 2
}
